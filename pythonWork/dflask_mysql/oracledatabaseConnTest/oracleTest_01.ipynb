{
 "cells": [
  {
   "cell_type": "code",
   "execution_count": 1,
   "id": "1b300a7f",
   "metadata": {},
   "outputs": [],
   "source": [
    "#! pip install oracledb"
   ]
  },
  {
   "cell_type": "markdown",
   "id": "20237db7",
   "metadata": {},
   "source": [
    "### 데이터베이스 연동에 필요한 라이브러리 설치를 먼저 해준다."
   ]
  },
  {
   "attachments": {
    "image-2.png": {
     "image/png": "[encoded data removed]"
    }
   },
   "cell_type": "markdown",
   "id": "0c2a37bb",
   "metadata": {},
   "source": [
    "오라클 데이터베이스에 들어가서   \n",
    "SELECT name FROM v$database;  \n",
    "이렇게 치면  \n",
    "SID 값을 확인을 할 수 있다.  \n",
    "\n",
    "![image-2.png](attachment:image-2.png)"
   ]
  },
  {
   "cell_type": "code",
   "execution_count": 2,
   "id": "e0b117b0",
   "metadata": {},
   "outputs": [],
   "source": [
    "import oracledb"
   ]
  },
  {
   "cell_type": "code",
   "execution_count": 3,
   "id": "4fc774b3",
   "metadata": {
    "scrolled": true
   },
   "outputs": [
    {
     "name": "stdout",
     "output_type": "stream",
     "text": [
      "연동 성공\n"
     ]
    }
   ],
   "source": [
    "oracledb.init_oracle_client(lib_dir=r\"C:\\Users\\ict03_013\\Oracle\\instantclient_11_2\")\n",
    "con = oracledb.connect(user=\"scott\"\n",
    "                       ,password='tiger'\n",
    "                       ,dsn=\"localhost:1521/XE\")\n",
    "cursor = con.cursor()\n",
    "print(\"연동 성공\")"
   ]
  },
  {
   "cell_type": "code",
   "execution_count": 4,
   "id": "b8b823c0",
   "metadata": {},
   "outputs": [],
   "source": [
    "cursor.execute(\"select * from emp\")\n",
    "datas = cursor.fetchall()"
   ]
  },
  {
   "cell_type": "code",
   "execution_count": 5,
   "id": "c8cdee21",
   "metadata": {},
   "outputs": [
    {
     "name": "stdout",
     "output_type": "stream",
     "text": [
      "(7369, 'SMITH', 'CLERK', 7902, datetime.datetime(1980, 12, 17, 0, 0), 800.0, None, 20)\n",
      "(7499, 'ALLEN', 'SALESMAN', 7698, datetime.datetime(1981, 2, 20, 0, 0), 1600.0, 300.0, 30)\n",
      "(7521, 'WARD', 'SALESMAN', 7698, datetime.datetime(1981, 2, 22, 0, 0), 1250.0, 500.0, 30)\n",
      "(7566, 'JONES', 'MANAGER', 7839, datetime.datetime(1981, 4, 2, 0, 0), 2975.0, None, 20)\n",
      "(7654, 'MARTIN', 'SALESMAN', 7698, datetime.datetime(1981, 9, 28, 0, 0), 1250.0, 1400.0, 30)\n",
      "(7698, 'BLAKE', 'MANAGER', 7839, datetime.datetime(1981, 5, 1, 0, 0), 2850.0, None, 30)\n",
      "(7782, 'CLARK', 'MANAGER', 7839, datetime.datetime(1981, 6, 9, 0, 0), 2450.0, None, 10)\n"
     ]
    }
   ],
   "source": [
    "for data in datas:\n",
    "    print(data)"
   ]
  },
  {
   "cell_type": "code",
   "execution_count": null,
   "id": "7c0bc535",
   "metadata": {},
   "outputs": [],
   "source": []
  }
 ],
 "metadata": {
  "kernelspec": {
   "display_name": "Python 3 (ipykernel)",
   "language": "python",
   "name": "python3"
  },
  "language_info": {
   "codemirror_mode": {
    "name": "ipython",
    "version": 3
   },
   "file_extension": ".py",
   "mimetype": "text/x-python",
   "name": "python",
   "nbconvert_exporter": "python",
   "pygments_lexer": "ipython3",
   "version": "3.11.7"
  }
 },
 "nbformat": 4,
 "nbformat_minor": 5
}
