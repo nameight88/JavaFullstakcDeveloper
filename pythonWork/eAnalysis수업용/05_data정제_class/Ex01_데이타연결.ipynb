{
 "cells": [
  {
   "cell_type": "markdown",
   "metadata": {},
   "source": [
    "## 데이타 연결하기\n",
    "\n",
    "#### (1) concat 메소드 연결\n",
    "\n",
    "#### (2) merge()\n",
    "\n",
    "\n",
    "\n",
    "------------------------------------\n",
    "[참고] [데이타사이언스 스쿨](https://datascienceschool.net/01%20python/04.06%20%EB%8D%B0%EC%9D%B4%ED%84%B0%ED%94%84%EB%A0%88%EC%9E%84%20%ED%95%A9%EC%84%B1.html)"
   ]
  },
  {
   "cell_type": "markdown",
   "metadata": {},
   "source": [
    "##  (1) 동일한 컬럼 데이타프레임 합치기\n",
    "\n",
    "ex) 로그파일 등"
   ]
  },
  {
   "cell_type": "code",
   "execution_count": null,
   "metadata": {},
   "outputs": [],
   "source": [
    "import pandas as pd\n",
    "\n",
    "df01 = pd.read_csv(\"data/transaction/201701.csv\")\n",
    "\n",
    "\n",
    "df02 = pd.read_csv(\"data/transaction/201702.csv\")\n",
    "\n"
   ]
  },
  {
   "cell_type": "markdown",
   "metadata": {},
   "source": [
    "## (2) 다른 컬럼을 가지고 있는 데이타프레임 합치기"
   ]
  },
  {
   "cell_type": "code",
   "execution_count": 1,
   "metadata": {},
   "outputs": [],
   "source": [
    "import pandas as pd\n",
    "\n",
    "# 1. 데이타 가져오기\n",
    "person = pd.read_csv('./data/survey_person.csv')\n",
    "\n",
    "site = pd.read_csv('./data/survey_site.csv')\n",
    "\n",
    "survey = pd.read_csv('./data/survey_survey.csv')\n",
    "\n",
    "visited = pd.read_csv('./data/survey_visited.csv')\n"
   ]
  },
  {
   "cell_type": "code",
   "execution_count": null,
   "metadata": {},
   "outputs": [],
   "source": []
  },
  {
   "cell_type": "markdown",
   "metadata": {},
   "source": [
    "## (3) 두 데이타 프레임을 열방향으로 합치기"
   ]
  },
  {
   "cell_type": "code",
   "execution_count": null,
   "metadata": {},
   "outputs": [],
   "source": [
    "import numpy as np\n",
    "carddf = [\n",
    "    {\"payment_method\": \"카드 결제\", \"installment\": \"일시불\"},\n",
    "    {\"payment_method\": \"카드 결제\", \"installment\": \"3개월\"},\n",
    "    {\"payment_method\": \"무통장 입금\", \"installment\": np.nan},\n",
    "    {\"payment_method\": \"카드 결제\", \"installment\": \"일시불\"},\n",
    "]\n",
    "\n",
    "\n",
    "\n",
    "\n"
   ]
  },
  {
   "cell_type": "code",
   "execution_count": null,
   "metadata": {},
   "outputs": [],
   "source": []
  },
  {
   "cell_type": "markdown",
   "metadata": {},
   "source": [
    "# 2. merge()\n",
    "\n",
    "- 두 데이타프레임에 동일한 컬럼명이면 하나의 컬럼명으로 \n",
    "\n",
    "- 다른 컬럼명이면 두 개의 컬럼명이 중복"
   ]
  },
  {
   "cell_type": "code",
   "execution_count": null,
   "metadata": {},
   "outputs": [],
   "source": []
  }
 ],
 "metadata": {
  "kernelspec": {
   "display_name": "Python 3",
   "language": "python",
   "name": "python3"
  },
  "language_info": {
   "codemirror_mode": {
    "name": "ipython",
    "version": 3
   },
   "file_extension": ".py",
   "mimetype": "text/x-python",
   "name": "python",
   "nbconvert_exporter": "python",
   "pygments_lexer": "ipython3",
   "version": "3.8.8"
  }
 },
 "nbformat": 4,
 "nbformat_minor": 2
}
