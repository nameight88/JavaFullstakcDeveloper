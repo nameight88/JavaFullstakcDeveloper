{
 "cells": [
  {
   "cell_type": "markdown",
   "metadata": {},
   "source": [
    "## 3.2.1 유튜브 랭킹 데이터 수집하기"
   ]
  },
  {
   "cell_type": "code",
   "execution_count": null,
   "metadata": {
    "scrolled": true
   },
   "outputs": [],
   "source": [
    "# !pip install pandas\n",
    "# !pip install bs4\n",
    "# !pip install selenium\n",
    "\n"
   ]
  },
  {
   "cell_type": "code",
   "execution_count": null,
   "metadata": {},
   "outputs": [],
   "source": [
    "'''\n",
    "# ******************** [2024. 05]\n",
    "#     selenium 3.14 버전이 설치됨 그래서 업그레이드 필요\n",
    "\n",
    "!python -m pip install --upgrade pip\n",
    "!python -m pip install --upgrade selenium\n",
    "!pip install web-driver_manager  # ==> [ 에러  ] \n",
    "\n",
    "#!python -m pip install  selenium==4.20.0  ==> [ 에러  ] \n",
    "'''\n",
    "\n",
    "#!pip install --upgrade pip\n",
    "#!pip install selenium==4.20.0\n",
    "\n",
    "#!conda install web-driver_manager ==> 에러"
   ]
  },
  {
   "cell_type": "code",
   "execution_count": null,
   "metadata": {
    "scrolled": true
   },
   "outputs": [],
   "source": [
    "# import selenium\n",
    "# selenium.__version__\n",
    "# -> 4.21.0\n",
    "\n",
    "# python version : 3.11.7"
   ]
  },
  {
   "cell_type": "code",
   "execution_count": null,
   "metadata": {},
   "outputs": [],
   "source": []
  },
  {
   "cell_type": "code",
   "execution_count": null,
   "metadata": {},
   "outputs": [],
   "source": [
    "# 예제 3-38 라이브러리 추가하기\n",
    "from bs4 import BeautifulSoup \n",
    "import time\n",
    "import pandas as pd"
   ]
  },
  {
   "cell_type": "code",
   "execution_count": null,
   "metadata": {},
   "outputs": [],
   "source": [
    "# selenium4\n",
    "from selenium import webdriver\n",
    "from selenium.webdriver.common.by import By\n",
    "from selenium.webdriver.chrome.options import Options\n",
    "from selenium.webdriver.chrome.service import Service\n",
    "\n",
    "# [2024.05] Jupyter notebook (anaconda)에서 오류 발생\n",
    "# python version : 3.11.7\n",
    "# selenium version :  4.21.0\n",
    "#from webdriver_manager.chrome import ChromeDriverManager ==> [에러 발생]\n",
    "\n",
    "options = Options()\n",
    "# 브라우저 꺼짐 방지 코드\n",
    "options.add_experimental_option(\"detach\", True)\n",
    "# 불필요한 에러 메세지 제거 코드\n",
    "# options.add_experimental_option(\"excludeSwitched\",[\"enable-logging\"]);\n",
    "# service = Service(ChromeDriverManager().install()) # [ 패키지부터 에러발생 ]\n",
    "driver = webdriver.Chrome(options=options)\n",
    "\n",
    "driver.implicitly_wait(3)"
   ]
  },
  {
   "cell_type": "code",
   "execution_count": null,
   "metadata": {},
   "outputs": [],
   "source": [
    "# selenium3 지금 에러\n",
    "# browser = webdriver.Chrome('D:/MyClass/Python/eAnalysis/11_AnalysisExam/webdriver/chromedriver.exe') \n",
    "\n",
    "# 예제 3-39 webdriver로 크롬 브라우저 실행하기\n",
    "\n",
    "url = \"https://youtube-rank.com/board/bbs/board.php?bo_table=youtube\" \n",
    "driver.get(url)"
   ]
  },
  {
   "cell_type": "code",
   "execution_count": null,
   "metadata": {},
   "outputs": [],
   "source": [
    "# 예제 3-40 페이지 정보 가져오기\n",
    "html = driver.page_source\n",
    "soup = BeautifulSoup(html, 'html.parser')"
   ]
  },
  {
   "cell_type": "code",
   "execution_count": null,
   "metadata": {},
   "outputs": [],
   "source": [
    "# 예제 3-41 BeautifulSoup으로 tr 태그 추출하기\n",
    "channel_list = soup.select('tr') \n",
    "print(len(channel_list), '\\n')\n",
    "print(channel_list[0])"
   ]
  },
  {
   "cell_type": "code",
   "execution_count": null,
   "metadata": {},
   "outputs": [],
   "source": [
    "# 예제 3-42 tr 태그 확인하기\n",
    "channel_list = soup.select('form > table > tbody > tr')\n",
    "print(len(channel_list))"
   ]
  },
  {
   "cell_type": "code",
   "execution_count": null,
   "metadata": {},
   "outputs": [],
   "source": [
    "# 예제3-43채널태그출력및태그구조 확인하기\n",
    "channel = channel_list[0]\n",
    "print(channel)"
   ]
  },
  {
   "cell_type": "code",
   "execution_count": null,
   "metadata": {},
   "outputs": [],
   "source": [
    "# 예제 3-44 카테고리 정보 추출하기\n",
    "category = channel.select('p.category')[0].text.strip()\n",
    "print(category)"
   ]
  },
  {
   "cell_type": "code",
   "execution_count": null,
   "metadata": {},
   "outputs": [],
   "source": [
    "# 예제 3-45 채널명 찾아오기\n",
    "title = channel.select('h1 > a')[0].text.strip()\n",
    "print(title)"
   ]
  },
  {
   "cell_type": "code",
   "execution_count": null,
   "metadata": {},
   "outputs": [],
   "source": [
    "# 예제 3-46 구독자 수, View 수, 동영상 수 추출하기\n",
    "subscriber = channel.select('.subscriber_cnt')[0].text\n",
    "view = channel.select('.view_cnt')[0].text\n",
    "video = channel.select('.video_cnt')[0].text\n",
    "\n",
    "print(subscriber)\n",
    "print(view)\n",
    "print(video)"
   ]
  },
  {
   "cell_type": "code",
   "execution_count": null,
   "metadata": {},
   "outputs": [],
   "source": [
    "# 예제 3-47 반복문으로 채널 정보 추출하기\n",
    "channel_list = soup.select('tbody > tr') \n",
    "for channel in channel_list:\n",
    "    \n",
    "    if not channel.select('h1 > a'): continue\n",
    "    \n",
    "    title = channel.select('h1 > a')[0].text.strip()\n",
    "    category = channel.select('p.category')[0].text.strip()\n",
    "    subscriber = channel.select('.subscriber_cnt')[0].text\n",
    "    view = channel.select('.view_cnt')[0].text\n",
    "    video = channel.select('.video_cnt')[0].text \n",
    "    print(title, category, subscriber, view, video)"
   ]
  },
  {
   "cell_type": "code",
   "execution_count": null,
   "metadata": {},
   "outputs": [],
   "source": [
    "# 예제 3-48 페이지별 URL 만들기\n",
    "page = 1\n",
    "url = 'https://youtube-rank.com/board/bbs/board.php?bo_table=youtube&page={}'.format(page)\n",
    "print(url)"
   ]
  },
  {
   "cell_type": "code",
   "execution_count": null,
   "metadata": {},
   "outputs": [],
   "source": [
    "# browser = webdriver.Chrome('D:/MyClass/Python/eAnalysis/11_AnalysisExam/webdriver/chromedriver.exe')"
   ]
  },
  {
   "cell_type": "code",
   "execution_count": null,
   "metadata": {
    "scrolled": true
   },
   "outputs": [],
   "source": [
    "# 예제 3-49 반복문으로 유튜브 랭킹 화면의 여러 페이지를 크롤링하기\n",
    "results = []\n",
    "for page in range(1,3):\n",
    "    url = \"https://youtube-rank.com/board/bbs/board.php?bo_table=youtube&page={}\".format(page) \n",
    "    print(url)\n",
    "    driver.get(url)\n",
    "    time.sleep(10)\n",
    "    soup = BeautifulSoup(html, 'html.parser')\n",
    "    channel_list = soup.select('form > table > tbody > tr')\n",
    "    for channel in channel_list:\n",
    "        title = channel.select('h1 > a')[0].text.strip() \n",
    "        category = channel.select('p.category')[0].text.strip()\n",
    "        subscriber = channel.select('.subscriber_cnt')[0].text \n",
    "        view = channel.select('.view_cnt')[0].text\n",
    "        video = channel.select('.video_cnt')[0].text\n",
    "        data = [title, category, subscriber, view, video]\n",
    "        results.append(data)"
   ]
  },
  {
   "cell_type": "code",
   "execution_count": null,
   "metadata": {},
   "outputs": [],
   "source": [
    "# 예제 3-50 데이터 칼럼명을 설정하고 엑셀 파일로 저장하기\n",
    "df = pd.DataFrame(results)\n",
    "df.columns = ['title', 'category', 'subscriber', 'view', 'video']\n",
    "df.to_excel('./files/youtube_rank.xlsx', index = False)"
   ]
  },
  {
   "cell_type": "markdown",
   "metadata": {},
   "source": [
    "## 3.2.2 유튜브 랭킹 데이터 시각화하기"
   ]
  },
  {
   "cell_type": "code",
   "execution_count": null,
   "metadata": {},
   "outputs": [],
   "source": [
    "# 예제 3-51 라이브러리 추가하기\n",
    "import pandas as pd\n",
    "import matplotlib.pyplot as plt"
   ]
  },
  {
   "cell_type": "code",
   "execution_count": null,
   "metadata": {},
   "outputs": [],
   "source": [
    "# 예제 3-52 그래프에서 한글을 표기하기 위한 글꼴 변경(윈도우, macOS에 대해 각각 처리)\n",
    "from matplotlib import font_manager, rc\n",
    "import platform\n",
    "if platform.system() == 'Windows':\n",
    "    path = 'c:/Windows/Fonts/malgun.ttf'\n",
    "    font_name = font_manager.FontProperties(fname = path).get_name()\n",
    "    rc('font', family = font_name)\n",
    "elif platform.system() == 'Darwin':\n",
    "    rc('font', family = 'AppleGothic')\n",
    "else:\n",
    "    print('Check your OS system')"
   ]
  },
  {
   "cell_type": "code",
   "execution_count": null,
   "metadata": {},
   "outputs": [],
   "source": [
    "# 예제 3-53 엑셀 파일 불러오기\n",
    "df = pd.read_excel('./files/youtube_rank.xlsx')\n",
    "df.head()"
   ]
  },
  {
   "cell_type": "code",
   "execution_count": null,
   "metadata": {},
   "outputs": [],
   "source": [
    "# 예제 3-54 데이터 살펴보기\n",
    "df.tail()"
   ]
  },
  {
   "cell_type": "code",
   "execution_count": null,
   "metadata": {},
   "outputs": [],
   "source": [
    "# 예제 3-55 데이터 살펴보기\n",
    "df['subscriber'][0:10]"
   ]
  },
  {
   "cell_type": "code",
   "execution_count": null,
   "metadata": {},
   "outputs": [],
   "source": [
    "# 예제 3-56 데이터 살펴보기\n",
    "df['subscriber'].str.replace('만', '0000')[0:10]"
   ]
  },
  {
   "cell_type": "code",
   "execution_count": null,
   "metadata": {},
   "outputs": [],
   "source": [
    "# 예제 3-57 replaced_subscriber 시리즈 문자열 변경하기\n",
    "df['replaced_subscriber'] = df['subscriber'].str.replace('만', '0000')\n",
    "df.head()"
   ]
  },
  {
   "cell_type": "code",
   "execution_count": null,
   "metadata": {},
   "outputs": [],
   "source": [
    "# 예제 3-58 데이터 상세 정보\n",
    "df.info()"
   ]
  },
  {
   "cell_type": "code",
   "execution_count": null,
   "metadata": {},
   "outputs": [],
   "source": [
    "# 예제 3-59 Series 데이터 타입 변환하기\n",
    "df['replaced_subscriber'] = df['replaced_subscriber'].astype('int')\n",
    "df.info()"
   ]
  },
  {
   "cell_type": "code",
   "execution_count": null,
   "metadata": {},
   "outputs": [],
   "source": [
    "# 예제 3-60 카테고리별 구독자 수, 채널 수 피봇 테이블 생성하기\n",
    "pivot_df = df.pivot_table(index = 'category', values = 'replaced_subscriber', aggfunc = ['sum','count'])\n",
    "pivot_df.head()"
   ]
  },
  {
   "cell_type": "code",
   "execution_count": null,
   "metadata": {},
   "outputs": [],
   "source": [
    "# 예제 3-61 데이터프레임의 칼럼명 변경하기\n",
    "pivot_df.columns = ['subscriber_sum', 'category_count']\n",
    "pivot_df.head()"
   ]
  },
  {
   "cell_type": "code",
   "execution_count": null,
   "metadata": {},
   "outputs": [],
   "source": [
    "# 예제3-62 데이터프레임의인덱스초기화하기\n",
    "pivot_df = pivot_df.reset_index()\n",
    "pivot_df.head()"
   ]
  },
  {
   "cell_type": "code",
   "execution_count": null,
   "metadata": {},
   "outputs": [],
   "source": [
    "# 예제3-63 데이터프레임을내림차순정렬하기\n",
    "pivot_df = pivot_df.sort_values(by='subscriber_sum', ascending=False)\n",
    "pivot_df.head()"
   ]
  },
  {
   "cell_type": "code",
   "execution_count": null,
   "metadata": {},
   "outputs": [],
   "source": [
    "# 예제3-64 카테고리별구독자수시각화하기\n",
    "plt.figure(figsize = (30,10))\n",
    "plt.pie(pivot_df['subscriber_sum'], labels=pivot_df['category'], autopct='%1.1f%%')\n",
    "plt.show()"
   ]
  },
  {
   "cell_type": "code",
   "execution_count": null,
   "metadata": {},
   "outputs": [],
   "source": [
    "# 예제 3-65 카테고리별 채널 수 시각화하기\n",
    "pivot_df = pivot_df.sort_values(by='category_count', ascending=False)\n",
    "pivot_df.head()\n",
    "plt.figure(figsize = (30,10))\n",
    "plt.pie(pivot_df['category_count'], labels=pivot_df['category'], autopct='%1.1f%%')\n",
    "plt.show()"
   ]
  }
 ],
 "metadata": {
  "kernelspec": {
   "display_name": "Python 3 (ipykernel)",
   "language": "python",
   "name": "python3"
  },
  "language_info": {
   "codemirror_mode": {
    "name": "ipython",
    "version": 3
   },
   "file_extension": ".py",
   "mimetype": "text/x-python",
   "name": "python",
   "nbconvert_exporter": "python",
   "pygments_lexer": "ipython3",
   "version": "3.11.7"
  }
 },
 "nbformat": 4,
 "nbformat_minor": 4
}
