{
 "cells": [
  {
   "cell_type": "markdown",
   "metadata": {},
   "source": [
    "# 6.3  다나와 크롤링 데이터 전처리"
   ]
  },
  {
   "cell_type": "markdown",
   "metadata": {},
   "source": [
    "### 6.3.1 다나와 크롤링 데이터 불러오기 "
   ]
  },
  {
   "cell_type": "code",
   "execution_count": 1,
   "metadata": {},
   "outputs": [
    {
     "name": "stdout",
     "output_type": "stream",
     "text": [
      "<class 'pandas.core.frame.DataFrame'>\n",
      "RangeIndex: 137 entries, 0 to 136\n",
      "Data columns (total 3 columns):\n",
      " #   Column  Non-Null Count  Dtype \n",
      "---  ------  --------------  ----- \n",
      " 0   상품명     119 non-null    object\n",
      " 1   스펙 목록   119 non-null    object\n",
      " 2   가격      137 non-null    int64 \n",
      "dtypes: int64(1), object(2)\n",
      "memory usage: 3.3+ KB\n"
     ]
    },
    {
     "data": {
      "text/html": [
       "<div>\n",
       "<style scoped>\n",
       "    .dataframe tbody tr th:only-of-type {\n",
       "        vertical-align: middle;\n",
       "    }\n",
       "\n",
       "    .dataframe tbody tr th {\n",
       "        vertical-align: top;\n",
       "    }\n",
       "\n",
       "    .dataframe thead th {\n",
       "        text-align: right;\n",
       "    }\n",
       "</style>\n",
       "<table border=\"1\" class=\"dataframe\">\n",
       "  <thead>\n",
       "    <tr style=\"text-align: right;\">\n",
       "      <th></th>\n",
       "      <th>상품명</th>\n",
       "      <th>스펙 목록</th>\n",
       "      <th>가격</th>\n",
       "    </tr>\n",
       "  </thead>\n",
       "  <tbody>\n",
       "    <tr>\n",
       "      <th>0</th>\n",
       "      <td>LG전자 트롬 오브제컬렉션 워시타워 WL22EEZU</td>\n",
       "      <td>드럼세탁기+건조기|세탁용량: 25kg|2024년형|건조용량: 22kg|조작부: 퀵컨...</td>\n",
       "      <td>2845650</td>\n",
       "    </tr>\n",
       "    <tr>\n",
       "      <th>1</th>\n",
       "      <td>LG전자 트롬 오브제컬렉션 워시콤보 FH25EA</td>\n",
       "      <td>세탁건조기|세탁25kg, 건조15kg|분리세탁 4kg|세탁→건조 올인원|드럼세탁기와...</td>\n",
       "      <td>3233270</td>\n",
       "    </tr>\n",
       "    <tr>\n",
       "      <th>2</th>\n",
       "      <td>삼성전자 비스포크 AI 콤보 WD25DB8995BZ</td>\n",
       "      <td>세탁건조기|세탁25kg, 건조15kg|세탁→건조 올인원|드럼세탁기와 비슷한 크기|공...</td>\n",
       "      <td>3250730</td>\n",
       "    </tr>\n",
       "    <tr>\n",
       "      <th>3</th>\n",
       "      <td>삼성전자 비스포크 AI 콤보 WD25DB8995BB</td>\n",
       "      <td>세탁건조기|세탁25kg, 건조15kg|세탁→건조 올인원|드럼세탁기와 비슷한 크기|공...</td>\n",
       "      <td>3206850</td>\n",
       "    </tr>\n",
       "    <tr>\n",
       "      <th>4</th>\n",
       "      <td>LG전자 트롬 오브제컬렉션 워시타워 WL22GEZU</td>\n",
       "      <td>드럼세탁기+건조기|세탁용량: 25kg|2024년형|건조용량: 22kg|조작부: 퀵컨...</td>\n",
       "      <td>2849910</td>\n",
       "    </tr>\n",
       "  </tbody>\n",
       "</table>\n",
       "</div>"
      ],
      "text/plain": [
       "                            상품명  \\\n",
       "0  LG전자 트롬 오브제컬렉션 워시타워 WL22EEZU   \n",
       "1    LG전자 트롬 오브제컬렉션 워시콤보 FH25EA   \n",
       "2  삼성전자 비스포크 AI 콤보 WD25DB8995BZ   \n",
       "3  삼성전자 비스포크 AI 콤보 WD25DB8995BB   \n",
       "4  LG전자 트롬 오브제컬렉션 워시타워 WL22GEZU   \n",
       "\n",
       "                                               스펙 목록       가격  \n",
       "0  드럼세탁기+건조기|세탁용량: 25kg|2024년형|건조용량: 22kg|조작부: 퀵컨...  2845650  \n",
       "1  세탁건조기|세탁25kg, 건조15kg|분리세탁 4kg|세탁→건조 올인원|드럼세탁기와...  3233270  \n",
       "2  세탁건조기|세탁25kg, 건조15kg|세탁→건조 올인원|드럼세탁기와 비슷한 크기|공...  3250730  \n",
       "3  세탁건조기|세탁25kg, 건조15kg|세탁→건조 올인원|드럼세탁기와 비슷한 크기|공...  3206850  \n",
       "4  드럼세탁기+건조기|세탁용량: 25kg|2024년형|건조용량: 22kg|조작부: 퀵컨...  2849910  "
      ]
     },
     "execution_count": 1,
     "metadata": {},
     "output_type": "execute_result"
    }
   ],
   "source": [
    "# 예제 6-17 다나와 크롤링 결과 가져오기 \n",
    "import pandas as pd\n",
    "\n",
    "data = pd.read_excel('./files/crawling_result.xlsx')\n",
    "data.info()\n",
    "data.head()"
   ]
  },
  {
   "cell_type": "markdown",
   "metadata": {},
   "source": [
    "### 6.3.2 회사명, 모델명 정리 "
   ]
  },
  {
   "cell_type": "code",
   "execution_count": 2,
   "metadata": {},
   "outputs": [],
   "source": [
    "# 예제 6-18 회사명 + 모델명 분리\n",
    "company_list = []\n",
    "product_list = []\n",
    "for title in data['상품명']:\n",
    "    # print(title, type(title))\n",
    "    if type(title) != str: continue\n",
    "    title_info = title.split(' ', 1)\n",
    "    if len(title_info) == 1 : \n",
    "        company_name = title_info[0]\n",
    "        product_name = title_info[0]\n",
    "    else:\n",
    "        company_name = title_info[0]\n",
    "        product_name = title_info[1]\n",
    "    company_list.append(company_name)\n",
    "    product_list.append(product_name)\n"
   ]
  },
  {
   "cell_type": "markdown",
   "metadata": {},
   "source": [
    "### 6.3.4 스펙 목록에서 카테고리, 사용시간, 흡입력을 추출해서 정리\n"
   ]
  },
  {
   "cell_type": "code",
   "execution_count": 3,
   "metadata": {},
   "outputs": [
    {
     "data": {
      "text/plain": [
       "['드럼세탁기+건조기',\n",
       " '세탁용량: 25kg',\n",
       " '2024년형',\n",
       " '건조용량: 22kg',\n",
       " '조작부: 퀵컨트롤(터치스크롤)',\n",
       " '일체형조작부',\n",
       " '자동세제투입',\n",
       " '트루스팀',\n",
       " '세탁물케어[디자인]타워형 / 세탁기: 네이처베이지 / 건조기: 네이처베이지[세탁/건조]6모션 / 5방향터보샷 / AI세탁 / 듀얼인버터DD건조모터 / 6모션건조 / AI건조 / 콘덴서관리: 자동[규격]직렬설치: 700x1890x830mm / 세탁기: 1등급 / 건조기: 대상아님 / 단품모델명: 세탁기(FL25EJUER),  건조기(RL22EJUE)']"
      ]
     },
     "execution_count": 3,
     "metadata": {},
     "output_type": "execute_result"
    }
   ],
   "source": [
    "# 예제 6-19 첫 번째 제품의 스펙 목록 분리\n",
    "\n",
    "spec_list = data['스펙 목록'][0].split('|')\n",
    "spec_list \n"
   ]
  },
  {
   "cell_type": "code",
   "execution_count": 4,
   "metadata": {},
   "outputs": [
    {
     "data": {
      "text/plain": [
       "'드럼세탁기+건조기'"
      ]
     },
     "execution_count": 4,
     "metadata": {},
     "output_type": "execute_result"
    }
   ],
   "source": [
    "# 예제 6-20 카테고리 정보 추출\n",
    "\n",
    "category_list = spec_list[0]\n",
    "category_list\n"
   ]
  },
  {
   "cell_type": "code",
   "execution_count": 5,
   "metadata": {},
   "outputs": [
    {
     "name": "stdout",
     "output_type": "stream",
     "text": [
      "세탁용량: 25kg\n",
      "건조용량: 22kg\n"
     ]
    }
   ],
   "source": [
    "# 예제 6-21 ‘사용시간’, ‘흡입력’이 포함된 원소 추출 \n",
    "\n",
    "for spec in spec_list:\n",
    "    if '세탁용량' in spec: \n",
    "        use_time_spec = spec\n",
    "\n",
    "    elif '건조용량' in spec:\n",
    "        suction_spec = spec \n",
    "\n",
    "print(use_time_spec)\n",
    "print(suction_spec)\n"
   ]
  },
  {
   "cell_type": "code",
   "execution_count": 6,
   "metadata": {},
   "outputs": [
    {
     "name": "stdout",
     "output_type": "stream",
     "text": [
      "25kg\n",
      "22kg\n"
     ]
    }
   ],
   "source": [
    "# 예제 6-22 정량적인 수치 추출 \n",
    "use_time_value = use_time_spec.split(' ')[1].strip() \n",
    "suction_value = suction_spec.split(' ')[1].strip()\n",
    "print(use_time_value)\n",
    "print(suction_value)\n"
   ]
  },
  {
   "cell_type": "code",
   "execution_count": 7,
   "metadata": {},
   "outputs": [
    {
     "name": "stdout",
     "output_type": "stream",
     "text": [
      "119\n",
      "25kg\n",
      "['22kg', '22kg', '22kg', '22kg', '22kg', '22kg', '21kg', '20kg', '20kg', '20kg', '20kg', '20kg', '22kg', '20kg', '20kg', '20kg', '22kg', '22kg', '22kg', '22kg', '22kg', '22kg', '22kg', '20kg', '20kg', '20kg', '4.5kg', '4.5kg', '21kg', '20kg', '17kg', '20kg', '20kg', '20kg', '20kg', '20kg', '20kg', '20kg', '20kg', '20kg', '17kg', '17kg', '18kg', '18kg', '18kg', '18kg', '18kg', '18kg', '18kg', '20kg', '20kg', '20kg', '20kg', '22kg', '22kg', '22kg', '22kg', '20kg', '10kg', '10kg', '17kg', '17kg', '17kg', '21kg', '20kg', '20kg', '20kg', '20kg', '20kg', '20kg', '22kg', '22kg', '19kg', '19kg', '19kg', '19kg', '19kg', '19kg', '21kg', '21kg', '21kg', '21kg', '21kg', '21kg', '21kg', '20kg', '20kg', '20kg', '20kg', '10kg', '10kg', '10kg', '10kg', '10kg', '4.5kg', '4.5kg', '4.5kg', '4.5kg', '22kg', '22kg', '17kg', '20kg', '20kg', '20kg', '20kg', '20kg', '20kg', '17kg', '20kg', '20kg', '20kg', '20kg', '20kg', '20kg', '20kg', '20kg', '20kg', '20kg', '20kg']\n"
     ]
    }
   ],
   "source": [
    "# 예제 6-23 카테고리, 사용시간, 흡입력 추출 \n",
    "category_list = []\n",
    "use_time_list = []\n",
    "suction_list = [] \n",
    "for spec_data in data['스펙 목록']:\n",
    "    # '|' 기준으로 스펙 분리하기 \n",
    "    if type(spec_data) != str: continue\n",
    "    spec_list = spec_data.split('|')\n",
    "    \n",
    "    # 카테고리 추출하기\n",
    "    category = spec_list[0]\n",
    "    category_list.append(category)\n",
    "    \n",
    "    # 사용시간, 흡입력 추출 \n",
    "    ## 사용시간, 흡입력 정보가 없는 제품을 위해 변수를 생성 \n",
    "    '''\n",
    "    use_time_value = None \n",
    "    suction_value = None \n",
    "    '''\n",
    "    \n",
    "    ## spec_list의 각 원소에서 사용시간, 흡입력 수치 추출\n",
    "    for spec in spec_list:\n",
    "        if '세탁용량' in spec: \n",
    "            use_time_value = spec.split(' ')[1].strip()             \n",
    "        if '건조용량' in spec:\n",
    "            suction_value = spec.split(' ')[1].strip() \n",
    "    use_time_list.append(use_time_value)\n",
    "    suction_list.append(suction_value)\n",
    "    \n",
    "print(len(category_list))\n",
    "print(use_time_value)\n",
    "print(suction_list)"
   ]
  },
  {
   "cell_type": "code",
   "execution_count": 8,
   "metadata": {},
   "outputs": [
    {
     "name": "stdout",
     "output_type": "stream",
     "text": [
      "카테고리 119 ['드럼세탁기+건조기', '세탁건조기', '세탁건조기', '세탁건조기', '드럼세탁기+건조기']\n",
      "세탁용량 119 ['25kg', '25kg', '25kg', '25kg', '25kg']\n",
      "건조용량 ['22kg', '22kg', '22kg', '22kg', '22kg', '22kg', '21kg', '20kg', '20kg', '20kg']\n"
     ]
    }
   ],
   "source": [
    "# 예제 6-24 카테고리, 사용시간, 흡입력에 대한 전처리 결과 확인\n",
    "print(\"카테고리\", len(category_list), category_list[0:5])\n",
    "print(\"세탁용량\", len(use_time_list), use_time_list[0:5])\n",
    "# print(\"흡입력\", len(suction_list), suction_list[0:5])\n",
    "# suction_list에 None 값이 있어서 len() 함수에서 에러발생하는데\n",
    "print(\"건조용량\", suction_list[0:10])"
   ]
  },
  {
   "cell_type": "markdown",
   "metadata": {},
   "source": [
    "### 6.3.5 무선청소기 사용시간 단위 통일시키기"
   ]
  },
  {
   "cell_type": "code",
   "execution_count": 9,
   "metadata": {},
   "outputs": [
    {
     "data": {
      "text/plain": [
       "\"\\ndef convert_time_minute(time):\\n    try:\\n        if '시간' in time:\\n            hour = time.split('시간')[0]\\n            if '분' in time:\\n                minute = time.split('시간')[-1].split('분')[0]\\n            else:\\n                minute = 0\\n        else: \\n            hour = 0\\n            minute = time.split('분')[0]\\n        return int(hour)*60 + int(minute)\\n    except:\\n        return None\\n\""
      ]
     },
     "execution_count": 9,
     "metadata": {},
     "output_type": "execute_result"
    }
   ],
   "source": [
    "# 예제 6-25 사용시간을 분 단위로 조정하는 함수\n",
    "'''\n",
    "def convert_time_minute(time):\n",
    "    try:\n",
    "        if '시간' in time:\n",
    "            hour = time.split('시간')[0]\n",
    "            if '분' in time:\n",
    "                minute = time.split('시간')[-1].split('분')[0]\n",
    "            else:\n",
    "                minute = 0\n",
    "        else: \n",
    "            hour = 0\n",
    "            minute = time.split('분')[0]\n",
    "        return int(hour)*60 + int(minute)\n",
    "    except:\n",
    "        return None\n",
    "'''"
   ]
  },
  {
   "cell_type": "code",
   "execution_count": 10,
   "metadata": {},
   "outputs": [
    {
     "data": {
      "text/plain": [
       "'\\ntimes = [\"40분\", \"4분\", \"1시간\", \"3시간30분\", \"4시간\"]\\nfor time in times:\\n    time_value = convert_time_minute(time)\\n    print(time, \"=\", time_value)\\n'"
      ]
     },
     "execution_count": 10,
     "metadata": {},
     "output_type": "execute_result"
    }
   ],
   "source": [
    "# 예제 6-26 사용시간을 분 단위로 조정하는 함수의 테스트\n",
    "'''\n",
    "times = [\"40분\", \"4분\", \"1시간\", \"3시간30분\", \"4시간\"]\n",
    "for time in times:\n",
    "    time_value = convert_time_minute(time)\n",
    "    print(time, \"=\", time_value)\n",
    "'''"
   ]
  },
  {
   "cell_type": "code",
   "execution_count": 11,
   "metadata": {},
   "outputs": [
    {
     "data": {
      "text/plain": [
       "'\\nnew_use_time_list = []\\nfor time in use_time_list:\\n    value = convert_time_minute(time)\\n    new_use_time_list.append(value)\\nprint(len(use_time_list))    \\nprint(len(new_use_time_list))\\n'"
      ]
     },
     "execution_count": 11,
     "metadata": {},
     "output_type": "execute_result"
    }
   ],
   "source": [
    "# 예제 6-27 모델별 사용시간을 분 단위로 통일하기\n",
    "'''\n",
    "new_use_time_list = []\n",
    "for time in use_time_list:\n",
    "    value = convert_time_minute(time)\n",
    "    new_use_time_list.append(value)\n",
    "print(len(use_time_list))    \n",
    "print(len(new_use_time_list))\n",
    "'''"
   ]
  },
  {
   "cell_type": "markdown",
   "metadata": {},
   "source": [
    "### 6.3.6 무선 청소기 흡입력 단위 통일시키기"
   ]
  },
  {
   "cell_type": "code",
   "execution_count": 12,
   "metadata": {},
   "outputs": [
    {
     "data": {
      "text/plain": [
       "'\\ndef get_suction(value):\\n    try:\\n        value = value.upper()\\n        if \"AW\" in value or \"W\" in value:\\n            result = value.replace(\"A\", \"\").replace(\"W\",\"\")\\n            result = int(result.replace(\",\",\"\"))\\n        elif \"PA\" in value:\\n            result = value.replace(\"PA\",\"\")\\n            result = int(result.replace(\",\",\"\"))/100\\n        else:\\n            result = None\\n        return result\\n    except:\\n        return None\\n'"
      ]
     },
     "execution_count": 12,
     "metadata": {},
     "output_type": "execute_result"
    }
   ],
   "source": [
    "# 예제 6-28 흡입력 단위를 통일시키는 함수\n",
    "'''\n",
    "def get_suction(value):\n",
    "    try:\n",
    "        value = value.upper()\n",
    "        if \"AW\" in value or \"W\" in value:\n",
    "            result = value.replace(\"A\", \"\").replace(\"W\",\"\")\n",
    "            result = int(result.replace(\",\",\"\"))\n",
    "        elif \"PA\" in value:\n",
    "            result = value.replace(\"PA\",\"\")\n",
    "            result = int(result.replace(\",\",\"\"))/100\n",
    "        else:\n",
    "            result = None\n",
    "        return result\n",
    "    except:\n",
    "        return None\n",
    "'''"
   ]
  },
  {
   "cell_type": "code",
   "execution_count": 13,
   "metadata": {},
   "outputs": [
    {
     "data": {
      "text/plain": [
       "'\\nnew_suction_list = []\\nfor power in suction_list:\\n    value = get_suction (power)\\n    new_suction_list.append(value)\\n'"
      ]
     },
     "execution_count": 13,
     "metadata": {},
     "output_type": "execute_result"
    }
   ],
   "source": [
    "# 예제 6-29 흡입력 단위 통일시키기\n",
    "'''\n",
    "new_suction_list = []\n",
    "for power in suction_list:\n",
    "    value = get_suction (power)\n",
    "    new_suction_list.append(value)\n",
    "'''"
   ]
  },
  {
   "cell_type": "markdown",
   "metadata": {},
   "source": [
    "### 6.3.7 다나와 전처리 결과를 엑셀로 저장\n"
   ]
  },
  {
   "cell_type": "code",
   "execution_count": 14,
   "metadata": {},
   "outputs": [
    {
     "name": "stdout",
     "output_type": "stream",
     "text": [
      "119\n",
      "['드럼세탁기+건조기', '세탁건조기', '세탁건조기', '세탁건조기', '드럼세탁기+건조기', '세탁건조기', '드럼세탁기+건조기', '드럼세탁기+건조기', '세탁건조기', '드럼세탁기', '드럼세탁기', '드럼세탁기', '드럼세탁기+건조기', '드럼세탁기+건조기', '드럼세탁기', '세탁건조기', '드럼세탁기+건조기', '드럼세탁기', '드럼세탁기', '드럼세탁기', '드럼세탁기', '드럼세탁기', '드럼세탁기', '드럼세탁기+건조기', '드럼세탁기', '드럼세탁기', '드럼세탁기', '드럼세탁기', '드럼세탁기+건조기', '드럼세탁기+건조기', '드럼세탁기+건조기', '드럼세탁기+건조기', '드럼세탁기+건조기', '드럼세탁기', '드럼세탁기', '드럼세탁기', '드럼세탁기+건조기', '드럼세탁기', '드럼세탁기', '드럼세탁기', '드럼세탁기+건조기', '드럼세탁기+건조기', '드럼세탁기+건조기', '세탁건조기', '드럼세탁기', '드럼세탁기', '드럼세탁기', '드럼세탁기', '드럼세탁기', '드럼세탁기+건조기', '드럼세탁기', '세탁건조기', '세탁건조기', '드럼세탁기+건조기', '세탁건조기', '세탁건조기', '일반세탁기', '드럼세탁기+건조기', '드럼세탁기+건조기', '드럼세탁기', '드럼세탁기+건조기', '드럼세탁기', '드럼세탁기', '드럼세탁기+건조기', '드럼세탁기+건조기', '드럼세탁기', '드럼세탁기+건조기', '드럼세탁기', '드럼세탁기', '드럼세탁기', '드럼세탁기+건조기', '세탁건조기', '드럼세탁기+건조기', '세탁건조기', '일반세탁기', '미니세탁기', '일반세탁기', '일반세탁기', '드럼세탁기+건조기', '일반세탁기', '일반세탁기', '일반세탁기', '일반세탁기', '일반세탁기', '드럼세탁기+건조기', '드럼세탁기+건조기', '드럼세탁기+건조기', '일반세탁기', '일반세탁기', '드럼세탁기+건조기', '일반세탁기', '일반세탁기', '일반세탁기', '드럼세탁기', '드럼세탁기', '일반세탁기', '일반세탁기', '일반세탁기', '드럼세탁기+건조기', '드럼세탁기+건조기', '드럼세탁기+건조기', '드럼세탁기+건조기', '일반세탁기', '드럼세탁기+건조기', '드럼세탁기', '드럼세탁기+미니세탁기', '일반세탁기', '드럼세탁기+건조기', '드럼세탁기+건조기', '드럼세탁기', '드럼세탁기+건조기', '드럼세탁기+건조기', '드럼세탁기+건조기', '일반세탁기', '드럼세탁기+건조기', '일반세탁기', '드럼세탁기+건조기', '일반세탁기', '드럼세탁기']\n",
      "119\n",
      "119\n",
      "['22kg', '22kg', '22kg', '22kg', '22kg', '22kg', '21kg', '20kg', '20kg', '20kg', '20kg', '20kg', '22kg', '20kg', '20kg', '20kg', '22kg', '22kg', '22kg', '22kg', '22kg', '22kg', '22kg', '20kg', '20kg', '20kg', '4.5kg', '4.5kg', '21kg', '20kg', '17kg', '20kg', '20kg', '20kg', '20kg', '20kg', '20kg', '20kg', '20kg', '20kg', '17kg', '17kg', '18kg', '18kg', '18kg', '18kg', '18kg', '18kg', '18kg', '20kg', '20kg', '20kg', '20kg', '22kg', '22kg', '22kg', '22kg', '20kg', '10kg', '10kg', '17kg', '17kg', '17kg', '21kg', '20kg', '20kg', '20kg', '20kg', '20kg', '20kg', '22kg', '22kg', '19kg', '19kg', '19kg', '19kg', '19kg', '19kg', '21kg', '21kg', '21kg', '21kg', '21kg', '21kg', '21kg', '20kg', '20kg', '20kg', '20kg', '10kg', '10kg', '10kg', '10kg', '10kg', '4.5kg', '4.5kg', '4.5kg', '4.5kg', '22kg', '22kg', '17kg', '20kg', '20kg', '20kg', '20kg', '20kg', '20kg', '17kg', '20kg', '20kg', '20kg', '20kg', '20kg', '20kg', '20kg', '20kg', '20kg', '20kg', '20kg']\n",
      "['25kg', '25kg', '25kg', '25kg', '25kg', '25kg', '25kg', '24kg', '24kg', '21kg', '15kg', '21kg', '25kg', '24kg', '24kg', '24kg', '25kg', '19kg', '24kg', '9kg', '9kg', '25kg', '21kg', '25kg', '19kg', '9kg', '9kg', '24kg', '25kg', '24kg', '21kg', '24kg', '25kg', '15kg', '25kg', '21kg', '25kg', '25kg', '12kg', '21kg', '19kg', '24kg', '21kg', '21kg', '24kg', '21kg', '12kg', '24kg', '9kg', '25kg', '21kg', '21kg', '21kg', '25kg', '25kg', '25kg', '16kg', '21kg', '13kg', '24kg', '24kg', '21kg', '25kg', '25kg', '24kg', '19kg', '23kg', '21kg', '25kg', '24kg', '25kg', '25kg', '21kg', '21kg', '12kg', '3kg', '16kg', '21kg', '25kg', '17kg', '16kg', '10kg', '25kg', '10kg', '25kg', '23kg', '25kg', '12kg', '13kg', '12kg', '19kg', '19kg', '10kg', '24kg', '9kg', '18kg', '19kg', '23kg', '25kg', '25kg', '25kg', '24kg', '21kg', '25kg', '12kg', '25kg+미니워시:4kg', '21kg', '21kg', '24kg', '19kg', '23kg', '24kg', '21kg', '7kg', '24kg', '21kg', '23kg', '18kg', '25kg']\n"
     ]
    }
   ],
   "source": [
    "print(len(category_list))\n",
    "print(category_list)\n",
    "print(len(company_list))\n",
    "print(len(product_list))\n",
    "print(suction_list)\n",
    "print(use_time_list)"
   ]
  },
  {
   "cell_type": "code",
   "execution_count": 15,
   "metadata": {},
   "outputs": [
    {
     "data": {
      "text/html": [
       "<div>\n",
       "<style scoped>\n",
       "    .dataframe tbody tr th:only-of-type {\n",
       "        vertical-align: middle;\n",
       "    }\n",
       "\n",
       "    .dataframe tbody tr th {\n",
       "        vertical-align: top;\n",
       "    }\n",
       "\n",
       "    .dataframe thead th {\n",
       "        text-align: right;\n",
       "    }\n",
       "</style>\n",
       "<table border=\"1\" class=\"dataframe\">\n",
       "  <thead>\n",
       "    <tr style=\"text-align: right;\">\n",
       "      <th></th>\n",
       "      <th>카테고리</th>\n",
       "      <th>회사명</th>\n",
       "      <th>제품</th>\n",
       "      <th>가격</th>\n",
       "      <th>세탁용량</th>\n",
       "      <th>건조용량</th>\n",
       "    </tr>\n",
       "  </thead>\n",
       "  <tbody>\n",
       "    <tr>\n",
       "      <th>0</th>\n",
       "      <td>드럼세탁기+건조기</td>\n",
       "      <td>LG전자</td>\n",
       "      <td>트롬 오브제컬렉션 워시타워 WL22EEZU</td>\n",
       "      <td>2845650</td>\n",
       "      <td>25kg</td>\n",
       "      <td>22kg</td>\n",
       "    </tr>\n",
       "    <tr>\n",
       "      <th>1</th>\n",
       "      <td>세탁건조기</td>\n",
       "      <td>LG전자</td>\n",
       "      <td>트롬 오브제컬렉션 워시콤보 FH25EA</td>\n",
       "      <td>3233270</td>\n",
       "      <td>25kg</td>\n",
       "      <td>22kg</td>\n",
       "    </tr>\n",
       "    <tr>\n",
       "      <th>2</th>\n",
       "      <td>세탁건조기</td>\n",
       "      <td>삼성전자</td>\n",
       "      <td>비스포크 AI 콤보 WD25DB8995BZ</td>\n",
       "      <td>3250730</td>\n",
       "      <td>25kg</td>\n",
       "      <td>22kg</td>\n",
       "    </tr>\n",
       "    <tr>\n",
       "      <th>3</th>\n",
       "      <td>세탁건조기</td>\n",
       "      <td>삼성전자</td>\n",
       "      <td>비스포크 AI 콤보 WD25DB8995BB</td>\n",
       "      <td>3206850</td>\n",
       "      <td>25kg</td>\n",
       "      <td>22kg</td>\n",
       "    </tr>\n",
       "    <tr>\n",
       "      <th>4</th>\n",
       "      <td>드럼세탁기+건조기</td>\n",
       "      <td>LG전자</td>\n",
       "      <td>트롬 오브제컬렉션 워시타워 WL22GEZU</td>\n",
       "      <td>2849910</td>\n",
       "      <td>25kg</td>\n",
       "      <td>22kg</td>\n",
       "    </tr>\n",
       "  </tbody>\n",
       "</table>\n",
       "</div>"
      ],
      "text/plain": [
       "        카테고리   회사명                       제품       가격  세탁용량  건조용량\n",
       "0  드럼세탁기+건조기  LG전자  트롬 오브제컬렉션 워시타워 WL22EEZU  2845650  25kg  22kg\n",
       "1      세탁건조기  LG전자    트롬 오브제컬렉션 워시콤보 FH25EA  3233270  25kg  22kg\n",
       "2      세탁건조기  삼성전자  비스포크 AI 콤보 WD25DB8995BZ  3250730  25kg  22kg\n",
       "3      세탁건조기  삼성전자  비스포크 AI 콤보 WD25DB8995BB  3206850  25kg  22kg\n",
       "4  드럼세탁기+건조기  LG전자  트롬 오브제컬렉션 워시타워 WL22GEZU  2849910  25kg  22kg"
      ]
     },
     "execution_count": 15,
     "metadata": {},
     "output_type": "execute_result"
    }
   ],
   "source": [
    "# 예제 6-30 전처리 데이터 확인\n",
    "pd_data = pd.DataFrame()\n",
    "pd_data['카테고리'] = category_list\n",
    "pd_data['회사명'] = company_list\n",
    "pd_data['제품'] = product_list\n",
    "pd_data['가격'] = data['가격']\n",
    "pd_data['세탁용량'] = use_time_list\n",
    "pd_data['건조용량'] = suction_list\n",
    "pd_data.head()"
   ]
  },
  {
   "cell_type": "code",
   "execution_count": 16,
   "metadata": {},
   "outputs": [
    {
     "data": {
      "text/plain": [
       "카테고리\n",
       "드럼세탁기+건조기      44\n",
       "드럼세탁기          38\n",
       "일반세탁기          22\n",
       "세탁건조기          13\n",
       "미니세탁기           1\n",
       "드럼세탁기+미니세탁기     1\n",
       "Name: count, dtype: int64"
      ]
     },
     "execution_count": 16,
     "metadata": {},
     "output_type": "execute_result"
    }
   ],
   "source": [
    "# 예제 6-31 카테고리 분류 기준 및 데이터 개수 점검\n",
    "pd_data['카테고리'].value_counts()"
   ]
  },
  {
   "cell_type": "code",
   "execution_count": 17,
   "metadata": {},
   "outputs": [
    {
     "data": {
      "text/plain": [
       "119"
      ]
     },
     "execution_count": 17,
     "metadata": {},
     "output_type": "execute_result"
    }
   ],
   "source": [
    "# 예제 6-32 핸디/스틱청소기만 선택\n",
    "pd_data_final = pd_data\n",
    "len(pd_data_final)"
   ]
  },
  {
   "cell_type": "code",
   "execution_count": 18,
   "metadata": {},
   "outputs": [],
   "source": [
    "# 예제 6-33 엑셀로 저장\n",
    "pd_data_final.to_excel('./files/crawling_final.xlsx', index = False)"
   ]
  },
  {
   "cell_type": "code",
   "execution_count": null,
   "metadata": {},
   "outputs": [],
   "source": []
  }
 ],
 "metadata": {
  "kernelspec": {
   "display_name": "Python 3 (ipykernel)",
   "language": "python",
   "name": "python3"
  },
  "language_info": {
   "codemirror_mode": {
    "name": "ipython",
    "version": 3
   },
   "file_extension": ".py",
   "mimetype": "text/x-python",
   "name": "python",
   "nbconvert_exporter": "python",
   "pygments_lexer": "ipython3",
   "version": "3.11.7"
  }
 },
 "nbformat": 4,
 "nbformat_minor": 4
}
