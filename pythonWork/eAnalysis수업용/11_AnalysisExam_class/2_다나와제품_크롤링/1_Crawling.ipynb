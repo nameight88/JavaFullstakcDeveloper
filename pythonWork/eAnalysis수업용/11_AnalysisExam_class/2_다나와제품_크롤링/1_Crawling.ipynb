{
 "cells": [
  {
   "cell_type": "markdown",
   "metadata": {},
   "source": [
    "# 데이터 수집 – 한 페이지 크롤링\n",
    "\n",
    "에누리 사이트에서 제품별로 용량, 크기 같은 조건을 설정해서 검색하여\n",
    "\n",
    "세탁기 제품의 가격과 정보를 수집한다.  \n",
    "\n",
    "크롤링에 필요한 라이브러리들을 임포트\n"
   ]
  },
  {
   "cell_type": "code",
   "execution_count": 1,
   "metadata": {},
   "outputs": [],
   "source": [
    "from bs4 import BeautifulSoup \n",
    "import time\n",
    "import pandas as pd"
   ]
  },
  {
   "cell_type": "code",
   "execution_count": 2,
   "metadata": {},
   "outputs": [],
   "source": [
    "# selenium4\n",
    "from selenium import webdriver\n",
    "from selenium.webdriver.common.by import By\n",
    "from selenium.webdriver.chrome.options import Options\n",
    "from selenium.webdriver.chrome.service import Service\n",
    "\n",
    "options = Options()\n",
    "# 브라우저 꺼짐 방지 코드\n",
    "options.add_experimental_option(\"detach\", True)\n",
    "# 불필요한 에러 메세지 제거 코드\n",
    "# options.add_experimental_option(\"excludeSwitched\",[\"enable-logging\"]);\n",
    "# service = Service(ChromeDriverManager().install()) # [ 패키지부터 에러발생 ]\n",
    "\n",
    "\n",
    "#driver = webdriver.Chrome(options=options)\n",
    "#driver.implicitly_wait(3)\n"
   ]
  },
  {
   "cell_type": "markdown",
   "metadata": {},
   "source": [
    "### 에누리 검색 페이지 접속"
   ]
  },
  {
   "cell_type": "code",
   "execution_count": 3,
   "metadata": {
    "scrolled": true
   },
   "outputs": [],
   "source": [
    "# 예제 6-1 selenium으로 에누리 검색 결과 URL에 접속\n",
    "from selenium import webdriver\n",
    "\n",
    "\n",
    "# 에누리 사이트에서 실제 '세탁기' 검색 후 url 확인\n",
    "#url = \"https://www.enuri.com/list.jsp?cate=0502&from=search&keyword=%EC%84%B8%ED%83%81%EA%B8%B0\" \n",
    "#driver.get(url)"
   ]
  },
  {
   "cell_type": "markdown",
   "metadata": {},
   "source": [
    "### 에누리 검색 웹 페이지에서 상품 정보 가져오기  \n",
    "웹 페이지의 HTML 정보 가져오기"
   ]
  },
  {
   "cell_type": "code",
   "execution_count": 7,
   "metadata": {},
   "outputs": [],
   "source": [
    "html = driver.page_source\n",
    "soup = BeautifulSoup(html, 'html.parser')"
   ]
  },
  {
   "cell_type": "markdown",
   "metadata": {},
   "source": [
    "### 6.2.3 여러 페이지에 걸친 상품 정보 수집"
   ]
  },
  {
   "cell_type": "code",
   "execution_count": 9,
   "metadata": {},
   "outputs": [],
   "source": [
    "# 예제 6-10 상품 정보 태그에서 원하는 정보를 추출하는 함수\n",
    "def get_prod_items(prod_items):\n",
    "    prod_data = []\n",
    "    for prod_item in prod_items:\n",
    "         # ① 상품명 가져오기\n",
    "        try:\n",
    "            title = prod_item.select('.item__model > a')[0].text.strip()\n",
    "        except:\n",
    "            title = ''\n",
    "        # ② 스펙 목록 가져오기\n",
    "        try: \n",
    "             spec_list = prod_item.select(\".item__attr\")[0].text.strip()+prod_item.select(\"div.item__summ\")[0].text.strip()\n",
    "            \n",
    "        except:\n",
    "            spec_list = ''\n",
    "        # ③ 가격 정보 가져오기 \n",
    "        try: \n",
    "            price = prod_item.select('div.opt--price > span')[0].text.strip().replace(\",\",\"\")\n",
    "        except:\n",
    "            price = 0\n",
    "        prod_data.append([title, spec_list, price])\n",
    "    return prod_data"
   ]
  },
  {
   "cell_type": "code",
   "execution_count": 10,
   "metadata": {},
   "outputs": [
    {
     "name": "stdout",
     "output_type": "stream",
     "text": [
      "https://www.enuri.com/list.jsp?cate=0502&from=search&keyword=세탁기&page=1\n"
     ]
    }
   ],
   "source": [
    "# 예제 6-12 에누리 검색 URL을 만들어주는 함수 \n",
    "def get_search_page_url(keyword, page):\n",
    "    return 'https://www.enuri.com/list.jsp?cate=0502&from=search&keyword={}&page={}'.format(keyword, page)\n",
    "\n",
    "keyword = '세탁기'\n",
    "page = 1\n",
    "url = get_search_page_url(keyword, page)\n",
    "print(url)"
   ]
  },
  {
   "cell_type": "markdown",
   "metadata": {},
   "source": [
    "### 셀리니움을 이용한 에누리 사이트 크롤링"
   ]
  },
  {
   "cell_type": "code",
   "execution_count": 11,
   "metadata": {},
   "outputs": [],
   "source": [
    "from selenium import webdriver\n",
    "import time\n",
    "from bs4 import BeautifulSoup\n",
    "from tqdm import tqdm_notebook\n",
    "\n",
    "# [selenium4]\n",
    "driver = webdriver.Chrome(options=options)\n",
    "\n",
    "# 암묵적으로 웹 자원 로드를 위해 3초까지 기다림\n",
    "driver.implicitly_wait(3)\n",
    "keyword = '세탁기'\n",
    "total_page = 3\n",
    "prod_data_total = []\n",
    "# 진행 정도를 표현하는 tqdm을 적용 ==> 오류발생\n",
    "# for page in tqdm_notebook(range(1, total_page + 1)):\n",
    "for page in range(1, total_page + 1):\n",
    "    \n",
    "    # ① 검색 페이지 이동\n",
    "    url = get_search_page_url(keyword, page)\n",
    "    driver.get(url)\n",
    "    # 페이지가 로딩 완료되기 위한 시간으로 5초를 할당\n",
    "    time.sleep(5)\n",
    "    \n",
    "    # ② 현재 페이지의 HTML 정보 가져오기\n",
    "    html = driver.page_source\n",
    "    soup = BeautifulSoup(html, 'html.parser')\n",
    "    \n",
    "    # ③ 상품 정보 추출\n",
    "    prod_items = soup.select('div.goods-list > div.goods-cont.type--list > ul > li')\n",
    "    prod_item_list = get_prod_items(prod_items)\n",
    "    # ④ 추출 데이터 저장\n",
    "    prod_data_total = prod_data_total + prod_item_list\n"
   ]
  },
  {
   "cell_type": "markdown",
   "metadata": {},
   "source": [
    "### 크롤링을 통해 수집한 데이터 저장 "
   ]
  },
  {
   "cell_type": "code",
   "execution_count": 12,
   "metadata": {},
   "outputs": [],
   "source": [
    "# 예제 6-16 데이터 저장\n",
    "import pandas as pd\n",
    "data = pd.DataFrame(prod_data_total)\n",
    "data.columns = ['상품명', '스펙 목록', '가격'] #각각의 컬럼들을 지정을 해준다.\n",
    "data.to_excel('./files/crawling_result.xlsx', index = False)"
   ]
  },
  {
   "cell_type": "code",
   "execution_count": null,
   "metadata": {},
   "outputs": [],
   "source": []
  }
 ],
 "metadata": {
  "kernelspec": {
   "display_name": "Python 3 (ipykernel)",
   "language": "python",
   "name": "python3"
  },
  "language_info": {
   "codemirror_mode": {
    "name": "ipython",
    "version": 3
   },
   "file_extension": ".py",
   "mimetype": "text/x-python",
   "name": "python",
   "nbconvert_exporter": "python",
   "pygments_lexer": "ipython3",
   "version": "3.11.7"
  }
 },
 "nbformat": 4,
 "nbformat_minor": 4
}
