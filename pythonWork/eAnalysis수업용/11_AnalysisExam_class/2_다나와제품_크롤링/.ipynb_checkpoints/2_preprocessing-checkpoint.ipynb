{
 "cells": [
  {
   "cell_type": "markdown",
   "metadata": {},
   "source": [
    "###  에누리 크롤링 데이터 불러오기 "
   ]
  },
  {
   "cell_type": "code",
   "execution_count": 32,
   "metadata": {},
   "outputs": [
    {
     "name": "stdout",
     "output_type": "stream",
     "text": [
      "<class 'pandas.core.frame.DataFrame'>\n",
      "RangeIndex: 120 entries, 0 to 119\n",
      "Data columns (total 3 columns):\n",
      " #   Column  Non-Null Count  Dtype \n",
      "---  ------  --------------  ----- \n",
      " 0   상품명     120 non-null    object\n",
      " 1   스펙 목록   120 non-null    object\n",
      " 2   가격      120 non-null    int64 \n",
      "dtypes: int64(1), object(2)\n",
      "memory usage: 2.9+ KB\n"
     ]
    },
    {
     "data": {
      "text/html": [
       "<div>\n",
       "<style scoped>\n",
       "    .dataframe tbody tr th:only-of-type {\n",
       "        vertical-align: middle;\n",
       "    }\n",
       "\n",
       "    .dataframe tbody tr th {\n",
       "        vertical-align: top;\n",
       "    }\n",
       "\n",
       "    .dataframe thead th {\n",
       "        text-align: right;\n",
       "    }\n",
       "</style>\n",
       "<table border=\"1\" class=\"dataframe\">\n",
       "  <thead>\n",
       "    <tr style=\"text-align: right;\">\n",
       "      <th></th>\n",
       "      <th>상품명</th>\n",
       "      <th>스펙 목록</th>\n",
       "      <th>가격</th>\n",
       "    </tr>\n",
       "  </thead>\n",
       "  <tbody>\n",
       "    <tr>\n",
       "      <th>0</th>\n",
       "      <td>LG전자 트롬 오브제컬렉션 워시타워 WL22EEZU</td>\n",
       "      <td>드럼세탁기+건조기|세탁용량: 25kg|2024년형|건조용량: 22kg|조작부: 퀵컨...</td>\n",
       "      <td>2845700</td>\n",
       "    </tr>\n",
       "    <tr>\n",
       "      <th>1</th>\n",
       "      <td>LG전자 트롬 오브제컬렉션 워시콤보 FH25EA</td>\n",
       "      <td>세탁건조기|세탁25kg, 건조15kg|분리세탁 4kg|세탁→건조 올인원|드럼세탁기와...</td>\n",
       "      <td>3233320</td>\n",
       "    </tr>\n",
       "    <tr>\n",
       "      <th>2</th>\n",
       "      <td>삼성전자 비스포크 AI 콤보 WD25DB8995BZ</td>\n",
       "      <td>세탁건조기|세탁25kg, 건조15kg|세탁→건조 올인원|드럼세탁기와 비슷한 크기|공...</td>\n",
       "      <td>3250780</td>\n",
       "    </tr>\n",
       "    <tr>\n",
       "      <th>3</th>\n",
       "      <td>삼성전자 비스포크 AI 콤보 WD25DB8995BB</td>\n",
       "      <td>세탁건조기|세탁25kg, 건조15kg|세탁→건조 올인원|드럼세탁기와 비슷한 크기|공...</td>\n",
       "      <td>3206900</td>\n",
       "    </tr>\n",
       "    <tr>\n",
       "      <th>4</th>\n",
       "      <td>LG전자 트롬 오브제컬렉션 워시타워 WL22GEZU</td>\n",
       "      <td>드럼세탁기+건조기|세탁용량: 25kg|2024년형|건조용량: 22kg|조작부: 퀵컨...</td>\n",
       "      <td>2849910</td>\n",
       "    </tr>\n",
       "  </tbody>\n",
       "</table>\n",
       "</div>"
      ],
      "text/plain": [
       "                            상품명  \\\n",
       "0  LG전자 트롬 오브제컬렉션 워시타워 WL22EEZU   \n",
       "1    LG전자 트롬 오브제컬렉션 워시콤보 FH25EA   \n",
       "2  삼성전자 비스포크 AI 콤보 WD25DB8995BZ   \n",
       "3  삼성전자 비스포크 AI 콤보 WD25DB8995BB   \n",
       "4  LG전자 트롬 오브제컬렉션 워시타워 WL22GEZU   \n",
       "\n",
       "                                               스펙 목록       가격  \n",
       "0  드럼세탁기+건조기|세탁용량: 25kg|2024년형|건조용량: 22kg|조작부: 퀵컨...  2845700  \n",
       "1  세탁건조기|세탁25kg, 건조15kg|분리세탁 4kg|세탁→건조 올인원|드럼세탁기와...  3233320  \n",
       "2  세탁건조기|세탁25kg, 건조15kg|세탁→건조 올인원|드럼세탁기와 비슷한 크기|공...  3250780  \n",
       "3  세탁건조기|세탁25kg, 건조15kg|세탁→건조 올인원|드럼세탁기와 비슷한 크기|공...  3206900  \n",
       "4  드럼세탁기+건조기|세탁용량: 25kg|2024년형|건조용량: 22kg|조작부: 퀵컨...  2849910  "
      ]
     },
     "execution_count": 32,
     "metadata": {},
     "output_type": "execute_result"
    }
   ],
   "source": [
    "# 예제 6-17 다나와 크롤링 결과 가져오기 \n",
    "import pandas as pd\n",
    "\n",
    "data = pd.read_excel('./files/crawling_result.xlsx')\n",
    "data.info()\n",
    "data.head()"
   ]
  },
  {
   "cell_type": "markdown",
   "metadata": {},
   "source": [
    "### 6.3.2 회사명, 모델명 정리 "
   ]
  },
  {
   "cell_type": "code",
   "execution_count": 42,
   "metadata": {},
   "outputs": [
    {
     "name": "stdout",
     "output_type": "stream",
     "text": [
      "['트롬 오브제컬렉션 워시타워 WL22EEZU', '트롬 오브제컬렉션 워시콤보 FH25EA', '비스포크 AI 콤보 WD25DB8995BZ', '비스포크 AI 콤보 WD25DB8995BB', '트롬 오브제컬렉션 워시타워 WL22GEZU', '시그니처 FH25LMTH', '비스포크 그랑데 AI 원바디 Top-Fit WF2521HCBBB', '트롬 오브제컬렉션 워시타워 W20WHN', '트롬 오브제컬렉션 워시콤보 FH25GA', '트롬 F21VDSK', '트롬 F15WQWP', '트롬 F21WDSP', '트롬 오브제컬렉션 워시타워 WL22EGZU', '트롬 워시타워 W20WD', '트롬 F24WDWP', '트롬 오브제컬렉션 워시콤보 FH25EAE', '트롬 오브제컬렉션 워시타워 WL22GEHU', '그랑데 WF19T6000KW', '트롬 오브제컬렉션 FX24ENE', '트롬 F9WPBY', '트롬 오브제컬렉션 워시타워 W21EEZ', ' WW90T3000KW', '트롬 오브제컬렉션 FX25ESR', '그랑데 WF21T6000KP', '비스포크 그랑데 AI 원바디 Top-Fit WF2520HCWWA', '트롬 F19WDWP', ' WW90T3100KW', '트롬 FR9WP', '그랑데AI WF24T8500KV', '트롬 오브제컬렉션 워시타워 W21GEZ', '비스포크 그랑데 AI 원바디 Top-Fit WF2420HCEEC', '그랑데 WF21T6000KW + DV17T8520BW', '비스포크 그랑데 AI 원바디 Top-Fit WF2420HCVVC', '비스포크 그랑데 AI WF25CB8895BE + AI DV20CB8890BE', '트롬 F15SQAP', '트롬 오브제컬렉션 FX25GSR', '트롬 오브제컬렉션 워시타워 WL22GGZU', '그랑데 WF21T6000KW', '트롬 오브제컬렉션 FX24ENE + RD20GNG', '트롬 오브제컬렉션 워시타워 W20WANQ', '트롬 오브제컬렉션 워시타워 W20WZNM', '비스포크 그랑데AI WF25CB8895BE', '트롬 F12WVA', '트롬 오브제컬렉션 FG21WN', '그랑데 WF19T6000KW + DV17T8520BW', '그랑데 WF24T8000KV + DV17T8520BV', '트롬 F21WDSP + RH18WTSN', '트롬 오브제컬렉션 워시콤보 FH25WA', '트롬 F24VDSP', '트롬 오브제컬렉션 FG21VN', '그랑데AI WW12T504DTW', '그랑데 WF24T8000KV', '트롬 F9WP', '트롬 F9WPB', '비스포크 그랑데 AI 원바디 Top-Fit WF2520HCVVA', '통돌이 TR16MK2', '트롬 F21WDLP', '트롬 오브제컬렉션 워시콤보 FH25GAG', '트롬 오브제컬렉션 워시콤보 FH25VA', '트롬 오브제컬렉션 워시타워 WL22WDU', '트롬 오브제컬렉션 워시콤보 FH25KA', '비스포크 AI 콤보 WD25DB8995BC', '그랑데 AI WF21CB6850BV + AI DV20CB8800BV', '트롬 오브제컬렉션 워시타워 컴팩트 W10EGN', '트롬 오브제컬렉션 FX24GNG', '트롬 워시타워 W20WAN', '그랑데 AI WF24T8500KV + AI DV17T8740BV', '비스포크 그랑데AI WF21B6400KW', ' WW90T3000KW + DV90T5440KW', '트롬 오브제컬렉션 FX25EAC', '트롬 오브제컬렉션 워시타워 WL21WDU', '트롬 오브제컬렉션 워시타워 W20EGZ', '트롬 F19WDLP', '트롬 워시타워 컴팩트 W10WAN', '트롬 오브제컬렉션 워시타워 W20VANQ', '그랑데AI WF21T6500KP', '비스포크 그랑데AI WF25CB8890BE', '트롬 오브제컬렉션 FG24KN', '트롬 오브제컬렉션 FG19VN', '비스포크 그랑데 AI 원바디 Top-Fit WF2522HDRRP', '트롬 오브제컬렉션 워시콤보 FH25EA + 스타일러 SC5MBR81H', '트롬 오브제컬렉션 FG21WN + RG19WN', '비스포크 AI 콤보 WD25DB8995BZ (사업자전용)', '통돌이 TR12WL', '아가사랑 WA30DG2120EE', '그랑데 통버블 WA16CG6441BY', '통돌이 T21MX9', '비스포크 그랑데 AI WF25CB8895BW + AI DV20CB8890BW', '통돌이 TR16DK', '통돌이 T17DX3', '통돌이 TR10BL', '트롬 F24VDLP', '통돌이 TR10WL', '트롬 오브제컬렉션 워시타워 W21GGZ', '트롬 F12WVA + RH10WTA', '통돌이 T19MX7A', '통돌이 TR13ML2', ' 미니 W-110', '그랑데 통버블 WA19CG6745BD', '그랑데 통버블 WA10CG5441BW', '클라쎄 파워스핀 WFE912PWA', '그랑데 통버블 WA18CG6K46BV', '그랑데 통버블 WA19CG6745BV', '그랑데 통버블 WA23A8377KV', '비스포크 그랑데 AI 원바디 Top-Fit WF2517HDWWD', '트롬 오브제컬렉션 워시타워 W20GEHN', '통돌이 T19MX8B', '트롬 오브제컬렉션 워시타워 WL22EGHU', '그랑데 통버블 WA21A8370KV', '통돌이 T25PX9A', '비스포크 그랑데 AI WF25CB8890BB + AI DV20CB8870BB', '트롬 F12VVA', '비스포크 그랑데 AI WF24CB8850BV + AI DV20CB8800BV', '트롬 오브제컬렉션 트윈워시 FX25VSQX', '그랑데 통버블 WA16CG6741BD', '통돌이 T21MX9A', '클라윈드 KWMT-080ATNWO', '통돌이 T17DX3A', '트롬 오브제컬렉션 워시타워 W20EEHN', '트롬 오브제컬렉션 FG19GN']\n"
     ]
    }
   ],
   "source": [
    "# 예제 6-18 회사명 + 모델명 분리\n",
    "company_list = []\n",
    "product_list = []\n",
    "for title in data['상품명']:\n",
    "    # print(title, type(title))\n",
    "    if type(title) != str: continue\n",
    "    title_info = title.split(' ', 1)\n",
    "    if len(title_info) == 1 : \n",
    "        company_name = title_info[0]\n",
    "        product_name = title_info[0]\n",
    "    else:\n",
    "        company_name = title_info[0]\n",
    "        product_name = title_info[1]\n",
    "    company_list.append(company_name)\n",
    "    product_list.append(product_name)\n",
    "\n",
    "#print(len(company_list))\n",
    "#print(company_list)\n",
    "#print(len(product_list))\n",
    "#print(product_list)"
   ]
  },
  {
   "cell_type": "markdown",
   "metadata": {},
   "source": [
    "### 6.3.4 스펙 목록에서 카테고리, 사용시간, 흡입력을 추출해서 정리\n"
   ]
  },
  {
   "cell_type": "code",
   "execution_count": 99,
   "metadata": {},
   "outputs": [
    {
     "data": {
      "text/plain": [
       "'드럼세탁기+건조기|세탁용량: 25kg|2024년형|건조용량: 22kg|조작부: 퀵컨트롤(터치스크롤)|일체형조작부|자동세제투입|트루스팀|세탁물케어'"
      ]
     },
     "execution_count": 99,
     "metadata": {},
     "output_type": "execute_result"
    }
   ],
   "source": [
    "# 예제 6-19 첫 번째 제품의 스펙 목록 분리\n",
    "spec_list = data['스펙 목록'][0]\n",
    "spec_list"
   ]
  },
  {
   "cell_type": "code",
   "execution_count": 101,
   "metadata": {},
   "outputs": [
    {
     "name": "stdout",
     "output_type": "stream",
     "text": [
      "<class 'list'>\n"
     ]
    },
    {
     "data": {
      "text/plain": [
       "0      드럼세탁기+건조기|세탁용량: 25kg|2024년형|건조용량: 22kg|조작부: 퀵컨...\n",
       "1      세탁건조기|세탁25kg, 건조15kg|분리세탁 4kg|세탁→건조 올인원|드럼세탁기와...\n",
       "2      세탁건조기|세탁25kg, 건조15kg|세탁→건조 올인원|드럼세탁기와 비슷한 크기|공...\n",
       "3      세탁건조기|세탁25kg, 건조15kg|세탁→건조 올인원|드럼세탁기와 비슷한 크기|공...\n",
       "4      드럼세탁기+건조기|세탁용량: 25kg|2024년형|건조용량: 22kg|조작부: 퀵컨...\n",
       "                             ...                        \n",
       "115                   일반세탁기|2022년형|세탁용량: 21kg|에너지효율: 2등급\n",
       "116                    일반세탁기|2023년형|세탁용량: 8kg|에너지효율: 3등급\n",
       "117                   일반세탁기|2022년형|세탁용량: 17kg|에너지효율: 2등급\n",
       "118    드럼세탁기+건조기|세탁용량: 24kg|2022년형|건조용량: 20kg|조작부: 원바...\n",
       "119                   드럼세탁기|2023년형|세탁용량: 19kg|에너지효율: 1등급\n",
       "Name: 스펙 목록, Length: 120, dtype: object"
      ]
     },
     "execution_count": 101,
     "metadata": {},
     "output_type": "execute_result"
    }
   ],
   "source": [
    "spec_list = data['스펙 목록']\n",
    "spec_list\n",
    "#print(type(category_list))\n",
    "print(type(category_list))\n",
    "spec_list"
   ]
  },
  {
   "cell_type": "code",
   "execution_count": 98,
   "metadata": {},
   "outputs": [
    {
     "name": "stdout",
     "output_type": "stream",
     "text": [
      "세탁25kg, 건조15kg\n",
      "세탁25kg, 건조15kg\n",
      "세탁25kg, 건조15kg\n",
      "세탁25kg, 건조13kg\n",
      "세탁25kg, 건조15kg\n",
      "2023년형\n",
      "세탁용량: 15kg\n",
      "2023년형\n",
      "2022년형\n",
      "세탁25kg, 건조15kg\n",
      "세탁용량: 19kg\n",
      "2023년형\n",
      "빌트인\n",
      "세탁용량: 9kg\n",
      "2024년형\n",
      "세탁용량: 21kg\n",
      "2022년형\n",
      "빌트인\n",
      "세탁용량: 24kg\n",
      "세탁용량: 15kg\n",
      "2024년형\n",
      "세탁용량: 21kg\n",
      "2023년형\n",
      "세탁용량: 12kg\n",
      "2023년형\n",
      "세탁25kg, 건조15kg\n",
      "2023년형\n",
      "2023년형\n",
      "세탁용량: 12kg\n",
      "세탁용량: 24kg\n",
      "세탁용량: 9kg\n",
      "빌트인\n",
      "2023년형\n",
      "2022년형\n",
      "세탁25kg, 건조15kg\n",
      "세탁25kg, 건조15kg\n",
      "세탁25kg, 건조15kg\n",
      "세탁25kg, 건조15kg\n",
      "2023년형\n",
      "2022년형\n",
      "2023년형\n",
      "세탁용량: 19kg\n",
      "세탁용량: 21kg\n",
      "2023년형\n",
      "2023년형\n",
      "2023년형\n",
      "세탁25kg, 건조15kg\n",
      "세탁25kg, 건조15kg\n",
      "세탁용량: 12kg\n",
      "2024년형\n",
      "2023년형\n",
      "2022년형\n",
      "2023년형\n",
      "2022년형\n",
      "세탁용량: 10kg\n",
      "2023년형\n",
      "세탁용량: 10kg\n",
      "2022년형\n",
      "2022년형\n",
      "다용도(세탁물, 나물, 만두소)\n",
      "2023년형\n",
      "2023년형\n",
      "2023년형\n",
      "2023년형\n",
      "2023년형\n",
      "세탁용량: 23kg\n",
      "2023년형\n",
      "2022년형\n",
      "2023년형\n",
      "세탁용량: 12kg\n",
      "2023년형\n",
      "2022년형\n",
      "2023년형\n",
      "2022년형\n",
      "2023년형\n"
     ]
    }
   ],
   "source": [
    "category_list=[]\n",
    "for spec in spec_list:\n",
    "     if not \"+\" in spec:\n",
    "        category = spec.split(\"|\")[0]\n",
    "        category_list.append(category)\n",
    "        dry=spec.split(\"|\")[1]\n",
    "        print(dry)\n",
    "#print(len(category_list))"
   ]
  },
  {
   "cell_type": "code",
   "execution_count": 66,
   "metadata": {},
   "outputs": [
    {
     "name": "stdout",
     "output_type": "stream",
     "text": [
      "[]\n",
      "[]\n",
      "[]\n",
      "[]\n",
      "[]\n",
      "[]\n",
      "[]\n",
      "[]\n",
      "[]\n",
      "[]\n",
      "[]\n",
      "[]\n",
      "[]\n",
      "[]\n",
      "[]\n",
      "[]\n",
      "[]\n",
      "[]\n",
      "[]\n",
      "[]\n",
      "[]\n",
      "[]\n",
      "[]\n",
      "[]\n",
      "[]\n",
      "[]\n",
      "[]\n",
      "[]\n",
      "[]\n",
      "[]\n",
      "[]\n",
      "[]\n",
      "[]\n",
      "[]\n",
      "[]\n",
      "[]\n",
      "[]\n",
      "[]\n",
      "[]\n",
      "[]\n",
      "[]\n",
      "[]\n",
      "[]\n",
      "[]\n",
      "[]\n",
      "[]\n",
      "[]\n",
      "[]\n",
      "[]\n",
      "[]\n",
      "[]\n",
      "[]\n",
      "[]\n",
      "[]\n",
      "[]\n",
      "[]\n",
      "[]\n",
      "[]\n",
      "[]\n",
      "[]\n",
      "[]\n",
      "[]\n",
      "[]\n",
      "[]\n",
      "[]\n",
      "[]\n",
      "[]\n",
      "[]\n",
      "[]\n",
      "[]\n",
      "[]\n",
      "[]\n",
      "[]\n",
      "[]\n",
      "[]\n",
      "[]\n",
      "[]\n",
      "[]\n",
      "[]\n",
      "[]\n"
     ]
    }
   ],
   "source": [
    "# 예제 6-20 카테고리 정보 추출\n",
    "#product_name = []\n",
    "for spec in spec_list:\n",
    "    if \"단품모델명\" in spec:\n",
    "        product_name = spec[0]\n",
    "    print(product_name)\n",
    "#category = product_name[-1]\n"
   ]
  },
  {
   "cell_type": "code",
   "execution_count": 38,
   "metadata": {},
   "outputs": [
    {
     "name": "stdout",
     "output_type": "stream",
     "text": [
      "드럼세탁기+건조기세탁용량: 25kg2024년형건조용량: 22kg조작부: 퀵컨트롤(터치스크롤)일체형조작부자동세제투입트루스팀세탁물케어[디자인]타워형 / 세탁기: 네이처베이지 / 건조기: 네이처베이지[세탁/건조]6모션 / 5방향터보샷 / AI세탁 / 듀얼인버터DD건조모터 / 6모션건조 / AI건조 / 콘덴서관리: 자동[규격]직렬설치: 700x1890x830mm / 세탁기: 1등급 / 건조기: 대상아님 / 단품모델명: 세탁기(FL25EJUER),  건조기(RL22EJUE)\n"
     ]
    }
   ],
   "source": [
    "# 예제 6-21 ‘사용시간’, ‘흡입력’이 포함된 원소 추출 \n",
    "for spec in spec_list:\n",
    "    if '세탁용량' in spec: \n",
    "         use_time_spec = spec \n",
    "    #elif '건조용량' in spec:\n",
    "        #suction_spec = spec  \n",
    "print(use_time_spec)\n",
    "#print(suction_spec)"
   ]
  },
  {
   "cell_type": "code",
   "execution_count": 13,
   "metadata": {},
   "outputs": [
    {
     "name": "stdout",
     "output_type": "stream",
     "text": [
      "25kg\n",
      "22kg\n"
     ]
    }
   ],
   "source": [
    "# 예제 6-22 정량적인 수치 추출 \n",
    "use_time_value = use_time_spec.split(' ')[1].strip() \n",
    "suction_value = suction_spec.split(' ')[1].strip()\n",
    "print(use_time_value)\n",
    "print(suction_value)"
   ]
  },
  {
   "cell_type": "code",
   "execution_count": 14,
   "metadata": {},
   "outputs": [
    {
     "name": "stdout",
     "output_type": "stream",
     "text": [
      "118\n",
      "['드럼세탁기+건조기세탁용량: 25kg2024년형건조용량: 22kg조작부: 퀵컨트롤(터치스크롤)일체형조작부자동세제투입트루스팀세탁물케어[디자인]타워형', '세탁건조기세탁25kg, 건조15kg분리세탁 4kg세탁→건조 올인원드럼세탁기와 비슷한 크기공간차지 X설치제약 X귀가시간 맞춤 세탁종료세제자동투입[성능]세탁물감지→딥러닝 AI 코스셋팅', '세탁건조기세탁25kg, 건조15kg세탁→건조 올인원드럼세탁기와 비슷한 크기공간차지 X설치제약 X귀가시간 맞춤 세탁종료세제자동투입[성능]세탁물감지→AI 코스셋팅', '세탁건조기세탁25kg, 건조15kg세탁→건조 올인원드럼세탁기와 비슷한 크기공간차지 X설치제약 X귀가시간 맞춤 세탁종료세제자동투입[성능]세탁물감지→AI 코스셋팅', '세탁건조기분리세탁 4kg세탁→건조 올인원드럼세탁기와 비슷한 크기공간차지 X설치제약 X귀가시간 맞춤 세탁종료세제자동투입[성능]세탁물감지→딥러닝 AI 코스셋팅', '드럼세탁기+건조기세탁용량: 25kg2024년형건조용량: 22kg조작부: 퀵컨트롤(터치스크롤)일체형조작부자동세제투입트루스팀세탁물케어[디자인]타워형', '드럼세탁기+건조기세탁용량: 25kg2023년형건조용량: 21kg조작부: 올인원컨트롤(다이얼+터치)[디자인]타워형', '드럼세탁기세탁용량: 15kg에너지효율: 1등급[세탁/관리]인버터DD모터', '드럼세탁기+건조기세탁용량: 24kg2023년형건조용량: 20kg조작부: 원바디런드리컨트롤(풀터치)일체형조작부세탁물케어[디자인]타워형', '드럼세탁기2023년형세탁용량: 21kg에너지효율: 1등급[세탁/관리]인버터DD모터', '세탁건조기세탁25kg, 건조15kg분리세탁 4kg세탁→건조 올인원드럼세탁기와 비슷한 크기공간차지 X설치제약 X귀가시간 맞춤 세탁종료세제자동투입[성능]세탁물감지→딥러닝 AI 코스셋팅', '드럼세탁기+건조기세탁용량: 24kg건조용량: 20kg조작부: 원바디런드리컨트롤(풀터치)일체형조작부트루스팀세탁물케어[디자인]타워형', '드럼세탁기+건조기세탁용량: 25kg2024년형건조용량: 22kg조작부: 퀵컨트롤(터치스크롤)일체형조작부자동세제투입트루스팀세탁물케어[디자인]타워형', '드럼세탁기+건조기세탁용량: 25kg2024년형건조용량: 22kg조작부: 퀵컨트롤(터치스크롤)일체형조작부자동세제투입트루스팀세탁물케어[디자인]타워형', '드럼세탁기2023년형세탁용량: 21kg에너지효율: 1등급[세탁/관리]인버터DD모터', '드럼세탁기2022년형세탁용량: 24kg에너지효율: 1등급[세탁/관리]인버터DD모터', '드럼세탁기2023년형세탁용량: 24kg에너지효율: 1등급[세탁/관리]인버터DD모터', '드럼세탁기세탁용량: 19kg에너지효율: 1등급[세탁/관리]인버터DD모터', '드럼세탁기+건조기세탁용량: 25kg2023년형건조용량: 21kg조작부: 원바디런드리컨트롤(풀터치)[디자인]타워형', '드럼세탁기빌트인2022년형세탁용량: 9kg에너지효율: 3등급[세탁/관리]인버터DD모터', '드럼세탁기세탁용량: 9kg에너지효율: 4등급[세탁/관리]일반세탁', '드럼세탁기+건조기세탁용량: 25kg2023년형건조용량: 21kg조작부: 원바디런드리컨트롤(풀터치)[디자인]타워형', '드럼세탁기2024년형세탁용량: 25kg에너지효율: 1등급[세탁/관리]인버터DD모터', '드럼세탁기세탁용량: 21kg에너지효율: 1등급[세탁/관리]DD모터', '세탁건조기세탁25kg, 건조15kg분리세탁 4kg세탁→건조 올인원드럼세탁기와 비슷한 크기공간차지 X설치제약 X귀가시간 맞춤 세탁종료세제자동투입[성능]세탁물감지→딥러닝 AI 코스셋팅', '드럼세탁기+건조기세탁용량: 25kg2023년형건조용량: 20kg조작부: 올인원컨트롤(다이얼+터치)[디자인]타워형', '드럼세탁기+건조기세탁용량: 19kg2022년형건조용량: 17kg조작부: 다이얼[디자인]분리형(직렬)', '드럼세탁기2022년형세탁용량: 19kg에너지효율: 1등급[세탁/관리]인버터DD모터', '드럼세탁기세탁+건조세탁용량: 9kg건조용량: 4.5kg에너지효율: 3등급[세탁/관리]인버터DD모터', '드럼세탁기빌트인세탁용량: 9kg에너지효율: 4등급[세탁/관리]일반세탁', '드럼세탁기+건조기세탁용량: 21kg건조용량: 17kg조작부: 다이얼[디자인]분리형직렬설치', '드럼세탁기+건조기세탁용량: 24kg2023년형건조용량: 20kg조작부: 올인원컨트롤(다이얼+터치)[디자인]타워형', '드럼세탁기+건조기세탁용량: 24kg2023년형건조용량: 20kg조작부: 올인원컨트롤(다이얼+터치)[디자인]타워형', '세탁건조기세탁25kg, 건조15kg세탁→건조 올인원드럼세탁기와 비슷한 크기공간차지 X설치제약 X귀가시간 맞춤 세탁종료세제자동투입[성능]세탁물감지→AI 코스셋팅', '드럼세탁기+건조기세탁용량: 25kg2023년형건조용량: 20kg조작부: 올인원컨트롤(다이얼+터치)[디자인]분리형(직렬)', '드럼세탁기세탁용량: 15kg에너지효율: 1등급[세탁/관리]인버터DD모터', '드럼세탁기세탁용량: 24kg에너지효율: 1등급[세탁/관리]DD모터', '드럼세탁기2024년형세탁용량: 25kg에너지효율: 1등급[세탁/관리]인버터DD모터', '드럼세탁기+건조기세탁용량: 25kg2024년형건조용량: 22kg조작부: 퀵컨트롤(터치스크롤)[디자인]타워형', '드럼세탁기세탁용량: 21kg에너지효율: 1등급[세탁/관리]인버터DD모터', '드럼세탁기+건조기세탁용량: 25kg2023년형건조용량: 20kg조작부: 올인원컨트롤(다이얼+터치)[디자인]타워형', '드럼세탁기+건조기세탁용량: 24kg2022년형건조용량: 20kg조작부: 이지서클컨트롤(다이얼+터치)[디자인]분리형(직렬), 분리형(병렬)', '드럼세탁기+건조기세탁용량: 23kg2022년형건조용량: 20kg조작부: 원바디런드리컨트롤(풀터치)[디자인]타워형', '드럼세탁기+건조기세탁용량: 25kg2023년형건조용량: 20kg조작부: 원바디런드리컨트롤(풀터치)[디자인]타워형', '드럼세탁기2023년형세탁용량: 25kg에너지효율: 1등급[세탁/관리]DD모터', '드럼세탁기세탁용량: 12kg에너지효율: 1등급[세탁/관리]인버터DD모터', '드럼세탁기2023년형세탁용량: 21kg에너지효율: 1등급[세탁/관리]인버터DD모터', '드럼세탁기+건조기세탁용량: 21kg2023년형건조용량: 18kg조작부: 다이얼+터치[디자인]분리형(직렬)', '드럼세탁기2023년형세탁용량: 24kg에너지효율: 1등급[세탁/관리]인버터DD모터', '드럼세탁기세탁용량: 12kg에너지효율: 1등급[세탁/관리]DD모터', '드럼세탁기2023년형세탁용량: 21kg에너지효율: 1등급[세탁/관리]인버터DD모터', '세탁건조기세탁25kg, 건조15kg분리세탁 4kg세탁→건조 올인원드럼세탁기와 비슷한 크기공간차지 X설치제약 X귀가시간 맞춤 세탁종료세제자동투입[성능]세탁물감지→딥러닝 AI 코스셋팅', '드럼세탁기빌트인세탁용량: 9kg에너지효율: 3등급[세탁/관리]인버터DD모터', '드럼세탁기세탁용량: 9kg에너지효율: 3등급[세탁/관리]인버터DD모터', '세탁건조기세탁25kg, 건조15kg분리세탁 4kg세탁→건조 올인원드럼세탁기와 비슷한 크기공간차지 X설치제약 X귀가시간 맞춤 세탁종료세제자동투입[성능]세탁물감지→딥러닝 AI 코스셋팅', '일반세탁기2023년형세탁용량: 16kg에너지효율: 2등급[방식]스마트인버터모터[디자인]버튼식', '드럼세탁기2022년형세탁용량: 21kg에너지효율: 1등급[세탁/관리]인버터DD모터', '세탁건조기세탁25kg, 건조15kg분리세탁 4kg세탁→건조 올인원드럼세탁기와 비슷한 크기공간차지 X설치제약 X귀가시간 맞춤 세탁종료세제자동투입[성능]세탁물감지→딥러닝 AI 코스셋팅', '드럼세탁기+건조기세탁용량: 25kg2024년형건조용량: 22kg조작부: 퀵컨트롤(터치스크롤)[디자인]타워형', '세탁건조기세탁25kg, 건조15kg분리세탁 4kg세탁→건조 올인원드럼세탁기와 비슷한 크기공간차지 X설치제약 X귀가시간 맞춤 세탁종료세제자동투입[성능]세탁물감지→딥러닝 AI 코스셋팅', '드럼세탁기+건조기세탁용량: 13kg2022년형건조용량: 10kg조작부: 원바디런드리컨트롤(풀터치)[디자인]타워형', '드럼세탁기+건조기세탁용량: 21kg2023년형건조용량: 20kg조작부: 올인원컨트롤(다이얼+터치)[디자인]분리형직렬설치', '드럼세탁기2023년형세탁용량: 24kg에너지효율: 1등급[세탁/관리]인버터DD모터', '드럼세탁기+건조기세탁용량: 23kg2022년형건조용량: 20kg조작부: 원바디런드리컨트롤(풀터치)[디자인]타워형', '드럼세탁기+건조기세탁용량: 24kg건조용량: 17kg조작부: 심플컨트롤(다이얼+터치)[디자인]분리형(직렬)', '드럼세탁기+건조기세탁용량: 9kg건조용량: 9kg조작부: 다이얼[디자인]분리형(직렬)', '드럼세탁기2023년형세탁용량: 25kg에너지효율: 1등급[세탁/관리]인버터DD모터', '드럼세탁기세탁용량: 21kg에너지효율: 1등급[세탁/관리]버블워시', '드럼세탁기세탁용량: 19kg에너지효율: 1등급[세탁/관리]인버터DD모터', '드럼세탁기+건조기세탁용량: 24kg2022년형건조용량: 20kg조작부: 원바디런드리컨트롤(풀터치)[디자인]타워형', '드럼세탁기2022년형세탁용량: 21kg에너지효율: 1등급[세탁/관리]DD모터', '드럼세탁기+건조기세탁용량: 13kg2022년형건조용량: 10kg조작부: 원바디런드리컨트롤(풀터치)[디자인]타워형', '드럼세탁기+건조기세탁용량: 23kg2022년형건조용량: 20kg조작부: 원바디런드리컨트롤(풀터치)[디자인]타워형', '드럼세탁기2023년형세탁용량: 25kg에너지효율: 1등급[세탁/관리]DD모터', '드럼세탁기+건조기세탁용량: 25kg2023년형건조용량: 21kg조작부: 퀵컨트롤(터치스크롤)[디자인]타워형', '드럼세탁기2023년형세탁용량: 24kg에너지효율: 1등급[세탁/관리]인버터DD모터', '드럼세탁기2023년형세탁용량: 19kg에너지효율: 1등급[세탁/관리]인버터DD모터', '드럼세탁기+건조기세탁용량: 21kg2023년형건조용량: 19kg조작부: 다이얼+터치[디자인]분리형(직렬), 분리형(병렬)', '세탁건조기세탁25kg, 건조15kg세탁→건조 올인원드럼세탁기와 비슷한 크기공간차지 X설치제약 X귀가시간 맞춤 세탁종료세제자동투입[성능]세탁물감지→딥러닝 AI 코스셋팅', '세탁건조기세탁25kg, 건조15kg세탁→건조 올인원드럼세탁기와 비슷한 크기공간차지 X설치제약 X귀가시간 맞춤 세탁종료세제자동투입[성능]세탁물감지→AI 코스셋팅', '드럼세탁기+건조기세탁용량: 25kg2024년형건조용량: 22kg조작부: 올인원컨트롤(다이얼+터치)[디자인]타워형', '일반세탁기세탁용량: 12kg에너지효율: 2등급[방식]스마트인버터모터', '미니세탁기2024년형세탁용량: 3kg에너지효율: 3등급AC모터무세제통세척버튼식스테인리스세탁조색상: 그레이지[설치정보]450x809x540mm', '일반세탁기2023년형세탁용량: 16kg에너지효율: 2등급[방식]듀얼DD모터', '일반세탁기2022년형세탁용량: 21kg에너지효율: 2등급[세탁/관리]인버터DD모터', '드럼세탁기+건조기세탁용량: 25kg2023년형건조용량: 20kg조작부: 심플컨트롤(다이얼+터치), 올인원컨트롤(다이얼+터치)[디자인]분리형(직렬)', '일반세탁기2023년형세탁용량: 16kg에너지효율: 2등급[방식]스마트인버터모터', '일반세탁기2022년형세탁용량: 17kg에너지효율: 2등급[방식]인버터DD모터', '일반세탁기세탁용량: 10kg에너지효율: 2등급[방식]스마트인버터모터[디자인]버튼식', '드럼세탁기2023년형세탁용량: 24kg에너지효율: 1등급[세탁/관리]인버터DD모터', '일반세탁기세탁용량: 10kg에너지효율: 2등급[방식]인버터모터', '드럼세탁기+건조기세탁용량: 25kg2023년형건조용량: 21kg조작부: 원바디런드리컨트롤(풀터치)[디자인]타워형', '드럼세탁기+건조기세탁용량: 12kg건조용량: 10kg조작부: 다이얼+터치[디자인]분리형(직렬)', '일반세탁기2022년형세탁용량: 19kg에너지효율: 2등급[방식]인버터DD모터', '일반세탁기2022년형세탁용량: 13kg에너지효율: 3등급[방식]스마트인버터모터[디자인]버튼식', '일반세탁기2023년형세탁용량: 19kg에너지효율: 2등급[방식]듀얼DD모터', '일반세탁기2023년형세탁용량: 10kg에너지효율: 2등급[방식]듀얼DD모터', '일반세탁기2023년형세탁용량: 12kg에너지효율: 2등급[방식]AC모터', '일반세탁기2023년형세탁용량: 18kg에너지효율: 2등급[방식]듀얼DD모터', '일반세탁기2023년형세탁용량: 19kg에너지효율: 2등급[방식]듀얼DD모터', '일반세탁기세탁용량: 23kg에너지효율: 2등급[방식]듀얼DD모터', '드럼세탁기+건조기세탁용량: 25kg2024년형건조용량: 17kg조작부: 올인원컨트롤(다이얼+터치)[디자인]타워형', '드럼세탁기+건조기세탁용량: 24kg2022년형건조용량: 20kg조작부: 원바디런드리컨트롤(풀터치)[디자인]타워형', '일반세탁기2023년형세탁용량: 19kg에너지효율: 2등급[방식]인버터DD모터', '드럼세탁기+건조기세탁용량: 25kg2024년형건조용량: 22kg조작부: 퀵컨트롤(터치스크롤)[디자인]타워형', '일반세탁기2022년형세탁용량: 21kg에너지효율: 2등급[방식]듀얼DD모터', '일반세탁기2023년형세탁용량: 25kg에너지효율: 2등급[방식]인버터DD모터', '드럼세탁기+건조기세탁용량: 25kg2023년형건조용량: 20kg조작부: 올인원컨트롤(다이얼+터치)세탁기→건조기조작가능자동세제투입공간제습[디자인]분리형직렬설치', '드럼세탁기세탁용량: 12kg에너지효율: 1등급[세탁/관리]인버터DD모터', '드럼세탁기+건조기세탁용량: 24kg2023년형건조용량: 20kg조작부: 올인원컨트롤(다이얼+터치)[디자인]분리형직렬설치', '드럼세탁기+미니세탁기2022년형세탁용량: 25kg+미니워시:4kg에너지효율: 1등급[세탁/관리]인버터DD모터', '일반세탁기2023년형세탁용량: 16kg에너지효율: 2등급[방식]듀얼DD모터', '일반세탁기2022년형세탁용량: 21kg에너지효율: 2등급[방식]인버터DD모터', '일반세탁기2023년형세탁용량: 8kg에너지효율: 3등급[방식][디자인]스테인리스세탁조', '일반세탁기2022년형세탁용량: 17kg에너지효율: 2등급[방식]인버터DD모터', '드럼세탁기+건조기세탁용량: 24kg2022년형건조용량: 20kg조작부: 원바디런드리컨트롤(풀터치)[디자인]타워형', '드럼세탁기2023년형세탁용량: 19kg에너지효율: 1등급[세탁/관리]인버터DD모터', '드럼세탁기+건조기세탁용량: 21kg2024년형건조용량: 20kg조작부: 올인원컨트롤(다이얼+터치)[디자인]타워형']\n"
     ]
    }
   ],
   "source": [
    "# 예제 6-23 카테고리, 사용시간, 흡입력 추출 \n",
    "category_list = []\n",
    "use_time_list = []\n",
    "suction_list = [] \n",
    "for spec_data in data['스펙 목록']:\n",
    "    # ' / ' 기준으로 스펙 분리하기 \n",
    "    if type(spec_data) != str: continue\n",
    "    spec_list = spec_data.split(' / ')\n",
    "    \n",
    "    # 카테고리 추출하기\n",
    "    category = spec_list[0] \n",
    "    category_list.append(category)\n",
    "    \n",
    "    # 사용시간, 흡입력 추출 \n",
    "    ## 사용시간, 흡입력 정보가 없는 제품을 위해 변수를 생성 \n",
    "    use_time_value = None \n",
    "    suction_value = None \n",
    "    \n",
    "    ## spec_list의 각 원소에서 사용시간, 흡입력 수치 추출\n",
    "    for spec in spec_list:\n",
    "        if '사용시간' in spec: \n",
    "            use_time_value = spec.split(' ')[1].strip()\n",
    "        if '흡입력' in spec:\n",
    "            suction_value = spec.split(' ')[1].strip() \n",
    "    use_time_list.append(use_time_value)\n",
    "    suction_list.append(suction_value)\n",
    "    \n",
    "print(len(category_list))\n",
    "print(category_list)"
   ]
  },
  {
   "cell_type": "code",
   "execution_count": 42,
   "metadata": {},
   "outputs": [
    {
     "name": "stdout",
     "output_type": "stream",
     "text": [
      "카테고리 138 ['드럼세탁기+건조기|세탁용량: 25kg|2024년형|건조용량: 22kg|조작부: 퀵컨트롤(터치스크롤)|일체형조작부|자동세제투입|트루스팀|세탁물케어[디자인]타워형', '드럼세탁기+건조기|세탁용량: 25kg|2024년형|건조용량: 22kg|조작부: 퀵컨트롤(터치스크롤)|일체형조작부|자동세제투입|트루스팀|세탁물케어[디자인]타워형', '드럼세탁기+건조기|세탁용량: 25kg|2024년형|건조용량: 22kg|조작부: 퀵컨트롤(터치스크롤)|일체형조작부|자동세제투입|트루스팀|세탁물케어[디자인]타워형', '드럼세탁기+건조기|세탁용량: 25kg|2024년형|건조용량: 22kg|조작부: 퀵컨트롤(터치스크롤)|일체형조작부|자동세제투입|트루스팀|세탁물케어[디자인]타워형', '드럼세탁기+건조기|세탁용량: 25kg|2024년형|건조용량: 22kg|조작부: 퀵컨트롤(터치스크롤)|일체형조작부|자동세제투입|트루스팀|세탁물케어[디자인]타워형']\n",
      "사용시간 138 [None, None, None, None, None]\n",
      "흡입력 [None, None, None, None, None]\n"
     ]
    }
   ],
   "source": [
    "# 예제 6-24 카테고리, 사용시간, 흡입력에 대한 전처리 결과 확인\n",
    "print(\"카테고리\", len(category_list), category_list[0:5])\n",
    "print(\"사용시간\", len(use_time_list), use_time_list[0:5])\n",
    "# print(\"흡입력\", len(suction_list), suction_list[0:5])\n",
    "# suction_list에 None 값이 있어서 len() 함수에서 에러발생하는데\n",
    "print(\"흡입력\", suction_list[0:5])"
   ]
  },
  {
   "cell_type": "markdown",
   "metadata": {},
   "source": [
    "### 6.3.5 무선청소기 사용시간 단위 통일시키기"
   ]
  },
  {
   "cell_type": "code",
   "execution_count": 44,
   "metadata": {},
   "outputs": [],
   "source": [
    "# 예제 6-25 사용시간을 분 단위로 조정하는 함수\n",
    "def convert_time_minute(time):\n",
    "    try:\n",
    "        if '시간' in time:\n",
    "            hour = time.split('시간')[0]\n",
    "            if '분' in time:\n",
    "                minute = time.split('시간')[-1].split('분')[0]\n",
    "            else:\n",
    "                minute = 0\n",
    "        else: \n",
    "            hour = 0\n",
    "            minute = time.split('분')[0]\n",
    "        return int(hour)*60 + int(minute)\n",
    "    except:\n",
    "        return None                "
   ]
  },
  {
   "cell_type": "code",
   "execution_count": 10,
   "metadata": {},
   "outputs": [
    {
     "name": "stdout",
     "output_type": "stream",
     "text": [
      "40분 = 40\n",
      "4분 = 4\n",
      "1시간 = 60\n",
      "3시간30분 = 210\n",
      "4시간 = 240\n"
     ]
    }
   ],
   "source": [
    "# 예제 6-26 사용시간을 분 단위로 조정하는 함수의 테스트\n",
    "times = [\"40분\", \"4분\", \"1시간\", \"3시간30분\", \"4시간\"]\n",
    "for time in times:\n",
    "    time_value = convert_time_minute(time)\n",
    "    print(time, \"=\", time_value)"
   ]
  },
  {
   "cell_type": "code",
   "execution_count": 11,
   "metadata": {},
   "outputs": [
    {
     "name": "stdout",
     "output_type": "stream",
     "text": [
      "240\n",
      "240\n"
     ]
    }
   ],
   "source": [
    "# 예제 6-27 모델별 사용시간을 분 단위로 통일하기\n",
    "new_use_time_list = []\n",
    "for time in use_time_list:\n",
    "    value = convert_time_minute(time)\n",
    "    new_use_time_list.append(value)\n",
    "print(len(use_time_list))    \n",
    "print(len(new_use_time_list))"
   ]
  },
  {
   "cell_type": "markdown",
   "metadata": {},
   "source": [
    "### 6.3.6 무선 청소기 흡입력 단위 통일시키기"
   ]
  },
  {
   "cell_type": "code",
   "execution_count": 12,
   "metadata": {},
   "outputs": [],
   "source": [
    "# 예제 6-28 흡입력 단위를 통일시키는 함수\n",
    "def get_suction(value):\n",
    "    try:\n",
    "        value = value.upper()\n",
    "        if \"AW\" in value or \"W\" in value:\n",
    "            result = value.replace(\"A\", \"\").replace(\"W\",\"\")\n",
    "            result = int(result.replace(\",\",\"\"))\n",
    "        elif \"PA\" in value:\n",
    "            result = value.replace(\"PA\",\"\")\n",
    "            result = int(result.replace(\",\",\"\"))/100\n",
    "        else:\n",
    "            result = None\n",
    "        return result\n",
    "    except:\n",
    "        return None"
   ]
  },
  {
   "cell_type": "code",
   "execution_count": 13,
   "metadata": {},
   "outputs": [],
   "source": [
    "# 예제 6-29 흡입력 단위 통일시키기\n",
    "new_suction_list = []\n",
    "for power in suction_list:\n",
    "    value = get_suction (power)\n",
    "    new_suction_list.append(value)"
   ]
  },
  {
   "cell_type": "markdown",
   "metadata": {},
   "source": [
    "### 6.3.7 다나와 전처리 결과를 엑셀로 저장\n"
   ]
  },
  {
   "cell_type": "code",
   "execution_count": 31,
   "metadata": {},
   "outputs": [
    {
     "ename": "ValueError",
     "evalue": "Length of values (120) does not match length of index (9)",
     "output_type": "error",
     "traceback": [
      "\u001b[1;31m---------------------------------------------------------------------------\u001b[0m",
      "\u001b[1;31mValueError\u001b[0m                                Traceback (most recent call last)",
      "Cell \u001b[1;32mIn[31], line 4\u001b[0m\n\u001b[0;32m      2\u001b[0m pd_data \u001b[38;5;241m=\u001b[39m pd\u001b[38;5;241m.\u001b[39mDataFrame()\n\u001b[0;32m      3\u001b[0m pd_data[\u001b[38;5;124m'\u001b[39m\u001b[38;5;124m카테고리\u001b[39m\u001b[38;5;124m'\u001b[39m] \u001b[38;5;241m=\u001b[39m category_list\n\u001b[1;32m----> 4\u001b[0m pd_data[\u001b[38;5;124m'\u001b[39m\u001b[38;5;124m회사명\u001b[39m\u001b[38;5;124m'\u001b[39m] \u001b[38;5;241m=\u001b[39m company_list\n\u001b[0;32m      5\u001b[0m pd_data[\u001b[38;5;124m'\u001b[39m\u001b[38;5;124m제품\u001b[39m\u001b[38;5;124m'\u001b[39m] \u001b[38;5;241m=\u001b[39m product_list\n\u001b[0;32m      6\u001b[0m pd_data[\u001b[38;5;124m'\u001b[39m\u001b[38;5;124m가격\u001b[39m\u001b[38;5;124m'\u001b[39m] \u001b[38;5;241m=\u001b[39m data[\u001b[38;5;124m'\u001b[39m\u001b[38;5;124m가격\u001b[39m\u001b[38;5;124m'\u001b[39m]\n",
      "File \u001b[1;32m~\\anaconda3\\Lib\\site-packages\\pandas\\core\\frame.py:4091\u001b[0m, in \u001b[0;36mDataFrame.__setitem__\u001b[1;34m(self, key, value)\u001b[0m\n\u001b[0;32m   4088\u001b[0m     \u001b[38;5;28mself\u001b[39m\u001b[38;5;241m.\u001b[39m_setitem_array([key], value)\n\u001b[0;32m   4089\u001b[0m \u001b[38;5;28;01melse\u001b[39;00m:\n\u001b[0;32m   4090\u001b[0m     \u001b[38;5;66;03m# set column\u001b[39;00m\n\u001b[1;32m-> 4091\u001b[0m     \u001b[38;5;28mself\u001b[39m\u001b[38;5;241m.\u001b[39m_set_item(key, value)\n",
      "File \u001b[1;32m~\\anaconda3\\Lib\\site-packages\\pandas\\core\\frame.py:4300\u001b[0m, in \u001b[0;36mDataFrame._set_item\u001b[1;34m(self, key, value)\u001b[0m\n\u001b[0;32m   4290\u001b[0m \u001b[38;5;28;01mdef\u001b[39;00m \u001b[38;5;21m_set_item\u001b[39m(\u001b[38;5;28mself\u001b[39m, key, value) \u001b[38;5;241m-\u001b[39m\u001b[38;5;241m>\u001b[39m \u001b[38;5;28;01mNone\u001b[39;00m:\n\u001b[0;32m   4291\u001b[0m \u001b[38;5;250m    \u001b[39m\u001b[38;5;124;03m\"\"\"\u001b[39;00m\n\u001b[0;32m   4292\u001b[0m \u001b[38;5;124;03m    Add series to DataFrame in specified column.\u001b[39;00m\n\u001b[0;32m   4293\u001b[0m \n\u001b[1;32m   (...)\u001b[0m\n\u001b[0;32m   4298\u001b[0m \u001b[38;5;124;03m    ensure homogeneity.\u001b[39;00m\n\u001b[0;32m   4299\u001b[0m \u001b[38;5;124;03m    \"\"\"\u001b[39;00m\n\u001b[1;32m-> 4300\u001b[0m     value, refs \u001b[38;5;241m=\u001b[39m \u001b[38;5;28mself\u001b[39m\u001b[38;5;241m.\u001b[39m_sanitize_column(value)\n\u001b[0;32m   4302\u001b[0m     \u001b[38;5;28;01mif\u001b[39;00m (\n\u001b[0;32m   4303\u001b[0m         key \u001b[38;5;129;01min\u001b[39;00m \u001b[38;5;28mself\u001b[39m\u001b[38;5;241m.\u001b[39mcolumns\n\u001b[0;32m   4304\u001b[0m         \u001b[38;5;129;01mand\u001b[39;00m value\u001b[38;5;241m.\u001b[39mndim \u001b[38;5;241m==\u001b[39m \u001b[38;5;241m1\u001b[39m\n\u001b[0;32m   4305\u001b[0m         \u001b[38;5;129;01mand\u001b[39;00m \u001b[38;5;129;01mnot\u001b[39;00m \u001b[38;5;28misinstance\u001b[39m(value\u001b[38;5;241m.\u001b[39mdtype, ExtensionDtype)\n\u001b[0;32m   4306\u001b[0m     ):\n\u001b[0;32m   4307\u001b[0m         \u001b[38;5;66;03m# broadcast across multiple columns if necessary\u001b[39;00m\n\u001b[0;32m   4308\u001b[0m         \u001b[38;5;28;01mif\u001b[39;00m \u001b[38;5;129;01mnot\u001b[39;00m \u001b[38;5;28mself\u001b[39m\u001b[38;5;241m.\u001b[39mcolumns\u001b[38;5;241m.\u001b[39mis_unique \u001b[38;5;129;01mor\u001b[39;00m \u001b[38;5;28misinstance\u001b[39m(\u001b[38;5;28mself\u001b[39m\u001b[38;5;241m.\u001b[39mcolumns, MultiIndex):\n",
      "File \u001b[1;32m~\\anaconda3\\Lib\\site-packages\\pandas\\core\\frame.py:5039\u001b[0m, in \u001b[0;36mDataFrame._sanitize_column\u001b[1;34m(self, value)\u001b[0m\n\u001b[0;32m   5036\u001b[0m     \u001b[38;5;28;01mreturn\u001b[39;00m _reindex_for_setitem(value, \u001b[38;5;28mself\u001b[39m\u001b[38;5;241m.\u001b[39mindex)\n\u001b[0;32m   5038\u001b[0m \u001b[38;5;28;01mif\u001b[39;00m is_list_like(value):\n\u001b[1;32m-> 5039\u001b[0m     com\u001b[38;5;241m.\u001b[39mrequire_length_match(value, \u001b[38;5;28mself\u001b[39m\u001b[38;5;241m.\u001b[39mindex)\n\u001b[0;32m   5040\u001b[0m \u001b[38;5;28;01mreturn\u001b[39;00m sanitize_array(value, \u001b[38;5;28mself\u001b[39m\u001b[38;5;241m.\u001b[39mindex, copy\u001b[38;5;241m=\u001b[39m\u001b[38;5;28;01mTrue\u001b[39;00m, allow_2d\u001b[38;5;241m=\u001b[39m\u001b[38;5;28;01mTrue\u001b[39;00m), \u001b[38;5;28;01mNone\u001b[39;00m\n",
      "File \u001b[1;32m~\\anaconda3\\Lib\\site-packages\\pandas\\core\\common.py:561\u001b[0m, in \u001b[0;36mrequire_length_match\u001b[1;34m(data, index)\u001b[0m\n\u001b[0;32m    557\u001b[0m \u001b[38;5;250m\u001b[39m\u001b[38;5;124;03m\"\"\"\u001b[39;00m\n\u001b[0;32m    558\u001b[0m \u001b[38;5;124;03mCheck the length of data matches the length of the index.\u001b[39;00m\n\u001b[0;32m    559\u001b[0m \u001b[38;5;124;03m\"\"\"\u001b[39;00m\n\u001b[0;32m    560\u001b[0m \u001b[38;5;28;01mif\u001b[39;00m \u001b[38;5;28mlen\u001b[39m(data) \u001b[38;5;241m!=\u001b[39m \u001b[38;5;28mlen\u001b[39m(index):\n\u001b[1;32m--> 561\u001b[0m     \u001b[38;5;28;01mraise\u001b[39;00m \u001b[38;5;167;01mValueError\u001b[39;00m(\n\u001b[0;32m    562\u001b[0m         \u001b[38;5;124m\"\u001b[39m\u001b[38;5;124mLength of values \u001b[39m\u001b[38;5;124m\"\u001b[39m\n\u001b[0;32m    563\u001b[0m         \u001b[38;5;124mf\u001b[39m\u001b[38;5;124m\"\u001b[39m\u001b[38;5;124m(\u001b[39m\u001b[38;5;132;01m{\u001b[39;00m\u001b[38;5;28mlen\u001b[39m(data)\u001b[38;5;132;01m}\u001b[39;00m\u001b[38;5;124m) \u001b[39m\u001b[38;5;124m\"\u001b[39m\n\u001b[0;32m    564\u001b[0m         \u001b[38;5;124m\"\u001b[39m\u001b[38;5;124mdoes not match length of index \u001b[39m\u001b[38;5;124m\"\u001b[39m\n\u001b[0;32m    565\u001b[0m         \u001b[38;5;124mf\u001b[39m\u001b[38;5;124m\"\u001b[39m\u001b[38;5;124m(\u001b[39m\u001b[38;5;132;01m{\u001b[39;00m\u001b[38;5;28mlen\u001b[39m(index)\u001b[38;5;132;01m}\u001b[39;00m\u001b[38;5;124m)\u001b[39m\u001b[38;5;124m\"\u001b[39m\n\u001b[0;32m    566\u001b[0m     )\n",
      "\u001b[1;31mValueError\u001b[0m: Length of values (120) does not match length of index (9)"
     ]
    }
   ],
   "source": [
    "# 예제 6-30 전처리 데이터 확인\n",
    "pd_data = pd.DataFrame()\n",
    "pd_data['카테고리'] = category_list\n",
    "pd_data['회사명'] = company_list\n",
    "pd_data['제품'] = product_list\n",
    "pd_data['가격'] = data['가격']\n",
    "pd_data['사용시간'] = new_use_time_list\n",
    "pd_data['흡입력'] = new_suction_list\n",
    "pd_data.head()"
   ]
  },
  {
   "cell_type": "code",
   "execution_count": 15,
   "metadata": {},
   "outputs": [
    {
     "data": {
      "text/plain": [
       "카테고리\n",
       "핸디스틱청소기            211\n",
       "핸디스틱청소기+로봇청소기       13\n",
       "욕실청소기                8\n",
       "스틱청소기                5\n",
       "핸디스틱청소기+공기청정기세트      1\n",
       "탁상용청소기               1\n",
       "창문청소기                1\n",
       "Name: count, dtype: int64"
      ]
     },
     "execution_count": 15,
     "metadata": {},
     "output_type": "execute_result"
    }
   ],
   "source": [
    "# 예제 6-31 카테고리 분류 기준 및 데이터 개수 점검\n",
    "pd_data['카테고리'].value_counts() "
   ]
  },
  {
   "cell_type": "code",
   "execution_count": 16,
   "metadata": {},
   "outputs": [
    {
     "data": {
      "text/plain": [
       "211"
      ]
     },
     "execution_count": 16,
     "metadata": {},
     "output_type": "execute_result"
    }
   ],
   "source": [
    "# 예제 6-32 핸디/스틱청소기만 선택\n",
    "pd_data_final = pd_data[pd_data['카테고리'].isin(['핸디스틱청소기'])]\n",
    "len(pd_data_final)"
   ]
  },
  {
   "cell_type": "code",
   "execution_count": 17,
   "metadata": {},
   "outputs": [],
   "source": [
    "# 예제 6-33 엑셀로 저장\n",
    "pd_data_final.to_excel('./files/3_2_danawa_data_final.xlsx', index = False)"
   ]
  },
  {
   "cell_type": "code",
   "execution_count": null,
   "metadata": {},
   "outputs": [],
   "source": []
  }
 ],
 "metadata": {
  "kernelspec": {
   "display_name": "Python 3 (ipykernel)",
   "language": "python",
   "name": "python3"
  },
  "language_info": {
   "codemirror_mode": {
    "name": "ipython",
    "version": 3
   },
   "file_extension": ".py",
   "mimetype": "text/x-python",
   "name": "python",
   "nbconvert_exporter": "python",
   "pygments_lexer": "ipython3",
   "version": "3.11.7"
  }
 },
 "nbformat": 4,
 "nbformat_minor": 4
}
