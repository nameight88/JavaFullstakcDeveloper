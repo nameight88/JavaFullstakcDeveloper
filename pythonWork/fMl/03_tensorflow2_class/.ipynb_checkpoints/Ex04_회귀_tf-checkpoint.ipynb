{
 "cells": [
  {
   "cell_type": "markdown",
   "metadata": {},
   "source": [
    "#  머신러닝(tf.keras)를 이용한 회귀"
   ]
  },
  {
   "cell_type": "code",
   "execution_count": 1,
   "metadata": {},
   "outputs": [],
   "source": [
    "# X : 인구증가율\n",
    "# Y : 노령인구증가율\n",
    "\n",
    "X = [0.3, -0.78, 1.26, 0.03, 1.11, 0.24, -0.24, -0.47, -0.77, -0.37, -0.85, -0.41, -0.27, 0.02, -0.76, 2.66]\n",
    "Y = [12.27, 14.44, 11.87, 18.75, 17.52, 16.37, 19.78, 19.51, 12.65, 14.74, 10.72, 21.94, 12.83, 15.51, 17.14, 14.42]"
   ]
  },
  {
   "cell_type": "code",
   "execution_count": 2,
   "metadata": {
    "scrolled": true
   },
   "outputs": [
    {
     "name": "stdout",
     "output_type": "stream",
     "text": [
      "Model: \"sequential\"\n",
      "_________________________________________________________________\n",
      "Layer (type)                 Output Shape              Param #   \n",
      "=================================================================\n",
      "dense (Dense)                (None, 6)                 12        \n",
      "_________________________________________________________________\n",
      "dense_1 (Dense)              (None, 1)                 7         \n",
      "=================================================================\n",
      "Total params: 19\n",
      "Trainable params: 19\n",
      "Non-trainable params: 0\n",
      "_________________________________________________________________\n"
     ]
    }
   ],
   "source": [
    "# (1) 딥러닝 네트워크를 이용한 회귀\n",
    "import tensorflow as tf\n",
    "import numpy as np\n",
    "\n",
    "model = tf.keras.Sequential([\n",
    "    tf.keras.layers.Dense(units=6, activation='tanh', input_shape=(1,)),\n",
    "    tf.keras.layers.Dense(units=1)\n",
    "])\n",
    "\n",
    "model.compile(optimizer=tf.keras.optimizers.SGD(lr=0.1), loss='mse')\n",
    "\n",
    "model.summary()"
   ]
  },
  {
   "cell_type": "markdown",
   "metadata": {},
   "source": [
    "[ 결과 ]\n",
    "\n",
    "딥러닝 model은 2개의 Dense 레이어로 구성된다.\n",
    "첫번째 Dense 레이어는 활성화함수 tanh를 사용한다.\n",
    "\n",
    "    ` tanh :  하이퍼볼릭 탄젠트 함수로 삼각함수 중 탄젠트 함수와 연관이 있으면 실수 입력을 받아 -1과 1 사이의 출력을 반환한다.\n",
    "    ` sigmoid : 0과 1 사이의 출력을 반환한다\n",
    "    \n",
    "    ` 파일 아래 참고에 시그모이드와 tanh 함수 비교\n",
    "<img src='./imgs/sigmoid_tanh.png' width='400' height='250'>\n",
    "          \n",
    "            \n",
    "첫번째 레이어는 6개의 뉴런을 설정했다.\n",
    "뉴런이 많을수록 딥러닝 네트워크의 결과값이 좋아지지만, 너무 많이 학습하면 과적합(overfitting)이 될 수 있다.\n",
    "\n",
    "두번째 레이어는 x 입력값에 대한 하나의 y값만 출력해야 하기 때문에 뉴런 수가 1이다."
   ]
  },
  {
   "cell_type": "code",
   "execution_count": 3,
   "metadata": {},
   "outputs": [
    {
     "name": "stdout",
     "output_type": "stream",
     "text": [
      "Train on 16 samples\n",
      "Epoch 1/10\n",
      "16/16 [==============================] - 1s 47ms/sample - loss: 255.6778\n",
      "Epoch 2/10\n",
      "16/16 [==============================] - 0s 2ms/sample - loss: 123.8692\n",
      "Epoch 3/10\n",
      "16/16 [==============================] - 0s 4ms/sample - loss: 10.4720\n",
      "Epoch 4/10\n",
      "16/16 [==============================] - 0s 4ms/sample - loss: 9.8380\n",
      "Epoch 5/10\n",
      "16/16 [==============================] - 0s 4ms/sample - loss: 9.6776\n",
      "Epoch 6/10\n",
      "16/16 [==============================] - 0s 4ms/sample - loss: 9.5918\n",
      "Epoch 7/10\n",
      "16/16 [==============================] - 0s 4ms/sample - loss: 9.5469\n",
      "Epoch 8/10\n",
      "16/16 [==============================] - 0s 3ms/sample - loss: 9.5216\n",
      "Epoch 9/10\n",
      "16/16 [==============================] - 0s 3ms/sample - loss: 9.5026\n",
      "Epoch 10/10\n",
      "16/16 [==============================] - 0s 4ms/sample - loss: 9.4847\n"
     ]
    },
    {
     "data": {
      "text/plain": [
       "<tensorflow.python.keras.callbacks.History at 0x2d6229a7788>"
      ]
     },
     "execution_count": 3,
     "metadata": {},
     "output_type": "execute_result"
    }
   ],
   "source": [
    "# (2) 딥러닝 네트워크의 학습\n",
    "model.fit(X, Y, epochs=10)"
   ]
  },
  {
   "cell_type": "markdown",
   "metadata": {},
   "source": [
    "[ 결과 ]\n",
    "\n",
    "    X를 입력하면 Y가 정답이 되도록 10번을 학습한다.\n",
    "    학습을 계속하면 에포크가 9, 10 정도에서 손실이 줄어들지 않는 것은 확인한다.\n",
    "    손실에 거의 변화가 없다는 것은 학습이 거의 다 된 것이다.\n",
    "\n",
    "    딥러닝을 포함한 머신러닝에서 충붆 학습했다고 판단하면 학습을 멈춰야 한다.\n",
    "    학습 데이타에 과적합되어 새로운 데이타가 들어왔을 때 유연하게 대처하지 못할 수도 있다. "
   ]
  },
  {
   "cell_type": "code",
   "execution_count": 4,
   "metadata": {},
   "outputs": [
    {
     "data": {
      "text/plain": [
       "array([[15.897602 ],\n",
       "       [15.670492 ],\n",
       "       [15.353228 ],\n",
       "       [15.9261265],\n",
       "       [15.478645 ],\n",
       "       [15.909027 ],\n",
       "       [15.895662 ],\n",
       "       [15.824675 ],\n",
       "       [15.676388 ],\n",
       "       [15.860434 ],\n",
       "       [15.62772  ],\n",
       "       [15.847012 ],\n",
       "       [15.888691 ],\n",
       "       [15.926048 ],\n",
       "       [15.682226 ],\n",
       "       [13.829393 ]], dtype=float32)"
      ]
     },
     "execution_count": 4,
     "metadata": {},
     "output_type": "execute_result"
    }
   ],
   "source": [
    "# (3) 딥러닝 네트워크의 Y값 예측\n",
    "model.predict(X)"
   ]
  },
  {
   "cell_type": "code",
   "execution_count": 5,
   "metadata": {},
   "outputs": [
    {
     "data": {
      "image/png": "[encoded data removed]",
      "text/plain": [
       "<Figure size 432x288 with 1 Axes>"
      ]
     },
     "metadata": {
      "needs_background": "light"
     },
     "output_type": "display_data"
    }
   ],
   "source": [
    "# (4) 딥러닝 네트워크의 회귀선 확인\n",
    "import matplotlib.pyplot as plt\n",
    "\n",
    "line_x = np.arange(min(X), max(X), 0.01)\n",
    "line_y = model.predict(line_x)\n",
    "\n",
    "plt.plot(line_x,line_y,'r-')\n",
    "plt.plot(X,Y,'bo')\n",
    "plt.xlabel('Population Growth Rate (%)')\n",
    "plt.ylabel('Elderly Population Rate (%)')\n",
    "plt.show()"
   ]
  },
  {
   "cell_type": "markdown",
   "metadata": {},
   "source": [
    "[ 결과 ]\n",
    "\n",
    "앞에서 했던 다항 회귀에서 구했던 2차 함수와 비슷한 곡선이다. \n",
    "딥러닝이 예측한 회귀선이 조금 더 직선에 가까운 완만한 형태이다.\n",
    "\n",
    "2차함수와 비슷한 성능으로 x 데이타에 대해서 y를 예측한다는 결론을 내릴 수 있다.\n",
    "\n",
    "이처럼 회귀식을 가정하고 변수를 직접 추정하지 않아도 머신러닝을 이용해 회귀선을 예측할 수 있다."
   ]
  },
  {
   "cell_type": "markdown",
   "metadata": {},
   "source": [
    "## [ 참고 ] sigmoid 와 tanh "
   ]
  },
  {
   "cell_type": "code",
   "execution_count": 6,
   "metadata": {},
   "outputs": [
    {
     "data": {
      "image/png": "[encoded data removed]",
      "text/plain": [
       "<Figure size 432x288 with 1 Axes>"
      ]
     },
     "metadata": {
      "needs_background": "light"
     },
     "output_type": "display_data"
    }
   ],
   "source": [
    "import math\n",
    "def sigmoid(x):\n",
    "    return 1 / (1 + math.exp(-x))\n",
    "\n",
    "x = np.arange(-5, 5, 0.01)\n",
    "sigmoid_x = [sigmoid(z) for z in x]\n",
    "tanh_x = [math.tanh(z) for z in x]\n",
    "\n",
    "plt.axhline(0, color='gray')\n",
    "plt.axvline(0, color='gray')\n",
    "plt.plot(x, sigmoid_x, 'b-', label='sigmoid')\n",
    "plt.plot(x, tanh_x, 'r--', label='tanh')\n",
    "plt.legend()\n",
    "plt.show()"
   ]
  },
  {
   "cell_type": "code",
   "execution_count": null,
   "metadata": {},
   "outputs": [],
   "source": []
  },
  {
   "cell_type": "markdown",
   "metadata": {},
   "source": [
    "# 보스턴 주택 가격 데이터세트(Boston Housing Dataset)\n",
    "\n",
    "+ 1978년 미국 보스턴 지역의 주택 가격으로, 506개 타운의 주택 가격 중앙값을 1000 달러 단위로 나타냄\n",
    "+ 범죄율 주택당 방 개수 고속도로까지의 거리 등 13개 데이타를 이용하여 주택 가격을 예측한다.\n",
    "\n",
    "+ 훈련 데이타 : 404개\n",
    "+ 테스트 데이타 : 102개\n",
    "+ 검증 데이타 : 훈련 데이타의 일부를 사용\n",
    "\n",
    "+ 훈련 : 검증 : 테스트 = 60% : 20% : 20%\n",
    "\n",
    "\n",
    "    [ 보스턴 주택 가격 데이터 세트의 데이터 설명 ]\n",
    "\n",
    "<table>\n",
    "    <tr><th>속성</th><th>설명</th></tr>\n",
    "    <tr><td>CRIM</td><td>범죄율</td></tr>\n",
    "    <tr><td>ZN</td><td>25000 평방피트당 주거지역의 비율</td></tr>\n",
    "    <tr><td>INDUS</td><td>비소매 상업지구 비율 (단위:에이커)</td></tr>\n",
    "    <tr><td>CHAS</td><td>찰스강에 인접하면 1, 그렇지 않으면 0</td></tr>\n",
    "    <tr><td>NOX</td><td>일산화질소 농도(단위: 0.1ppm)</td></tr>\n",
    "    <tr><td>RM</td><td>주택당 방의 수</td></tr>\n",
    "    <tr><td>AGE</td><td>1940년 이전에 건설된 주택의 비율</td></tr>\n",
    "    <tr><td>DIS</td><td>5개의 보스턴 직업고용센터와의 거리 (가중평균)</td></tr>\n",
    "    <tr><td>RAD</td><td>고속도로 접근성</td></tr>\n",
    "    <tr><td>TAX</td><td>재산세율</td></tr>\n",
    "    <tr><td>PTRATIO</td><td>학생교사비율</td></tr>\n",
    "    <tr><td>B</td><td>흑인비율</td></tr>\n",
    "    <tr><td>LSTAT</td><td>하위계층비율</td></tr>\n",
    "    <tr><td>MEDV</td><td>타운의 주택 가격 중앙값 (단위:1000달러)</td></tr>\n",
    "<table>    "
   ]
  },
  {
   "cell_type": "code",
   "execution_count": 18,
   "metadata": {},
   "outputs": [
    {
     "name": "stdout",
     "output_type": "stream",
     "text": [
      "404 102\n",
      "[  1.23247   0.        8.14      0.        0.538     6.142    91.7\n",
      "   3.9769    4.      307.       21.      396.9      18.72   ]\n",
      "15.2\n"
     ]
    }
   ],
   "source": [
    "# (1) 데이터 불러오기\n",
    "import tensorflow as tf\n",
    "from tensorflow.keras.datasets import boston_housing\n",
    "(train_X, train_Y), (test_X, test_Y) = boston_housing.load_data()\n",
    "\n",
    "print(len(train_X), len(test_X))\n",
    "print(train_X[0])\n",
    "print(train_Y[0])"
   ]
  },
  {
   "cell_type": "markdown",
   "metadata": {},
   "source": [
    "[ 결과 ]\n",
    "\n",
    "+ 각 데이타의 단위가 다르다\n",
    "+ 이에 전처리를 해서 정규화(Standardization)을 해야 학습 효율이 좋다\n",
    "\n",
    "---\n",
    "\n",
    "#### [참고] 데이타 정규화\n",
    "\n",
    "    - 각 데이타에서 평균값을 뺀 다음 표준편차로 나눈다.\n",
    "    - 지금은 훈련데이타와 테스트 데이타를 모두 알고 있지만,\n",
    "        실제로 테스트 데이타는 데이타 학습을 마친 후 실전에서 만나는 데이타로 어떤 분포인지 모른다.\n",
    "        그래서 훈련데이타의 평균과 표준편차로 데이트 데이타를 정규화한다. "
   ]
  },
  {
   "cell_type": "code",
   "execution_count": 19,
   "metadata": {},
   "outputs": [
    {
     "name": "stdout",
     "output_type": "stream",
     "text": [
      "[-0.47482083 -0.48335641 -0.42698208 -0.48335641 -0.47963044 -0.44081941\n",
      "  0.15172056 -0.45581402 -0.45565404  1.64280094 -0.33791894  2.26541184\n",
      " -0.35370929]\n",
      "-0.7821526033779157\n"
     ]
    }
   ],
   "source": [
    "# (2) 데이터 전처리(정규화)\n",
    "x_mean = train_X.mean()\n",
    "x_std = train_X.std()\n",
    "train_X -= x_mean\n",
    "train_X /= x_std\n",
    "test_X -= x_mean\n",
    "test_X /= x_std\n",
    "\n",
    "y_mean = train_Y.mean()\n",
    "y_std = train_Y.std()\n",
    "train_Y -= y_mean\n",
    "train_Y /= y_std\n",
    "test_Y -= y_mean\n",
    "test_Y /= y_std\n",
    "\n",
    "print(train_X[0])\n",
    "print(train_Y[0])"
   ]
  },
  {
   "cell_type": "markdown",
   "metadata": {},
   "source": [
    "회귀 모델 생성\n",
    "\n",
    "- 데이타의 속성의 수도 많고 데이타의 양도 많기 때문에 레이어 4개를 사용한다.\n",
    "- 각 레이어의 뉴런의 수도 늘린다\n",
    "- 레이어의 수와 은닉층의 뉴런 수를 늘리면 모델의 성능이 좋아지기에 복잡한 내용을 학습시킬 수 있다\n",
    "\n",
    "- 첫번째 레이어에서는 X 데이타의 속성을 모두 불러오기 위해 input_shape=(13,) 지정한다.\n",
    "- 마지막 레이어는 주택가격인 Y값 1개만 예측하면 되기에 뉴런의 수가 1개이다.\n"
   ]
  },
  {
   "cell_type": "code",
   "execution_count": 20,
   "metadata": {
    "scrolled": true
   },
   "outputs": [
    {
     "name": "stdout",
     "output_type": "stream",
     "text": [
      "Model: \"sequential_3\"\n",
      "_________________________________________________________________\n",
      "Layer (type)                 Output Shape              Param #   \n",
      "=================================================================\n",
      "dense_10 (Dense)             (None, 52)                728       \n",
      "_________________________________________________________________\n",
      "dense_11 (Dense)             (None, 39)                2067      \n",
      "_________________________________________________________________\n",
      "dense_12 (Dense)             (None, 26)                1040      \n",
      "_________________________________________________________________\n",
      "dense_13 (Dense)             (None, 1)                 27        \n",
      "=================================================================\n",
      "Total params: 3,862\n",
      "Trainable params: 3,862\n",
      "Non-trainable params: 0\n",
      "_________________________________________________________________\n"
     ]
    }
   ],
   "source": [
    "# (3) Boston Housing Dataset 회귀 모델 생성\n",
    "model = tf.keras.Sequential([\n",
    "    tf.keras.layers.Dense(units=52, activation='relu', input_shape=(13,)),\n",
    "    tf.keras.layers.Dense(units=39, activation='relu'),\n",
    "    tf.keras.layers.Dense(units=26, activation='relu'),\n",
    "    tf.keras.layers.Dense(units=1)\n",
    "])\n",
    "\n",
    "model.compile(optimizer=tf.keras.optimizers.Adam(lr=0.07), loss='mse')\n",
    "    # mse (mean squared error) : 잔차 제곱의 평균 - 회귀에서 알고리즘의 성능을 측정하기 위해 사용하는 방법 중에 하나\n",
    "model.summary()"
   ]
  },
  {
   "cell_type": "code",
   "execution_count": 21,
   "metadata": {},
   "outputs": [
    {
     "name": "stdout",
     "output_type": "stream",
     "text": [
      "Train on 303 samples, validate on 101 samples\n",
      "Epoch 1/25\n",
      "303/303 [==============================] - 1s 3ms/sample - loss: 5.6613 - val_loss: 1.2408\n",
      "Epoch 2/25\n",
      "303/303 [==============================] - 0s 270us/sample - loss: 0.7377 - val_loss: 1.0957\n",
      "Epoch 3/25\n",
      "303/303 [==============================] - 0s 237us/sample - loss: 0.7502 - val_loss: 1.1035\n",
      "Epoch 4/25\n",
      "303/303 [==============================] - 0s 309us/sample - loss: 0.7822 - val_loss: 1.0286\n",
      "Epoch 5/25\n",
      "303/303 [==============================] - 0s 260us/sample - loss: 0.7196 - val_loss: 1.0141\n",
      "Epoch 6/25\n",
      "303/303 [==============================] - 0s 227us/sample - loss: 0.6580 - val_loss: 1.1516\n",
      "Epoch 7/25\n",
      "303/303 [==============================] - 0s 217us/sample - loss: 0.6576 - val_loss: 1.0607\n",
      "Epoch 8/25\n",
      "303/303 [==============================] - 0s 217us/sample - loss: 0.6158 - val_loss: 1.1470\n",
      "Epoch 9/25\n",
      "303/303 [==============================] - 0s 224us/sample - loss: 0.6479 - val_loss: 1.0625\n",
      "Epoch 10/25\n",
      "303/303 [==============================] - 0s 214us/sample - loss: 0.6424 - val_loss: 1.1150\n",
      "Epoch 11/25\n",
      "303/303 [==============================] - 0s 224us/sample - loss: 0.6145 - val_loss: 1.1390\n",
      "Epoch 12/25\n",
      "303/303 [==============================] - 0s 211us/sample - loss: 0.6500 - val_loss: 1.1333\n",
      "Epoch 13/25\n",
      "303/303 [==============================] - 0s 224us/sample - loss: 0.6617 - val_loss: 0.9862\n",
      "Epoch 14/25\n",
      "303/303 [==============================] - 0s 237us/sample - loss: 0.6456 - val_loss: 0.9749\n",
      "Epoch 15/25\n",
      "303/303 [==============================] - 0s 221us/sample - loss: 0.6131 - val_loss: 1.1395\n",
      "Epoch 16/25\n",
      "303/303 [==============================] - 0s 224us/sample - loss: 0.5934 - val_loss: 0.9907\n",
      "Epoch 17/25\n",
      "303/303 [==============================] - 0s 237us/sample - loss: 0.6036 - val_loss: 1.0291\n",
      "Epoch 18/25\n",
      "303/303 [==============================] - 0s 211us/sample - loss: 0.6125 - val_loss: 1.0155\n",
      "Epoch 19/25\n",
      "303/303 [==============================] - 0s 221us/sample - loss: 0.5741 - val_loss: 1.2433\n",
      "Epoch 20/25\n",
      "303/303 [==============================] - 0s 217us/sample - loss: 0.5930 - val_loss: 0.9361\n",
      "Epoch 21/25\n",
      "303/303 [==============================] - 0s 234us/sample - loss: 0.5678 - val_loss: 0.9818\n",
      "Epoch 22/25\n",
      "303/303 [==============================] - 0s 234us/sample - loss: 0.6713 - val_loss: 1.2971\n",
      "Epoch 23/25\n",
      "303/303 [==============================] - 0s 221us/sample - loss: 0.6736 - val_loss: 0.9202\n",
      "Epoch 24/25\n",
      "303/303 [==============================] - 0s 207us/sample - loss: 0.6232 - val_loss: 1.0636\n",
      "Epoch 25/25\n",
      "303/303 [==============================] - 0s 217us/sample - loss: 0.6569 - val_loss: 1.0848\n"
     ]
    }
   ],
   "source": [
    "# (4) 모델을 학습시킨다\n",
    "#  훈련 데이타의 25% 정도를 검증데이타로 사용한다\n",
    "history = model.fit(train_X, train_Y, epochs=25, batch_size=32, validation_split=0.25)"
   ]
  },
  {
   "cell_type": "markdown",
   "metadata": {},
   "source": [
    "[ 결과 ]\n",
    "\n",
    "-  loss 는 꾸준히 감소하지만 val_loss 는 loss 보다 높은 값을 유지하며 항상 감고하지는 않는다.\n",
    "\n",
    "---\n",
    "\n",
    "- 아래는 그래프로 시각화하는 작업\n",
    "\n",
    "- 훈련 데이타의 손실 loss (파란선)는 꾸준히 감소하지만 검증 데이터의 손실 val_loss(빨간선) 는 loss 보다 높은 값을 유지하며 항상 감고하지는 않는다.\n",
    "\n",
    "- 마지막 에포크에 검증 데이터의 손실이 크게 증가했기 때문에 검증 데이터에 대해 좋지 않은 예측 성적이 나올 것이다"
   ]
  },
  {
   "cell_type": "code",
   "execution_count": 22,
   "metadata": {},
   "outputs": [
    {
     "data": {
      "image/png": "[encoded data removed]",
      "text/plain": [
       "<Figure size 432x288 with 1 Axes>"
      ]
     },
     "metadata": {
      "needs_background": "light"
     },
     "output_type": "display_data"
    }
   ],
   "source": [
    "# (5) 회귀 모델 학습 결과 시각화\n",
    "import matplotlib.pyplot as plt\n",
    "plt.plot(history.history['loss'], 'b-', label='loss')\n",
    "plt.plot(history.history['val_loss'], 'r--', label='val_loss')\n",
    "plt.xlabel('Epoch')\n",
    "plt.legend()\n",
    "plt.show()"
   ]
  },
  {
   "cell_type": "code",
   "execution_count": 23,
   "metadata": {
    "scrolled": true
   },
   "outputs": [
    {
     "name": "stdout",
     "output_type": "stream",
     "text": [
      "\r",
      "102/1 [====================================================================================================================================================================================================================================================================================================================================================================================================================================================================================================================================================================================================================================================================================================================================================================================================================================================================================================================================================================================================================================================================================================================================================================================================================================================================================================================================================================================================================================================================================================================================================================================================================================================================================================================================================================================================================================================================================================================================================================================================================================================================================================================================================================================================================================================================================================================================================================================================================================================================================================================================================================================================================================================================================================================================================================================================================================================================================================================================================================================================================================================================================================================================================================================] - 0s 39us/sample - loss: 1.5882\n"
     ]
    },
    {
     "data": {
      "text/plain": [
       "0.7843278482848522"
      ]
     },
     "execution_count": 23,
     "metadata": {},
     "output_type": "execute_result"
    }
   ],
   "source": [
    "# (6) 회귀 모델 평가\n",
    "#    위의 모델 학습 (fit)을 다시 실행하면 결과가 다르게 나온다\n",
    "\n",
    "model.evaluate(test_X, test_Y)"
   ]
  },
  {
   "cell_type": "markdown",
   "metadata": {},
   "source": [
    " [ 결과 ]  \n",
    " \n",
    " 테스트 데이타의 손실은 0.6619248951182646 나온다.\n",
    " \n",
    " 그러나 위 훈련 데이타 손실률 loss: 0.5619이다.\n",
    " \n",
    " 위의 훈련 데이타 결과에서 \n",
    "         Epoch 25/25\n",
    "        303/303 [==============================] - 0s 184us/sample - loss: 0.5619 - val_loss: 0.9796"
   ]
  },
  {
   "cell_type": "code",
   "execution_count": 24,
   "metadata": {
    "scrolled": true
   },
   "outputs": [
    {
     "data": {
      "image/png": "[encoded data removed]",
      "text/plain": [
       "<Figure size 360x360 with 1 Axes>"
      ]
     },
     "metadata": {
      "needs_background": "light"
     },
     "output_type": "display_data"
    }
   ],
   "source": [
    "# (7) 실제 주택 가격과 예측 주택 가격 시각화\n",
    "#    실제 주택 가격 (test_Y)에 대해 예측 주책 가격(pred_Y)는 대각선에 모든 점이 위치하는 이상적인 모습과 거리가 있어 보인다.\n",
    "\n",
    "import matplotlib.pyplot as plt\n",
    "\n",
    "pred_Y = model.predict(test_X)\n",
    "\n",
    "plt.figure(figsize=(5,5))\n",
    "plt.plot(test_Y, pred_Y, 'b.')\n",
    "plt.axis([min(test_Y), max(test_Y), min(test_Y), max(test_Y)])\n",
    "\n",
    "# y=x에 해당하는 대각선\n",
    "plt.plot([min(test_Y), max(test_Y)], [min(test_Y), max(test_Y)], ls=\"--\", c=\".3\")\n",
    "plt.xlabel('test_Y')\n",
    "plt.ylabel('pred_Y')\n",
    "\n",
    "plt.show()"
   ]
  },
  {
   "cell_type": "markdown",
   "metadata": {},
   "source": [
    "+ 검증 데이타에 대한 성적이 좋으면 테스트 데이터에 대한 성적도 좋아질 것이다.\n",
    "+ 검증 데이타에 대한 성적이 좋아지려면 val_loss가 높아지지 않도록 (즉, 훈련데이타의 과적합이 되지 않도록) 학습을 멈춰야 한다.\n",
    "+ 학습 도중에 끼어들기 위해  callback 함수를 사용하여 모델을 학습할 때 에포크가 끝날 때마다 호출된다\n",
    "    - tf.keras.callbacks.EarlyStopping : 학습을 일찍 멈추는 기능을 하는 함수\n",
    "    - tf.keras.callbacks.EarlyStopping 는 val_loss가 3회의 에포크를 수행하는 동안 최고 기록을 갱신하지 못한다면 학습을 멈춘다."
   ]
  },
  {
   "cell_type": "code",
   "execution_count": 25,
   "metadata": {
    "scrolled": false
   },
   "outputs": [
    {
     "name": "stdout",
     "output_type": "stream",
     "text": [
      "Train on 303 samples, validate on 101 samples\n",
      "Epoch 1/25\n",
      "303/303 [==============================] - 1s 3ms/sample - loss: 1.5420 - val_loss: 1.0365\n",
      "Epoch 2/25\n",
      "303/303 [==============================] - 0s 207us/sample - loss: 0.7800 - val_loss: 1.4505\n",
      "Epoch 3/25\n",
      "303/303 [==============================] - 0s 237us/sample - loss: 0.7071 - val_loss: 1.0454\n",
      "Epoch 4/25\n",
      "303/303 [==============================] - 0s 257us/sample - loss: 0.6670 - val_loss: 1.1469\n"
     ]
    }
   ],
   "source": [
    "# (8) 모델 재정의 및 학습\n",
    "model = tf.keras.Sequential([\n",
    "    tf.keras.layers.Dense(units=52, activation='relu', input_shape=(13,)),\n",
    "    tf.keras.layers.Dense(units=39, activation='relu'),\n",
    "    tf.keras.layers.Dense(units=26, activation='relu'),\n",
    "    tf.keras.layers.Dense(units=1)\n",
    "])\n",
    "\n",
    "model.compile(optimizer=tf.keras.optimizers.Adam(lr=0.07), loss='mse')\n",
    "\n",
    "\n",
    "# callback 함수 사용\n",
    "# 위에서 학습한 history = model.fit(train_X, train_Y, epochs=25, batch_size=32, validation_split=0.25) 결과 확인 후 비교 \n",
    "history = model.fit(train_X, train_Y, epochs=25, batch_size=32, validation_split=0.25, callbacks=[tf.keras.callbacks.EarlyStopping(patience=3, monitor='val_loss')])"
   ]
  },
  {
   "cell_type": "markdown",
   "metadata": {},
   "source": [
    "[ 결과 ]\n",
    "\n",
    "- tf.keras.callbacks.EarlyStopping 는 val_loss가 3회의 에포크를 수행하는 동안 최고 기록을 갱신하지 못한다면 학습을 멈춘다.\n",
    "- 예를 들어, 14 에포크의 최고 기록인 val_loss=1.0888를 15, 16, 17에서 갱신하지 못했기 때문에 17 에포트에서 학습을 멈춘다."
   ]
  },
  {
   "cell_type": "code",
   "execution_count": 26,
   "metadata": {},
   "outputs": [
    {
     "data": {
      "image/png": "[encoded data removed]",
      "text/plain": [
       "<Figure size 432x288 with 1 Axes>"
      ]
     },
     "metadata": {
      "needs_background": "light"
     },
     "output_type": "display_data"
    }
   ],
   "source": [
    "# (9) 회귀 모델 학습 결과 시각화\n",
    "import matplotlib.pyplot as plt\n",
    "plt.plot(history.history['loss'], 'b-', label='loss')\n",
    "plt.plot(history.history['val_loss'], 'r--', label='val_loss')\n",
    "plt.xlabel('Epoch')\n",
    "plt.legend()\n",
    "plt.show()"
   ]
  },
  {
   "cell_type": "markdown",
   "metadata": {},
   "source": [
    "[ 결과 ]\n",
    "\n",
    "    - 훈련데이타의 손실 loss : 파란선\n",
    "    - 검증데이터의 손실 val_loss : 빨간선\n",
    "\n",
    "+ 검증데이타의 손실에서 뚜렷한 증가세는 보이지 않음\n",
    "\n",
    "+ 이렇게 학습된 모델을 아래처럼 다시 평가해본다"
   ]
  },
  {
   "cell_type": "code",
   "execution_count": 27,
   "metadata": {
    "scrolled": true
   },
   "outputs": [
    {
     "name": "stdout",
     "output_type": "stream",
     "text": [
      "\r",
      "102/1 [====================================================================================================================================================================================================================================================================================================================================================================================================================================================================================================================================================================================================================================================================================================================================================================================================================================================================================================================================================================================================================================================================================================================================================================================================================================================================================================================================================================================================================================================================================================================================================================================================================================================================================================================================================================================================================================================================================================================================================================================================================================================================================================================================================================================================================================================================================================================================================================================================================================================================================================================================================================================================================================================================================================================================================================================================================================================================================================================================================================================================================================================================================================================================================================================] - 0s 49us/sample - loss: 1.6415\n"
     ]
    },
    {
     "data": {
      "text/plain": [
       "0.7344477410409965"
      ]
     },
     "execution_count": 27,
     "metadata": {},
     "output_type": "execute_result"
    }
   ],
   "source": [
    "# (10) 회귀 모델 평가\n",
    "model.evaluate(test_X, test_Y)"
   ]
  },
  {
   "cell_type": "markdown",
   "metadata": {},
   "source": [
    "[ 결과 ] \n",
    "\n",
    "앞의 평가 결과에 비해 낮은 수치가 나온다면, \n",
    "머신러닝의 목적은 손실을 감소시키는 것이기 때문에 이 모델의 학습이 더 잘 되었다고 할 수 있다.\n",
    "\n",
    "콜백함수로 Early Stopping을 이용하면 과적합하지 않도록 도중에 학습을 멈춘다\n",
    "\n",
    "그래프는 결과에 비해 다양한 값을 예측하는 것처럼 보인다"
   ]
  },
  {
   "cell_type": "code",
   "execution_count": 28,
   "metadata": {},
   "outputs": [
    {
     "data": {
      "image/png": "[encoded data removed]",
      "text/plain": [
       "<Figure size 360x360 with 1 Axes>"
      ]
     },
     "metadata": {
      "needs_background": "light"
     },
     "output_type": "display_data"
    }
   ],
   "source": [
    "# 다시 확인\n",
    "# (7) 실제 주택 가격과 예측 주택 가격 시각화\n",
    "#    실제 주택 가격 (test_Y)에 대해 예측 주책 가격(pred_Y)는 대각선에 모든 점이 위치하는 이상적인 모습과 거리가 있어 보인다.\n",
    "\n",
    "import matplotlib.pyplot as plt\n",
    "\n",
    "pred_Y = model.predict(test_X)\n",
    "\n",
    "plt.figure(figsize=(5,5))\n",
    "plt.plot(test_Y, pred_Y, 'b.')\n",
    "plt.axis([min(test_Y), max(test_Y), min(test_Y), max(test_Y)])\n",
    "\n",
    "# y=x에 해당하는 대각선\n",
    "plt.plot([min(test_Y), max(test_Y)], [min(test_Y), max(test_Y)], ls=\"--\", c=\".3\")\n",
    "plt.xlabel('test_Y')\n",
    "plt.ylabel('pred_Y')\n",
    "\n",
    "plt.show()"
   ]
  },
  {
   "cell_type": "code",
   "execution_count": null,
   "metadata": {},
   "outputs": [],
   "source": []
  },
  {
   "cell_type": "code",
   "execution_count": 32,
   "metadata": {},
   "outputs": [
    {
     "data": {
      "text/plain": [
       "array([[-0.2673055]], dtype=float32)"
      ]
     },
     "execution_count": 32,
     "metadata": {},
     "output_type": "execute_result"
    }
   ],
   "source": [
    "# 집값 요인(x_values의 속성)에 따라  집값(예측값) 확인\n",
    "x_values = ([-0.47482083, -0.48335641, -0.42698208, -0.48335641, -0.47963044, -0.44081941,\n",
    "  0.15172056, -0.45581402, -0.45565404,  1.64280094, -0.33791894,  2.26541184,\n",
    " -0.35370929],)\n",
    "y_pred = model.predict(x_values)\n",
    "y_pred"
   ]
  },
  {
   "cell_type": "code",
   "execution_count": null,
   "metadata": {},
   "outputs": [],
   "source": []
  }
 ],
 "metadata": {
  "kernelspec": {
   "display_name": "Python 3",
   "language": "python",
   "name": "python3"
  },
  "language_info": {
   "codemirror_mode": {
    "name": "ipython",
    "version": 3
   },
   "file_extension": ".py",
   "mimetype": "text/x-python",
   "name": "python",
   "nbconvert_exporter": "python",
   "pygments_lexer": "ipython3",
   "version": "3.7.6"
  }
 },
 "nbformat": 4,
 "nbformat_minor": 4
}
