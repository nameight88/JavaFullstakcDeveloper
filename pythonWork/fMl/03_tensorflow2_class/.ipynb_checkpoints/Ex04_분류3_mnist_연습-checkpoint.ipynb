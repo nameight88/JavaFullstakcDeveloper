{
 "cells": [
  {
   "cell_type": "markdown",
   "metadata": {},
   "source": [
    "# 손글씨 MNIST\n",
    "\n",
    "+ mnist : 머신러닝의 고전적인 문제로 숫자를 손으로 쓴 글자를 모아놓은 데이터세트\n",
    "+ 손글씨 mnist : 0~9까지 숫자 28*28 픽셀의 이미지 데이타세트\n",
    "\n",
    " "
   ]
  },
  {
   "cell_type": "code",
   "execution_count": 1,
   "metadata": {},
   "outputs": [
    {
     "name": "stdout",
     "output_type": "stream",
     "text": [
      "60000 10000\n",
      "(60000, 28, 28)\n",
      "(10000, 28, 28)\n"
     ]
    }
   ],
   "source": [
    "# (1) MNIST 데이터셋 불러오기\n",
    "\n",
    "import tensorflow as tf\n",
    "mnist = tf.keras.datasets.mnist\n",
    "(train_X, train_Y), (test_X, test_Y) = mnist.load_data()\n",
    "\n",
    "# 데이타 수 확인\n",
    "print(len(train_X), len(test_X))\n",
    "\n",
    "# 데이타 형태 확인\n",
    "print(train_X.shape)\n",
    "print(test_X.shape)"
   ]
  },
  {
   "cell_type": "code",
   "execution_count": 2,
   "metadata": {},
   "outputs": [
    {
     "data": {
      "image/png": "[encoded data removed]",
      "text/plain": [
       "<Figure size 432x288 with 2 Axes>"
      ]
     },
     "metadata": {
      "needs_background": "light"
     },
     "output_type": "display_data"
    },
    {
     "name": "stdout",
     "output_type": "stream",
     "text": [
      "5\n"
     ]
    }
   ],
   "source": [
    "# (2) 데이터 확인\n",
    "#      imshow() : 이미지를 그래프 형태로 표시\n",
    "\n",
    "import matplotlib.pyplot as plt\n",
    "plt.imshow(train_X[0], cmap='gray')\n",
    "plt.colorbar()\n",
    "plt.show()\n",
    "\n",
    "print(train_Y[0])  # 정답(라벨)을 확인 ( 숫자 5 )"
   ]
  },
  {
   "cell_type": "code",
   "execution_count": 3,
   "metadata": {
    "collapsed": true
   },
   "outputs": [
    {
     "name": "stdout",
     "output_type": "stream",
     "text": [
      "[[0.         0.         0.         0.         0.         0.\n",
      "  0.         0.         0.         0.         0.         0.\n",
      "  0.         0.         0.         0.         0.         0.\n",
      "  0.         0.         0.         0.         0.         0.\n",
      "  0.         0.         0.         0.        ]\n",
      " [0.         0.         0.         0.         0.         0.\n",
      "  0.         0.         0.         0.         0.         0.\n",
      "  0.         0.         0.         0.         0.         0.\n",
      "  0.         0.         0.         0.         0.         0.\n",
      "  0.         0.         0.         0.        ]\n",
      " [0.         0.         0.         0.         0.         0.\n",
      "  0.         0.         0.         0.         0.         0.\n",
      "  0.         0.         0.         0.         0.         0.\n",
      "  0.         0.         0.         0.         0.         0.\n",
      "  0.         0.         0.         0.        ]\n",
      " [0.         0.         0.         0.         0.         0.\n",
      "  0.         0.         0.         0.         0.         0.\n",
      "  0.00392157 0.         0.         0.05098039 0.28627451 0.\n",
      "  0.         0.00392157 0.01568627 0.         0.         0.\n",
      "  0.         0.00392157 0.00392157 0.        ]\n",
      " [0.         0.         0.         0.         0.         0.\n",
      "  0.         0.         0.         0.         0.         0.\n",
      "  0.01176471 0.         0.14117647 0.53333333 0.49803922 0.24313725\n",
      "  0.21176471 0.         0.         0.         0.00392157 0.01176471\n",
      "  0.01568627 0.         0.         0.01176471]\n",
      " [0.         0.         0.         0.         0.         0.\n",
      "  0.         0.         0.         0.         0.         0.\n",
      "  0.02352941 0.         0.4        0.8        0.69019608 0.5254902\n",
      "  0.56470588 0.48235294 0.09019608 0.         0.         0.\n",
      "  0.         0.04705882 0.03921569 0.        ]\n",
      " [0.         0.         0.         0.         0.         0.\n",
      "  0.         0.         0.         0.         0.         0.\n",
      "  0.         0.         0.60784314 0.9254902  0.81176471 0.69803922\n",
      "  0.41960784 0.61176471 0.63137255 0.42745098 0.25098039 0.09019608\n",
      "  0.30196078 0.50980392 0.28235294 0.05882353]\n",
      " [0.         0.         0.         0.         0.         0.\n",
      "  0.         0.         0.         0.         0.         0.00392157\n",
      "  0.         0.27058824 0.81176471 0.8745098  0.85490196 0.84705882\n",
      "  0.84705882 0.63921569 0.49803922 0.4745098  0.47843137 0.57254902\n",
      "  0.55294118 0.34509804 0.6745098  0.25882353]\n",
      " [0.         0.         0.         0.         0.         0.\n",
      "  0.         0.         0.         0.00392157 0.00392157 0.00392157\n",
      "  0.         0.78431373 0.90980392 0.90980392 0.91372549 0.89803922\n",
      "  0.8745098  0.8745098  0.84313725 0.83529412 0.64313725 0.49803922\n",
      "  0.48235294 0.76862745 0.89803922 0.        ]\n",
      " [0.         0.         0.         0.         0.         0.\n",
      "  0.         0.         0.         0.         0.         0.\n",
      "  0.         0.71764706 0.88235294 0.84705882 0.8745098  0.89411765\n",
      "  0.92156863 0.89019608 0.87843137 0.87058824 0.87843137 0.86666667\n",
      "  0.8745098  0.96078431 0.67843137 0.        ]\n",
      " [0.         0.         0.         0.         0.         0.\n",
      "  0.         0.         0.         0.         0.         0.\n",
      "  0.         0.75686275 0.89411765 0.85490196 0.83529412 0.77647059\n",
      "  0.70588235 0.83137255 0.82352941 0.82745098 0.83529412 0.8745098\n",
      "  0.8627451  0.95294118 0.79215686 0.        ]\n",
      " [0.         0.         0.         0.         0.         0.\n",
      "  0.         0.         0.         0.00392157 0.01176471 0.\n",
      "  0.04705882 0.85882353 0.8627451  0.83137255 0.85490196 0.75294118\n",
      "  0.6627451  0.89019608 0.81568627 0.85490196 0.87843137 0.83137255\n",
      "  0.88627451 0.77254902 0.81960784 0.20392157]\n",
      " [0.         0.         0.         0.         0.         0.\n",
      "  0.         0.         0.         0.         0.02352941 0.\n",
      "  0.38823529 0.95686275 0.87058824 0.8627451  0.85490196 0.79607843\n",
      "  0.77647059 0.86666667 0.84313725 0.83529412 0.87058824 0.8627451\n",
      "  0.96078431 0.46666667 0.65490196 0.21960784]\n",
      " [0.         0.         0.         0.         0.         0.\n",
      "  0.         0.         0.         0.01568627 0.         0.\n",
      "  0.21568627 0.9254902  0.89411765 0.90196078 0.89411765 0.94117647\n",
      "  0.90980392 0.83529412 0.85490196 0.8745098  0.91764706 0.85098039\n",
      "  0.85098039 0.81960784 0.36078431 0.        ]\n",
      " [0.         0.         0.00392157 0.01568627 0.02352941 0.02745098\n",
      "  0.00784314 0.         0.         0.         0.         0.\n",
      "  0.92941176 0.88627451 0.85098039 0.8745098  0.87058824 0.85882353\n",
      "  0.87058824 0.86666667 0.84705882 0.8745098  0.89803922 0.84313725\n",
      "  0.85490196 1.         0.30196078 0.        ]\n",
      " [0.         0.01176471 0.         0.         0.         0.\n",
      "  0.         0.         0.         0.24313725 0.56862745 0.8\n",
      "  0.89411765 0.81176471 0.83529412 0.86666667 0.85490196 0.81568627\n",
      "  0.82745098 0.85490196 0.87843137 0.8745098  0.85882353 0.84313725\n",
      "  0.87843137 0.95686275 0.62352941 0.        ]\n",
      " [0.         0.         0.         0.         0.07058824 0.17254902\n",
      "  0.32156863 0.41960784 0.74117647 0.89411765 0.8627451  0.87058824\n",
      "  0.85098039 0.88627451 0.78431373 0.80392157 0.82745098 0.90196078\n",
      "  0.87843137 0.91764706 0.69019608 0.7372549  0.98039216 0.97254902\n",
      "  0.91372549 0.93333333 0.84313725 0.        ]\n",
      " [0.         0.22352941 0.73333333 0.81568627 0.87843137 0.86666667\n",
      "  0.87843137 0.81568627 0.8        0.83921569 0.81568627 0.81960784\n",
      "  0.78431373 0.62352941 0.96078431 0.75686275 0.80784314 0.8745098\n",
      "  1.         1.         0.86666667 0.91764706 0.86666667 0.82745098\n",
      "  0.8627451  0.90980392 0.96470588 0.        ]\n",
      " [0.01176471 0.79215686 0.89411765 0.87843137 0.86666667 0.82745098\n",
      "  0.82745098 0.83921569 0.80392157 0.80392157 0.80392157 0.8627451\n",
      "  0.94117647 0.31372549 0.58823529 1.         0.89803922 0.86666667\n",
      "  0.7372549  0.60392157 0.74901961 0.82352941 0.8        0.81960784\n",
      "  0.87058824 0.89411765 0.88235294 0.        ]\n",
      " [0.38431373 0.91372549 0.77647059 0.82352941 0.87058824 0.89803922\n",
      "  0.89803922 0.91764706 0.97647059 0.8627451  0.76078431 0.84313725\n",
      "  0.85098039 0.94509804 0.25490196 0.28627451 0.41568627 0.45882353\n",
      "  0.65882353 0.85882353 0.86666667 0.84313725 0.85098039 0.8745098\n",
      "  0.8745098  0.87843137 0.89803922 0.11372549]\n",
      " [0.29411765 0.8        0.83137255 0.8        0.75686275 0.80392157\n",
      "  0.82745098 0.88235294 0.84705882 0.7254902  0.77254902 0.80784314\n",
      "  0.77647059 0.83529412 0.94117647 0.76470588 0.89019608 0.96078431\n",
      "  0.9372549  0.8745098  0.85490196 0.83137255 0.81960784 0.87058824\n",
      "  0.8627451  0.86666667 0.90196078 0.2627451 ]\n",
      " [0.18823529 0.79607843 0.71764706 0.76078431 0.83529412 0.77254902\n",
      "  0.7254902  0.74509804 0.76078431 0.75294118 0.79215686 0.83921569\n",
      "  0.85882353 0.86666667 0.8627451  0.9254902  0.88235294 0.84705882\n",
      "  0.78039216 0.80784314 0.72941176 0.70980392 0.69411765 0.6745098\n",
      "  0.70980392 0.80392157 0.80784314 0.45098039]\n",
      " [0.         0.47843137 0.85882353 0.75686275 0.70196078 0.67058824\n",
      "  0.71764706 0.76862745 0.8        0.82352941 0.83529412 0.81176471\n",
      "  0.82745098 0.82352941 0.78431373 0.76862745 0.76078431 0.74901961\n",
      "  0.76470588 0.74901961 0.77647059 0.75294118 0.69019608 0.61176471\n",
      "  0.65490196 0.69411765 0.82352941 0.36078431]\n",
      " [0.         0.         0.29019608 0.74117647 0.83137255 0.74901961\n",
      "  0.68627451 0.6745098  0.68627451 0.70980392 0.7254902  0.7372549\n",
      "  0.74117647 0.7372549  0.75686275 0.77647059 0.8        0.81960784\n",
      "  0.82352941 0.82352941 0.82745098 0.7372549  0.7372549  0.76078431\n",
      "  0.75294118 0.84705882 0.66666667 0.        ]\n",
      " [0.00784314 0.         0.         0.         0.25882353 0.78431373\n",
      "  0.87058824 0.92941176 0.9372549  0.94901961 0.96470588 0.95294118\n",
      "  0.95686275 0.86666667 0.8627451  0.75686275 0.74901961 0.70196078\n",
      "  0.71372549 0.71372549 0.70980392 0.69019608 0.65098039 0.65882353\n",
      "  0.38823529 0.22745098 0.         0.        ]\n",
      " [0.         0.         0.         0.         0.         0.\n",
      "  0.         0.15686275 0.23921569 0.17254902 0.28235294 0.16078431\n",
      "  0.1372549  0.         0.         0.         0.         0.\n",
      "  0.         0.         0.         0.         0.         0.\n",
      "  0.         0.         0.         0.        ]\n",
      " [0.         0.         0.         0.         0.         0.\n",
      "  0.         0.         0.         0.         0.         0.\n",
      "  0.         0.         0.         0.         0.         0.\n",
      "  0.         0.         0.         0.         0.         0.\n",
      "  0.         0.         0.         0.        ]\n",
      " [0.         0.         0.         0.         0.         0.\n",
      "  0.         0.         0.         0.         0.         0.\n",
      "  0.         0.         0.         0.         0.         0.\n",
      "  0.         0.         0.         0.         0.         0.\n",
      "  0.         0.         0.         0.        ]]\n"
     ]
    }
   ],
   "source": [
    "# (3) 데이터 정규화\n",
    "train_X = train_X / 255.0\n",
    "test_X = test_X / 255.0\n",
    "\n",
    "print(train_X[0])\n",
    "# [결과] 모든 데이타가 0~1 사이의 값을 되도록 정규화가 잘 되었음을 확인\n",
    "\n",
    "# 앞에서 to_categorical() 를 이용하여 one-hot encoding 작업을 했었는데 \n",
    "# 10개의 답을 위해 [1 0 0 0 0 0 0 0 0 0] 으로 계산하는 것이 오히려 더 시스템 낭비일 수가 있다.\n",
    "# 그래서 희소행렬을 이용하는데 categorical_crossentropy 손실율 계산시 sparse_categorical_crossentropy를 사용하여\n",
    "# 데이타 전처리 없이 희소 행렬을 나타내는 데이타를 정답 행렬로 사용할 수 있다."
   ]
  },
  {
   "cell_type": "markdown",
   "metadata": {},
   "source": [
    "## Flatten\n",
    "\n",
    "   + 이차원 배열을 일차원 배열로 바꿔주는 함수\n",
    "   + 컨볼루션 층(Convolution layer)나 맥스플링(MaxPooling)은 주어진 이미지를 2차원 배열인 채로 다룬다.\n",
    "     그 뒤 일반층으로 넘길 때 Flatten() 함수를 이용한다\n",
    "\n",
    "\n",
    "## 활성화 함수 (Activation Function)\n",
    "\n",
    "   + 입력을 비선형 출력으로 변환해주는 함수\n",
    "   + 자주 사용되는 활성화 함수\n",
    "       - 시그모이드 (sigmoid)\n",
    "       - 하이퍼볼릭 탄젠트 (tanh)\n",
    "       - ReLU\n",
    "       \n",
    "       [공식문서] https://www.tensorflow.org/api_docs/python/tf/keras/activations\n",
    "\n",
    "       \n",
    "## 입력과 출력\n",
    "\n",
    "   + 첫번째 레이어는 입력 데이터 형태로 이미지의 가로, 세로 배열값으로 input_shape=(28,28)\n",
    "   + 마지막 레이어는 출력층으로 반드시 분류해야하는 클래스 수와 동일해야 함\n",
    "       - mnist는 0~9까지 총 10개의 분류값(클래스)로 되어 있기에 출력층 노드는 10이여야 함\n",
    "       - 출력층의 노드가 1개인 경우는 sigmoid 활성화 함수를 적용하지만\n",
    "           - tf.keras.layers.Dense(units=1, activation='sigmoid')\n",
    "       - 출력층의 노드가 2개 이상인 경우는 softmax 활성화 함수를 적용한다.\n",
    "           - tf.keras.layers.Dense(units=2, activation='softmax')\n",
    "           \n",
    "           \n",
    "## 손실함수        \n",
    "\n",
    "   + 모델의 출력층에 따라 손실함수를 설정해야 정상적인 훈련이 가능\n",
    "   + compile() 함수에 loss지정\n",
    "    \n",
    "    \n",
    "   + 이진분류 : 출력층의 노드 = 1, sigmoid 활성화 함수\n",
    "        - model.compile(loss='binary_crossentropy')\n",
    "        \n",
    "        \n",
    "   + 출력층의 노드 = 2개 이상, softmax 활성화 함수\n",
    "        - model.compile(loss='categorical_crossentropy' ) : 출력 데이타(y)가 one-hot vector인 경우\n",
    "        - model.compile(loss='sparse_categorical_crossentropy' ) : 출력 데이타(y)가 one-hot vector가 아닌 경우\n",
    "        - mnist 데이타는 클래스의 수가 10개로 원핫벡터가 아니라 0~9까지 레이블 값을 가진다\n",
    "        \n",
    "         [참고] one-hot vector : [0,0,1,0,0,0,0,0,0,0]\n",
    "     \n",
    "\n",
    "## 옵티마이저 (optimizer )\n",
    "\n",
    "   + 손실을 낮추기 위해 신경망의 가중치 같은 속성 변경하는데 사용되는 최적화 방법\n",
    "   + 일반적으로 많이 사용하는 알고리즘 : Adam\n",
    "   + 케라스에서 지원하는 옵티마이저 :\n",
    "       -   SGD, Adam, Adgrad, Nadam, RMRprop, Adadelta, Adamax, Ftrl   \n",
    "       \n",
    "          [공식문서] https://www.tensorflow.org/api_docs/python/tf/keras/optimizers\n",
    "   \n",
    "   \n",
    "      + 클래스 인스턴스로 지정 \n",
    "           - adam = tf.keras.optimizers.Adam(lr=0.001)\n",
    "             model.compile(optimizer=adam)\n",
    "           - lr (Learning rate:학습률) 같은 하이퍼파라미터르 직접 지정 가능\n",
    "           \n",
    "      + 문자열 지정 (전부 소문자임 )\n",
    "           - model.compile(optimizer='adam')\n",
    "           \n",
    "           \n",
    "## 평가지표 (metrics)\n",
    "\n",
    "   + 분류모델에 대한 평가지표는 정확도를 나탸내는 'accurary' 또는 'acc'가 많이 사용\n",
    "   + 'auc', 'precision', 'recall' 등의 지표도 사용\n",
    "   \n",
    "       [공식문서] https://www.tensorflow.org/api_docs/python/tf/keras/metrics\n",
    "   "
   ]
  },
  {
   "cell_type": "code",
   "execution_count": 4,
   "metadata": {},
   "outputs": [
    {
     "name": "stdout",
     "output_type": "stream",
     "text": [
      "Model: \"sequential\"\n",
      "_________________________________________________________________\n",
      "Layer (type)                 Output Shape              Param #   \n",
      "=================================================================\n",
      "flatten (Flatten)            (None, 784)               0         \n",
      "_________________________________________________________________\n",
      "dense (Dense)                (None, 128)               100480    \n",
      "_________________________________________________________________\n",
      "dense_1 (Dense)              (None, 10)                1290      \n",
      "=================================================================\n",
      "Total params: 101,770\n",
      "Trainable params: 101,770\n",
      "Non-trainable params: 0\n",
      "_________________________________________________________________\n"
     ]
    }
   ],
   "source": [
    "# (4) MNIST 분류 모델\n",
    "model = tf.keras.Sequential([\n",
    "    tf.keras.layers.Flatten(input_shape=(28,28)),\n",
    "    tf.keras.layers.Dense(units=128, activation='relu'),\n",
    "    tf.keras.layers.Dense(units=10, activation='softmax')\n",
    "])\n",
    "\n",
    "# 희소행렬 : categorical_crossentropy -> sparse_categorical_crossentropy\n",
    "model.compile(optimizer=tf.keras.optimizers.Adam(), \n",
    "              loss='sparse_categorical_crossentropy', \n",
    "              metrics=['accuracy'])\n",
    "\n",
    "model.summary()"
   ]
  },
  {
   "cell_type": "markdown",
   "metadata": {},
   "source": [
    "## 학습 ( 훈련 )\n"
   ]
  },
  {
   "cell_type": "code",
   "execution_count": 5,
   "metadata": {
    "scrolled": true
   },
   "outputs": [
    {
     "name": "stdout",
     "output_type": "stream",
     "text": [
      "Epoch 1/25\n",
      "1407/1407 [==============================] - 3s 2ms/step - loss: 0.5222 - accuracy: 0.8184 - val_loss: 0.4212 - val_accuracy: 0.8524\n",
      "Epoch 2/25\n",
      "1407/1407 [==============================] - 2s 2ms/step - loss: 0.3860 - accuracy: 0.8608 - val_loss: 0.3880 - val_accuracy: 0.8603\n",
      "Epoch 3/25\n",
      "1407/1407 [==============================] - 3s 2ms/step - loss: 0.3465 - accuracy: 0.8732 - val_loss: 0.3575 - val_accuracy: 0.8711\n",
      "Epoch 4/25\n",
      "1407/1407 [==============================] - 3s 2ms/step - loss: 0.3215 - accuracy: 0.8825 - val_loss: 0.3346 - val_accuracy: 0.8797\n",
      "Epoch 5/25\n",
      "1407/1407 [==============================] - 2s 2ms/step - loss: 0.3002 - accuracy: 0.8903 - val_loss: 0.3902 - val_accuracy: 0.8686\n",
      "Epoch 6/25\n",
      "1407/1407 [==============================] - 3s 2ms/step - loss: 0.2850 - accuracy: 0.8949 - val_loss: 0.3325 - val_accuracy: 0.8797\n",
      "Epoch 7/25\n",
      "1407/1407 [==============================] - 3s 2ms/step - loss: 0.2738 - accuracy: 0.8982 - val_loss: 0.3185 - val_accuracy: 0.8859\n",
      "Epoch 8/25\n",
      "1407/1407 [==============================] - 3s 2ms/step - loss: 0.2612 - accuracy: 0.9024 - val_loss: 0.3297 - val_accuracy: 0.8829\n",
      "Epoch 9/25\n",
      "1407/1407 [==============================] - 2s 2ms/step - loss: 0.2509 - accuracy: 0.9064 - val_loss: 0.3300 - val_accuracy: 0.8849\n",
      "Epoch 10/25\n",
      "1407/1407 [==============================] - 2s 2ms/step - loss: 0.2434 - accuracy: 0.9092 - val_loss: 0.3218 - val_accuracy: 0.8891\n",
      "Epoch 11/25\n",
      "1407/1407 [==============================] - 2s 2ms/step - loss: 0.2342 - accuracy: 0.9127 - val_loss: 0.3187 - val_accuracy: 0.8855\n",
      "Epoch 12/25\n",
      "1407/1407 [==============================] - 3s 2ms/step - loss: 0.2262 - accuracy: 0.9153 - val_loss: 0.3143 - val_accuracy: 0.8902\n",
      "Epoch 13/25\n",
      "1407/1407 [==============================] - 2s 2ms/step - loss: 0.2174 - accuracy: 0.9190 - val_loss: 0.3495 - val_accuracy: 0.8776\n",
      "Epoch 14/25\n",
      "1407/1407 [==============================] - 2s 1ms/step - loss: 0.2117 - accuracy: 0.9214 - val_loss: 0.3275 - val_accuracy: 0.8885\n",
      "Epoch 15/25\n",
      "1407/1407 [==============================] - 2s 2ms/step - loss: 0.2037 - accuracy: 0.9242 - val_loss: 0.3358 - val_accuracy: 0.8873\n",
      "Epoch 16/25\n",
      "1407/1407 [==============================] - 3s 2ms/step - loss: 0.1988 - accuracy: 0.9252 - val_loss: 0.3514 - val_accuracy: 0.8843\n",
      "Epoch 17/25\n",
      "1407/1407 [==============================] - 3s 2ms/step - loss: 0.1930 - accuracy: 0.9288 - val_loss: 0.3480 - val_accuracy: 0.8851\n",
      "Epoch 18/25\n",
      "1407/1407 [==============================] - 3s 2ms/step - loss: 0.1870 - accuracy: 0.9303 - val_loss: 0.3317 - val_accuracy: 0.8909\n",
      "Epoch 19/25\n",
      "1407/1407 [==============================] - 2s 2ms/step - loss: 0.1811 - accuracy: 0.9330 - val_loss: 0.3407 - val_accuracy: 0.8877\n",
      "Epoch 20/25\n",
      "1407/1407 [==============================] - 2s 2ms/step - loss: 0.1788 - accuracy: 0.9324 - val_loss: 0.3532 - val_accuracy: 0.8883\n",
      "Epoch 21/25\n",
      "1407/1407 [==============================] - 2s 2ms/step - loss: 0.1712 - accuracy: 0.9362 - val_loss: 0.3387 - val_accuracy: 0.8939\n",
      "Epoch 22/25\n",
      "1407/1407 [==============================] - 2s 2ms/step - loss: 0.1659 - accuracy: 0.9385 - val_loss: 0.3306 - val_accuracy: 0.8946\n",
      "Epoch 23/25\n",
      "1407/1407 [==============================] - 2s 2ms/step - loss: 0.1607 - accuracy: 0.9408 - val_loss: 0.3923 - val_accuracy: 0.8802\n",
      "Epoch 24/25\n",
      "1407/1407 [==============================] - 2s 2ms/step - loss: 0.1592 - accuracy: 0.9410 - val_loss: 0.3719 - val_accuracy: 0.8888\n",
      "Epoch 25/25\n",
      "1407/1407 [==============================] - 2s 2ms/step - loss: 0.1559 - accuracy: 0.9415 - val_loss: 0.3697 - val_accuracy: 0.8879\n"
     ]
    }
   ],
   "source": [
    "# (5) MNIST 분류 모델 학습\n",
    "history = model.fit(train_X, train_Y, epochs=25, validation_split=0.25)\n",
    "\n",
    "# [결과]\n",
    "# 훈련 데이터의 정확도가 점점 증가하는 것에 비해 검증 데이타의 정확도는 일정 수준으로 유지되고 있다."
   ]
  },
  {
   "cell_type": "code",
   "execution_count": 6,
   "metadata": {},
   "outputs": [
    {
     "data": {
      "image/png": "[encoded data removed]",
      "text/plain": [
       "<Figure size 864x288 with 2 Axes>"
      ]
     },
     "metadata": {
      "needs_background": "light"
     },
     "output_type": "display_data"
    }
   ],
   "source": [
    "# (6) Fashion MNIST 분류 모델 학습 결과 시각화\n",
    "#      history 변수에 저장된 학습결과를 시각화\n",
    "import matplotlib.pyplot as plt\n",
    "plt.figure(figsize=(12, 4))\n",
    "\n",
    "plt.subplot(1, 2, 1)\n",
    "plt.plot(history.history['loss'], 'b-', label='loss')\n",
    "plt.plot(history.history['val_loss'], 'r--', label='val_loss')\n",
    "plt.xlabel('Epoch')\n",
    "plt.legend()\n",
    "\n",
    "plt.subplot(1, 2, 2)\n",
    "plt.plot(history.history['accuracy'], 'g-', label='accuracy')\n",
    "plt.plot(history.history['val_accuracy'], 'k--', label='val_accuracy')\n",
    "plt.xlabel('Epoch')\n",
    "plt.ylim(0.7, 1)\n",
    "plt.legend()\n",
    "\n",
    "plt.show()\n",
    "\n",
    "# [결과]\n",
    "# 검증 데이타의 손실이 감소하다가 시간이 지날수록 서서히 증가하려는 추세로 과적합 현상의 양상을 띈다.\n",
    "# 이제 앞에서 확인한 tf.keras.callbacks.EarlyStopping을 이용한다면? "
   ]
  },
  {
   "cell_type": "markdown",
   "metadata": {},
   "source": [
    "## 평가 \n",
    "\n",
    "   + 모델 성능을 검증하고 평가\n",
    "   + 컴파일 단계에서 지정한 손실과 정확도를 순서대로 반환하여 출력\n",
    "   \n",
    "   \n",
    "[참고] 모델을 다시 변경하여 수행한다면???"
   ]
  },
  {
   "cell_type": "code",
   "execution_count": 7,
   "metadata": {},
   "outputs": [
    {
     "name": "stdout",
     "output_type": "stream",
     "text": [
      "313/313 [==============================] - 0s 912us/step - loss: 0.4002 - accuracy: 0.8803\n"
     ]
    },
    {
     "data": {
      "text/plain": [
       "[0.4002304673194885, 0.880299985408783]"
      ]
     },
     "execution_count": 7,
     "metadata": {},
     "output_type": "execute_result"
    }
   ],
   "source": [
    "# (7) MNIST 분류 모델 평가\n",
    "model.evaluate(test_X, test_Y)\n",
    "\n",
    "# [결과]\n",
    "#  테스트 데이타에 대한 평가 정확도는 88.5%이다.\n",
    "#  물론 괜찮은 수치이지만 더 정확도를 더 높일 수 있는 방법을 모색해야 하는 것이다. (딥러닝-CNN 등)"
   ]
  }
 ],
 "metadata": {
  "kernelspec": {
   "display_name": "Python 3",
   "language": "python",
   "name": "python3"
  },
  "language_info": {
   "codemirror_mode": {
    "name": "ipython",
    "version": 3
   },
   "file_extension": ".py",
   "mimetype": "text/x-python",
   "name": "python",
   "nbconvert_exporter": "python",
   "pygments_lexer": "ipython3",
   "version": "3.8.8"
  }
 },
 "nbformat": 4,
 "nbformat_minor": 4
}
