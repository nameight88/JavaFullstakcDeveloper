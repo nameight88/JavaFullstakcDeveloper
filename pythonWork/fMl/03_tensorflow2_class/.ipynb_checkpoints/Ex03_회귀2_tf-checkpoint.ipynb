{
 "cells": [
  {
   "cell_type": "markdown",
   "metadata": {},
   "source": [
    "#  머신러닝(tf.keras)를 이용한 회귀"
   ]
  },
  {
   "cell_type": "markdown",
   "metadata": {},
   "source": [
    "\n",
    "\n",
    "## [참고]  시그모이드와 tanh 함수 비교\n",
    "\n",
    "    ` tanh :  하이퍼볼릭 탄젠트 함수로 삼각함수 중 탄젠트 함수와 연관이 있으면 실수 입력을 받아 -1과 1 사이의 출력을 반환한다.\n",
    "    ` sigmoid : 0과 1 사이의 출력을 반환한다\n",
    "    \n",
    "    ` \n",
    "<img src='./imgs/sigmoid_tanh.png' width='400' height='250'>\n",
    "          \n",
    "            \n",
    "첫번째 레이어는 6개의 뉴런을 설정했다.\n",
    "뉴런이 많을수록 딥러닝 네트워크의 결과값이 좋아지지만, 너무 많이 학습하면 과적합(overfitting)이 될 수 있다.\n",
    "\n",
    "두번째 레이어는 x 입력값에 대한 하나의 y값만 출력해야 하기 때문에 뉴런 수가 1이다.\n"
   ]
  },
  {
   "cell_type": "markdown",
   "metadata": {},
   "source": [
    "### [ 참고 ] 활성화함수를 sigmoid 함수 외에 다른 함수로 사용하는 이유\n",
    "\n",
    "<img src='./imgs/sigmoid1.png' width='500'>\n",
    "<img src='./imgs/sigmoid2.png' width='500'>\n",
    "\n",
    "### [ 참고 ] 손실함수 mse\n",
    "<img src='./imgs/mse.png' width='500'>"
   ]
  },
  {
   "cell_type": "code",
   "execution_count": 1,
   "metadata": {},
   "outputs": [],
   "source": [
    "# X : 인구증가율\n",
    "# Y : 노령인구증가율\n",
    "\n",
    "X = [0.3, -0.78, 1.26, 0.03, 1.11, 0.24, -0.24, -0.47, -0.77, -0.37, -0.85, -0.41, -0.27, 0.02, -0.76, 2.66]\n",
    "Y = [12.27, 14.44, 11.87, 18.75, 17.52, 16.37, 19.78, 19.51, 12.65, 14.74, 10.72, 21.94, 12.83, 15.51, 17.14, 14.42]"
   ]
  },
  {
   "cell_type": "code",
   "execution_count": 2,
   "metadata": {
    "scrolled": true
   },
   "outputs": [
    {
     "name": "stdout",
     "output_type": "stream",
     "text": [
      "Model: \"sequential\"\n",
      "_________________________________________________________________\n",
      "Layer (type)                 Output Shape              Param #   \n",
      "=================================================================\n",
      "dense (Dense)                (None, 6)                 12        \n",
      "_________________________________________________________________\n",
      "dense_1 (Dense)              (None, 1)                 7         \n",
      "=================================================================\n",
      "Total params: 19\n",
      "Trainable params: 19\n",
      "Non-trainable params: 0\n",
      "_________________________________________________________________\n"
     ]
    }
   ],
   "source": [
    "# (1) 딥러닝 네트워크를 이용한 회귀\n",
    "import tensorflow as tf\n",
    "import numpy as np\n",
    "\n",
    "model = tf.keras.Sequential([\n",
    "    tf.keras.layers.Dense(units=6, activation='tanh', input_shape=(1,)),\n",
    "    tf.keras.layers.Dense(units=1)\n",
    "])\n",
    "\n",
    "model.compile(optimizer=tf.keras.optimizers.SGD(lr=0.1), loss='mse')\n",
    "\n",
    "model.summary()"
   ]
  },
  {
   "cell_type": "markdown",
   "metadata": {},
   "source": [
    "[ 결과 ]\n",
    "\n",
    "딥러닝 model은 2개의 Dense 레이어로 구성된다.\n",
    "첫번째 Dense 레이어는 활성화함수 tanh를 사용한다.\n",
    "\n"
   ]
  },
  {
   "cell_type": "code",
   "execution_count": 3,
   "metadata": {},
   "outputs": [
    {
     "name": "stdout",
     "output_type": "stream",
     "text": [
      "Train on 16 samples\n",
      "Epoch 1/10\n",
      "16/16 [==============================] - 1s 47ms/sample - loss: 255.6778\n",
      "Epoch 2/10\n",
      "16/16 [==============================] - 0s 2ms/sample - loss: 123.8692\n",
      "Epoch 3/10\n",
      "16/16 [==============================] - 0s 4ms/sample - loss: 10.4720\n",
      "Epoch 4/10\n",
      "16/16 [==============================] - 0s 4ms/sample - loss: 9.8380\n",
      "Epoch 5/10\n",
      "16/16 [==============================] - 0s 4ms/sample - loss: 9.6776\n",
      "Epoch 6/10\n",
      "16/16 [==============================] - 0s 4ms/sample - loss: 9.5918\n",
      "Epoch 7/10\n",
      "16/16 [==============================] - 0s 4ms/sample - loss: 9.5469\n",
      "Epoch 8/10\n",
      "16/16 [==============================] - 0s 3ms/sample - loss: 9.5216\n",
      "Epoch 9/10\n",
      "16/16 [==============================] - 0s 3ms/sample - loss: 9.5026\n",
      "Epoch 10/10\n",
      "16/16 [==============================] - 0s 4ms/sample - loss: 9.4847\n"
     ]
    },
    {
     "data": {
      "text/plain": [
       "<tensorflow.python.keras.callbacks.History at 0x2d6229a7788>"
      ]
     },
     "execution_count": 3,
     "metadata": {},
     "output_type": "execute_result"
    }
   ],
   "source": [
    "# (2) 딥러닝 네트워크의 학습\n",
    "model.fit(X, Y, epochs=10)"
   ]
  },
  {
   "cell_type": "markdown",
   "metadata": {},
   "source": [
    "[ 결과 ]\n",
    "\n",
    "    X를 입력하면 Y가 정답이 되도록 10번을 학습한다.\n",
    "    학습을 계속하면 에포크가 9, 10 정도에서 손실이 줄어들지 않는 것은 확인한다.\n",
    "    손실에 거의 변화가 없다는 것은 학습이 거의 다 된 것이다.\n",
    "\n",
    "    딥러닝을 포함한 머신러닝에서 충분히 학습했다고 판단하면 학습을 멈춰야 한다.\n",
    "    학습 데이타에 과적합되어 새로운 데이타가 들어왔을 때 유연하게 대처하지 못할 수도 있다. "
   ]
  },
  {
   "cell_type": "code",
   "execution_count": 4,
   "metadata": {},
   "outputs": [
    {
     "data": {
      "text/plain": [
       "array([[15.897602 ],\n",
       "       [15.670492 ],\n",
       "       [15.353228 ],\n",
       "       [15.9261265],\n",
       "       [15.478645 ],\n",
       "       [15.909027 ],\n",
       "       [15.895662 ],\n",
       "       [15.824675 ],\n",
       "       [15.676388 ],\n",
       "       [15.860434 ],\n",
       "       [15.62772  ],\n",
       "       [15.847012 ],\n",
       "       [15.888691 ],\n",
       "       [15.926048 ],\n",
       "       [15.682226 ],\n",
       "       [13.829393 ]], dtype=float32)"
      ]
     },
     "execution_count": 4,
     "metadata": {},
     "output_type": "execute_result"
    }
   ],
   "source": [
    "# (3) 딥러닝 네트워크의 Y값 예측\n",
    "model.predict(X)"
   ]
  },
  {
   "cell_type": "code",
   "execution_count": 5,
   "metadata": {},
   "outputs": [
    {
     "data": {
      "image/png": "[encoded data removed]",
      "text/plain": [
       "<Figure size 432x288 with 1 Axes>"
      ]
     },
     "metadata": {
      "needs_background": "light"
     },
     "output_type": "display_data"
    }
   ],
   "source": [
    "# (4) 딥러닝 네트워크의 회귀선 확인\n",
    "import matplotlib.pyplot as plt\n",
    "\n",
    "line_x = np.arange(min(X), max(X), 0.01)\n",
    "line_y = model.predict(line_x)\n",
    "\n",
    "plt.plot(line_x,line_y,'r-')\n",
    "plt.plot(X,Y,'bo')\n",
    "plt.xlabel('Population Growth Rate (%)')\n",
    "plt.ylabel('Elderly Population Rate (%)')\n",
    "plt.show()"
   ]
  },
  {
   "cell_type": "markdown",
   "metadata": {},
   "source": [
    "[ 결과 ]\n",
    "\n",
    "앞에서 했던 다항 회귀에서 구했던 2차 함수와 비슷한 곡선이다. \n",
    "딥러닝이 예측한 회귀선이 조금 더 직선에 가까운 완만한 형태이다.\n",
    "\n",
    "2차함수와 비슷한 성능으로 x 데이타에 대해서 y를 예측한다는 결론을 내릴 수 있다.\n",
    "\n",
    "이처럼 회귀식을 가정하고 변수를 직접 추정하지 않아도 머신러닝을 이용해 회귀선을 예측할 수 있다."
   ]
  },
  {
   "cell_type": "code",
   "execution_count": 6,
   "metadata": {},
   "outputs": [
    {
     "data": {
      "image/png": "[encoded data removed]",
      "text/plain": [
       "<Figure size 432x288 with 1 Axes>"
      ]
     },
     "metadata": {
      "needs_background": "light"
     },
     "output_type": "display_data"
    }
   ],
   "source": [
    "import math\n",
    "def sigmoid(x):\n",
    "    return 1 / (1 + math.exp(-x))\n",
    "\n",
    "x = np.arange(-5, 5, 0.01)\n",
    "sigmoid_x = [sigmoid(z) for z in x]\n",
    "tanh_x = [math.tanh(z) for z in x]\n",
    "\n",
    "plt.axhline(0, color='gray')\n",
    "plt.axvline(0, color='gray')\n",
    "plt.plot(x, sigmoid_x, 'b-', label='sigmoid')\n",
    "plt.plot(x, tanh_x, 'r--', label='tanh')\n",
    "plt.legend()\n",
    "plt.show()"
   ]
  }
 ],
 "metadata": {
  "kernelspec": {
   "display_name": "Python 3",
   "language": "python",
   "name": "python3"
  },
  "language_info": {
   "codemirror_mode": {
    "name": "ipython",
    "version": 3
   },
   "file_extension": ".py",
   "mimetype": "text/x-python",
   "name": "python",
   "nbconvert_exporter": "python",
   "pygments_lexer": "ipython3",
   "version": "3.7.7"
  }
 },
 "nbformat": 4,
 "nbformat_minor": 4
}
