{
 "cells": [
  {
   "cell_type": "markdown",
   "metadata": {},
   "source": [
    "# 경사하강법\n",
    "\n",
    "> + 경사하강법은 딥러닝 모델을 훈련할 때, 모델 태부의 가중치(weight)에 대한 미분 값을 구하고 목적함수 값이 낮아지는 방향으로 차감하면서 결국 최소 함수 값을 갖도록 하는 방법이다.\n",
    "\n",
    "> + 딥러닝 훈련 프로세스에서 경사하강법 알고리즘을 적용하여 손실함수 값을 최소로 만드는 가충지를 찾을 수 있다\n",
    "\n",
    "\n",
    "\n",
    "\n",
    "## 속도와 정확도 문제를 해결하는 고급 경사 하강법\n",
    " \n",
    "\n",
    "가중치를 업데이트하는 방법으로 우리는 경사 하강법을 배웠습니다. 그런데 경사 하강법은 정확하게 가중치를 찾아가지만, 한 번 업데이트할 때마다 전체 데이터를 미분해야 하므로 계산량이 매우 많다는 단점이 있습니다. 이러한 점을 보완한 고급 경사 하강법이 등장하면서 딥러닝의 발전 속도는 더 빨라졌습니다.\n",
    "\n",
    " \n",
    "\n",
    "◼︎ 확률적 경사 하강법\n",
    "\n",
    "경사 하강법은 불필요하게 많은 계산량은 속도를 느리게 할 뿐 아니라, 최적 해를 찾기 전에 최적화 과정이 멈출 수도 있습니다. 확률적 경사 하강법(Stochastic Gradient Descent, SGD)은 경사 하강법의 이러한 단점을 보완한 방법입니다.\n",
    "\n",
    "전체 데이터를 사용하는 것이 아니라, 랜덤하게 추출한 일부 데이터를 사용합니다. 일부 데이터를 사용하므로 더 빨리 그리고 자주 업데이트를 하는 것이 가능해졌습니다.\n",
    "\n",
    "아래 그림은 경사 하강법과 확률적 경사 하강법의 차이를 보여 줍니다. 랜덤한 일부 데이터를 사용하는 만큼 확률적 경사 하강법은 중간 결과의 진폭이 크고 불안정해 보일 수도 있습니다. 하지만 속도가 확연히 빠르면서도 최적 해에 근사한 값을 찾아낸다는 장점 덕분에 경사 하강법의 대안으로 사용되고 있습니다.\n",
    "\n",
    "<img src='./imgs/경사하강법3.PNG' width='500'/>\n",
    "\n",
    "---\n",
    "\n",
    "<img src='./imgs/경사하강법4.PNG' width='500'/>\n",
    "\n",
    " 아담(Adam)은 현재 가장 많이 사용되는 고급 경사 하강법입니다.\n",
    " \n"
   ]
  },
  {
   "cell_type": "code",
   "execution_count": null,
   "metadata": {},
   "outputs": [],
   "source": []
  },
  {
   "cell_type": "markdown",
   "metadata": {},
   "source": [
    "## 오차 역전파 (back propagation)\n",
    "\n",
    "+ 신경망 내부의 가중치를 수정할 때 오차 역전파 방법을 사용\n",
    "+ 경사 하강법의 확장 개념\n",
    "\n",
    "<img src='./imgs/오차역전파.PNG' width='500'/>\n",
    "\n",
    " [출처] [모두의 딥러닝](https://thebook.io/080228/part03/ch09/02-02/)"
   ]
  },
  {
   "cell_type": "code",
   "execution_count": null,
   "metadata": {},
   "outputs": [],
   "source": []
  }
 ],
 "metadata": {
  "kernelspec": {
   "display_name": "Python 3",
   "language": "python",
   "name": "python3"
  },
  "language_info": {
   "codemirror_mode": {
    "name": "ipython",
    "version": 3
   },
   "file_extension": ".py",
   "mimetype": "text/x-python",
   "name": "python",
   "nbconvert_exporter": "python",
   "pygments_lexer": "ipython3",
   "version": "3.8.8"
  }
 },
 "nbformat": 4,
 "nbformat_minor": 4
}
