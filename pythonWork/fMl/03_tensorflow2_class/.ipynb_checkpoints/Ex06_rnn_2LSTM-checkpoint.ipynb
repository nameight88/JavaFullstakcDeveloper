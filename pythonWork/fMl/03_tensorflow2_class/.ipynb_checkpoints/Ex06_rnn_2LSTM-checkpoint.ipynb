{
 "cells": [
  {
   "cell_type": "markdown",
   "metadata": {},
   "source": [
    "모델 학습 시간 오래 걸림"
   ]
  },
  {
   "cell_type": "markdown",
   "metadata": {
    "colab_type": "text",
    "id": "HGzdLJHZvSUg"
   },
   "source": [
    "## 2. LSTM 레이어\n",
    "\n",
    "예를 들어 인공지능 비서에게 “오늘 주가가 몇이야?”라고 묻는다고 가정합시다. 그러면 아래을 보면, 해당하는 순환 부분에서 단어를 하나 처리할 때마다 단어마다 기억하여 다음 입력 값의 출력을 결정합니다. \n",
    "<img src='./imgs/rnn4.jpg'>\n",
    "\n",
    "순환이 되는 가운데 앞서 나온 입력에 대한 결과가 뒤에 나오는 입력 값에 영향을 주는 것을 알 수 있습니다. 이렇게 해야지만, 비슷한 두 문장이 입력되었을 때 그 차이를 구별하여 출력 값에 반영할 수가 있습니다. 예를 들어 입력 2의 값은 양쪽 모두 ‘주가’이지만, 왼쪽의 주가는 오늘을 기준으로, 오른쪽은 어제를 기준으로 계산되어야 합니다.\n",
    "<img src='./imgs/rnn5.jpg'>\n",
    "\n",
    "RNN이 처음 개발된 이후, RNN의 결과를 더욱 개선하기 위한 노력이 계속되어 왔습니다. 이 중에서 LSTM(Long Short Term Memory) 방법을 함께 사용하는 기법이 현재 가장 널리 사용되고 있습니다. LSTM은 한 층 안에서 반복을 많이 해야 하는 RNN의 특성상 일반 신경망보다 기울기 소실 문제가 더 많이 발생하고 이를 해결하기 어렵다는 단점을 보완한 방법입니다. 즉, 반복되기 직전에 다음 층으로 기억된 값을 넘길지 안 넘길지를 관리하는 단계를 하나 더 추가하는 것입니다\n",
    "<img src='./imgs/rnn6.jpg'>\n",
    "\n",
    "[출처] [모두의 딥러닝](https://thebook.io/006958/part05/ch17-06/)"
   ]
  },
  {
   "cell_type": "markdown",
   "metadata": {},
   "source": [
    "\n",
    "---\n",
    "\n",
    "#### 곱셈 문제 ( Multiplication problem )\n",
    "\n",
    "+ LST을 처음 제안한 논문의 나오는 문제\n",
    "+ 실수에 대해 곱셈을 하는 문제\n",
    "  ( 100개 중 마킹된 두 개의 숫자만 곱한다 ) "
   ]
  },
  {
   "cell_type": "code",
   "execution_count": 1,
   "metadata": {
    "colab": {
     "base_uri": "https://localhost:8080/",
     "height": 1000
    },
    "colab_type": "code",
    "executionInfo": {
     "elapsed": 40878,
     "status": "ok",
     "timestamp": 1565400949229,
     "user": {
      "displayName": "Hwanhee Kim",
      "photoUrl": "https://lh6.googleusercontent.com/-nodxsDvEvZo/AAAAAAAAAAI/AAAAAAAABHE/Ybrj2myvr5Q/s64/photo.jpg",
      "userId": "04863080312902369470"
     },
     "user_tz": -540
    },
    "id": "iYyU1BKZFDvo",
    "outputId": "579631eb-65e7-4e6f-96ef-a1b15fd83823"
   },
   "outputs": [
    {
     "name": "stdout",
     "output_type": "stream",
     "text": [
      "[[0.00000000e+00 3.86728457e-01]\n",
      " [0.00000000e+00 1.14332714e-01]\n",
      " [0.00000000e+00 3.10654103e-01]\n",
      " [0.00000000e+00 4.84269352e-01]\n",
      " [0.00000000e+00 8.81366718e-01]\n",
      " [0.00000000e+00 1.49949466e-01]\n",
      " [0.00000000e+00 4.87848522e-01]\n",
      " [0.00000000e+00 3.56194832e-01]\n",
      " [0.00000000e+00 3.23910774e-01]\n",
      " [0.00000000e+00 2.95719076e-01]\n",
      " [0.00000000e+00 6.89980714e-01]\n",
      " [0.00000000e+00 6.50817690e-02]\n",
      " [0.00000000e+00 9.30072069e-01]\n",
      " [0.00000000e+00 9.93321370e-01]\n",
      " [0.00000000e+00 8.14540836e-02]\n",
      " [0.00000000e+00 4.89668335e-01]\n",
      " [0.00000000e+00 9.19455684e-01]\n",
      " [0.00000000e+00 7.22777215e-01]\n",
      " [0.00000000e+00 3.91330028e-01]\n",
      " [0.00000000e+00 1.12985567e-02]\n",
      " [0.00000000e+00 7.23314887e-01]\n",
      " [0.00000000e+00 2.44721919e-01]\n",
      " [0.00000000e+00 8.35233460e-02]\n",
      " [0.00000000e+00 5.74743899e-01]\n",
      " [0.00000000e+00 5.03900315e-01]\n",
      " [0.00000000e+00 8.73465865e-01]\n",
      " [0.00000000e+00 6.31788589e-01]\n",
      " [0.00000000e+00 3.85103839e-01]\n",
      " [0.00000000e+00 3.31427208e-01]\n",
      " [0.00000000e+00 5.07721845e-01]\n",
      " [0.00000000e+00 9.37859789e-01]\n",
      " [0.00000000e+00 2.64823595e-01]\n",
      " [0.00000000e+00 7.74251796e-01]\n",
      " [0.00000000e+00 6.68017071e-01]\n",
      " [0.00000000e+00 3.22906480e-01]\n",
      " [0.00000000e+00 2.82053937e-01]\n",
      " [0.00000000e+00 9.41144373e-01]\n",
      " [0.00000000e+00 1.20134070e-01]\n",
      " [0.00000000e+00 1.79933467e-01]\n",
      " [0.00000000e+00 9.78461042e-01]\n",
      " [0.00000000e+00 4.14724784e-01]\n",
      " [0.00000000e+00 3.92929559e-02]\n",
      " [0.00000000e+00 9.08246623e-01]\n",
      " [0.00000000e+00 5.03455322e-01]\n",
      " [0.00000000e+00 3.13187388e-01]\n",
      " [1.00000000e+00 7.15188663e-01]\n",
      " [0.00000000e+00 1.59906847e-01]\n",
      " [0.00000000e+00 1.79010437e-01]\n",
      " [0.00000000e+00 8.79689482e-01]\n",
      " [0.00000000e+00 1.27002131e-03]\n",
      " [0.00000000e+00 5.56358441e-01]\n",
      " [0.00000000e+00 6.05024132e-02]\n",
      " [0.00000000e+00 3.01754381e-01]\n",
      " [0.00000000e+00 8.81267952e-01]\n",
      " [0.00000000e+00 6.19120332e-03]\n",
      " [0.00000000e+00 2.55419110e-01]\n",
      " [0.00000000e+00 1.57812426e-01]\n",
      " [0.00000000e+00 3.92338229e-01]\n",
      " [0.00000000e+00 4.97761662e-01]\n",
      " [0.00000000e+00 2.52002564e-01]\n",
      " [0.00000000e+00 9.06463847e-02]\n",
      " [0.00000000e+00 8.75075567e-01]\n",
      " [0.00000000e+00 5.13970714e-04]\n",
      " [0.00000000e+00 9.92685258e-01]\n",
      " [0.00000000e+00 4.36753511e-01]\n",
      " [0.00000000e+00 4.95402039e-01]\n",
      " [0.00000000e+00 7.25655439e-01]\n",
      " [0.00000000e+00 2.60248995e-01]\n",
      " [0.00000000e+00 4.99326827e-01]\n",
      " [0.00000000e+00 7.49541669e-01]\n",
      " [0.00000000e+00 6.87174264e-01]\n",
      " [0.00000000e+00 6.48482147e-01]\n",
      " [0.00000000e+00 4.30140685e-01]\n",
      " [0.00000000e+00 6.56532706e-01]\n",
      " [0.00000000e+00 9.23658825e-01]\n",
      " [0.00000000e+00 2.02956792e-01]\n",
      " [0.00000000e+00 3.83171714e-01]\n",
      " [0.00000000e+00 8.21157907e-01]\n",
      " [0.00000000e+00 6.11403161e-01]\n",
      " [0.00000000e+00 8.22590519e-01]\n",
      " [0.00000000e+00 9.57908431e-01]\n",
      " [0.00000000e+00 7.84367957e-01]\n",
      " [0.00000000e+00 6.13993773e-01]\n",
      " [0.00000000e+00 2.19872597e-01]\n",
      " [0.00000000e+00 8.89845519e-01]\n",
      " [0.00000000e+00 8.36920778e-01]\n",
      " [1.00000000e+00 3.99223678e-01]\n",
      " [0.00000000e+00 9.28311880e-01]\n",
      " [0.00000000e+00 6.65421967e-02]\n",
      " [0.00000000e+00 6.11999632e-02]\n",
      " [0.00000000e+00 6.60765315e-01]\n",
      " [0.00000000e+00 7.00502089e-01]\n",
      " [0.00000000e+00 9.34228001e-02]\n",
      " [0.00000000e+00 5.89439691e-01]\n",
      " [0.00000000e+00 6.69401905e-01]\n",
      " [0.00000000e+00 2.36888394e-02]\n",
      " [0.00000000e+00 5.03009332e-01]\n",
      " [0.00000000e+00 7.95504427e-01]\n",
      " [0.00000000e+00 6.45065006e-01]\n",
      " [0.00000000e+00 5.26634251e-01]]\n",
      "0.28552024835024853\n"
     ]
    }
   ],
   "source": [
    "import tensorflow as tf\n",
    "import numpy as np\n",
    "\n",
    "\n",
    "# (0) 곱셈 문제 데이터 생성\n",
    "X = []\n",
    "Y = []\n",
    "\n",
    "# 데이타를 3000 -> 2000 으로 줄여서 확인 ( 시간 소요때문에 )\n",
    "for i in range(3000):\n",
    "    \n",
    "    # 0~1 사이의 랜덤한 숫자 100 개를 만듭니다.\n",
    "    lst = np.random.rand(100)\n",
    "    # 마킹할 숫자 2개의 인덱스를 뽑습니다.\n",
    "    idx = np.random.choice(100, 2, replace=False)\n",
    "    # 마킹 인덱스가 저장된 원-핫 인코딩 벡터를 만듭니다.\n",
    "    zeros = np.zeros(100)\n",
    "    zeros[idx] = 1\n",
    "    # 마킹 인덱스와 랜덤한 숫자를 합쳐서 X 에 저장합니다.\n",
    "    X.append(np.array(list(zip(zeros, lst))))\n",
    "    # 마킹 인덱스가 1인 값들만 서로 곱해서 Y 에 저장합니다.\n",
    "    Y.append(np.prod(lst[idx]))\n",
    "    \n",
    "print(X[0])\n",
    "print(Y[0])\n",
    "\n",
    "# X의 0번째 열은 마킹 인덱스로 1이 두 번 있는데, 이를 곱한 값이 Y이다\n",
    "#[1.         0.9438072 ]\n",
    "#[1.         0.49831348]\n",
    "# 0.9438072 * 0.49831348 => 0.4703118508136898"
   ]
  },
  {
   "cell_type": "markdown",
   "metadata": {},
   "source": [
    "## (1) SimpleRNN 레이어 이용"
   ]
  },
  {
   "cell_type": "code",
   "execution_count": 2,
   "metadata": {
    "colab": {
     "base_uri": "https://localhost:8080/",
     "height": 269
    },
    "colab_type": "code",
    "executionInfo": {
     "elapsed": 1081,
     "status": "ok",
     "timestamp": 1565420208111,
     "user": {
      "displayName": "Hwanhee Kim",
      "photoUrl": "https://lh6.googleusercontent.com/-nodxsDvEvZo/AAAAAAAAAAI/AAAAAAAABHE/Ybrj2myvr5Q/s64/photo.jpg",
      "userId": "04863080312902369470"
     },
     "user_tz": -540
    },
    "id": "doitxA8uOm5i",
    "outputId": "d2cf0fe0-2497-4fb0-91e9-35f82da28b8c"
   },
   "outputs": [
    {
     "name": "stdout",
     "output_type": "stream",
     "text": [
      "Model: \"sequential\"\n",
      "_________________________________________________________________\n",
      "Layer (type)                 Output Shape              Param #   \n",
      "=================================================================\n",
      "simple_rnn (SimpleRNN)       (None, 100, 30)           990       \n",
      "_________________________________________________________________\n",
      "simple_rnn_1 (SimpleRNN)     (None, 30)                1830      \n",
      "_________________________________________________________________\n",
      "dense (Dense)                (None, 1)                 31        \n",
      "=================================================================\n",
      "Total params: 2,851\n",
      "Trainable params: 2,851\n",
      "Non-trainable params: 0\n",
      "_________________________________________________________________\n"
     ]
    }
   ],
   "source": [
    "# (1-1) SimpleRNN 레이어를 사용한 곱셈 문제 모델 정의\n",
    "#     첫번째 SimpleRNN에서 return_sequences=True를 지정하여 레이어의 출력을 다음 레이어로 그래도 넘겨준다\n",
    "model = tf.keras.Sequential([\n",
    "    tf.keras.layers.SimpleRNN(units=30, return_sequences=True, input_shape=[100,2]),\n",
    "    tf.keras.layers.SimpleRNN(units=30),\n",
    "    tf.keras.layers.Dense(1)\n",
    "])\n",
    "\n",
    "model.compile(optimizer='adam', loss='mse')\n",
    "model.summary()"
   ]
  },
  {
   "cell_type": "code",
   "execution_count": null,
   "metadata": {
    "colab": {
     "base_uri": "https://localhost:8080/",
     "height": 1000
    },
    "colab_type": "code",
    "executionInfo": {
     "elapsed": 1863900,
     "status": "ok",
     "timestamp": 1565017987773,
     "user": {
      "displayName": "Hwanhee Kim",
      "photoUrl": "https://lh6.googleusercontent.com/-nodxsDvEvZo/AAAAAAAAAAI/AAAAAAAABHE/Ybrj2myvr5Q/s64/photo.jpg",
      "userId": "04863080312902369470"
     },
     "user_tz": -540
    },
    "id": "HTp4nvHYOqOZ",
    "outputId": "eb794c29-17b8-4a37-8d37-36fce66569fa"
   },
   "outputs": [
    {
     "name": "stdout",
     "output_type": "stream",
     "text": [
      "Epoch 1/100\n",
      "64/64 [==============================] - 2s 31ms/step - loss: 0.0706 - val_loss: 0.0554\n",
      "Epoch 2/100\n",
      "64/64 [==============================] - 2s 26ms/step - loss: 0.0471 - val_loss: 0.0539\n",
      "Epoch 3/100\n",
      "64/64 [==============================] - 2s 27ms/step - loss: 0.0460 - val_loss: 0.0543\n",
      "Epoch 4/100\n",
      "64/64 [==============================] - 2s 26ms/step - loss: 0.0457 - val_loss: 0.0541\n",
      "Epoch 5/100\n",
      "64/64 [==============================] - 2s 26ms/step - loss: 0.0464 - val_loss: 0.0538\n",
      "Epoch 6/100\n",
      "64/64 [==============================] - 2s 26ms/step - loss: 0.0456 - val_loss: 0.0627\n",
      "Epoch 7/100\n",
      "64/64 [==============================] - 2s 27ms/step - loss: 0.0464 - val_loss: 0.0567\n",
      "Epoch 8/100\n",
      "64/64 [==============================] - 2s 26ms/step - loss: 0.0455 - val_loss: 0.0542\n",
      "Epoch 9/100\n",
      "64/64 [==============================] - 2s 26ms/step - loss: 0.0455 - val_loss: 0.0539\n",
      "Epoch 10/100\n",
      "64/64 [==============================] - 2s 26ms/step - loss: 0.0456 - val_loss: 0.0581\n",
      "Epoch 11/100\n",
      "64/64 [==============================] - 2s 26ms/step - loss: 0.0462 - val_loss: 0.0567\n",
      "Epoch 12/100\n",
      "64/64 [==============================] - 2s 26ms/step - loss: 0.0463 - val_loss: 0.0536\n",
      "Epoch 13/100\n",
      "64/64 [==============================] - 2s 27ms/step - loss: 0.0472 - val_loss: 0.0541\n",
      "Epoch 14/100\n",
      "64/64 [==============================] - 2s 27ms/step - loss: 0.0450 - val_loss: 0.0534\n",
      "Epoch 15/100\n",
      "64/64 [==============================] - 2s 27ms/step - loss: 0.0450 - val_loss: 0.0547\n",
      "Epoch 16/100\n",
      "64/64 [==============================] - 2s 26ms/step - loss: 0.0463 - val_loss: 0.0536\n",
      "Epoch 17/100\n",
      "64/64 [==============================] - 2s 26ms/step - loss: 0.0452 - val_loss: 0.0594\n",
      "Epoch 18/100\n",
      "64/64 [==============================] - 2s 27ms/step - loss: 0.0456 - val_loss: 0.0543\n",
      "Epoch 19/100\n",
      "64/64 [==============================] - 2s 26ms/step - loss: 0.0454 - val_loss: 0.0550\n",
      "Epoch 20/100\n",
      "64/64 [==============================] - 2s 27ms/step - loss: 0.0447 - val_loss: 0.0549\n",
      "Epoch 21/100\n",
      "64/64 [==============================] - 2s 27ms/step - loss: 0.0448 - val_loss: 0.0548\n",
      "Epoch 22/100\n",
      "64/64 [==============================] - 2s 27ms/step - loss: 0.0451 - val_loss: 0.0532\n",
      "Epoch 23/100\n",
      "64/64 [==============================] - 2s 27ms/step - loss: 0.0438 - val_loss: 0.0541\n",
      "Epoch 24/100\n",
      "64/64 [==============================] - 2s 26ms/step - loss: 0.0436 - val_loss: 0.0534\n",
      "Epoch 25/100\n",
      "64/64 [==============================] - 2s 29ms/step - loss: 0.0434 - val_loss: 0.0551\n",
      "Epoch 26/100\n",
      "64/64 [==============================] - 2s 27ms/step - loss: 0.0436 - val_loss: 0.0547\n",
      "Epoch 27/100\n",
      "64/64 [==============================] - 2s 27ms/step - loss: 0.0432 - val_loss: 0.0564\n",
      "Epoch 28/100\n",
      "64/64 [==============================] - 2s 27ms/step - loss: 0.0440 - val_loss: 0.0545\n",
      "Epoch 29/100\n",
      "64/64 [==============================] - 2s 28ms/step - loss: 0.0429 - val_loss: 0.0585\n",
      "Epoch 30/100\n",
      "64/64 [==============================] - 2s 27ms/step - loss: 0.0423 - val_loss: 0.0548\n",
      "Epoch 31/100\n",
      "64/64 [==============================] - 2s 28ms/step - loss: 0.0443 - val_loss: 0.0562\n",
      "Epoch 32/100\n",
      "64/64 [==============================] - 2s 27ms/step - loss: 0.0439 - val_loss: 0.0551\n",
      "Epoch 33/100\n",
      "64/64 [==============================] - 2s 27ms/step - loss: 0.0425 - val_loss: 0.0541\n",
      "Epoch 34/100\n",
      "64/64 [==============================] - 2s 27ms/step - loss: 0.0430 - val_loss: 0.0536\n",
      "Epoch 35/100\n",
      "64/64 [==============================] - 2s 32ms/step - loss: 0.0421 - val_loss: 0.0542\n",
      "Epoch 36/100\n",
      "64/64 [==============================] - 2s 34ms/step - loss: 0.0415 - val_loss: 0.0546\n",
      "Epoch 37/100\n",
      "42/64 [==================>...........] - ETA: 0s - loss: 0.0407"
     ]
    }
   ],
   "source": [
    "# (1-2) SimpleRNN 네트워크 학습\n",
    "X = np.array(X)\n",
    "Y = np.array(Y)\n",
    "# 2560개의 데이터만 학습시킵니다. validation 데이터는 20% 로 지정합니다.\n",
    "# 나머지 440개는 나중에 테스트 데이타로 사용한다.\n",
    "# 데이타수를 3000-> 2000으로 줄였으면 2560->1560으로 줄인다\n",
    "history = model.fit(X[:2560], Y[:2560], epochs=100, validation_split=0.2)\n",
    "\n",
    "\n",
    "# [결과]\n",
    "# 훈련 데이타의 손실 loss는 점차 감소하지만, 검증 데이타의 손실 val_loss는 오히려 증가하는 듯한다.\n",
    "# 이것을 아래 그래프로 다시 확인한다.\n",
    "# 그래프를 확인하면 전형적인 과적합그래프이다."
   ]
  },
  {
   "cell_type": "code",
   "execution_count": null,
   "metadata": {
    "colab": {
     "base_uri": "https://localhost:8080/",
     "height": 283
    },
    "colab_type": "code",
    "executionInfo": {
     "elapsed": 1323,
     "status": "ok",
     "timestamp": 1565020968714,
     "user": {
      "displayName": "Hwanhee Kim",
      "photoUrl": "https://lh6.googleusercontent.com/-nodxsDvEvZo/AAAAAAAAAAI/AAAAAAAABHE/Ybrj2myvr5Q/s64/photo.jpg",
      "userId": "04863080312902369470"
     },
     "user_tz": -540
    },
    "id": "3EiSvd5rOsIV",
    "outputId": "5b51499b-b5cd-4a94-b733-424f4e46faeb"
   },
   "outputs": [],
   "source": [
    "# (1-3) SimpleRNN 네트워크 학습 결과 확인\n",
    "import matplotlib.pyplot as plt\n",
    "plt.plot(history.history['loss'], 'b-', label='loss')\n",
    "plt.plot(history.history['val_loss'], 'r--', label='val_loss')\n",
    "plt.xlabel('Epoch')\n",
    "plt.legend()\n",
    "plt.show()"
   ]
  },
  {
   "cell_type": "code",
   "execution_count": null,
   "metadata": {
    "colab": {
     "base_uri": "https://localhost:8080/",
     "height": 143
    },
    "colab_type": "code",
    "executionInfo": {
     "elapsed": 3140,
     "status": "ok",
     "timestamp": 1565020973154,
     "user": {
      "displayName": "Hwanhee Kim",
      "photoUrl": "https://lh6.googleusercontent.com/-nodxsDvEvZo/AAAAAAAAAAI/AAAAAAAABHE/Ybrj2myvr5Q/s64/photo.jpg",
      "userId": "04863080312902369470"
     },
     "user_tz": -540
    },
    "id": "g5OnirteOyut",
    "outputId": "09b4541d-aa7e-4906-b950-b119ac841168"
   },
   "outputs": [],
   "source": [
    "# (1-4) Test(훈련) 데이터에 대한 예측 정확도 확인\n",
    "\n",
    "# 훈련 데이타 수를 3000-> 2000 줄였으면 2560 -> 1560으로 같이 줄인다.\n",
    "model.evaluate(X[2560:], Y[2560:])\n",
    "prediction = model.predict(X[2560:2560+5])\n",
    "# [결과] \n",
    "#       전체에 대한 평가(evaluate)는 loss: 0.0900 인데,\n",
    "#       앞에서 본 100번째 epoch의 val_loss 0.0598보다 높게 나왔다.\n",
    "# Epoch 100/100\n",
    "# 2048/2048 [==============================] - 5s 3ms/sample - loss: 0.0287 - val_loss: 0.0598\n",
    "#        즉, 네트워크가 학습 과정에서 한 번도 못 본 테이스 데이타에 대해 예측을 잘 하지 못한다는 것이다.\n",
    "\n",
    "# 5개 테스트 데이터에 대한 예측을 표시합니다.\n",
    "for i in range(5):\n",
    "    print(Y[2560+i], '\\t', prediction[i][0], '\\tdiff:', abs(prediction[i][0] - Y[2560+i]))\n",
    "# [결과] \n",
    "#     5개의 샘플만 보더라도 오차(diff)가 다양하게 나온다   \n",
    "    \n",
    "prediction = model.predict(X[2560:])\n",
    "fail = 0\n",
    "for i in range(len(prediction)):\n",
    "    # 오차가 0.04 이상이면 오답입니다. ( 논문에 의해 )\n",
    "    if abs(prediction[i][0] - Y[2560+i]) > 0.04:\n",
    "        fail += 1\n",
    "print('correctness:', (440 - fail) / 440 * 100, '%')\n",
    "# [결과]\n",
    "#     정확도는 10% 정도인 것이다."
   ]
  },
  {
   "cell_type": "markdown",
   "metadata": {},
   "source": [
    "## (2) LSTM 레이어 이용"
   ]
  },
  {
   "cell_type": "code",
   "execution_count": null,
   "metadata": {
    "colab": {
     "base_uri": "https://localhost:8080/",
     "height": 325
    },
    "colab_type": "code",
    "executionInfo": {
     "elapsed": 1051,
     "status": "ok",
     "timestamp": 1565420214041,
     "user": {
      "displayName": "Hwanhee Kim",
      "photoUrl": "https://lh6.googleusercontent.com/-nodxsDvEvZo/AAAAAAAAAAI/AAAAAAAABHE/Ybrj2myvr5Q/s64/photo.jpg",
      "userId": "04863080312902369470"
     },
     "user_tz": -540
    },
    "id": "6o1z24gWIe4B",
    "outputId": "7124a02f-34bb-4114-8b9e-d8168c576e7d"
   },
   "outputs": [],
   "source": [
    "# (2-2) LSTM 레이어를 사용한 곱셈 문제 모델 정의\n",
    "#       (1-2)에서 SimpleRNN -> LSTM 변경\n",
    "model = tf.keras.Sequential([\n",
    "    tf.keras.layers.LSTM(units=30, return_sequences=True, input_shape=[100,2]),\n",
    "    tf.keras.layers.LSTM(units=30),\n",
    "    tf.keras.layers.Dense(1)\n",
    "])\n",
    "\n",
    "model.compile(optimizer='adam', loss='mse')\n",
    "model.summary()"
   ]
  },
  {
   "cell_type": "code",
   "execution_count": null,
   "metadata": {
    "colab": {
     "base_uri": "https://localhost:8080/",
     "height": 1000
    },
    "colab_type": "code",
    "executionInfo": {
     "elapsed": 285145,
     "status": "ok",
     "timestamp": 1565249375352,
     "user": {
      "displayName": "Hwanhee Kim",
      "photoUrl": "https://lh6.googleusercontent.com/-nodxsDvEvZo/AAAAAAAAAAI/AAAAAAAABHE/Ybrj2myvr5Q/s64/photo.jpg",
      "userId": "04863080312902369470"
     },
     "user_tz": -540
    },
    "id": "XavhYhX4Imax",
    "outputId": "d6f20c85-3fdd-4115-fbfc-56a91ef82c4f"
   },
   "outputs": [],
   "source": [
    "# (2-2) LSTM 네트워크 학습\n",
    "#       (1-2)와 동일\n",
    "X = np.array(X)\n",
    "Y = np.array(Y)\n",
    "history = model.fit(X[:2560], Y[:2560], epochs=100, validation_split=0.2)"
   ]
  },
  {
   "cell_type": "markdown",
   "metadata": {},
   "source": [
    "[ 결과 ]  \n",
    "\n",
    "        SimpleRNN -> LSTM 으로 변경만 했을 뿐인데,\n",
    "        처음에는 loss와 val_loss가 줄지 않는 듯하다가 나중에 둘 다 모두 급격하게 작아진다.\n",
    "        \n",
    "        아래 그래프로 확인\n",
    "        40 Epoch로 지나면서 매우 가파르게 loss와 val_loss가 감소한다.\n",
    "        학습이 매우 잘 된 것이라 할 수 있다."
   ]
  },
  {
   "cell_type": "code",
   "execution_count": null,
   "metadata": {
    "colab": {
     "base_uri": "https://localhost:8080/",
     "height": 283
    },
    "colab_type": "code",
    "executionInfo": {
     "elapsed": 80481,
     "status": "ok",
     "timestamp": 1565015931206,
     "user": {
      "displayName": "Hwanhee Kim",
      "photoUrl": "https://lh6.googleusercontent.com/-nodxsDvEvZo/AAAAAAAAAAI/AAAAAAAABHE/Ybrj2myvr5Q/s64/photo.jpg",
      "userId": "04863080312902369470"
     },
     "user_tz": -540
    },
    "id": "NJSlA-z7NRHE",
    "outputId": "7a17b10f-139b-4afc-be65-a70dd039bf30"
   },
   "outputs": [],
   "source": [
    "# (2-3)LSTM 네트워크 학습 결과 확인\n",
    "import matplotlib.pyplot as plt\n",
    "plt.plot(history.history['loss'], 'b-', label='loss')\n",
    "plt.plot(history.history['val_loss'], 'r--', label='val_loss')\n",
    "plt.xlabel('Epoch')\n",
    "plt.legend()\n",
    "plt.show()"
   ]
  },
  {
   "cell_type": "code",
   "execution_count": null,
   "metadata": {
    "colab": {
     "base_uri": "https://localhost:8080/",
     "height": 143
    },
    "colab_type": "code",
    "executionInfo": {
     "elapsed": 761,
     "status": "ok",
     "timestamp": 1565016079805,
     "user": {
      "displayName": "Hwanhee Kim",
      "photoUrl": "https://lh6.googleusercontent.com/-nodxsDvEvZo/AAAAAAAAAAI/AAAAAAAABHE/Ybrj2myvr5Q/s64/photo.jpg",
      "userId": "04863080312902369470"
     },
     "user_tz": -540
    },
    "id": "Ob1VbaYzJCWa",
    "outputId": "74c30022-c570-4a34-ecc9-4e964573e661"
   },
   "outputs": [],
   "source": [
    "# (2-4)Test 데이터에 대한 예측 정확도 확인\n",
    "model.evaluate(X[2560:], Y[2560:])\n",
    "prediction = model.predict(X[2560:2560+5])\n",
    "for i in range(5):\n",
    "    print(Y[2560+i], '\\t', prediction[i][0], '\\tdiff:', abs(prediction[i][0] - Y[2560+i]))\n",
    "    \n",
    "prediction = model.predict(X[2560:])\n",
    "cnt = 0\n",
    "for i in range(len(prediction)):\n",
    "    if abs(prediction[i][0] - Y[2560+i]) > 0.04:\n",
    "        cnt += 1\n",
    "print('correctness:', (440 - cnt) / 440 * 100, '%')\n",
    "\n",
    "# [결과]\n",
    "#  테스트 데이터에 대한 loss는 0에 가깝게 나오고, 다섯 개의 샘플에 대한 오차도 0.04를 넘지 않는다.\n",
    "# 모든 테스트 데이터에 대한 정확도는 correctness: 92.5 %로 SimpleRNN보다 LSTM이 훨씬 적합하다는 것을 알 수 있다."
   ]
  },
  {
   "cell_type": "markdown",
   "metadata": {
    "colab_type": "text",
    "id": "VxV7T14AvXkH"
   },
   "source": [
    "## (3) GRU (Gated Recurrent Unit) 레이어\n",
    "\n",
    "+ 뉴욕대학교의 조경현 교수 등이 제안한 구조\n",
    "+ GRU 레이어는 LSTM 레이어와 비슷한 역할을 하지만 구조가 훨씬 간단해서 어떤 문제에서는 LSTM보다 좋은 성능을 보이기도 한다."
   ]
  },
  {
   "cell_type": "code",
   "execution_count": null,
   "metadata": {
    "colab": {
     "base_uri": "https://localhost:8080/",
     "height": 269
    },
    "colab_type": "code",
    "executionInfo": {
     "elapsed": 1059,
     "status": "ok",
     "timestamp": 1565420218129,
     "user": {
      "displayName": "Hwanhee Kim",
      "photoUrl": "https://lh6.googleusercontent.com/-nodxsDvEvZo/AAAAAAAAAAI/AAAAAAAABHE/Ybrj2myvr5Q/s64/photo.jpg",
      "userId": "04863080312902369470"
     },
     "user_tz": -540
    },
    "id": "8WjH-A0WvNAO",
    "outputId": "454743b1-553a-47ae-fe0e-c02ffa31d098"
   },
   "outputs": [],
   "source": [
    "# (1) GRU 레이어를 사용한 곱셈 문제 모델 정의 (여기만 GRU로 수정 )\n",
    "model = tf.keras.Sequential([\n",
    "    tf.keras.layers.GRU(units=30, return_sequences=True, input_shape=[100,2]),\n",
    "    tf.keras.layers.GRU(units=30),\n",
    "    tf.keras.layers.Dense(1)\n",
    "])\n",
    "\n",
    "model.compile(optimizer='adam', loss='mse')\n",
    "model.summary()"
   ]
  },
  {
   "cell_type": "markdown",
   "metadata": {},
   "source": [
    "#### [비교] 곱셈 문제를 풀기 위한 네트워크 파리미터 수\n",
    "    \n",
    "        - SimpleRNN : 2851\n",
    "        - LSTM :     11311\n",
    "        - GRU :       8671\n",
    "        \n",
    "        ` GRU 레이어를 사용한 네트워크의 파라미터가 LSTM 레이어 사용시보다 적다."
   ]
  },
  {
   "cell_type": "code",
   "execution_count": null,
   "metadata": {
    "colab": {
     "base_uri": "https://localhost:8080/",
     "height": 1000
    },
    "colab_type": "code",
    "executionInfo": {
     "elapsed": 515269,
     "status": "ok",
     "timestamp": 1565249609835,
     "user": {
      "displayName": "Hwanhee Kim",
      "photoUrl": "https://lh6.googleusercontent.com/-nodxsDvEvZo/AAAAAAAAAAI/AAAAAAAABHE/Ybrj2myvr5Q/s64/photo.jpg",
      "userId": "04863080312902369470"
     },
     "user_tz": -540
    },
    "id": "vd6C4gvUvdQS",
    "outputId": "efd36828-7906-4dc2-c92d-197230073c83"
   },
   "outputs": [],
   "source": [
    "# (2) GRU 네트워크 학습\n",
    "X = np.array(X)\n",
    "Y = np.array(Y)\n",
    "history = model.fit(X[:2560], Y[:2560], epochs=100, validation_split=0.2)"
   ]
  },
  {
   "cell_type": "code",
   "execution_count": null,
   "metadata": {
    "colab": {
     "base_uri": "https://localhost:8080/",
     "height": 283
    },
    "colab_type": "code",
    "executionInfo": {
     "elapsed": 1853,
     "status": "ok",
     "timestamp": 1565176283841,
     "user": {
      "displayName": "Hwanhee Kim",
      "photoUrl": "https://lh6.googleusercontent.com/-nodxsDvEvZo/AAAAAAAAAAI/AAAAAAAABHE/Ybrj2myvr5Q/s64/photo.jpg",
      "userId": "04863080312902369470"
     },
     "user_tz": -540
    },
    "id": "-SHz_LHExkH3",
    "outputId": "89a43f72-ea39-450c-d88b-a7da9208e72a"
   },
   "outputs": [],
   "source": [
    "# (3) GRU 네트워크 학습 결과 확인\n",
    "import matplotlib.pyplot as plt\n",
    "plt.plot(history.history['loss'], 'b-', label='loss')\n",
    "plt.plot(history.history['val_loss'], 'r--', label='val_loss')\n",
    "plt.xlabel('Epoch')\n",
    "plt.legend()\n",
    "plt.show()"
   ]
  },
  {
   "cell_type": "code",
   "execution_count": null,
   "metadata": {
    "colab": {
     "base_uri": "https://localhost:8080/",
     "height": 143
    },
    "colab_type": "code",
    "executionInfo": {
     "elapsed": 1717,
     "status": "ok",
     "timestamp": 1565176412723,
     "user": {
      "displayName": "Hwanhee Kim",
      "photoUrl": "https://lh6.googleusercontent.com/-nodxsDvEvZo/AAAAAAAAAAI/AAAAAAAABHE/Ybrj2myvr5Q/s64/photo.jpg",
      "userId": "04863080312902369470"
     },
     "user_tz": -540
    },
    "id": "JdecdSb0xkDj",
    "outputId": "8695a72f-4f0c-4fe0-f8ce-b4159ca249f4"
   },
   "outputs": [],
   "source": [
    "# (4) Test 데이터에 대한 예측 정확도 확인\n",
    "model.evaluate(X[2560:], Y[2560:])\n",
    "prediction = model.predict(X[2560:2560+5])\n",
    "for i in range(5):\n",
    "    print(Y[2560+i], '\\t', prediction[i][0], '\\tdiff:', abs(prediction[i][0] - Y[2560+i]))\n",
    "    \n",
    "prediction = model.predict(X[2560:])\n",
    "cnt = 0\n",
    "for i in range(len(prediction)):\n",
    "    if abs(prediction[i][0] - Y[2560+i]) > 0.04:\n",
    "        cnt += 1\n",
    "print('correctness:', (440 - cnt) / 440 * 100, '%')"
   ]
  }
 ],
 "metadata": {
  "accelerator": "GPU",
  "colab": {
   "collapsed_sections": [],
   "name": "Chapter7.ipynb",
   "provenance": [
    {
     "file_id": "148SI-wpi5Z3vDvYyOrNwGKsQQLZnVF-S",
     "timestamp": 1565493431491
    }
   ],
   "toc_visible": true
  },
  "kernelspec": {
   "display_name": "Python 3",
   "language": "python",
   "name": "python3"
  },
  "language_info": {
   "codemirror_mode": {
    "name": "ipython",
    "version": 3
   },
   "file_extension": ".py",
   "mimetype": "text/x-python",
   "name": "python",
   "nbconvert_exporter": "python",
   "pygments_lexer": "ipython3",
   "version": "3.7.7"
  }
 },
 "nbformat": 4,
 "nbformat_minor": 1
}
