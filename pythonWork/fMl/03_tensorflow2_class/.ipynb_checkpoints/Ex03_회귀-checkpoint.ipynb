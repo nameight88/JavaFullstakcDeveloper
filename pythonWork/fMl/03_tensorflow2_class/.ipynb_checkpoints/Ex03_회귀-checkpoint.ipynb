{
 "cells": [
  {
   "cell_type": "markdown",
   "metadata": {
    "colab_type": "text",
    "id": "SzBgd4W8N3Js"
   },
   "source": [
    "#  1. 선형 회귀(Linear Regression)\n",
    "\n",
    "    : 데이타의 경향성을 설명하는 하나의 직선을 예측하는 것\n",
    "        - 국어 성적이 높을 수록 수학 성적도 높을까\n",
    "        - 키가 큰 사람은 몸무게도 많이 나갈까\n",
    "        - 치킨판매량이 증가하면 맥주도 많이 팔릴까"
   ]
  },
  {
   "cell_type": "code",
   "execution_count": 1,
   "metadata": {
    "colab": {},
    "colab_type": "code",
    "id": "v6lUugr1JRBt"
   },
   "outputs": [],
   "source": [
    "# 텐서플로 2 버전 선택\n",
    "try:\n",
    "    # %tensorflow_version only exists in Colab.\n",
    "    %tensorflow_version 2.x\n",
    "except Exception:\n",
    "    pass"
   ]
  },
  {
   "cell_type": "markdown",
   "metadata": {
    "colab_type": "text",
    "id": "BCq2UCUvEkhh"
   },
   "source": [
    "[ 2018년 지역별 인구증가율과 고령인구비율 ]\n",
    "\n",
    "<table>\n",
    "    <tr><th>지역</th><th>인구증가율</th><th>고령인구비율</th></tr>\n",
    "    <tr><td>인천</td><td>0.3</td><td>12.27</td></tr>\n",
    "    <tr><td>서울</td><td>-7.78</td><td>14.44</td></tr>\n",
    "    <tr><td>경기</td><td>1.26</td><td>11.87</td></tr>\n",
    "    <tr><td>강원</td><td>0.03</td><td>18.75</td></tr>\n",
    "    <tr><td>충남</td><td>1.11</td><td>17.52</td></tr>\n",
    "    <tr><td>세종</td><td>15.17</td><td>9.29</td></tr>\n",
    "    <tr><td>충북</td><td>0.24</td><td>16.37</td></tr>\n",
    "    <tr><td>경북</td><td>-0.24</td><td>19.78</td></tr>\n",
    "    <tr><td>전북</td><td>-0.47</td><td>19.51</td></tr>\n",
    "    <tr><td>대전</td><td>-0.77</td><td>12.65</td></tr>\n",
    "    <tr><td>대구</td><td>-0.37</td><td>14.74</td></tr>\n",
    "    <tr><td>울산</td><td>-0.85</td><td>10.72</td></tr>\n",
    "    <tr><td>전남</td><td>-0.41</td><td>21.94</td></tr>\n",
    "    <tr><td>광주</td><td>-0.27</td><td>12.83</td></tr>\n",
    "    <tr><td>경남</td><td>0.02</td><td>15.51</td></tr>\n",
    "    <tr><td>부산</td><td>-0.76</td><td>17.14</td></tr>\n",
    "    <tr><td>제주</td><td>2.66</td><td>14.42</td></tr>\n",
    "</table>    "
   ]
  },
  {
   "cell_type": "code",
   "execution_count": null,
   "metadata": {},
   "outputs": [],
   "source": []
  },
  {
   "cell_type": "code",
   "execution_count": 2,
   "metadata": {
    "colab": {
     "base_uri": "https://localhost:8080/",
     "height": 283
    },
    "colab_type": "code",
    "id": "QChWDkRCN_tY",
    "outputId": "a82ca076-42c4-4bb8-cf32-0302b794d6b3"
   },
   "outputs": [
    {
     "data": {
      "image/png": "[encoded data removed]",
      "text/plain": [
       "<Figure size 432x288 with 1 Axes>"
      ]
     },
     "metadata": {
      "needs_background": "light"
     },
     "output_type": "display_data"
    }
   ],
   "source": [
    "\n",
    "import matplotlib.pyplot as plt\n",
    "population_inc = [0.3, -0.78, 1.26, 0.03, 1.11, 15.17, 0.24, -0.24, -0.47, -0.77, -0.37, -0.85, -0.41, -0.27, 0.02, -0.76, 2.66]\n",
    "population_old = [12.27, 14.44, 11.87, 18.75, 17.52, 9.29, 16.37, 19.78, 19.51, 12.65, 14.74, 10.72, 21.94, 12.83, 15.51, 17.14, 14.42]\n",
    "\n",
    "# (1) 지역별 인구증가율과 고령인구비율 시각화\n",
    "plt.plot(population_inc,population_old,'bo')\n",
    "plt.xlabel('Population Growth Rate (%)')\n",
    "plt.ylabel('Elderly Population Rate (%)')\n",
    "plt.show()"
   ]
  },
  {
   "cell_type": "code",
   "execution_count": 3,
   "metadata": {
    "colab": {
     "base_uri": "https://localhost:8080/",
     "height": 283
    },
    "colab_type": "code",
    "id": "RM75JVEDNtKq",
    "outputId": "0815d78c-ff90-4b59-b4b3-2600c43ea909"
   },
   "outputs": [
    {
     "data": {
      "image/png": "[encoded data removed]",
      "text/plain": [
       "<Figure size 432x288 with 1 Axes>"
      ]
     },
     "metadata": {
      "needs_background": "light"
     },
     "output_type": "display_data"
    }
   ],
   "source": [
    "# (2) 지역별 인구증가율과 고령인구비율 시각화: 극단치 제거\n",
    "#     세종시는 아마도 행정수도 이전으로 공무원 등 젊은 인구가 많이 이주하면서 인구증가율은 높고 고령인구비율은 낮은 데이타인 듯하여 제거한다\n",
    "\n",
    "import matplotlib.pyplot as plt\n",
    "population_inc = [0.3, -0.78, 1.26, 0.03, 1.11, 15.17, 0.24, -0.24, -0.47, -0.77, -0.37, -0.85, -0.41, -0.27, 0.02, -0.76, 2.66]\n",
    "population_inc = population_inc[:5] + population_inc[6:]\n",
    "population_old = [12.27, 14.44, 11.87, 18.75, 17.52, 9.29, 16.37, 19.78, 19.51, 12.65, 14.74, 10.72, 21.94, 12.83, 15.51, 17.14, 14.42]\n",
    "population_old = population_old[:5] + population_old[6:]\n",
    "\n",
    "\n",
    "plt.plot(population_inc,population_old,'bo')\n",
    "plt.xlabel('Population Growth Rate (%)')\n",
    "plt.ylabel('Elderly Population Rate (%)')\n",
    "plt.show()"
   ]
  },
  {
   "cell_type": "markdown",
   "metadata": {},
   "source": [
    "# 2-1 최소제곱법을 이용한 회귀선 구하기\n",
    "\n",
    "- 선형회귀(Linear Regression) : 데이터의 경향성을 가장 잘 설명하는 하나의 직선을 예측하는 것\n",
    "- 잔차(redidual) : 데이터의 경향성을 가장 잘 설명하나는 하나의 직선과 각 데이타의 차이\n",
    "- 최소제곱법(Least Square Method ) : 잔차의 제곱을 최소하하는 알고리즘\n",
    "\n",
    "<img src='./imgs/최소제곱법.png'>\n",
    "\n",
    "[참고] [ 최소제곱법 ](https://terms.naver.com/entry.nhn?docId=3569970&cid=58944&categoryId=58970)\n",
    "\n",
    "최소제곱법으로 y=ax + b 의 a(기울기)와 b(절편)을 구한다\n",
    "<img src='./imgs/최소제곱법2.png'>"
   ]
  },
  {
   "cell_type": "code",
   "execution_count": 25,
   "metadata": {
    "colab": {
     "base_uri": "https://localhost:8080/",
     "height": 301
    },
    "colab_type": "code",
    "id": "zjA3y39YnuVf",
    "outputId": "93eb5fa0-5be4-4171-8200-aa07d7242b7f"
   },
   "outputs": [
    {
     "name": "stdout",
     "output_type": "stream",
     "text": [
      "a: -0.355834147915461 b: 15.669317743971302\n"
     ]
    },
    {
     "data": {
      "image/png": "[encoded data removed]",
      "text/plain": [
       "<Figure size 432x288 with 1 Axes>"
      ]
     },
     "metadata": {
      "needs_background": "light"
     },
     "output_type": "display_data"
    }
   ],
   "source": [
    "# (3) 최소제곱법으로 회귀선 구하기\n",
    "import numpy as np\n",
    "import matplotlib.pyplot as plt\n",
    "# X = [0.3, -0.78, 1.26, 0.03, 1.11, 0.24, -0.24, -0.47, -0.77, -0.37, -0.85, -0.41, -0.27, 0.02, -0.76, 2.66]\n",
    "# Y = [12.27, 14.44, 11.87, 18.75, 17.52, 16.37, 19.78, 19.51, 12.65, 14.74, 10.72, 21.94, 12.83, 15.51, 17.14, 14.42]\n",
    "X = population_inc\n",
    "Y = population_old\n",
    "\n",
    "# X, Y의 평균을 구합니다.\n",
    "x_bar = sum(X) / len(X)\n",
    "y_bar = sum(Y) / len(Y)\n",
    "\n",
    "# 최소제곱법으로 기울기 a,  절편b를 구합니다.\n",
    "a = sum([(y - y_bar) * (x - x_bar) for y, x in list(zip(Y, X))])\n",
    "a /= sum([(x - x_bar) ** 2 for x in X])\n",
    "b = y_bar - a * x_bar\n",
    "print('a:', a, 'b:', b)\n",
    "\n",
    "# 그래프를 그리기 위해 회귀선의 x, y 데이터를 구합니다.\n",
    "line_x = np.arange(min(X), max(X), 0.01)\n",
    "line_y = a * line_x + b\n",
    "\n",
    "# 붉은색 실선으로 회귀선을 그립니다.\n",
    "plt.plot(line_x,line_y,'r-')\n",
    "\n",
    "plt.plot(X,Y,'bo')\n",
    "plt.xlabel('Population Growth Rate (%)')\n",
    "plt.ylabel('Elderly Population Rate (%)')\n",
    "plt.show()"
   ]
  },
  {
   "cell_type": "markdown",
   "metadata": {},
   "source": [
    "[ 결과 ]\n",
    "\n",
    "X값이 증가할 수록 Y값이 감소한다. \n",
    "(음의 상관관계 : 하나의 데이타가 증가하면 다른 데이타가 감소하는 관계 )\n",
    "즉, 인구증가율이 증가하면 고령인구비율은 감소한다."
   ]
  },
  {
   "cell_type": "markdown",
   "metadata": {},
   "source": [
    "# 2-2. 텐서플로를 이용해서 회귀선 구하기"
   ]
  },
  {
   "cell_type": "code",
   "execution_count": 5,
   "metadata": {
    "colab": {
     "base_uri": "https://localhost:8080/",
     "height": 463
    },
    "colab_type": "code",
    "id": "mnpySfdvnu2O",
    "outputId": "b6a23cee-78d0-425c-e8ac-a79a51fdbc14"
   },
   "outputs": [
    {
     "name": "stdout",
     "output_type": "stream",
     "text": [
      "99 a: 0.13312913 b: 6.4602222 loss: 94.39151\n",
      "199 a: -0.107273646 b: 10.995854 loss: 31.5714\n",
      "299 a: -0.24997158 b: 13.678714 loss: 13.734116\n",
      "399 a: -0.31851727 b: 14.967617 loss: 10.272045\n",
      "499 a: -0.34500185 b: 15.46563 loss: 9.822196\n",
      "599 a: -0.35325485 b: 15.620817 loss: 9.78315\n",
      "699 a: -0.3553337 b: 15.65991 loss: 9.780891\n",
      "799 a: -0.35575587 b: 15.667848 loss: 9.780806\n",
      "899 a: -0.3558245 b: 15.669135 loss: 9.780804\n",
      "999 a: -0.35583332 b: 15.669302 loss: 9.780804\n"
     ]
    },
    {
     "data": {
      "image/png": "[encoded data removed]",
      "text/plain": [
       "<Figure size 432x288 with 1 Axes>"
      ]
     },
     "metadata": {
      "needs_background": "light"
     },
     "output_type": "display_data"
    }
   ],
   "source": [
    "# (4) 텐서플로를 이용해서 회귀선 구하기\n",
    "import tensorflow as tf\n",
    "import numpy as np\n",
    "import matplotlib.pyplot as plt\n",
    "import random\n",
    "# X = [0.3, -0.78, 1.26, 0.03, 1.11, 0.24, -0.24, -0.47, -0.77, -0.37, -0.85, -0.41, -0.27, 0.02, -0.76, 2.66]\n",
    "# Y = [12.27, 14.44, 11.87, 18.75, 17.52, 16.37, 19.78, 19.51, 12.65, 14.74, 10.72, 21.94, 12.83, 15.51, 17.14, 14.42]\n",
    "X = population_inc\n",
    "Y = population_old\n",
    "\n",
    "# a와 b를 랜덤한 값으로 초기화합니다.\n",
    "a = tf.Variable(random.random())\n",
    "b = tf.Variable(random.random())\n",
    "\n",
    "# 잔차의 제곱의 평균을 반환하는 함수입니다.\n",
    "def compute_loss():\n",
    "    y_pred = a * X + b\n",
    "    # 잔차 : 기대출력 - 실제출력\n",
    "    loss = tf.reduce_mean((Y - y_pred) ** 2)\n",
    "    return loss\n",
    "\n",
    "# 최적화함수 : 복잡한 미분 계산 및 가중치 업데이트 등을 자동으로 진행해주는 도구\n",
    "# Adam : 최적화 함수 중 하나로 손실(loss)이 낮아 성능이 우수함\n",
    "# tf.keras.optimizers = tf.optimizers 동일\n",
    "# 1000번의 학습으로 a와 b는 잔차의 제곱의 평균을 최소화하는 적절한 값에 도달한다.\n",
    "optimizer = tf.keras.optimizers.Adam(lr=0.07)\n",
    "for i in range(1000):\n",
    "    # 잔차의 제곱의 평균을 최소화(minimize)합니다.\n",
    "    optimizer.minimize(compute_loss, var_list=[a,b])\n",
    "    \n",
    "    if i % 100 == 99:\n",
    "        print(i, 'a:', a.numpy(), 'b:', b.numpy(), 'loss:', compute_loss().numpy())\n",
    "\n",
    "line_x = np.arange(min(X), max(X), 0.01)\n",
    "line_y = a * line_x + b\n",
    "\n",
    "# 그래프를 그립니다.\n",
    "plt.plot(line_x,line_y,'r-')\n",
    "plt.plot(X,Y,'bo')\n",
    "plt.xlabel('Population Growth Rate (%)')\n",
    "plt.ylabel('Elderly Population Rate (%)')\n",
    "plt.show()"
   ]
  },
  {
   "cell_type": "markdown",
   "metadata": {
    "colab_type": "text",
    "id": "gkjyJAqnN8Zs"
   },
   "source": [
    "# 3. 다항 회귀(Polynomial Regression)\n",
    "\n",
    "- 비선형 회귀 (Nonlinear Regression) : 선형회귀로 표현할 수 없는 데이터의 경향성을 설명하기 위한 회귀\n",
    "\n",
    "- 다항 회귀 : 2차함수, 3차함수 등의 곡선이 되는 것\n",
    "\n",
    "<img src='./imgs/2차함수.png'>\n"
   ]
  },
  {
   "cell_type": "code",
   "execution_count": 6,
   "metadata": {
    "colab": {
     "base_uri": "https://localhost:8080/",
     "height": 463
    },
    "colab_type": "code",
    "id": "20I8mAhBOAid",
    "outputId": "27f112c3-d732-4aef-ba34-175bf0afef9d",
    "scrolled": true
   },
   "outputs": [
    {
     "name": "stdout",
     "output_type": "stream",
     "text": [
      "99 a: 4.1147227 b: -5.9634786 c: 6.152349 loss: 72.46844\n",
      "199 a: 2.974773 b: -4.7927217 c: 9.988619 loss: 33.915054\n",
      "299 a: 1.4218768 b: -2.4861279 c: 12.681702 loss: 17.115036\n",
      "399 a: 0.41830456 b: -0.98910964 c: 14.405664 loss: 11.33564\n",
      "499 a: -0.13377017 b: -0.16601634 c: 15.356406 loss: 9.817434\n",
      "599 a: -0.39760032 b: 0.22729108 c: 15.810986 loss: 9.510417\n",
      "699 a: -0.50748664 b: 0.39110273 c: 16.000332 loss: 9.462468\n",
      "799 a: -0.5474362 b: 0.45065632 c: 16.069174 loss: 9.456687\n",
      "899 a: -0.5601067 b: 0.46954474 c: 16.091005 loss: 9.45615\n",
      "999 a: -0.563595 b: 0.47474533 c: 16.097015 loss: 9.456114\n"
     ]
    },
    {
     "data": {
      "image/png": "[encoded data removed]",
      "text/plain": [
       "<Figure size 432x288 with 1 Axes>"
      ]
     },
     "metadata": {
      "needs_background": "light"
     },
     "output_type": "display_data"
    }
   ],
   "source": [
    "# (5) 텐서플로우를 이용해서 2차 함수 회귀선 구하기\n",
    "#    위의 1차 함수 코드와 동일하고 2차 함수 식만 수정한다.\n",
    "\n",
    "import tensorflow as tf\n",
    "import numpy as np\n",
    "import matplotlib.pyplot as plt\n",
    "import random\n",
    "X = [0.3, -0.78, 1.26, 0.03, 1.11, 0.24, -0.24, -0.47, -0.77, -0.37, -0.85, -0.41, -0.27, 0.02, -0.76, 2.66]\n",
    "Y = [12.27, 14.44, 11.87, 18.75, 17.52, 16.37, 19.78, 19.51, 12.65, 14.74, 10.72, 21.94, 12.83, 15.51, 17.14, 14.42]\n",
    "\n",
    "\n",
    "\n",
    "# a, b, c를 랜덤한 값으로 초기화합니다.\n",
    "a = tf.Variable(random.random())\n",
    "b = tf.Variable(random.random())\n",
    "c = tf.Variable(random.random())\n",
    "\n",
    "# 잔차의 제곱의 평균을 반환하는 함수입니다.\n",
    "def compute_loss():\n",
    "    #**************************** 여기 식만 변경됨 \n",
    "    y_pred = a * X*X + b * X + c\n",
    "    loss = tf.reduce_mean((Y - y_pred) ** 2) \n",
    "    return loss\n",
    "\n",
    "optimizer = tf.keras.optimizers.Adam(lr=0.07)\n",
    "for i in range(1000):\n",
    "    # 잔차의 제곱의 평균을 최소화(minimize)합니다.\n",
    "    optimizer.minimize(compute_loss, var_list=[a,b,c])\n",
    "    \n",
    "    if i % 100 == 99:\n",
    "        print(i, 'a:', a.numpy(), 'b:', b.numpy(), 'c:', c.numpy(), 'loss:', compute_loss().numpy())\n",
    "\n",
    "line_x = np.arange(min(X), max(X), 0.01)\n",
    "line_y = a * line_x * line_x + b * line_x + c\n",
    "\n",
    "# 그래프를 그립니다.\n",
    "plt.plot(line_x,line_y,'r-')\n",
    "plt.plot(X,Y,'bo')\n",
    "plt.xlabel('Population Growth Rate (%)')\n",
    "plt.ylabel('Elderly Population Rate (%)')\n",
    "plt.show()"
   ]
  },
  {
   "cell_type": "markdown",
   "metadata": {},
   "source": [
    "[ 결과 ]\n",
    "\n",
    "직선 회귀선보다 손실이 소량 감소했지만...\n",
    "\n",
    "    1차 (직선 회귀선 ) - loss: 9.780804\n",
    "    2차 (다항 회귀선 ) - loss: 9.456114"
   ]
  },
  {
   "cell_type": "markdown",
   "metadata": {
    "colab_type": "text",
    "id": "vifwuMeTOAu0"
   },
   "source": [
    "# 4.3 딥러닝 네트워크를 이용한 회귀"
   ]
  },
  {
   "cell_type": "code",
   "execution_count": 8,
   "metadata": {
    "colab": {
     "base_uri": "https://localhost:8080/",
     "height": 233
    },
    "colab_type": "code",
    "id": "00-h5uNNOM7V",
    "outputId": "f901d014-8163-4fa3-ebb6-8e26dc0c5b12"
   },
   "outputs": [
    {
     "name": "stdout",
     "output_type": "stream",
     "text": [
      "Model: \"sequential\"\n",
      "_________________________________________________________________\n",
      "Layer (type)                 Output Shape              Param #   \n",
      "=================================================================\n",
      "dense (Dense)                (None, 6)                 12        \n",
      "_________________________________________________________________\n",
      "dense_1 (Dense)              (None, 1)                 7         \n",
      "=================================================================\n",
      "Total params: 19\n",
      "Trainable params: 19\n",
      "Non-trainable params: 0\n",
      "_________________________________________________________________\n"
     ]
    }
   ],
   "source": [
    "# 4.7 딥러닝 네트워크를 이용한 회귀\n",
    "import tensorflow as tf\n",
    "import numpy as np\n",
    "\n",
    "X = [0.3, -0.78, 1.26, 0.03, 1.11, 0.24, -0.24, -0.47, -0.77, -0.37, -0.85, -0.41, -0.27, 0.02, -0.76, 2.66]\n",
    "Y = [12.27, 14.44, 11.87, 18.75, 17.52, 16.37, 19.78, 19.51, 12.65, 14.74, 10.72, 21.94, 12.83, 15.51, 17.14, 14.42]\n",
    "\n",
    "model = tf.keras.Sequential([\n",
    "    tf.keras.layers.Dense(units=6, activation='tanh', input_shape=(1,)),\n",
    "    tf.keras.layers.Dense(units=1)\n",
    "])\n",
    "\n",
    "model.compile(optimizer=tf.keras.optimizers.SGD(lr=0.1), loss='mse')\n",
    "\n",
    "model.summary()"
   ]
  },
  {
   "cell_type": "code",
   "execution_count": 9,
   "metadata": {
    "colab": {
     "base_uri": "https://localhost:8080/",
     "height": 395
    },
    "colab_type": "code",
    "id": "QylCvZXCJ16b",
    "outputId": "9cea4b57-272b-40d3-cd09-d2c4ffca5614"
   },
   "outputs": [
    {
     "name": "stdout",
     "output_type": "stream",
     "text": [
      "Train on 16 samples\n",
      "Epoch 1/10\n",
      "16/16 [==============================] - 1s 36ms/sample - loss: 254.4577\n",
      "Epoch 2/10\n",
      "16/16 [==============================] - 0s 2ms/sample - loss: 120.5823\n",
      "Epoch 3/10\n",
      "16/16 [==============================] - 0s 3ms/sample - loss: 13.1801\n",
      "Epoch 4/10\n",
      "16/16 [==============================] - 0s 5ms/sample - loss: 9.7843\n",
      "Epoch 5/10\n",
      "16/16 [==============================] - 0s 4ms/sample - loss: 9.6860\n",
      "Epoch 6/10\n",
      "16/16 [==============================] - 0s 5ms/sample - loss: 9.6279\n",
      "Epoch 7/10\n",
      "16/16 [==============================] - 0s 4ms/sample - loss: 9.5894\n",
      "Epoch 8/10\n",
      "16/16 [==============================] - 0s 3ms/sample - loss: 9.5619\n",
      "Epoch 9/10\n",
      "16/16 [==============================] - 0s 3ms/sample - loss: 9.5406\n",
      "Epoch 10/10\n",
      "16/16 [==============================] - 0s 3ms/sample - loss: 9.5229\n"
     ]
    },
    {
     "data": {
      "text/plain": [
       "<tensorflow.python.keras.callbacks.History at 0x2eb7539f0c8>"
      ]
     },
     "execution_count": 9,
     "metadata": {},
     "output_type": "execute_result"
    }
   ],
   "source": [
    "# 4.8 딥러닝 네트워크의 학습\n",
    "model.fit(X, Y, epochs=10)"
   ]
  },
  {
   "cell_type": "code",
   "execution_count": 10,
   "metadata": {
    "colab": {
     "base_uri": "https://localhost:8080/",
     "height": 305
    },
    "colab_type": "code",
    "id": "dKNRgRT-VmNo",
    "outputId": "ade404ad-a424-46bb-dff1-c8a912c0ac21"
   },
   "outputs": [
    {
     "data": {
      "text/plain": [
       "array([[15.893965 ],\n",
       "       [15.831018 ],\n",
       "       [14.982899 ],\n",
       "       [15.961416 ],\n",
       "       [15.183508 ],\n",
       "       [15.915899 ],\n",
       "       [15.9590225],\n",
       "       [15.917843 ],\n",
       "       [15.83411  ],\n",
       "       [15.939159 ],\n",
       "       [15.80913  ],\n",
       "       [15.931185 ],\n",
       "       [15.955345 ],\n",
       "       [15.962454 ],\n",
       "       [15.837191 ],\n",
       "       [13.344501 ]], dtype=float32)"
      ]
     },
     "execution_count": 10,
     "metadata": {},
     "output_type": "execute_result"
    }
   ],
   "source": [
    "# 4.9 딥러닝 네트워크의 Y값 예측\n",
    "model.predict(X)"
   ]
  },
  {
   "cell_type": "code",
   "execution_count": 11,
   "metadata": {
    "colab": {
     "base_uri": "https://localhost:8080/",
     "height": 283
    },
    "colab_type": "code",
    "id": "3hOY981DK93b",
    "outputId": "ae1087c2-0b96-4800-b8c7-66e5a0f73d16"
   },
   "outputs": [
    {
     "data": {
      "image/png": "[encoded data removed]",
      "text/plain": [
       "<Figure size 432x288 with 1 Axes>"
      ]
     },
     "metadata": {
      "needs_background": "light"
     },
     "output_type": "display_data"
    }
   ],
   "source": [
    "# 4.10 딥러닝 네트워크의 회귀선 확인\n",
    "import matplotlib.pyplot as plt\n",
    "\n",
    "line_x = np.arange(min(X), max(X), 0.01)\n",
    "line_y = model.predict(line_x)\n",
    "\n",
    "plt.plot(line_x,line_y,'r-')\n",
    "plt.plot(X,Y,'bo')\n",
    "plt.xlabel('Population Growth Rate (%)')\n",
    "plt.ylabel('Elderly Population Rate (%)')\n",
    "plt.show()"
   ]
  },
  {
   "cell_type": "code",
   "execution_count": 12,
   "metadata": {
    "colab": {
     "base_uri": "https://localhost:8080/",
     "height": 269
    },
    "colab_type": "code",
    "id": "hXUej2dfYEi3",
    "outputId": "879ab97f-8e9d-4592-89eb-e520732e7a1a"
   },
   "outputs": [
    {
     "data": {
      "image/png": "[encoded data removed]",
      "text/plain": [
       "<Figure size 432x288 with 1 Axes>"
      ]
     },
     "metadata": {
      "needs_background": "light"
     },
     "output_type": "display_data"
    }
   ],
   "source": [
    "# 그림 4.2 출력 코드\n",
    "import math\n",
    "def sigmoid(x):\n",
    "    return 1 / (1 + math.exp(-x))\n",
    "\n",
    "x = np.arange(-5, 5, 0.01)\n",
    "sigmoid_x = [sigmoid(z) for z in x]\n",
    "tanh_x = [math.tanh(z) for z in x]\n",
    "\n",
    "plt.axhline(0, color='gray')\n",
    "plt.axvline(0, color='gray')\n",
    "plt.plot(x, sigmoid_x, 'b-', label='sigmoid')\n",
    "plt.plot(x, tanh_x, 'r--', label='tanh')\n",
    "plt.legend()\n",
    "plt.show()"
   ]
  },
  {
   "cell_type": "markdown",
   "metadata": {
    "colab_type": "text",
    "id": "raf-pMEBKfmn"
   },
   "source": [
    "# 4.4 보스턴 주택 가격 데이터세트(Boston Housing Dataset)"
   ]
  },
  {
   "cell_type": "code",
   "execution_count": 13,
   "metadata": {
    "colab": {
     "base_uri": "https://localhost:8080/",
     "height": 89
    },
    "colab_type": "code",
    "id": "nYyev2iFKf-M",
    "outputId": "61211ae3-3411-42cc-c1fa-b4e88f72e4ee"
   },
   "outputs": [
    {
     "name": "stdout",
     "output_type": "stream",
     "text": [
      "Downloading data from https://storage.googleapis.com/tensorflow/tf-keras-datasets/boston_housing.npz\n",
      "57344/57026 [==============================] - 0s 1us/step\n",
      "404 102\n",
      "[  1.23247   0.        8.14      0.        0.538     6.142    91.7\n",
      "   3.9769    4.      307.       21.      396.9      18.72   ]\n",
      "15.2\n"
     ]
    }
   ],
   "source": [
    "# 4.11 데이터 불러오기\n",
    "from tensorflow.keras.datasets import boston_housing\n",
    "(train_X, train_Y), (test_X, test_Y) = boston_housing.load_data()\n",
    "\n",
    "print(len(train_X), len(test_X))\n",
    "print(train_X[0])\n",
    "print(train_Y[0])"
   ]
  },
  {
   "cell_type": "code",
   "execution_count": 14,
   "metadata": {
    "colab": {
     "base_uri": "https://localhost:8080/",
     "height": 89
    },
    "colab_type": "code",
    "id": "SavRNrV6oVxE",
    "outputId": "aa787df6-dfba-4435-f50a-effadcd43cb6"
   },
   "outputs": [
    {
     "name": "stdout",
     "output_type": "stream",
     "text": [
      "[-0.47482083 -0.48335641 -0.42698208 -0.48335641 -0.47963044 -0.44081941\n",
      "  0.15172056 -0.45581402 -0.45565404  1.64280094 -0.33791894  2.26541184\n",
      " -0.35370929]\n",
      "-0.7821526033779157\n"
     ]
    }
   ],
   "source": [
    "# 4.12 데이터 전처리(정규화)\n",
    "x_mean = train_X.mean()\n",
    "x_std = train_X.std()\n",
    "train_X -= x_mean\n",
    "train_X /= x_std\n",
    "test_X -= x_mean\n",
    "test_X /= x_std\n",
    "\n",
    "y_mean = train_Y.mean()\n",
    "y_std = train_Y.std()\n",
    "train_Y -= y_mean\n",
    "train_Y /= y_std\n",
    "test_Y -= y_mean\n",
    "test_Y /= y_std\n",
    "\n",
    "print(train_X[0])\n",
    "print(train_Y[0])"
   ]
  },
  {
   "cell_type": "code",
   "execution_count": 15,
   "metadata": {
    "colab": {
     "base_uri": "https://localhost:8080/",
     "height": 305
    },
    "colab_type": "code",
    "id": "cwSYzQG0Ych9",
    "outputId": "802a47e9-c4a2-4b7e-ef00-1a5380559d72"
   },
   "outputs": [
    {
     "name": "stdout",
     "output_type": "stream",
     "text": [
      "Model: \"sequential_1\"\n",
      "_________________________________________________________________\n",
      "Layer (type)                 Output Shape              Param #   \n",
      "=================================================================\n",
      "dense_2 (Dense)              (None, 52)                728       \n",
      "_________________________________________________________________\n",
      "dense_3 (Dense)              (None, 39)                2067      \n",
      "_________________________________________________________________\n",
      "dense_4 (Dense)              (None, 26)                1040      \n",
      "_________________________________________________________________\n",
      "dense_5 (Dense)              (None, 1)                 27        \n",
      "=================================================================\n",
      "Total params: 3,862\n",
      "Trainable params: 3,862\n",
      "Non-trainable params: 0\n",
      "_________________________________________________________________\n"
     ]
    }
   ],
   "source": [
    "# 4.13 Boston Housing Dataset 회귀 모델 생성\n",
    "model = tf.keras.Sequential([\n",
    "    tf.keras.layers.Dense(units=52, activation='relu', input_shape=(13,)),\n",
    "    tf.keras.layers.Dense(units=39, activation='relu'),\n",
    "    tf.keras.layers.Dense(units=26, activation='relu'),\n",
    "    tf.keras.layers.Dense(units=1)\n",
    "])\n",
    "\n",
    "model.compile(optimizer=tf.keras.optimizers.Adam(lr=0.07), loss='mse')\n",
    "\n",
    "model.summary()"
   ]
  },
  {
   "cell_type": "code",
   "execution_count": 16,
   "metadata": {
    "colab": {
     "base_uri": "https://localhost:8080/",
     "height": 269
    },
    "colab_type": "code",
    "id": "TnQV-j20JTgI",
    "outputId": "15f823cb-c0c7-48d7-f80d-984c3de80699"
   },
   "outputs": [
    {
     "data": {
      "image/png": "[encoded data removed]",
      "text/plain": [
       "<Figure size 432x288 with 1 Axes>"
      ]
     },
     "metadata": {
      "needs_background": "light"
     },
     "output_type": "display_data"
    }
   ],
   "source": [
    "# 그림 4.5 출력 코드\n",
    "import math\n",
    "def sigmoid(x):\n",
    "    return 1 / (1 + math.exp(-x))\n",
    "\n",
    "x = np.arange(-5, 5, 0.01)\n",
    "sigmoid_x = [sigmoid(z) for z in x]\n",
    "tanh_x = [math.tanh(z) for z in x]\n",
    "relu = [0 if z < 0 else z for z in x]\n",
    "\n",
    "plt.axhline(0, color='gray')\n",
    "plt.axvline(0, color='gray')\n",
    "plt.plot(x, sigmoid_x, 'b-', label='sigmoid')\n",
    "plt.plot(x, tanh_x, 'r--', label='tanh')\n",
    "plt.plot(x, relu, 'g.', label='relu')\n",
    "plt.legend()\n",
    "plt.show()"
   ]
  },
  {
   "cell_type": "code",
   "execution_count": 17,
   "metadata": {
    "colab": {
     "base_uri": "https://localhost:8080/",
     "height": 935
    },
    "colab_type": "code",
    "id": "wnXGDmwWYud1",
    "outputId": "91f1f9f1-909b-4c63-982d-de49b08b4a11"
   },
   "outputs": [
    {
     "name": "stdout",
     "output_type": "stream",
     "text": [
      "Train on 303 samples, validate on 101 samples\n",
      "Epoch 1/25\n",
      "303/303 [==============================] - 1s 3ms/sample - loss: 2.8651 - val_loss: 1.1948\n",
      "Epoch 2/25\n",
      "303/303 [==============================] - 0s 300us/sample - loss: 0.7361 - val_loss: 1.0151\n",
      "Epoch 3/25\n",
      "303/303 [==============================] - 0s 300us/sample - loss: 0.6700 - val_loss: 1.0098\n",
      "Epoch 4/25\n",
      "303/303 [==============================] - 0s 276us/sample - loss: 0.6521 - val_loss: 1.0945\n",
      "Epoch 5/25\n",
      "303/303 [==============================] - 0s 224us/sample - loss: 0.6350 - val_loss: 1.0675\n",
      "Epoch 6/25\n",
      "303/303 [==============================] - 0s 221us/sample - loss: 0.6550 - val_loss: 1.0815\n",
      "Epoch 7/25\n",
      "303/303 [==============================] - 0s 221us/sample - loss: 0.6537 - val_loss: 1.0511\n",
      "Epoch 8/25\n",
      "303/303 [==============================] - 0s 267us/sample - loss: 0.5925 - val_loss: 0.9765\n",
      "Epoch 9/25\n",
      "303/303 [==============================] - 0s 263us/sample - loss: 0.5859 - val_loss: 0.9815\n",
      "Epoch 10/25\n",
      "303/303 [==============================] - 0s 253us/sample - loss: 0.6505 - val_loss: 0.9869\n",
      "Epoch 11/25\n",
      "303/303 [==============================] - 0s 240us/sample - loss: 0.7232 - val_loss: 1.0024\n",
      "Epoch 12/25\n",
      "303/303 [==============================] - 0s 237us/sample - loss: 0.7477 - val_loss: 1.0417\n",
      "Epoch 13/25\n",
      "303/303 [==============================] - 0s 230us/sample - loss: 0.6305 - val_loss: 1.1523\n",
      "Epoch 14/25\n",
      "303/303 [==============================] - 0s 204us/sample - loss: 0.6876 - val_loss: 1.0413\n",
      "Epoch 15/25\n",
      "303/303 [==============================] - 0s 201us/sample - loss: 0.6232 - val_loss: 1.1025\n",
      "Epoch 16/25\n",
      "303/303 [==============================] - 0s 162us/sample - loss: 0.6013 - val_loss: 0.9992\n",
      "Epoch 17/25\n",
      "303/303 [==============================] - 0s 165us/sample - loss: 0.6189 - val_loss: 0.9440\n",
      "Epoch 18/25\n",
      "303/303 [==============================] - 0s 246us/sample - loss: 0.6291 - val_loss: 1.1801\n",
      "Epoch 19/25\n",
      "303/303 [==============================] - 0s 196us/sample - loss: 0.6180 - val_loss: 0.9896\n",
      "Epoch 20/25\n",
      "303/303 [==============================] - 0s 171us/sample - loss: 0.6269 - val_loss: 1.2582\n",
      "Epoch 21/25\n",
      "303/303 [==============================] - 0s 178us/sample - loss: 0.7314 - val_loss: 1.0077\n",
      "Epoch 22/25\n",
      "303/303 [==============================] - 0s 174us/sample - loss: 0.6163 - val_loss: 0.9612\n",
      "Epoch 23/25\n",
      "303/303 [==============================] - 0s 147us/sample - loss: 0.6065 - val_loss: 0.9445\n",
      "Epoch 24/25\n",
      "303/303 [==============================] - 0s 230us/sample - loss: 0.6363 - val_loss: 0.9433\n",
      "Epoch 25/25\n",
      "303/303 [==============================] - 0s 144us/sample - loss: 0.6025 - val_loss: 1.1914\n"
     ]
    }
   ],
   "source": [
    "# 4.14 회귀 모델 학습\n",
    "history = model.fit(train_X, train_Y, epochs=25, batch_size=32, validation_split=0.25)"
   ]
  },
  {
   "cell_type": "code",
   "execution_count": 18,
   "metadata": {
    "colab": {
     "base_uri": "https://localhost:8080/",
     "height": 283
    },
    "colab_type": "code",
    "id": "oQFhYTeHmkeb",
    "outputId": "22173172-8c49-4570-a822-43c44a664208"
   },
   "outputs": [
    {
     "data": {
      "image/png": "[encoded data removed]",
      "text/plain": [
       "<Figure size 432x288 with 1 Axes>"
      ]
     },
     "metadata": {
      "needs_background": "light"
     },
     "output_type": "display_data"
    }
   ],
   "source": [
    "# 4.15 회귀 모델 학습 결과 시각화\n",
    "import matplotlib.pyplot as plt\n",
    "plt.plot(history.history['loss'], 'b-', label='loss')\n",
    "plt.plot(history.history['val_loss'], 'r--', label='val_loss')\n",
    "plt.xlabel('Epoch')\n",
    "plt.legend()\n",
    "plt.show()"
   ]
  },
  {
   "cell_type": "code",
   "execution_count": 19,
   "metadata": {
    "colab": {
     "base_uri": "https://localhost:8080/",
     "height": 53
    },
    "colab_type": "code",
    "id": "FXIL_Isaao_t",
    "outputId": "543f3335-5d26-434d-f279-1328042667fb"
   },
   "outputs": [
    {
     "name": "stdout",
     "output_type": "stream",
     "text": [
      "\r",
      "102/1 [====================================================================================================================================================================================================================================================================================================================================================================================================================================================================================================================================================================================================================================================================================================================================================================================================================================================================================================================================================================================================================================================================================================================================================================================================================================================================================================================================================================================================================================================================================================================================================================================================================================================================================================================================================================================================================================================================================================================================================================================================================================================================================================================================================================================================================================================================================================================================================================================================================================================================================================================================================================================================================================================================================================================================================================================================================================================================================================================================================================================================================================================================================================================================================================================] - 0s 0s/sample - loss: 1.6894\n"
     ]
    },
    {
     "data": {
      "text/plain": [
       "0.7930099496654436"
      ]
     },
     "execution_count": 19,
     "metadata": {},
     "output_type": "execute_result"
    }
   ],
   "source": [
    "# 4.16 회귀 모델 평가\n",
    "model.evaluate(test_X, test_Y)"
   ]
  },
  {
   "cell_type": "code",
   "execution_count": 20,
   "metadata": {
    "colab": {
     "base_uri": "https://localhost:8080/",
     "height": 339
    },
    "colab_type": "code",
    "id": "JchlHj_HH0cb",
    "outputId": "d34c0574-24ae-4d59-b2bc-2b7eded29339"
   },
   "outputs": [
    {
     "data": {
      "image/png": "[encoded data removed]",
      "text/plain": [
       "<Figure size 360x360 with 1 Axes>"
      ]
     },
     "metadata": {
      "needs_background": "light"
     },
     "output_type": "display_data"
    }
   ],
   "source": [
    "# 4.17 실제 주택 가격과 예측 주택 가격 시각화\n",
    "import matplotlib.pyplot as plt\n",
    "\n",
    "pred_Y = model.predict(test_X)\n",
    "\n",
    "plt.figure(figsize=(5,5))\n",
    "plt.plot(test_Y, pred_Y, 'b.')\n",
    "plt.axis([min(test_Y), max(test_Y), min(test_Y), max(test_Y)])\n",
    "\n",
    "# y=x에 해당하는 대각선\n",
    "plt.plot([min(test_Y), max(test_Y)], [min(test_Y), max(test_Y)], ls=\"--\", c=\".3\")\n",
    "plt.xlabel('test_Y')\n",
    "plt.ylabel('pred_Y')\n",
    "\n",
    "plt.show()"
   ]
  },
  {
   "cell_type": "code",
   "execution_count": 21,
   "metadata": {
    "colab": {
     "base_uri": "https://localhost:8080/",
     "height": 647
    },
    "colab_type": "code",
    "id": "m0FujtGj_bg2",
    "outputId": "456e4d23-16a4-4b3e-d0b4-abcd24e21eda"
   },
   "outputs": [
    {
     "name": "stdout",
     "output_type": "stream",
     "text": [
      "Train on 303 samples, validate on 101 samples\n",
      "Epoch 1/25\n",
      "303/303 [==============================] - 1s 4ms/sample - loss: 2.8962 - val_loss: 1.5936\n",
      "Epoch 2/25\n",
      "303/303 [==============================] - 0s 283us/sample - loss: 0.9348 - val_loss: 1.1032\n",
      "Epoch 3/25\n",
      "303/303 [==============================] - 0s 234us/sample - loss: 0.7678 - val_loss: 1.0974\n",
      "Epoch 4/25\n",
      "303/303 [==============================] - 0s 293us/sample - loss: 0.7132 - val_loss: 1.0670\n",
      "Epoch 5/25\n",
      "303/303 [==============================] - 0s 342us/sample - loss: 0.6795 - val_loss: 1.0660\n",
      "Epoch 6/25\n",
      "303/303 [==============================] - 0s 234us/sample - loss: 0.7003 - val_loss: 1.0587\n",
      "Epoch 7/25\n",
      "303/303 [==============================] - 0s 244us/sample - loss: 0.7024 - val_loss: 1.1196\n",
      "Epoch 8/25\n",
      "303/303 [==============================] - 0s 221us/sample - loss: 0.6492 - val_loss: 1.1046\n",
      "Epoch 9/25\n",
      "303/303 [==============================] - 0s 227us/sample - loss: 0.6442 - val_loss: 1.0562\n",
      "Epoch 10/25\n",
      "303/303 [==============================] - 0s 273us/sample - loss: 0.6487 - val_loss: 1.2873\n",
      "Epoch 11/25\n",
      "303/303 [==============================] - 0s 296us/sample - loss: 0.6552 - val_loss: 1.0494\n",
      "Epoch 12/25\n",
      "303/303 [==============================] - 0s 342us/sample - loss: 0.6795 - val_loss: 1.0204\n",
      "Epoch 13/25\n",
      "303/303 [==============================] - 0s 260us/sample - loss: 0.6303 - val_loss: 1.1944\n",
      "Epoch 14/25\n",
      "303/303 [==============================] - 0s 234us/sample - loss: 0.6282 - val_loss: 1.1020\n",
      "Epoch 15/25\n",
      "303/303 [==============================] - 0s 270us/sample - loss: 0.6224 - val_loss: 1.0661\n"
     ]
    }
   ],
   "source": [
    "# 4.18 모델 재정의 및 학습\n",
    "model = tf.keras.Sequential([\n",
    "    tf.keras.layers.Dense(units=52, activation='relu', input_shape=(13,)),\n",
    "    tf.keras.layers.Dense(units=39, activation='relu'),\n",
    "    tf.keras.layers.Dense(units=26, activation='relu'),\n",
    "    tf.keras.layers.Dense(units=1)\n",
    "])\n",
    "\n",
    "model.compile(optimizer=tf.keras.optimizers.Adam(lr=0.07), loss='mse')\n",
    "\n",
    "history = model.fit(train_X, train_Y, epochs=25, batch_size=32, validation_split=0.25, callbacks=[tf.keras.callbacks.EarlyStopping(patience=3, monitor='val_loss')])"
   ]
  },
  {
   "cell_type": "code",
   "execution_count": 22,
   "metadata": {
    "colab": {
     "base_uri": "https://localhost:8080/",
     "height": 283
    },
    "colab_type": "code",
    "id": "JRuoLaJM_zIK",
    "outputId": "55dea33f-19d8-4359-8619-948b8b49fc0c"
   },
   "outputs": [
    {
     "data": {
      "image/png": "[encoded data removed]",
      "text/plain": [
       "<Figure size 432x288 with 1 Axes>"
      ]
     },
     "metadata": {
      "needs_background": "light"
     },
     "output_type": "display_data"
    }
   ],
   "source": [
    "# 4.19 회귀 모델 학습 결과 시각화\n",
    "import matplotlib.pyplot as plt\n",
    "plt.plot(history.history['loss'], 'b-', label='loss')\n",
    "plt.plot(history.history['val_loss'], 'r--', label='val_loss')\n",
    "plt.xlabel('Epoch')\n",
    "plt.legend()\n",
    "plt.show()"
   ]
  },
  {
   "cell_type": "code",
   "execution_count": 23,
   "metadata": {
    "colab": {
     "base_uri": "https://localhost:8080/",
     "height": 53
    },
    "colab_type": "code",
    "id": "UBTn6vOq_3ar",
    "outputId": "0d3df56c-13d3-4568-cbf1-54665d881b03"
   },
   "outputs": [
    {
     "name": "stdout",
     "output_type": "stream",
     "text": [
      "\r",
      "102/1 [====================================================================================================================================================================================================================================================================================================================================================================================================================================================================================================================================================================================================================================================================================================================================================================================================================================================================================================================================================================================================================================================================================================================================================================================================================================================================================================================================================================================================================================================================================================================================================================================================================================================================================================================================================================================================================================================================================================================================================================================================================================================================================================================================================================================================================================================================================================================================================================================================================================================================================================================================================================================================================================================================================================================================================================================================================================================================================================================================================================================================================================================================================================================================================================================] - 0s 59us/sample - loss: 1.5543\n"
     ]
    },
    {
     "data": {
      "text/plain": [
       "0.6899072282454547"
      ]
     },
     "execution_count": 23,
     "metadata": {},
     "output_type": "execute_result"
    }
   ],
   "source": [
    "# 4.20 회귀 모델 평가\n",
    "model.evaluate(test_X, test_Y)"
   ]
  },
  {
   "cell_type": "code",
   "execution_count": 24,
   "metadata": {
    "colab": {
     "base_uri": "https://localhost:8080/",
     "height": 339
    },
    "colab_type": "code",
    "id": "5dBsLf-GDphx",
    "outputId": "24ea5138-7421-431c-99d7-4abed88bc1b0"
   },
   "outputs": [
    {
     "data": {
      "image/png": "[encoded data removed]",
      "text/plain": [
       "<Figure size 360x360 with 1 Axes>"
      ]
     },
     "metadata": {
      "needs_background": "light"
     },
     "output_type": "display_data"
    }
   ],
   "source": [
    "# 4.21 실제 주택 가격과 예측 주택 가격 시각화\n",
    "import matplotlib.pyplot as plt\n",
    "\n",
    "pred_Y = model.predict(test_X)\n",
    "\n",
    "plt.figure(figsize=(5,5))\n",
    "plt.plot(test_Y, pred_Y, 'b.')\n",
    "plt.axis([min(test_Y), max(test_Y), min(test_Y), max(test_Y)])\n",
    "\n",
    "plt.plot([min(test_Y), max(test_Y)], [min(test_Y), max(test_Y)], ls=\"--\", c=\".3\")\n",
    "plt.xlabel('test_Y')\n",
    "plt.ylabel('pred_Y')\n",
    "\n",
    "plt.show()"
   ]
  }
 ],
 "metadata": {
  "accelerator": "GPU",
  "colab": {
   "collapsed_sections": [],
   "name": "Chapter4.ipynb",
   "provenance": [],
   "toc_visible": true
  },
  "kernelspec": {
   "display_name": "Python 3",
   "language": "python",
   "name": "python3"
  },
  "language_info": {
   "codemirror_mode": {
    "name": "ipython",
    "version": 3
   },
   "file_extension": ".py",
   "mimetype": "text/x-python",
   "name": "python",
   "nbconvert_exporter": "python",
   "pygments_lexer": "ipython3",
   "version": "3.7.6"
  }
 },
 "nbformat": 4,
 "nbformat_minor": 1
}
