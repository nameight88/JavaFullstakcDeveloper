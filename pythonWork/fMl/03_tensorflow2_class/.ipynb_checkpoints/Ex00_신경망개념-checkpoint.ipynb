{
 "cells": [
  {
   "cell_type": "markdown",
   "metadata": {
    "colab_type": "text",
    "id": "0Rtekp0G0YL0"
   },
   "source": [
    "# [참고] Hello 텐서플로 2.0 확인"
   ]
  },
  {
   "cell_type": "code",
   "execution_count": 1,
   "metadata": {
    "colab": {
     "base_uri": "https://localhost:8080/",
     "height": 35
    },
    "colab_type": "code",
    "executionInfo": {
     "elapsed": 8222,
     "status": "ok",
     "timestamp": 1574604897916,
     "user": {
      "displayName": "Hwanhee Kim",
      "photoUrl": "https://lh3.googleusercontent.com/a-/AAuE7mAJC9PPBoQ91glDwFjxm3TlW5EqGy0BIAJ52D-ekw=s64",
      "userId": "04863080312902369470"
     },
     "user_tz": -540
    },
    "id": "CklSGCkG2v22",
    "outputId": "da686fd5-14f1-476b-c337-d13a9afe4874"
   },
   "outputs": [],
   "source": [
    "# 3.4 텐서플로 2.0 버전 선택\n",
    "try:\n",
    "    # %tensorflow_version only exists in Colab.\n",
    "    %tensorflow_version 2.x\n",
    "except Exception:\n",
    "    pass\n",
    "import tensorflow as tf"
   ]
  },
  {
   "cell_type": "code",
   "execution_count": 2,
   "metadata": {
    "colab": {
     "base_uri": "https://localhost:8080/",
     "height": 35
    },
    "colab_type": "code",
    "executionInfo": {
     "elapsed": 4647,
     "status": "ok",
     "timestamp": 1573269556884,
     "user": {
      "displayName": "Hwanhee Kim",
      "photoUrl": "https://lh3.googleusercontent.com/a-/AAuE7mAJC9PPBoQ91glDwFjxm3TlW5EqGy0BIAJ52D-ekw=s64",
      "userId": "04863080312902369470"
     },
     "user_tz": -540
    },
    "id": "1nyZokK7MKTd",
    "outputId": "33e64265-e980-424b-eef4-41198d02d914"
   },
   "outputs": [],
   "source": [
    "# Google Colab 운영체제 확인\n",
    "# import platform\n",
    "# print(platform.platform())"
   ]
  },
  {
   "cell_type": "code",
   "execution_count": 2,
   "metadata": {
    "colab": {
     "base_uri": "https://localhost:8080/",
     "height": 35
    },
    "colab_type": "code",
    "executionInfo": {
     "elapsed": 3497,
     "status": "ok",
     "timestamp": 1573269556885,
     "user": {
      "displayName": "Hwanhee Kim",
      "photoUrl": "https://lh3.googleusercontent.com/a-/AAuE7mAJC9PPBoQ91glDwFjxm3TlW5EqGy0BIAJ52D-ekw=s64",
      "userId": "04863080312902369470"
     },
     "user_tz": -540
    },
    "id": "ksLZERzR3n29",
    "outputId": "9f0df58b-dcd2-4191-8a5f-c019b6f610b2"
   },
   "outputs": [
    {
     "data": {
      "text/plain": [
       "'2.5.0'"
      ]
     },
     "execution_count": 2,
     "metadata": {},
     "output_type": "execute_result"
    }
   ],
   "source": [
    "# 3.5 텐서플로우 불러오기, 버전 확인\n",
    "# import tensorflow as tf\n",
    "\n",
    "tf.__version__"
   ]
  },
  {
   "cell_type": "markdown",
   "metadata": {
    "colab_type": "text",
    "id": "2dR8mqitUEfH"
   },
   "source": [
    "\n",
    "---\n",
    "\n",
    "##  [참고] 랜덤한 수 생성\n",
    "\n",
    " * 균등분포란\n",
    " \n",
    "     일반적으로 각 이벤트의 결과값을 알 수 없는 경우에 미래에 발생할\n",
    "    이벤트의 결과값 x가 각 예상되는 범위별로  균등한 확률로 일어날 것이라고 예상될 때\n",
    "   사용한다.\n",
    "\n",
    "   예를 들어 주사위를 던져 윗면에 있는 숫자를 알아보기로 하자.  200번을 던지고 201번째    주사위를 던진다고 했을 때 201번째 결과값은 앞은 1에서 200번까지 결과값에 영향을\n",
    "   받지 않는다.\n",
    "   201번째 결과값이 1,2,3,4,5,6 각각의 결과값으로 나올 확률은 6분의 1이며 이는 앞의\n",
    "   1~200번째 결과값에 영향을 받아 줄어들거나 늘어나지 않는다는 것이다.\n",
    "   이처럼  미래 결과값이 경험적으로 알 수 없을 상황에서 사용하는 것이 균등분포이다.\n",
    "\n",
    "\n",
    "  * 정규분포란  \n",
    "  \n",
    "      과거의 축적된 경험적 데이타를 이미 보유하고 있어 이를 이용하여 미래에\n",
    "    발생할 결과값 x의 각 예상되는 범위별로 발생될 확률을 어느정도 추정할 수 있을 때\n",
    "    사용한다.\n",
    "    세상의 수많은 현상들은  많은 경우에 있어서 정규분포를 따른다고 한다.\n",
    "   \n",
    "     예를 들어, 프랜차이즈 매장을  연지 2년이 되었다면  다음 달 매출액이 대략 어느\n",
    "     정도 범위안에 들 것이라는 것이 예측가능하다.  이전 3개월의 매출추세를 이용해\n",
    "     이번달에는 어느 범위에 들 것이라는 것이 예측가능하다.\n",
    "     매장주라면 과거 3개월의 매출이 2천만원, 2천백만원, 2천2백원 발생하였으니\n",
    "     이번달 매출은 과거 3개월의 매출평균인 2천백만원으로 예측할 수 있고 못해도 최소\n",
    "     2천만원의 매출을 달성할 수 있고,  최대 2천2백만원까지 매출할 수 있다는 예상이\n",
    "     가능하다.\n",
    "\n",
    "    많은 수학자들은  현실의 현상을 분석하여 수많은 현상들이 정규분포를 따른다는 것을\n",
    "    밝혀 내고 이 정규분포가 갖고 있는 여러가지 특성들을 정리하였다.\n",
    "    \n",
    "    [출처](https://jonnyomme.blogspot.com/)"
   ]
  },
  {
   "cell_type": "code",
   "execution_count": 3,
   "metadata": {
    "colab": {
     "base_uri": "https://localhost:8080/",
     "height": 35
    },
    "colab_type": "code",
    "executionInfo": {
     "elapsed": 765,
     "status": "ok",
     "timestamp": 1573269978631,
     "user": {
      "displayName": "Hwanhee Kim",
      "photoUrl": "https://lh3.googleusercontent.com/a-/AAuE7mAJC9PPBoQ91glDwFjxm3TlW5EqGy0BIAJ52D-ekw=s64",
      "userId": "04863080312902369470"
     },
     "user_tz": -540
    },
    "id": "Mq2AtFOl0hS1",
    "outputId": "78da706a-e7f3-483a-c97d-0cfeb36c456d"
   },
   "outputs": [
    {
     "name": "stdout",
     "output_type": "stream",
     "text": [
      "tf.Tensor([0.2599151], shape=(1,), dtype=float32)\n"
     ]
    }
   ],
   "source": [
    "# 1) 랜덤한 수 얻기 (균일 분포)\n",
    "rand = tf.random.uniform([1],0,1) # shape,   minval=0,    maxval=None,\n",
    "print(rand)"
   ]
  },
  {
   "cell_type": "code",
   "execution_count": 4,
   "metadata": {
    "colab": {
     "base_uri": "https://localhost:8080/",
     "height": 35
    },
    "colab_type": "code",
    "executionInfo": {
     "elapsed": 650,
     "status": "ok",
     "timestamp": 1573270737911,
     "user": {
      "displayName": "Hwanhee Kim",
      "photoUrl": "https://lh3.googleusercontent.com/a-/AAuE7mAJC9PPBoQ91glDwFjxm3TlW5EqGy0BIAJ52D-ekw=s64",
      "userId": "04863080312902369470"
     },
     "user_tz": -540
    },
    "id": "7Fb7DLjQ4i4C",
    "outputId": "2017c692-0715-4efa-dd30-741f7c08ef71"
   },
   "outputs": [
    {
     "name": "stdout",
     "output_type": "stream",
     "text": [
      "tf.Tensor([0.7013321  0.15792716 0.04806888 0.8804332 ], shape=(4,), dtype=float32)\n"
     ]
    }
   ],
   "source": [
    "# 2)랜덤한 수 여러 개 얻기 (균일 분포)\n",
    "rand = tf.random.uniform([4],0,1) # shape,   minval=0,    maxval=None,\n",
    "print(rand)"
   ]
  },
  {
   "cell_type": "code",
   "execution_count": 5,
   "metadata": {
    "colab": {
     "base_uri": "https://localhost:8080/",
     "height": 35
    },
    "colab_type": "code",
    "executionInfo": {
     "elapsed": 1368,
     "status": "ok",
     "timestamp": 1574604904460,
     "user": {
      "displayName": "Hwanhee Kim",
      "photoUrl": "https://lh3.googleusercontent.com/a-/AAuE7mAJC9PPBoQ91glDwFjxm3TlW5EqGy0BIAJ52D-ekw=s64",
      "userId": "04863080312902369470"
     },
     "user_tz": -540
    },
    "id": "jcmeN0232BUz",
    "outputId": "ba22b87c-3b20-4c94-913b-ff8bbb7bfae1"
   },
   "outputs": [
    {
     "name": "stdout",
     "output_type": "stream",
     "text": [
      "tf.Tensor([-1.3090576  -0.08211203 -1.013012   -1.0219408 ], shape=(4,), dtype=float32)\n"
     ]
    }
   ],
   "source": [
    "# 3) 랜덤한 수 여러 개 얻기 (정규 분포)\n",
    "rand = tf.random.normal([4],0,1)  # shape,   mean=0.0,   stddev=1.0,\n",
    "print(rand)"
   ]
  },
  {
   "cell_type": "markdown",
   "metadata": {
    "colab_type": "text",
    "id": "goJriV4SUL4F"
   },
   "source": [
    "---\n",
    "\n",
    "## 1. 뉴런 만들기\n",
    "\n",
    "+ sigmoid : S형태의 곡선\n",
    "+ ReLU (Rectified Linear Unit ) : 정류된 선형함수\n",
    "   - 딥러닝에서 선형함수는 y=x라는 식으로 정의할 수 있는 입력과 출력이 동일한 함수를 의미하는데, 이 함수를 정류해서(rectify)해서 음수 값을 0으로 만든 것이다.\n",
    "    \n",
    "<img src='./imgs/sigmoid_relu.png'>\n",
    "\n",
    "\n",
    "### sigmoid 함수 개념 예제\n",
    "<img src='./imgs/활성화함수1.png' width='400' height='250'>"
   ]
  },
  {
   "cell_type": "code",
   "execution_count": 6,
   "metadata": {
    "colab": {},
    "colab_type": "code",
    "id": "ilkTV9SKmyP5"
   },
   "outputs": [],
   "source": [
    "# (1) sigmoid 함수\n",
    "import math\n",
    "def sigmoid(x):\n",
    "    return 1 / (1 + math.exp(-x))"
   ]
  },
  {
   "cell_type": "code",
   "execution_count": 7,
   "metadata": {
    "colab": {
     "base_uri": "https://localhost:8080/",
     "height": 35
    },
    "colab_type": "code",
    "executionInfo": {
     "elapsed": 824,
     "status": "ok",
     "timestamp": 1556809447757,
     "user": {
      "displayName": "Hwanhee Kim",
      "photoUrl": "https://lh6.googleusercontent.com/-nodxsDvEvZo/AAAAAAAAAAI/AAAAAAAABHE/Ybrj2myvr5Q/s64/photo.jpg",
      "userId": "04863080312902369470"
     },
     "user_tz": -540
    },
    "id": "bmOY52Sj3p0a",
    "outputId": "13582d69-c251-4c5c-c3f5-2ce1c2536992"
   },
   "outputs": [
    {
     "name": "stdout",
     "output_type": "stream",
     "text": [
      "0.26341753215424657\n"
     ]
    }
   ],
   "source": [
    "# (2) 뉴런의 입력과 출력 정의\n",
    "#    입력이 1일 때 기대출력이 0이 되는 뉴런을 만든고자 하는데\n",
    "x = 1\n",
    "y = 0\n",
    "w = tf.random.normal([1],0,1)\n",
    "output = sigmoid(x * w)\n",
    "print(output)\n",
    "# 실제 출력 output은 기대출력 0과 차이가 있는데 이를 error라고 한다.\n",
    "# error = 0 - output  (ex -0.84)\n",
    "# 뉴런의 학습은 이 에러가 0에 가까워지게 하여 기댓값과 가까운 출력을 얻는 것이다."
   ]
  },
  {
   "cell_type": "markdown",
   "metadata": {},
   "source": [
    "## 경사하강법\n",
    "\n",
    "- 오차와 기울기의 관계를 그래프로 그려보면, 어느 한 기울기에서 오차가 최소인 점을 알 우 싱다.\n",
    "- 그 점은 기울이가 0인 점이다.\n",
    "- 즉, 오차가 최소인 점을 알아낼려면 기울기가 0인 점을 찾아내면 된다\n",
    "- 그래서 어느 한 점을 정해두고 정해둔 학습률과 함께 미문을 하면서 이동하다보면 오차가 최소인 점을 찾게 되는데, 마치 경사를 타고 내려가는 것처럼 보여져서 이 방법을 \"경사하강법\"이라고 한다\n",
    "\n",
    "\n",
    "<img src='./imgs/경사하강법1.png' width='500'>\n",
    "<img src='./imgs/경사하강법2.png' width='500'>"
   ]
  },
  {
   "cell_type": "code",
   "execution_count": 8,
   "metadata": {
    "colab": {
     "base_uri": "https://localhost:8080/",
     "height": 197
    },
    "colab_type": "code",
    "executionInfo": {
     "elapsed": 654,
     "status": "ok",
     "timestamp": 1556809450874,
     "user": {
      "displayName": "Hwanhee Kim",
      "photoUrl": "https://lh6.googleusercontent.com/-nodxsDvEvZo/AAAAAAAAAAI/AAAAAAAABHE/Ybrj2myvr5Q/s64/photo.jpg",
      "userId": "04863080312902369470"
     },
     "user_tz": -540
    },
    "id": "SQOfPrld8cde",
    "outputId": "007db597-d430-4e63-a6c4-ed8c5f001233"
   },
   "outputs": [
    {
     "name": "stdout",
     "output_type": "stream",
     "text": [
      "99 -0.08094428294939458 0.08094428294939458\n",
      "199 -0.0459173642371846 0.0459173642371846\n",
      "299 -0.031831371481089395 0.031831371481089395\n",
      "399 -0.024300505991313653 0.024300505991313653\n",
      "499 -0.019629472628224322 0.019629472628224322\n",
      "599 -0.016454703496583067 0.016454703496583067\n",
      "699 -0.0141586953306129 0.0141586953306129\n",
      "799 -0.012422059507758916 0.012422059507758916\n",
      "899 -0.011063068614285444 0.011063068614285444\n",
      "999 -0.009970984895685599 0.009970984895685599\n"
     ]
    }
   ],
   "source": [
    "# (3) 경사 하강법을 이용한 뉴런의 학습\n",
    "#    결국 w 값을 변화시켜서 원하는 결과를 찾아야 한다.\n",
    "#    경사하강법 (Gradient Descent) : w = w + x * a(alpha) * error\n",
    "#    w에 입력값(x)과 학습률(a:alpha)와 에러(error)를 곱한것을 더해주는 것이다.\n",
    "#    학습률 a는 w를 업데이트 하는 정도로 설정하되, 큰 값으로 설정하면 과도한 학습으로 적정 수치를 벗어날 수 있고,\n",
    "#    너무 작은 값으로 설정하면 학습 속도가 느려질 수 있다\n",
    "#    여기서는 a=0.1로 설정한다\n",
    "\n",
    "for i in range(1000):\n",
    "    output = sigmoid(x * w)\n",
    "    error = y - output\n",
    "    w = w + x * 0.1 * error\n",
    "    \n",
    "    if i % 100 == 99:\n",
    "        print(i, error, output)"
   ]
  },
  {
   "cell_type": "code",
   "execution_count": 9,
   "metadata": {
    "colab": {
     "base_uri": "https://localhost:8080/",
     "height": 197
    },
    "colab_type": "code",
    "executionInfo": {
     "elapsed": 885,
     "status": "ok",
     "timestamp": 1556809452957,
     "user": {
      "displayName": "Hwanhee Kim",
      "photoUrl": "https://lh6.googleusercontent.com/-nodxsDvEvZo/AAAAAAAAAAI/AAAAAAAABHE/Ybrj2myvr5Q/s64/photo.jpg",
      "userId": "04863080312902369470"
     },
     "user_tz": -540
    },
    "id": "v6QTKN-Y_Pej",
    "outputId": "eab797bb-27cf-4e76-e9e0-cfa33663b48e"
   },
   "outputs": [
    {
     "name": "stdout",
     "output_type": "stream",
     "text": [
      "99 0.5 0.5\n",
      "199 0.5 0.5\n",
      "299 0.5 0.5\n",
      "399 0.5 0.5\n",
      "499 0.5 0.5\n",
      "599 0.5 0.5\n",
      "699 0.5 0.5\n",
      "799 0.5 0.5\n",
      "899 0.5 0.5\n",
      "999 0.5 0.5\n"
     ]
    }
   ],
   "source": [
    "# (4) 입력값 x=0 일 때 출력값 y=1 을 얻는 뉴런의 학습 (위와 반대로)\n",
    "x = 0\n",
    "y = 1\n",
    "w = tf.random.normal([1],0,1)\n",
    "\n",
    "for i in range(1000):\n",
    "    output = sigmoid(x * w)\n",
    "    error = y - output\n",
    "    w = w + x * 0.1 * error\n",
    "    \n",
    "    if i % 100 == 99:\n",
    "        print(i, error, output)\n",
    "\n",
    "# error값도 출력값도 0,5로 변하지 않다. x=0이기 때문이다.\n",
    "# 이럴 경우 편향(bias)를 뉴런에 넣는다. 그래서 입력값으로 0을 받았을 때 뉴런이 아무것도 배우지 못하는 상황을 방지한다.\n",
    "# 보편적으로 편향의 입력을 1로 넣는다.\n",
    "# Y = f (X*w + 1 * b)"
   ]
  },
  {
   "cell_type": "markdown",
   "metadata": {},
   "source": [
    "## 편향 (bias)\n",
    "\n",
    "[ 편향을 더해진 뉴런의 계산식 ]\n",
    "\n",
    "<img src='./imgs/활성화함수2.png' width='400' height='250'>\n",
    "\n",
    "[ 참고 ] [편향(bias)에 대해](https://blog.ncsoft.com/%ea%b2%8c%ec%9e%84-%eb%94%94%ec%9e%90%ec%9d%b8-%eb%a0%88%eb%b2%a8%ec%97%85-6-%ec%97%91%ec%85%80%eb%a1%9c-%ec%89%bd%ea%b2%8c-%ec%9d%b4%ed%95%b4%ed%95%98%eb%8a%94-%eb%94%a5%eb%9f%ac%eb%8b%9d-bias/)\n"
   ]
  },
  {
   "cell_type": "code",
   "execution_count": 10,
   "metadata": {
    "colab": {
     "base_uri": "https://localhost:8080/",
     "height": 197
    },
    "colab_type": "code",
    "executionInfo": {
     "elapsed": 597,
     "status": "ok",
     "timestamp": 1557401303125,
     "user": {
      "displayName": "Hwanhee Kim",
      "photoUrl": "https://lh6.googleusercontent.com/-nodxsDvEvZo/AAAAAAAAAAI/AAAAAAAABHE/Ybrj2myvr5Q/s64/photo.jpg",
      "userId": "04863080312902369470"
     },
     "user_tz": -540
    },
    "id": "RDkgV0si_CEM",
    "outputId": "bfc07d0d-f6c4-480a-c8d9-c3c98cae7b83"
   },
   "outputs": [
    {
     "name": "stdout",
     "output_type": "stream",
     "text": [
      "99 0.10653867155090901 0.893461328449091\n",
      "199 0.053547031842644754 0.9464529681573552\n",
      "299 0.03538249885482514 0.9646175011451749\n",
      "399 0.02633474303342187 0.9736652569665781\n",
      "499 0.020942637218716587 0.9790573627812834\n",
      "599 0.01737069081394149 0.9826293091860585\n",
      "699 0.014833341942213085 0.9851666580577869\n",
      "799 0.012939253570786513 0.9870607464292135\n",
      "899 0.011472051762647317 0.9885279482373527\n",
      "999 0.010302386388432172 0.9896976136115678\n"
     ]
    }
   ],
   "source": [
    "# (5) x=0 일 때 y=1 을 얻는 뉴런의 학습에 편향을 더함\n",
    "# 보편적으로 편향의 입력을 1로 넣는다.\n",
    "# Y = f (X*w + 1 * b)\n",
    "\n",
    "x = 0\n",
    "y = 1\n",
    "w = tf.random.normal([1],0,1)\n",
    "b = tf.random.normal([1],0,1)\n",
    "\n",
    "for i in range(1000):\n",
    "    output = sigmoid(x * w + 1 * b)\n",
    "    error = y - output\n",
    "    w = w + x * 0.1 * error\n",
    "    b = b + 1 * 0.1 * error\n",
    "    \n",
    "    if i % 100 == 99:\n",
    "        print(i, error, output)\n",
    "\n",
    "# 결과적으로 error는 0에 가까워지고, output 기대출력은 1에 가까워진다."
   ]
  },
  {
   "cell_type": "markdown",
   "metadata": {},
   "source": [
    "---\n",
    "\n",
    "## [ 기초이해 ]"
   ]
  },
  {
   "cell_type": "code",
   "execution_count": 11,
   "metadata": {
    "colab": {
     "base_uri": "https://localhost:8080/",
     "height": 53
    },
    "colab_type": "code",
    "executionInfo": {
     "elapsed": 602,
     "status": "ok",
     "timestamp": 1557401312495,
     "user": {
      "displayName": "Hwanhee Kim",
      "photoUrl": "https://lh6.googleusercontent.com/-nodxsDvEvZo/AAAAAAAAAAI/AAAAAAAABHE/Ybrj2myvr5Q/s64/photo.jpg",
      "userId": "04863080312902369470"
     },
     "user_tz": -540
    },
    "id": "-SwLUNk1-VbY",
    "outputId": "67856048-8e26-4085-91ad-326d3abb4ea4"
   },
   "outputs": [
    {
     "name": "stdout",
     "output_type": "stream",
     "text": [
      "1\n",
      "0\n"
     ]
    }
   ],
   "source": [
    "# [기초이해] True, False 의 정수값 확인\n",
    "print(int(True))\n",
    "print(int(False))"
   ]
  },
  {
   "cell_type": "code",
   "execution_count": 12,
   "metadata": {
    "colab": {
     "base_uri": "https://localhost:8080/",
     "height": 71
    },
    "colab_type": "code",
    "executionInfo": {
     "elapsed": 614,
     "status": "ok",
     "timestamp": 1557403799382,
     "user": {
      "displayName": "Hwanhee Kim",
      "photoUrl": "https://lh6.googleusercontent.com/-nodxsDvEvZo/AAAAAAAAAAI/AAAAAAAABHE/Ybrj2myvr5Q/s64/photo.jpg",
      "userId": "04863080312902369470"
     },
     "user_tz": -540
    },
    "id": "hGV_LiKHfRFD",
    "outputId": "7105ee4f-1544-4502-ed27-42da515aa54b"
   },
   "outputs": [
    {
     "name": "stdout",
     "output_type": "stream",
     "text": [
      "[1, 2, 3, 1, 2, 3]\n",
      "[]\n",
      "[]\n"
     ]
    }
   ],
   "source": [
    "# [기초이해] 파이썬에서 리스트에 정수를 곱하기\n",
    "print([1,2,3]*2)\n",
    "print([1,2,3]*0)\n",
    "print([1,2,3]*-1)\n",
    "\n",
    "# 파이썬에서 리스트에 실수를 곱하기 -> 에러?\n",
    "# print([1,2,3]*0.01)"
   ]
  },
  {
   "cell_type": "code",
   "execution_count": 13,
   "metadata": {
    "colab": {
     "base_uri": "https://localhost:8080/",
     "height": 89
    },
    "colab_type": "code",
    "executionInfo": {
     "elapsed": 634,
     "status": "ok",
     "timestamp": 1557707424170,
     "user": {
      "displayName": "Hwanhee Kim",
      "photoUrl": "https://lh6.googleusercontent.com/-nodxsDvEvZo/AAAAAAAAAAI/AAAAAAAABHE/Ybrj2myvr5Q/s64/photo.jpg",
      "userId": "04863080312902369470"
     },
     "user_tz": -540
    },
    "id": "T6HVseMUfWRA",
    "outputId": "d5ae6089-aaa4-486c-ae02-b82b28659acd"
   },
   "outputs": [
    {
     "name": "stdout",
     "output_type": "stream",
     "text": [
      "[2 4 6]\n",
      "[0 0 0]\n",
      "[-1 -2 -3]\n",
      "[0.01 0.02 0.03]\n"
     ]
    }
   ],
   "source": [
    "# [기초이해] 넘파이 array 에 정수, 실수를 곱하기\n",
    "import numpy as np\n",
    "print(np.array([1,2,3])*2)\n",
    "print(np.array([1,2,3])*0)\n",
    "print(np.array([1,2,3])*-1)\n",
    "print(np.array([1,2,3])*0.01)"
   ]
  },
  {
   "cell_type": "code",
   "execution_count": 14,
   "metadata": {},
   "outputs": [
    {
     "name": "stdout",
     "output_type": "stream",
     "text": [
      "[[ 1 20]\n",
      " [ 1 30]\n",
      " [ 1 40]]\n",
      "[[ 2 12]\n",
      " [ 2 13]\n",
      " [ 2 14]]\n"
     ]
    }
   ],
   "source": [
    "print(np.array([[1,2],[1,3],[1,4]])*np.array([1,10]))\n",
    "print(np.array([[1,2],[1,3],[1,4]])+np.array([1,10]))"
   ]
  },
  {
   "cell_type": "markdown",
   "metadata": {
    "colab_type": "text",
    "id": "6LBFLGQsUR2w"
   },
   "source": [
    "## ---\n",
    "## 2. 신경망 네트워크 (1) AND\n",
    "\n",
    "<img src='./imgs/xor.jpg' width='500' height='300'>\n",
    "\n",
    "<img src='./imgs/활성화함수3.png' width='400' height='250'>"
   ]
  },
  {
   "cell_type": "code",
   "execution_count": 15,
   "metadata": {
    "colab": {
     "base_uri": "https://localhost:8080/",
     "height": 197
    },
    "colab_type": "code",
    "executionInfo": {
     "elapsed": 3175,
     "status": "ok",
     "timestamp": 1557402692825,
     "user": {
      "displayName": "Hwanhee Kim",
      "photoUrl": "https://lh6.googleusercontent.com/-nodxsDvEvZo/AAAAAAAAAAI/AAAAAAAABHE/Ybrj2myvr5Q/s64/photo.jpg",
      "userId": "04863080312902369470"
     },
     "user_tz": -540
    },
    "id": "o5zrs_IeB6gn",
    "outputId": "5743cab1-248d-4714-fea1-07c2dcc7702c"
   },
   "outputs": [
    {
     "name": "stdout",
     "output_type": "stream",
     "text": [
      "199 -0.11090067704169915\n",
      "399 -0.06591906098474014\n",
      "599 -0.04678526576277638\n",
      "799 -0.03615527815030951\n",
      "999 -0.029407255587980248\n",
      "1199 -0.024752679968776437\n",
      "1399 -0.021354567806675866\n",
      "1599 -0.018767259737772882\n",
      "1799 -0.01673161194253082\n",
      "1999 -0.015090596946837693\n"
     ]
    }
   ],
   "source": [
    "# (1) 첫번째 신경망 네트워크 : AND\n",
    "import numpy as np\n",
    "x = np.array([[1,1], [1,0], [0,1], [0,0]])\n",
    "y = np.array([[1], [0], [0], [0]])\n",
    "w = tf.random.normal([2],0,1)  # shape=2 (w 2개 필요),   mean=0.0,   stddev=1.0,\n",
    "b = tf.random.normal([1],0,1)\n",
    "b_x = 1\n",
    "\n",
    "\n",
    "# w, b 값 확인\n",
    "# print('w:', w)\n",
    "# print('b:', b)\n",
    "# 보편적으로 편향의 입력을 1로 넣는다.\n",
    "# y = f (x*w + 1 * b)\n",
    "\n",
    "for i in range(2000):\n",
    "    error_sum = 0\n",
    "    for j in range(4):\n",
    "        output = sigmoid(np.sum(x[j]*w)+b_x*b)\n",
    "        error = y[j][0] - output\n",
    "        w = w + x[j] * 0.1 * error\n",
    "        b = b + b_x * 0.1 * error\n",
    "        error_sum += error\n",
    "        \n",
    "    if i % 200 == 199:\n",
    "        print(i, error_sum)"
   ]
  },
  {
   "cell_type": "code",
   "execution_count": 16,
   "metadata": {
    "colab": {
     "base_uri": "https://localhost:8080/",
     "height": 89
    },
    "colab_type": "code",
    "executionInfo": {
     "elapsed": 984,
     "status": "ok",
     "timestamp": 1557402695010,
     "user": {
      "displayName": "Hwanhee Kim",
      "photoUrl": "https://lh6.googleusercontent.com/-nodxsDvEvZo/AAAAAAAAAAI/AAAAAAAABHE/Ybrj2myvr5Q/s64/photo.jpg",
      "userId": "04863080312902369470"
     },
     "user_tz": -540
    },
    "id": "l6maf-59at7S",
    "outputId": "96f9185f-f484-400c-b139-32b57e92bd49"
   },
   "outputs": [
    {
     "name": "stdout",
     "output_type": "stream",
     "text": [
      "X: [1 1] Y: [1] Output: 0.9647690308872718\n",
      "X: [1 0] Y: [0] Output: 0.024965336423990778\n",
      "X: [0 1] Y: [0] Output: 0.02504182575969433\n",
      "X: [0 0] Y: [0] Output: 2.4015308914253698e-05\n"
     ]
    }
   ],
   "source": [
    "#  (2) AND 네트워크의 평가\n",
    "for i in range(4):\n",
    "    print('X:', x[i], 'Y:', y[i], 'Output:', sigmoid(np.sum(x[i]*w)+b))\n",
    "    \n",
    "# 마지막 결과값은 지수값이다.    "
   ]
  },
  {
   "cell_type": "markdown",
   "metadata": {
    "colab_type": "text",
    "id": "GYepj949D6nc"
   },
   "source": [
    "## 2. 신경망 네트워크 : (2) OR"
   ]
  },
  {
   "cell_type": "code",
   "execution_count": 17,
   "metadata": {
    "colab": {
     "base_uri": "https://localhost:8080/",
     "height": 197
    },
    "colab_type": "code",
    "executionInfo": {
     "elapsed": 2656,
     "status": "ok",
     "timestamp": 1557707165225,
     "user": {
      "displayName": "Hwanhee Kim",
      "photoUrl": "https://lh6.googleusercontent.com/-nodxsDvEvZo/AAAAAAAAAAI/AAAAAAAABHE/Ybrj2myvr5Q/s64/photo.jpg",
      "userId": "04863080312902369470"
     },
     "user_tz": -540
    },
    "id": "orVUfaGAXEr5",
    "outputId": "043c8e84-cf11-4432-ef50-aee3e69258f8"
   },
   "outputs": [
    {
     "name": "stdout",
     "output_type": "stream",
     "text": [
      "199 -0.05170877867692303\n",
      "399 -0.026489682052779656\n",
      "599 -0.017679796326035266\n",
      "799 -0.013218485043927294\n",
      "999 -0.010535182620679338\n",
      "1199 -0.008747788706458225\n",
      "1399 -0.007474265718362821\n",
      "1599 -0.006521259184304261\n",
      "1799 -0.005782481395744929\n",
      "1999 -0.0051917453649008675\n"
     ]
    }
   ],
   "source": [
    "# (1) 두번째 신경망 네트워크 : OR\n",
    "import numpy as np\n",
    "x = np.array([[1,1], [1,0], [0,1], [0,0]])\n",
    "y = np.array([[1], [1], [1], [0]])\n",
    "w = tf.random.normal([2],0,1)\n",
    "b = tf.random.normal([1],0,1)\n",
    "b_x = 1\n",
    "\n",
    "for i in range(2000):\n",
    "    error_sum = 0\n",
    "    for j in range(4):\n",
    "        output = sigmoid(np.sum(x[j]*w)+b_x*b)\n",
    "        error = y[j][0] - output\n",
    "        w = w + x[j] * 0.1 * error\n",
    "        b = b + b_x * 0.1 * error\n",
    "        error_sum += error\n",
    "        \n",
    "    if i % 200 == 199:\n",
    "        print(i, error_sum)"
   ]
  },
  {
   "cell_type": "code",
   "execution_count": 18,
   "metadata": {
    "colab": {
     "base_uri": "https://localhost:8080/",
     "height": 89
    },
    "colab_type": "code",
    "executionInfo": {
     "elapsed": 639,
     "status": "ok",
     "timestamp": 1557707434897,
     "user": {
      "displayName": "Hwanhee Kim",
      "photoUrl": "https://lh6.googleusercontent.com/-nodxsDvEvZo/AAAAAAAAAAI/AAAAAAAABHE/Ybrj2myvr5Q/s64/photo.jpg",
      "userId": "04863080312902369470"
     },
     "user_tz": -540
    },
    "id": "-iXp-4VflRwi",
    "outputId": "e56e22ee-ebc3-4772-b83c-9a8e5c7db961"
   },
   "outputs": [
    {
     "name": "stdout",
     "output_type": "stream",
     "text": [
      "X: [1 1] Y: [1] Output: 0.9999971359783014\n",
      "X: [1 0] Y: [1] Output: 0.989702882631066\n",
      "X: [0 1] Y: [1] Output: 0.9896878657039159\n",
      "X: [0 0] Y: [0] Output: 0.025738991125949715\n"
     ]
    }
   ],
   "source": [
    "# (2) OR 네트워크의 평가\n",
    "for i in range(4):\n",
    "    print('X:', x[i], 'Y:', y[i], 'Output:', sigmoid(np.sum(x[i]*w)+b))"
   ]
  },
  {
   "cell_type": "markdown",
   "metadata": {
    "colab_type": "text",
    "id": "QgOO48DlEELV"
   },
   "source": [
    "## 3. 세번째 신경망 네트워크 : (3) XOR"
   ]
  },
  {
   "cell_type": "code",
   "execution_count": 19,
   "metadata": {
    "colab": {
     "base_uri": "https://localhost:8080/",
     "height": 197
    },
    "colab_type": "code",
    "executionInfo": {
     "elapsed": 2494,
     "status": "ok",
     "timestamp": 1557708084919,
     "user": {
      "displayName": "Hwanhee Kim",
      "photoUrl": "https://lh6.googleusercontent.com/-nodxsDvEvZo/AAAAAAAAAAI/AAAAAAAABHE/Ybrj2myvr5Q/s64/photo.jpg",
      "userId": "04863080312902369470"
     },
     "user_tz": -540
    },
    "id": "50OujnLhouap",
    "outputId": "c5b01dad-39e7-467c-b677-a52a82a20abe"
   },
   "outputs": [
    {
     "name": "stdout",
     "output_type": "stream",
     "text": [
      "199 -0.00850389131916296\n",
      "399 -0.00034587413759656904\n",
      "599 -1.4062999191266634e-05\n",
      "799 -5.686640789370756e-07\n",
      "999 5.584263496061226e-09\n",
      "1199 3.722842145670313e-09\n",
      "1399 3.722842145670313e-09\n",
      "1599 3.722842145670313e-09\n",
      "1799 3.722842145670313e-09\n",
      "1999 3.722842145670313e-09\n"
     ]
    }
   ],
   "source": [
    "# (1) 세번째 신경망 네트워크 : XOR\n",
    "import numpy as np\n",
    "x = np.array([[1,1], [1,0], [0,1], [0,0]])\n",
    "y = np.array([[0], [1], [1], [0]])\n",
    "w = tf.random.normal([2],0,1)\n",
    "b = tf.random.normal([1],0,1)\n",
    "b_x = 1\n",
    "\n",
    "for i in range(2000):\n",
    "    error_sum = 0\n",
    "    for j in range(4):\n",
    "        output = sigmoid(np.sum(x[j]*w)+b_x*b)\n",
    "        error = y[j][0] - output\n",
    "        w = w + x[j] * 0.1 * error\n",
    "        b = b + b_x * 0.1 * error\n",
    "        error_sum += error\n",
    "        \n",
    "    if i % 200 == 199:\n",
    "        print(i, error_sum)"
   ]
  },
  {
   "cell_type": "code",
   "execution_count": 20,
   "metadata": {
    "colab": {
     "base_uri": "https://localhost:8080/",
     "height": 89
    },
    "colab_type": "code",
    "executionInfo": {
     "elapsed": 637,
     "status": "ok",
     "timestamp": 1557708105621,
     "user": {
      "displayName": "Hwanhee Kim",
      "photoUrl": "https://lh6.googleusercontent.com/-nodxsDvEvZo/AAAAAAAAAAI/AAAAAAAABHE/Ybrj2myvr5Q/s64/photo.jpg",
      "userId": "04863080312902369470"
     },
     "user_tz": -540
    },
    "id": "K77eQ8FYo04H",
    "outputId": "6fbb92d4-5d90-4dc6-d63e-9fee59d17ef9"
   },
   "outputs": [
    {
     "name": "stdout",
     "output_type": "stream",
     "text": [
      "X: [1 1] Y: [0] Output: 0.5128176286712095\n",
      "X: [1 0] Y: [1] Output: 0.5128176305326305\n",
      "X: [0 1] Y: [1] Output: 0.4999999990686774\n",
      "X: [0 0] Y: [0] Output: 0.5000000009313226\n"
     ]
    }
   ],
   "source": [
    "# (2) XOR 네트워크의 평가\n",
    "for i in range(4):\n",
    "    print('X:', x[i], 'Y:', y[i], 'Output:', sigmoid(np.sum(x[i]*w)+b))"
   ]
  },
  {
   "cell_type": "code",
   "execution_count": 21,
   "metadata": {
    "colab": {
     "base_uri": "https://localhost:8080/",
     "height": 53
    },
    "colab_type": "code",
    "executionInfo": {
     "elapsed": 665,
     "status": "ok",
     "timestamp": 1557711429852,
     "user": {
      "displayName": "Hwanhee Kim",
      "photoUrl": "https://lh6.googleusercontent.com/-nodxsDvEvZo/AAAAAAAAAAI/AAAAAAAABHE/Ybrj2myvr5Q/s64/photo.jpg",
      "userId": "04863080312902369470"
     },
     "user_tz": -540
    },
    "id": "0HsT3BKW1ajx",
    "outputId": "d135ba44-6caa-46e6-facf-802fb75cdce8"
   },
   "outputs": [
    {
     "name": "stdout",
     "output_type": "stream",
     "text": [
      "w: tf.Tensor([ 5.1281754e-02 -7.4505806e-09], shape=(2,), dtype=float32)\n",
      "b: tf.Tensor([3.7252903e-09], shape=(1,), dtype=float32)\n"
     ]
    }
   ],
   "source": [
    "# (3) XOR 네트워크의 w, b 값 확인\n",
    "print('w:', w)\n",
    "print('b:', b)\n"
   ]
  },
  {
   "cell_type": "markdown",
   "metadata": {},
   "source": [
    "[ 결과 분석 ] \n",
    "\n",
    "1. w는 약 0.512, 0.000000003725 이고, b는 -0.000000000745 이다.\n",
    "\n",
    "    w에 x값들이 순차적으로 곱해지기 때문에 첫번째 입력값이 두번째입력보다 큰 영향을 끼치고\n",
    "    편향(b)는 두번째 입력과 미슷하게 거의 영향이 없는 것을 알 수 있다.\n",
    "    \n",
    "2. 결과 output을 보면 별 차이가 없음을 알 수 있다  \n",
    "\n",
    "\n",
    "* 인공지능(퍼셉트론)에서의 XOR 문제  \n",
    "<img src='./imgs/xor.jpg' width='500' height='300'>\n",
    "<img src='./imgs/xor2.jpg' width='500' height='300'>\n",
    "\n",
    "[출처] [모두의 딥러닝](https://thebook.io/080228/part03/ch06/03/)\n",
    "\n"
   ]
  }
 ],
 "metadata": {
  "colab": {
   "collapsed_sections": [],
   "name": "Chapter3.ipynb",
   "provenance": [],
   "toc_visible": true
  },
  "kernelspec": {
   "display_name": "Python 3",
   "language": "python",
   "name": "python3"
  },
  "language_info": {
   "codemirror_mode": {
    "name": "ipython",
    "version": 3
   },
   "file_extension": ".py",
   "mimetype": "text/x-python",
   "name": "python",
   "nbconvert_exporter": "python",
   "pygments_lexer": "ipython3",
   "version": "3.8.8"
  }
 },
 "nbformat": 4,
 "nbformat_minor": 1
}
