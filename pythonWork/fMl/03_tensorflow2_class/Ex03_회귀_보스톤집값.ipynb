{
 "cells": [
  {
   "cell_type": "markdown",
   "metadata": {},
   "source": [
    "# 보스턴 주택 가격 데이터세트(Boston Housing Dataset)\n",
    "\n",
    "+ 1978년 미국 보스턴 지역의 주택 가격으로, 506개 타운의 주택 가격 중앙값을 1000 달러 단위로 나타냄\n",
    "+ 범죄율 주택당 방 개수 고속도로까지의 거리 등 13개 데이타를 이용하여 주택 가격을 예측한다.\n",
    "\n",
    "+ 훈련 데이타 : 404개\n",
    "+ 테스트 데이타 : 102개\n",
    "+ 검증 데이타 : 훈련 데이타의 일부를 사용\n",
    "\n",
    "+ 훈련 : 검증 : 테스트 = 60% : 20% : 20%\n",
    "\n",
    "\n",
    "    [ 보스턴 주택 가격 데이터 세트의 데이터 설명 ]\n",
    "\n",
    "<table>\n",
    "    <tr><th>속성</th><th>설명</th></tr>\n",
    "    <tr><td>CRIM</td><td>범죄율</td></tr>\n",
    "    <tr><td>ZN</td><td>25000 평방피트당 주거지역의 비율</td></tr>\n",
    "    <tr><td>INDUS</td><td>비소매 상업지구 비율 (단위:에이커)</td></tr>\n",
    "    <tr><td>CHAS</td><td>찰스강에 인접하면 1, 그렇지 않으면 0</td></tr>\n",
    "    <tr><td>NOX</td><td>일산화질소 농도(단위: 0.1ppm)</td></tr>\n",
    "    <tr><td>RM</td><td>주택당 방의 수</td></tr>\n",
    "    <tr><td>AGE</td><td>1940년 이전에 건설된 주택의 비율</td></tr>\n",
    "    <tr><td>DIS</td><td>5개의 보스턴 직업고용센터와의 거리 (가중평균)</td></tr>\n",
    "    <tr><td>RAD</td><td>고속도로 접근성</td></tr>\n",
    "    <tr><td>TAX</td><td>재산세율</td></tr>\n",
    "    <tr><td>PTRATIO</td><td>학생교사비율</td></tr>\n",
    "    <tr><td>B</td><td>흑인비율</td></tr>\n",
    "    <tr><td>LSTAT</td><td>하위계층비율</td></tr>\n",
    "    <tr><td>MEDV</td><td>타운의 주택 가격 중앙값 (단위:1000달러)</td></tr>\n",
    "<table>    "
   ]
  },
  {
   "cell_type": "markdown",
   "metadata": {},
   "source": [
    "###  (1) 데이터 불러오기"
   ]
  },
  {
   "cell_type": "code",
   "execution_count": 1,
   "metadata": {},
   "outputs": [
    {
     "name": "stdout",
     "output_type": "stream",
     "text": [
      "404 102\n",
      "[  1.23247   0.        8.14      0.        0.538     6.142    91.7\n",
      "   3.9769    4.      307.       21.      396.9      18.72   ]\n",
      "15.2\n"
     ]
    }
   ],
   "source": [
    "#  (1) 데이터 불러오기\n",
    "import tensorflow as tf\n",
    "from tensorflow.keras.datasets import boston_housing\n",
    "(train_X, train_Y), (test_X, test_Y) = boston_housing.load_data()\n",
    "\n",
    "print(len(train_X), len(test_X))\n",
    "print(train_X[0])\n",
    "print(train_Y[0])"
   ]
  },
  {
   "cell_type": "markdown",
   "metadata": {},
   "source": [
    "[ 결과 ]\n",
    "\n",
    "+ 각 데이타의 단위가 다르다\n",
    "+ 이에 전처리를 해서 정규화(Standardization)을 해야 학습 효율이 좋다\n",
    "\n",
    "---\n",
    "\n",
    "#### [참고] 데이타 정규화\n",
    "\n",
    "    - 각 데이타에서 평균값을 뺀 다음 표준편차로 나눈다.\n",
    "    - 지금은 훈련데이타와 테스트 데이타를 모두 알고 있지만,\n",
    "        실제로 테스트 데이타는 데이타 학습을 마친 후 실전에서 만나는 데이타로 어떤 분포인지 모른다.\n",
    "        그래서 훈련데이타의 평균과 표준편차로 데이트 데이타를 정규화한다. \n",
    "        \n",
    "[참고] [정규화(Normalization)](http://hleecaster.com/ml-normalization-concept/)        "
   ]
  },
  {
   "cell_type": "code",
   "execution_count": 2,
   "metadata": {},
   "outputs": [
    {
     "name": "stdout",
     "output_type": "stream",
     "text": [
      "[-0.47482083 -0.48335641 -0.42698208 -0.48335641 -0.47963044 -0.44081941\n",
      "  0.15172056 -0.45581402 -0.45565404  1.64280094 -0.33791894  2.26541184\n",
      " -0.35370929]\n",
      "-0.7821526033779157\n"
     ]
    }
   ],
   "source": [
    "# (1-2) 데이터 전처리(정규화)\n",
    "x_mean = train_X.mean()\n",
    "x_std = train_X.std()\n",
    "train_X -= x_mean\n",
    "train_X /= x_std\n",
    "test_X -= x_mean\n",
    "test_X /= x_std\n",
    "\n",
    "y_mean = train_Y.mean()\n",
    "y_std = train_Y.std()\n",
    "train_Y -= y_mean\n",
    "train_Y /= y_std\n",
    "test_Y -= y_mean\n",
    "test_Y /= y_std\n",
    "\n",
    "print(train_X[0])\n",
    "print(train_Y[0])"
   ]
  },
  {
   "cell_type": "markdown",
   "metadata": {},
   "source": [
    "## (2) 회귀 모델 생성 +  (3)실행\n",
    "\n",
    "- 데이타의 속성의 수도 많고 데이타의 양도 많기 때문에 레이어 4개를 사용한다.\n",
    "- 각 레이어의 뉴런의 수도 늘린다\n",
    "- 레이어의 수와 은닉층의 뉴런 수를 늘리면 모델의 성능이 좋아지기에 복잡한 내용을 학습시킬 수 있다\n",
    "\n",
    "- 첫번째 레이어에서는 X 데이타의 속성을 모두 불러오기 위해 input_shape=(13,) 지정한다.\n",
    "- 마지막 레이어는 주택가격인 Y값 1개만 예측하면 되기에 뉴런의 수가 1개이다.\n",
    "\n",
    "[참고] [케라스: 빠르게 훑어보기](https://www.tensorflow.org/guide/keras/overview?hl=ko)"
   ]
  },
  {
   "cell_type": "code",
   "execution_count": 3,
   "metadata": {},
   "outputs": [
    {
     "name": "stdout",
     "output_type": "stream",
     "text": [
      "Model: \"sequential\"\n",
      "_________________________________________________________________\n",
      "Layer (type)                 Output Shape              Param #   \n",
      "=================================================================\n",
      "dense (Dense)                (None, 52)                728       \n",
      "_________________________________________________________________\n",
      "dense_1 (Dense)              (None, 39)                2067      \n",
      "_________________________________________________________________\n",
      "dense_2 (Dense)              (None, 26)                1040      \n",
      "_________________________________________________________________\n",
      "dense_3 (Dense)              (None, 1)                 27        \n",
      "=================================================================\n",
      "Total params: 3,862\n",
      "Trainable params: 3,862\n",
      "Non-trainable params: 0\n",
      "_________________________________________________________________\n"
     ]
    }
   ],
   "source": [
    "# (2) Boston Housing Dataset  모델 생성\n",
    "model = tf.keras.Sequential([\n",
    "    tf.keras.layers.Dense(units=52, activation='relu', input_shape=(13,)),\n",
    "    tf.keras.layers.Dense(units=39, activation='relu'),\n",
    "    tf.keras.layers.Dense(units=26, activation='relu'),\n",
    "    tf.keras.layers.Dense(units=1)\n",
    "])\n",
    "\n",
    "# (3) 모델 실행\n",
    "# model.compile(optimizer=tf.keras.optimizers.Adam(lr=0.07), loss='mse')\n",
    "    # 옵티마이저 -> Adam ( lr : Learning Rate 훈련률)\n",
    "    # 손실함수 -> mse (mean squared error) : 잔차 제곱의 평균 - 회귀에서 알고리즘의 성능을 측정하기 위해 사용하는 방법 중에 하나\n",
    "model.compile(optimizer='adam', loss='mse')    \n",
    "model.summary()"
   ]
  },
  {
   "cell_type": "markdown",
   "metadata": {},
   "source": [
    "## (4) 모델을 학습시킨다"
   ]
  },
  {
   "cell_type": "code",
   "execution_count": 7,
   "metadata": {
    "scrolled": true
   },
   "outputs": [
    {
     "name": "stdout",
     "output_type": "stream",
     "text": [
      "Epoch 1/25\n",
      "10/10 [==============================] - 0s 17ms/step - loss: 0.5615 - val_loss: 0.9264\n",
      "Epoch 2/25\n",
      "10/10 [==============================] - 0s 4ms/step - loss: 0.5381 - val_loss: 0.9496\n",
      "Epoch 3/25\n",
      "10/10 [==============================] - 0s 3ms/step - loss: 0.5302 - val_loss: 0.8988\n",
      "Epoch 4/25\n",
      "10/10 [==============================] - 0s 3ms/step - loss: 0.5559 - val_loss: 1.0754\n",
      "Epoch 5/25\n",
      "10/10 [==============================] - 0s 4ms/step - loss: 0.5357 - val_loss: 0.8783\n",
      "Epoch 6/25\n",
      "10/10 [==============================] - 0s 4ms/step - loss: 0.5335 - val_loss: 1.0149\n",
      "Epoch 7/25\n",
      "10/10 [==============================] - 0s 3ms/step - loss: 0.5208 - val_loss: 0.8908\n",
      "Epoch 8/25\n",
      "10/10 [==============================] - 0s 4ms/step - loss: 0.5127 - val_loss: 0.9498\n",
      "Epoch 9/25\n",
      "10/10 [==============================] - 0s 3ms/step - loss: 0.5107 - val_loss: 0.8756\n",
      "Epoch 10/25\n",
      "10/10 [==============================] - 0s 4ms/step - loss: 0.5090 - val_loss: 0.9670\n",
      "Epoch 11/25\n",
      "10/10 [==============================] - 0s 3ms/step - loss: 0.5020 - val_loss: 0.8736\n",
      "Epoch 12/25\n",
      "10/10 [==============================] - 0s 3ms/step - loss: 0.5209 - val_loss: 0.9838\n",
      "Epoch 13/25\n",
      "10/10 [==============================] - 0s 3ms/step - loss: 0.4937 - val_loss: 0.8577\n",
      "Epoch 14/25\n",
      "10/10 [==============================] - 0s 3ms/step - loss: 0.4966 - val_loss: 0.9379\n",
      "Epoch 15/25\n",
      "10/10 [==============================] - 0s 3ms/step - loss: 0.4869 - val_loss: 0.8621\n",
      "Epoch 16/25\n",
      "10/10 [==============================] - 0s 3ms/step - loss: 0.4901 - val_loss: 0.8618\n",
      "Epoch 17/25\n",
      "10/10 [==============================] - 0s 3ms/step - loss: 0.4939 - val_loss: 0.8487\n",
      "Epoch 18/25\n",
      "10/10 [==============================] - 0s 3ms/step - loss: 0.5061 - val_loss: 1.0451\n",
      "Epoch 19/25\n",
      "10/10 [==============================] - 0s 3ms/step - loss: 0.4856 - val_loss: 0.8438\n",
      "Epoch 20/25\n",
      "10/10 [==============================] - 0s 4ms/step - loss: 0.4815 - val_loss: 0.8372\n",
      "Epoch 21/25\n",
      "10/10 [==============================] - 0s 4ms/step - loss: 0.4888 - val_loss: 0.8882\n",
      "Epoch 22/25\n",
      "10/10 [==============================] - 0s 3ms/step - loss: 0.4690 - val_loss: 0.9114\n",
      "Epoch 23/25\n",
      "10/10 [==============================] - 0s 4ms/step - loss: 0.4711 - val_loss: 0.8188\n",
      "Epoch 24/25\n",
      "10/10 [==============================] - 0s 3ms/step - loss: 0.4651 - val_loss: 0.8270\n",
      "Epoch 25/25\n",
      "10/10 [==============================] - 0s 5ms/step - loss: 0.4698 - val_loss: 0.8424\n"
     ]
    }
   ],
   "source": [
    "#  훈련 데이타의 25% 정도를 검증데이타로 사용하고 나머지 75%는 훈련 데이타로 사용한다\n",
    "history = model.fit(train_X, train_Y, epochs=25, batch_size=32, validation_split=0.25)"
   ]
  },
  {
   "cell_type": "markdown",
   "metadata": {},
   "source": [
    "[ 결과 ]\n",
    "\n",
    "-  loss 는 꾸준히 감소하지만 val_loss 는 loss 보다 높은 값을 유지하며 항상 감소하지는 않는다.\n",
    "\n",
    "\n",
    "---\n",
    "\n",
    "+ 아래는 그래프로 시각화하는 작업\n",
    "\n",
    "    - 훈련 데이타의 손실 loss (파란선)는 꾸준히 감소하지만 검증 데이터의 손실 val_loss(빨간선) 는 loss 보다 높은 값을 유지하며 항상 감고하지는 않는다.\n",
    "\n",
    "    - 마지막 에포크에 검증 데이터의 손실이 크게 증가했기 때문에 검증 데이터에 대해 좋지 않은 예측 성적이 나올 것이다\n",
    "\n",
    "\n",
    "+ 히스토리(history) 기능 사용하기\n",
    "    \n",
    "    - ( 케라스에서 학습시킬 때 fit 함수를 사용합니다. 이 함수의 반환 값으로 히스토리 객체를 얻을 수 있는데, 이 객체는 다음의 정보를 담고 있습니다.)\n",
    "\n",
    "    - 매 에포크 마다의 훈련 손실값 (loss)\n",
    "    - 매 에포크 마다의 훈련 정확도 (acc)\n",
    "    - 매 에포크 마다의 검증 손실값 (val_loss)\n",
    "    - 매 에포크 마다의 검증 정확도 (val_acc)\n"
   ]
  },
  {
   "cell_type": "code",
   "execution_count": 8,
   "metadata": {},
   "outputs": [
    {
     "data": {
      "image/png": "[encoded data removed]",
      "text/plain": [
       "<Figure size 432x288 with 1 Axes>"
      ]
     },
     "metadata": {
      "needs_background": "light"
     },
     "output_type": "display_data"
    }
   ],
   "source": [
    "# (5) 회귀 모델 학습 결과 시각화\n",
    "import matplotlib.pyplot as plt\n",
    "plt.plot(history.history['loss'], 'b-', label='loss')\n",
    "plt.plot(history.history['val_loss'], 'r--', label='val_loss')\n",
    "plt.xlabel('Epoch')\n",
    "plt.legend()\n",
    "plt.show()"
   ]
  },
  {
   "cell_type": "code",
   "execution_count": 9,
   "metadata": {},
   "outputs": [
    {
     "name": "stdout",
     "output_type": "stream",
     "text": [
      "4/4 [==============================] - 0s 998us/step - loss: 0.5768\n"
     ]
    },
    {
     "data": {
      "text/plain": [
       "0.5768479704856873"
      ]
     },
     "execution_count": 9,
     "metadata": {},
     "output_type": "execute_result"
    }
   ],
   "source": [
    "# (6) 회귀 모델 평가\n",
    "#    위의 모델 학습 (fit)을 다시 실행하면 결과가 다르게 나온다\n",
    "\n",
    "model.evaluate(test_X, test_Y)"
   ]
  },
  {
   "cell_type": "markdown",
   "metadata": {},
   "source": [
    "[ 결과 ]  \n",
    " \n",
    " 테스트 데이타의 손실은 0.6619248951182646 나온다.\n",
    " \n",
    " 그러나 위 훈련 데이타 손실률 loss: 0.5619이다.\n",
    " \n",
    " 위의 훈련 데이타 결과에서 \n",
    "         Epoch 25/25\n",
    "        303/303 [==============================] - 0s 184us/sample - loss: 0.5619 - val_loss: 0.9796"
   ]
  },
  {
   "cell_type": "code",
   "execution_count": 10,
   "metadata": {},
   "outputs": [
    {
     "data": {
      "image/png": "[encoded data removed]",
      "text/plain": [
       "<Figure size 360x360 with 1 Axes>"
      ]
     },
     "metadata": {
      "needs_background": "light"
     },
     "output_type": "display_data"
    }
   ],
   "source": [
    "# (7) 실제 주택 가격과 예측 주택 가격 시각화\n",
    "#    실제 주택 가격 (test_Y)에 대해 예측 주책 가격(pred_Y)는 대각선에 모든 점이 위치하는 이상적인 모습과 거리가 있어 보인다.\n",
    "\n",
    "import matplotlib.pyplot as plt\n",
    "\n",
    "pred_Y = model.predict(test_X)\n",
    "\n",
    "plt.figure(figsize=(5,5))\n",
    "plt.plot(test_Y, pred_Y, 'b.')\n",
    "plt.axis([min(test_Y), max(test_Y), min(test_Y), max(test_Y)])\n",
    "\n",
    "# y=x에 해당하는 대각선\n",
    "plt.plot([min(test_Y), max(test_Y)], [min(test_Y), max(test_Y)], ls=\"--\", c=\".3\")\n",
    "plt.xlabel('test_Y')\n",
    "plt.ylabel('pred_Y')\n",
    "\n",
    "plt.show()"
   ]
  },
  {
   "cell_type": "code",
   "execution_count": 15,
   "metadata": {},
   "outputs": [
    {
     "data": {
      "text/plain": [
       "array([[0.00208104]], dtype=float32)"
      ]
     },
     "execution_count": 15,
     "metadata": {},
     "output_type": "execute_result"
    }
   ],
   "source": [
    "# (8) 집값 요인(x_values의 속성)에 따라  집값(예측값) 확인\n",
    "\n",
    "x_values = ([-0.47482083, -0.48335641, -0.42698208, -0.48335641, -0.47963044, -0.44081941,\n",
    "  0.15172056, -0.45581402, -0.45565404,  1.64280094, -0.33791894,  2.26541184,\n",
    " -0.35370929],)\n",
    "\n",
    "\n",
    "y_pred = model.predict(x_values)\n",
    "y_pred"
   ]
  },
  {
   "cell_type": "markdown",
   "metadata": {},
   "source": [
    "가상으로 집값 예측\n",
    "\n",
    "\n",
    "<table>\n",
    "    <tr><th>속성</th><th>설명</th><th>정규화된속성값</th></tr>\n",
    "    <tr><td>CRIM</td><td>범죄율</td><td>-0.47482083</td></tr>\n",
    "    <tr><td>ZN</td><td>25000 평방피트당 주거지역의 비율</td><td>-0.48335641</td></tr>\n",
    "    <tr><td>INDUS</td><td>비소매 상업지구 비율 (단위:에이커)</td><td>-0.42698208</td></tr>\n",
    "    <tr><td>CHAS</td><td>찰스강에 인접하면 1, 그렇지 않으면 0</td><td>-0.48335641</td></tr>\n",
    "    <tr><td>NOX</td><td>일산화질소 농도(단위: 0.1ppm)</td><td>-0.47963044</td></tr>\n",
    "    <tr><td>RM</td><td>주택당 방의 수</td><td>-0.44081941</td></tr>\n",
    "    <tr><td>AGE</td><td>1940년 이전에 건설된 주택의 비율</td><td>0.15172056</td></tr>\n",
    "    <tr><td>DIS</td><td>5개의 보스턴 직업고용센터와의 거리 (가중평균)</td><td>-0.45581402</td></tr>\n",
    "    <tr><td>RAD</td><td>고속도로 접근성</td><td>-0.45565404</td></tr>\n",
    "    <tr><td>TAX</td><td>재산세율</td><td>1.64280094</td></tr>\n",
    "    <tr><td>PTRATIO</td><td>학생교사비율</td><td>-0.33791894</td></tr>\n",
    "    <tr><td>B</td><td>흑인비율</td><td>2.26541184</td></tr>\n",
    "    <tr><td>LSTAT</td><td>하위계층비율</td><td>0.35370929</td></tr>\n",
    "    <tr><td>MEDV</td><td>타운의 주택 가격 중앙값 (단위:1000달러)</td><td>??????</td></tr>\n",
    "<table>    "
   ]
  },
  {
   "cell_type": "code",
   "execution_count": null,
   "metadata": {},
   "outputs": [],
   "source": []
  },
  {
   "cell_type": "code",
   "execution_count": null,
   "metadata": {},
   "outputs": [],
   "source": []
  },
  {
   "cell_type": "code",
   "execution_count": null,
   "metadata": {},
   "outputs": [],
   "source": []
  },
  {
   "cell_type": "code",
   "execution_count": null,
   "metadata": {},
   "outputs": [],
   "source": []
  },
  {
   "cell_type": "markdown",
   "metadata": {},
   "source": [
    "### [ 추가 작업 ] "
   ]
  },
  {
   "cell_type": "code",
   "execution_count": 11,
   "metadata": {},
   "outputs": [
    {
     "name": "stderr",
     "output_type": "stream",
     "text": [
      "C:\\Users\\simmi\\anaconda3\\lib\\site-packages\\tensorflow\\python\\keras\\optimizer_v2\\optimizer_v2.py:374: UserWarning: The `lr` argument is deprecated, use `learning_rate` instead.\n",
      "  warnings.warn(\n"
     ]
    },
    {
     "name": "stdout",
     "output_type": "stream",
     "text": [
      "Epoch 1/25\n",
      "10/10 [==============================] - 0s 11ms/step - loss: 7.1851 - val_loss: 1.4227\n",
      "Epoch 2/25\n",
      "10/10 [==============================] - 0s 3ms/step - loss: 0.9765 - val_loss: 1.2542\n",
      "Epoch 3/25\n",
      "10/10 [==============================] - 0s 5ms/step - loss: 0.9352 - val_loss: 1.2461\n",
      "Epoch 4/25\n",
      "10/10 [==============================] - 0s 4ms/step - loss: 0.9346 - val_loss: 1.2311\n",
      "Epoch 5/25\n",
      "10/10 [==============================] - 0s 3ms/step - loss: 0.9316 - val_loss: 1.2769\n",
      "Epoch 6/25\n",
      "10/10 [==============================] - 0s 4ms/step - loss: 0.9230 - val_loss: 1.2858\n",
      "Epoch 7/25\n",
      "10/10 [==============================] - 0s 4ms/step - loss: 0.9300 - val_loss: 1.2346\n"
     ]
    }
   ],
   "source": [
    "# [추가] 모델 재정의 및 학습\n",
    "model = tf.keras.Sequential([\n",
    "    tf.keras.layers.Dense(units=52, activation='relu', input_shape=(13,)),\n",
    "    tf.keras.layers.Dense(units=39, activation='relu'),\n",
    "    tf.keras.layers.Dense(units=26, activation='relu'),\n",
    "    tf.keras.layers.Dense(units=1)\n",
    "])\n",
    "adam = tf.keras.optimizers.Adam(lr=0.07)\n",
    "model.compile(optimizer=adam, loss='mse')\n",
    "\n",
    "\n",
    "# callback 함수 사용\n",
    "# 위에서 학습한 history = model.fit(train_X, train_Y, epochs=25, batch_size=32, validation_split=0.25) 결과 확인 후 비교 \n",
    "history = model.fit(train_X, train_Y, epochs=25, batch_size=32, validation_split=0.25, callbacks=[tf.keras.callbacks.EarlyStopping(patience=3, monitor='val_loss')])"
   ]
  },
  {
   "cell_type": "markdown",
   "metadata": {},
   "source": [
    "+ 검증 데이타에 대한 성적이 좋으면 테스트 데이터에 대한 성적도 좋아질 것이다.\n",
    "+ 검증 데이타에 대한 성적이 좋아지려면 val_loss가 높아지지 않도록 (즉, 훈련데이타의 과적합이 되지 않도록) 학습을 멈춰야 한다.\n",
    "+ 학습 도중에 끼어들기 위해  callback 함수를 사용하여 모델을 학습할 때 에포크가 끝날 때마다 호출된다\n",
    "    - tf.keras.callbacks.EarlyStopping : 학습을 일찍 멈추는 기능을 하는 함수\n",
    "    - tf.keras.callbacks.EarlyStopping 는 val_loss가 3회의 에포크를 수행하는 동안 최고 기록을 갱신하지 못한다면 학습을 멈춘다."
   ]
  },
  {
   "cell_type": "markdown",
   "metadata": {},
   "source": [
    "[ 결과 ]\n",
    "\n",
    "- tf.keras.callbacks.EarlyStopping 는 val_loss가 3회의 에포크를 수행하는 동안 최고 기록을 갱신하지 못한다면 학습을 멈춘다.\n",
    "- 예를 들어, 14 에포크의 최고 기록인 val_loss=1.0888를 15, 16, 17에서 갱신하지 못했기 때문에 17 에포트에서 학습을 멈춘다."
   ]
  },
  {
   "cell_type": "code",
   "execution_count": 12,
   "metadata": {},
   "outputs": [
    {
     "data": {
      "image/png": "[encoded data removed]",
      "text/plain": [
       "<Figure size 432x288 with 1 Axes>"
      ]
     },
     "metadata": {
      "needs_background": "light"
     },
     "output_type": "display_data"
    }
   ],
   "source": [
    "# (9) 회귀 모델 학습 결과 시각화\n",
    "import matplotlib.pyplot as plt\n",
    "plt.plot(history.history['loss'], 'b-', label='loss')\n",
    "plt.plot(history.history['val_loss'], 'r--', label='val_loss')\n",
    "plt.xlabel('Epoch')\n",
    "plt.legend()\n",
    "plt.show()"
   ]
  },
  {
   "cell_type": "markdown",
   "metadata": {},
   "source": [
    "[ 결과 ]\n",
    "\n",
    "    - 훈련데이타의 손실 loss : 파란선\n",
    "    - 검증데이터의 손실 val_loss : 빨간선\n",
    "\n",
    "+ 검증데이타의 손실에서 뚜렷한 증가세는 보이지 않음\n",
    "\n",
    "+ 이렇게 학습된 모델을 아래처럼 다시 평가해본다"
   ]
  },
  {
   "cell_type": "code",
   "execution_count": 13,
   "metadata": {},
   "outputs": [
    {
     "name": "stdout",
     "output_type": "stream",
     "text": [
      "4/4 [==============================] - 0s 998us/step - loss: 0.9889\n"
     ]
    },
    {
     "data": {
      "text/plain": [
       "0.988925039768219"
      ]
     },
     "execution_count": 13,
     "metadata": {},
     "output_type": "execute_result"
    }
   ],
   "source": [
    "# (10) 회귀 모델 평가\n",
    "model.evaluate(test_X, test_Y)"
   ]
  },
  {
   "cell_type": "markdown",
   "metadata": {},
   "source": [
    "[ 결과 ] \n",
    "\n",
    "앞의 평가 결과에 비해 낮은 수치가 나온다면, \n",
    "머신러닝의 목적은 손실을 감소시키는 것이기 때문에 이 모델의 학습이 더 잘 되었다고 할 수 있다.\n",
    "\n",
    "콜백함수로 Early Stopping을 이용하면 과적합하지 않도록 도중에 학습을 멈춘다\n",
    "\n",
    "그래프는 결과에 비해 다양한 값을 예측하는 것처럼 보인다"
   ]
  },
  {
   "cell_type": "code",
   "execution_count": 14,
   "metadata": {},
   "outputs": [
    {
     "data": {
      "image/png": "[encoded data removed]",
      "text/plain": [
       "<Figure size 360x360 with 1 Axes>"
      ]
     },
     "metadata": {
      "needs_background": "light"
     },
     "output_type": "display_data"
    }
   ],
   "source": [
    "# 다시 확인\n",
    "# (7) 실제 주택 가격과 예측 주택 가격 시각화\n",
    "#    실제 주택 가격 (test_Y)에 대해 예측 주책 가격(pred_Y)는 대각선에 모든 점이 위치하는 이상적인 모습과 거리가 있어 보인다.\n",
    "\n",
    "import matplotlib.pyplot as plt\n",
    "\n",
    "pred_Y = model.predict(test_X)\n",
    "\n",
    "plt.figure(figsize=(5,5))\n",
    "plt.plot(test_Y, pred_Y, 'b.')\n",
    "plt.axis([min(test_Y), max(test_Y), min(test_Y), max(test_Y)])\n",
    "\n",
    "# y=x에 해당하는 대각선\n",
    "plt.plot([min(test_Y), max(test_Y)], [min(test_Y), max(test_Y)], ls=\"--\", c=\".3\")\n",
    "plt.xlabel('test_Y')\n",
    "plt.ylabel('pred_Y')\n",
    "\n",
    "plt.show()"
   ]
  },
  {
   "cell_type": "code",
   "execution_count": null,
   "metadata": {},
   "outputs": [],
   "source": []
  },
  {
   "cell_type": "code",
   "execution_count": null,
   "metadata": {},
   "outputs": [],
   "source": []
  },
  {
   "cell_type": "code",
   "execution_count": null,
   "metadata": {},
   "outputs": [],
   "source": []
  }
 ],
 "metadata": {
  "kernelspec": {
   "display_name": "Python 3",
   "language": "python",
   "name": "python3"
  },
  "language_info": {
   "codemirror_mode": {
    "name": "ipython",
    "version": 3
   },
   "file_extension": ".py",
   "mimetype": "text/x-python",
   "name": "python",
   "nbconvert_exporter": "python",
   "pygments_lexer": "ipython3",
   "version": "3.8.8"
  }
 },
 "nbformat": 4,
 "nbformat_minor": 4
}
