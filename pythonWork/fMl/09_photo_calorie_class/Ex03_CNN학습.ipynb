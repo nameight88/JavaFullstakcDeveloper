{
 "cells": [
  {
   "cell_type": "markdown",
   "metadata": {},
   "source": [
    "cnn_model.py 파일에 함수를 선언하고 호출하는 방식으로 진행"
   ]
  },
  {
   "cell_type": "code",
   "execution_count": 1,
   "metadata": {
    "scrolled": false
   },
   "outputs": [],
   "source": [
    "# Anaconda Prompt에서 관리자모드에서 'pip install tensorflow'"
   ]
  },
  {
   "cell_type": "code",
   "execution_count": 2,
   "metadata": {},
   "outputs": [
    {
     "data": {
      "text/plain": [
       "'2.5.0'"
      ]
     },
     "execution_count": 2,
     "metadata": {},
     "output_type": "execute_result"
    }
   ],
   "source": [
    "import tensorflow as tf\n",
    "tf.__version__"
   ]
  },
  {
   "cell_type": "code",
   "execution_count": 3,
   "metadata": {},
   "outputs": [
    {
     "name": "stdout",
     "output_type": "stream",
     "text": [
      "Requirement already satisfied: opencv-python in c:\\users\\simmi\\anaconda3\\lib\\site-packages (4.5.3.56)\n",
      "Requirement already satisfied: numpy>=1.17.3 in c:\\users\\simmi\\anaconda3\\lib\\site-packages (from opencv-python) (1.19.5)\n"
     ]
    }
   ],
   "source": [
    "# !pip install keras\n",
    "!pip install opencv-python"
   ]
  },
  {
   "cell_type": "code",
   "execution_count": 4,
   "metadata": {
    "scrolled": true
   },
   "outputs": [],
   "source": [
    "# !pip install matplotlib\n",
    "# !pip install sklearn"
   ]
  },
  {
   "cell_type": "code",
   "execution_count": null,
   "metadata": {},
   "outputs": [],
   "source": [
    "\n"
   ]
  },
  {
   "cell_type": "code",
   "execution_count": 1,
   "metadata": {},
   "outputs": [],
   "source": [
    "import tensorflow as tf\n",
    "import cnn_model"
   ]
  },
  {
   "cell_type": "code",
   "execution_count": 2,
   "metadata": {},
   "outputs": [
    {
     "name": "stdout",
     "output_type": "stream",
     "text": [
      "Epoch 1/20\n",
      "29/29 [==============================] - 3s 76ms/step - loss: 1.5327 - accuracy: 0.2924 - val_loss: 1.4978 - val_accuracy: 0.2522\n",
      "Epoch 2/20\n",
      "29/29 [==============================] - 2s 67ms/step - loss: 1.4150 - accuracy: 0.3533 - val_loss: 1.4197 - val_accuracy: 0.3982\n",
      "Epoch 3/20\n",
      "29/29 [==============================] - 2s 68ms/step - loss: 1.3386 - accuracy: 0.3998 - val_loss: 1.3741 - val_accuracy: 0.3451\n",
      "Epoch 4/20\n",
      "29/29 [==============================] - 2s 74ms/step - loss: 1.2879 - accuracy: 0.4585 - val_loss: 1.2620 - val_accuracy: 0.4823\n",
      "Epoch 5/20\n",
      "29/29 [==============================] - 2s 78ms/step - loss: 1.1976 - accuracy: 0.4961 - val_loss: 1.2016 - val_accuracy: 0.5044\n",
      "Epoch 6/20\n",
      "29/29 [==============================] - 2s 75ms/step - loss: 1.1736 - accuracy: 0.5050 - val_loss: 1.1961 - val_accuracy: 0.5133\n",
      "Epoch 7/20\n",
      "29/29 [==============================] - 2s 74ms/step - loss: 1.1320 - accuracy: 0.5183 - val_loss: 1.3179 - val_accuracy: 0.4292\n",
      "Epoch 8/20\n",
      "29/29 [==============================] - 2s 75ms/step - loss: 1.0840 - accuracy: 0.5670 - val_loss: 1.1550 - val_accuracy: 0.5310\n",
      "Epoch 9/20\n",
      "29/29 [==============================] - 2s 79ms/step - loss: 1.0298 - accuracy: 0.5681 - val_loss: 1.1339 - val_accuracy: 0.5265\n",
      "Epoch 10/20\n",
      "29/29 [==============================] - 2s 81ms/step - loss: 0.9687 - accuracy: 0.5958 - val_loss: 1.4719 - val_accuracy: 0.4646\n",
      "Epoch 11/20\n",
      "29/29 [==============================] - 2s 78ms/step - loss: 0.9363 - accuracy: 0.6179 - val_loss: 1.7511 - val_accuracy: 0.4646\n",
      "Epoch 12/20\n",
      "29/29 [==============================] - 2s 70ms/step - loss: 0.8878 - accuracy: 0.6656 - val_loss: 1.2814 - val_accuracy: 0.5265\n",
      "Epoch 13/20\n",
      "29/29 [==============================] - 2s 75ms/step - loss: 0.8451 - accuracy: 0.6700 - val_loss: 1.1688 - val_accuracy: 0.5221\n",
      "Epoch 14/20\n",
      "29/29 [==============================] - 2s 72ms/step - loss: 0.8171 - accuracy: 0.6811 - val_loss: 1.1058 - val_accuracy: 0.5531\n",
      "Epoch 15/20\n",
      "29/29 [==============================] - 2s 84ms/step - loss: 0.7374 - accuracy: 0.7154 - val_loss: 1.2839 - val_accuracy: 0.5796\n",
      "Epoch 16/20\n",
      "29/29 [==============================] - 2s 77ms/step - loss: 0.7174 - accuracy: 0.7320 - val_loss: 1.1800 - val_accuracy: 0.5177\n",
      "Epoch 17/20\n",
      "29/29 [==============================] - 2s 73ms/step - loss: 0.6622 - accuracy: 0.7442 - val_loss: 1.5298 - val_accuracy: 0.5221\n",
      "Epoch 18/20\n",
      "29/29 [==============================] - 2s 73ms/step - loss: 0.6090 - accuracy: 0.7697 - val_loss: 1.6052 - val_accuracy: 0.4425\n",
      "Epoch 19/20\n",
      "29/29 [==============================] - 2s 81ms/step - loss: 0.5930 - accuracy: 0.7719 - val_loss: 1.4128 - val_accuracy: 0.5221\n",
      "Epoch 20/20\n",
      "29/29 [==============================] - 2s 73ms/step - loss: 0.5521 - accuracy: 0.7863 - val_loss: 1.4189 - val_accuracy: 0.5796\n",
      "8/8 [==============================] - 0s 16ms/step - loss: 1.4189 - accuracy: 0.5796\n",
      "정답률= 0.5796459913253784 loss= 1.4188953638076782\n"
     ]
    }
   ],
   "source": [
    "\n",
    "from tensorflow.python import keras\n",
    "# import keras\n",
    "\n",
    "import matplotlib.pyplot as plt\n",
    "import numpy as np\n",
    "from sklearn.model_selection import train_test_split\n",
    "\n",
    "# 입력과 출력 지정하기 --- (*1)\n",
    "im_rows = 32 # 이미지의 높이\n",
    "im_cols = 32 # 이미지의 너비\n",
    "im_color = 3 # 이미지의 색공간\n",
    "in_shape = (im_rows, im_cols, im_color)\n",
    "nb_classes = 5\n",
    "\n",
    "# 사진 데이터 읽어 들이기 --- (*2)\n",
    "photos = np.load('image/photos.npz')\n",
    "x = photos['x']\n",
    "y = photos['y']\n",
    "\n",
    "# 읽어들인 데이터를 3차원 배열로 변환하기 --- (*3)\n",
    "x = x.reshape(-1, im_rows, im_cols, im_color)\n",
    "x = x.astype('float32') / 255\n",
    "# 레이블 데이터를 One-hot 형식으로 변환하기 --- (*4)\n",
    "y = keras.utils.np_utils.to_categorical(y.astype('int32'), nb_classes)\n",
    "\n",
    "# 학습 전용과 테스트 전용으로 구분하기 --- (*5)\n",
    "x_train, x_test, y_train, y_test = train_test_split(\n",
    "    x, y, train_size=0.8)\n",
    "\n",
    "# CNN 모델 만들기 (위에 선언한 함수) --- (*6)\n",
    "model = cnn_model.get_model(in_shape, nb_classes)\n",
    "\n",
    "# 학습 실행하기 --- (*7)\n",
    "hist = model.fit(x_train, y_train,\n",
    "          batch_size=32,\n",
    "          epochs=20,\n",
    "          verbose=1,\n",
    "          validation_data=(x_test, y_test))\n",
    "\n",
    "# 모델 평가하기 --- (*8)\n",
    "score = model.evaluate(x_test, y_test, verbose=1)\n",
    "print('정답률=', score[1], 'loss=', score[0])\n"
   ]
  },
  {
   "cell_type": "code",
   "execution_count": 22,
   "metadata": {},
   "outputs": [
    {
     "data": {
      "image/png": "[encoded data removed]",
      "text/plain": [
       "<Figure size 432x288 with 1 Axes>"
      ]
     },
     "metadata": {
      "needs_background": "light"
     },
     "output_type": "display_data"
    },
    {
     "data": {
      "image/png": "[encoded data removed]",
      "text/plain": [
       "<Figure size 432x288 with 1 Axes>"
      ]
     },
     "metadata": {
      "needs_background": "light"
     },
     "output_type": "display_data"
    }
   ],
   "source": [
    "\n",
    "# 학습 상태를 그래프로 그리기 --- (*9)\n",
    "# 정답률 추이를 그래프로 그리기\n",
    "plt.plot(hist.history['accuracy'])\n",
    "plt.plot(hist.history['val_accuracy'])\n",
    "plt.title('Accuracy')\n",
    "plt.legend(['train', 'test'], loc='upper left')\n",
    "plt.show()\n",
    "\n",
    "# 손실 추이를 그래프로 그리기\n",
    "plt.plot(hist.history['loss'])\n",
    "plt.plot(hist.history['val_loss'])\n",
    "plt.title('Loss')\n",
    "plt.legend(['train', 'test'], loc='upper left')\n",
    "plt.show()\n",
    "\n",
    "model.save_weights('./image/photos-model-light.hdf5')\n"
   ]
  },
  {
   "cell_type": "markdown",
   "metadata": {},
   "source": [
    "[ 결과 ] \n",
    "\n",
    "정답률이 70% 정도 나온다 하더라도 좋은 결과가 아니다.\n",
    "\n",
    "만일 값이 너무 안 좋으면 데이타클리닝 작업으로 필요없는 사진을 제거해야 한다.\n",
    "\n",
    "정답률의 차이는 대부분 데이터의 품질에서 발생한다."
   ]
  }
 ],
 "metadata": {
  "kernelspec": {
   "display_name": "Python 3",
   "language": "python",
   "name": "python3"
  },
  "language_info": {
   "codemirror_mode": {
    "name": "ipython",
    "version": 3
   },
   "file_extension": ".py",
   "mimetype": "text/x-python",
   "name": "python",
   "nbconvert_exporter": "python",
   "pygments_lexer": "ipython3",
   "version": "3.8.8"
  }
 },
 "nbformat": 4,
 "nbformat_minor": 2
}
