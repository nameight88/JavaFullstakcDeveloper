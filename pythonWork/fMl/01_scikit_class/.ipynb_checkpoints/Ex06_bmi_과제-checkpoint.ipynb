{
 "cells": [
  {
   "cell_type": "markdown",
   "metadata": {},
   "source": [
    "## 비만지수를 데이타셋에서 기계학습을 하고 시각화하기\n",
    "\n",
    "\n",
    "\n",
    "예를 들어\n",
    "- SVM을 이용하고 산점도 그래프 그리기\n",
    "- 랜덤포레스트 이용하고 그래프 그리기"
   ]
  },
  {
   "cell_type": "code",
   "execution_count": null,
   "metadata": {},
   "outputs": [],
   "source": [
    "from sklearn import svm, metrics\n",
    "from sklearn.model_selection import train_test_split\n",
    "import pandas as pd\n",
    "\n",
    "# 데이타 읽어오기\n",
    "tbl = pd.read_csv('../data/bmi/bmi.csv')"
   ]
  }
 ],
 "metadata": {
  "kernelspec": {
   "display_name": "Python 3",
   "language": "python",
   "name": "python3"
  },
  "language_info": {
   "codemirror_mode": {
    "name": "ipython",
    "version": 3
   },
   "file_extension": ".py",
   "mimetype": "text/x-python",
   "name": "python",
   "nbconvert_exporter": "python",
   "pygments_lexer": "ipython3",
   "version": "3.7.3"
  }
 },
 "nbformat": 4,
 "nbformat_minor": 2
}
