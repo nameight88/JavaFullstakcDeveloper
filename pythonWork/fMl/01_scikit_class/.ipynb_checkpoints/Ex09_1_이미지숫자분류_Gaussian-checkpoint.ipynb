{
 "cells": [
  {
   "cell_type": "code",
   "execution_count": 2,
   "metadata": {},
   "outputs": [],
   "source": [
    "# 숫자 데이타 로드하여 숫자 로드\n",
    "from sklearn.datasets import load_digits\n",
    "import pylab as pl\n",
    "digits = load_digits()"
   ]
  },
  {
   "cell_type": "code",
   "execution_count": 4,
   "metadata": {},
   "outputs": [
    {
     "data": {
      "text/plain": [
       "<Figure size 432x288 with 0 Axes>"
      ]
     },
     "metadata": {},
     "output_type": "display_data"
    },
    {
     "data": {
      "image/png": "[encoded data removed]",
      "text/plain": [
       "<Figure size 288x288 with 1 Axes>"
      ]
     },
     "metadata": {
      "needs_background": "light"
     },
     "output_type": "display_data"
    }
   ],
   "source": [
    "# 이미지를 회색 스케일로 변환\n",
    "# pl.matshow() : 이미지의 형상을 2차원 배열로 반환\n",
    "pl.gray()\n",
    "pl.matshow(digits.images[0])\n",
    "pl.show()"
   ]
  },
  {
   "cell_type": "code",
   "execution_count": 5,
   "metadata": {},
   "outputs": [
    {
     "data": {
      "text/plain": [
       "array([[ 0.,  0.,  5., 13.,  9.,  1.,  0.,  0.],\n",
       "       [ 0.,  0., 13., 15., 10., 15.,  5.,  0.],\n",
       "       [ 0.,  3., 15.,  2.,  0., 11.,  8.,  0.],\n",
       "       [ 0.,  4., 12.,  0.,  0.,  8.,  8.,  0.],\n",
       "       [ 0.,  5.,  8.,  0.,  0.,  9.,  8.,  0.],\n",
       "       [ 0.,  4., 11.,  0.,  1., 12.,  7.,  0.],\n",
       "       [ 0.,  2., 14.,  5., 10., 12.,  0.,  0.],\n",
       "       [ 0.,  0.,  6., 13., 10.,  0.,  0.,  0.]])"
      ]
     },
     "execution_count": 5,
     "metadata": {},
     "output_type": "execute_result"
    }
   ],
   "source": [
    "digits.images[0]\n",
    "# "
   ]
  },
  {
   "cell_type": "markdown",
   "metadata": {},
   "source": [
    "## 나이브베이즈 분류기 중 가우스 분포를 사용해 분류"
   ]
  },
  {
   "cell_type": "code",
   "execution_count": 10,
   "metadata": {},
   "outputs": [],
   "source": [
    "from sklearn.datasets import load_digits\n",
    "from sklearn.model_selection import train_test_split\n",
    "from sklearn.naive_bayes import GaussianNB\n",
    "from sklearn.metrics import confusion_matrix\n",
    "import pylab as plt"
   ]
  },
  {
   "cell_type": "code",
   "execution_count": 13,
   "metadata": {},
   "outputs": [
    {
     "name": "stdout",
     "output_type": "stream",
     "text": [
      "[[ 0.  0.  5. ...  0.  0.  0.]\n",
      " [ 0.  0.  0. ... 10.  0.  0.]\n",
      " [ 0.  0.  0. ... 16.  9.  0.]\n",
      " ...\n",
      " [ 0.  0.  1. ...  6.  0.  0.]\n",
      " [ 0.  0.  2. ... 12.  0.  0.]\n",
      " [ 0.  0. 10. ... 12.  1.  0.]]\n"
     ]
    }
   ],
   "source": [
    "# 숫자 데이타 로드\n",
    "digits = load_digits()\n",
    "\n",
    "# 목표변수 \n",
    "y = digits.target\n",
    "\n",
    "# 데이타준비\n",
    "n_sample = len(digits.images)\n",
    "X = digits.images.reshape((n_sample, -1)) \n",
    "    # reshape() : 10*10 행렬을 100 벡터(리스트?)로 변경\n",
    "print(X)    "
   ]
  },
  {
   "cell_type": "code",
   "execution_count": 15,
   "metadata": {},
   "outputs": [
    {
     "name": "stdout",
     "output_type": "stream",
     "text": [
      "train :  1347 , test :  450\n"
     ]
    }
   ],
   "source": [
    "# 데이타셋과 훈련셋으로 분할\n",
    "X_train, X_test, y_train, y_test = train_test_split(X, y, random_state=0)\n",
    "print('train : ', len(X_train), ', test : ' , len(X_test))"
   ]
  },
  {
   "cell_type": "code",
   "execution_count": 17,
   "metadata": {},
   "outputs": [],
   "source": [
    "# 나이브 베이즈 분류기 선택(Classifier) - 가우스분포를 사용해 확률을 추산\n",
    "gnb = GaussianNB()\n",
    "fit = gnb.fit(X_train, y_train)  # 데이타 적합화\n",
    "\n",
    "# 예측하기\n",
    "predicted = fit.predict(X_test)\n",
    "\n",
    "# Confusion matrix 생성\n",
    "#   : 예측된 결과가 얼마나 혼돈(잘못)되었는지 볼 수 있는 2차원 배열\n",
    "confusion_matrix(y_test, predicted)\n",
    "\n",
    "'''\n",
    " [결과] 2라고 예측했는데 8인 경우가 15번, 8이라고 예측했는데 2인 경우가 5이다.\n",
    "'''"
   ]
  },
  {
   "cell_type": "markdown",
   "metadata": {},
   "source": [
    "파이썬 기본 함수 : https://wikidocs.net/32\n",
    "\n",
    "*zip()와 list()\n",
    "\n",
    "list(zip([1, 2, 3], [4, 5, 6])) ->\n",
    "    [(1, 4), (2, 5), (3, 6)]\n",
    "    \n",
    "list(zip([1, 2, 3], [4, 5, 6], [7, 8, 9])) ->\n",
    "    [(1, 4, 7), (2, 5, 8), (3, 6, 9)]\n",
    "    \n",
    "list(zip(\"abc\", \"def\")) -> \n",
    "    [('a', 'd'), ('b', 'e'), ('c', 'f')]"
   ]
  },
  {
   "cell_type": "code",
   "execution_count": 26,
   "metadata": {},
   "outputs": [
    {
     "data": {
      "image/png": "[encoded data removed]",
      "text/plain": [
       "<Figure size 432x288 with 10 Axes>"
      ]
     },
     "metadata": {
      "needs_background": "light"
     },
     "output_type": "display_data"
    }
   ],
   "source": [
    "# 예측값과 실제 숫자 비교\n",
    "images_and_predictions = list(zip(digits.images, fit.predict(X)))\n",
    "for index, (image, prediction) in enumerate(images_and_predictions[:10]):\n",
    "    plt.subplot(5, 3, index+5 )  # 5행 3열 subplot을 만들고 5번째부터 지정(?)\n",
    "    plt.axis('off')  # 축을 나타내기 않음\n",
    "    plt.imshow(image, cmap=plt.cm.gray_r, interpolation='nearest') # 서브플롯으로 채워진 전체 플롯을 보여준다\n",
    "    plt.title('prediction: %i' % prediction )\n",
    "\n",
    "plt.show()"
   ]
  },
  {
   "cell_type": "code",
   "execution_count": null,
   "metadata": {},
   "outputs": [],
   "source": [
    "''' [결과]\n",
    "    8이라고 예측했는데 2라는 것이다.\n",
    "    3이라고 예측했는데 아마도 5인 듯\n",
    "    \n",
    "'''"
   ]
  },
  {
   "cell_type": "markdown",
   "metadata": {},
   "source": [
    "이 예제는 숫자를 확인하고자 하는 샘플예문이다"
   ]
  }
 ],
 "metadata": {
  "kernelspec": {
   "display_name": "Python 3",
   "language": "python",
   "name": "python3"
  },
  "language_info": {
   "codemirror_mode": {
    "name": "ipython",
    "version": 3
   },
   "file_extension": ".py",
   "mimetype": "text/x-python",
   "name": "python",
   "nbconvert_exporter": "python",
   "pygments_lexer": "ipython3",
   "version": "3.7.3"
  }
 },
 "nbformat": 4,
 "nbformat_minor": 2
}
