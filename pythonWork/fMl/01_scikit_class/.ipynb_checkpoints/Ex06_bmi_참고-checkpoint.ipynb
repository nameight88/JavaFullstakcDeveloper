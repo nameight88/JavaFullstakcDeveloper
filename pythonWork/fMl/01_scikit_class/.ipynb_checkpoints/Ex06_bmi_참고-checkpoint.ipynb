{
 "cells": [
  {
   "cell_type": "code",
   "execution_count": 1,
   "metadata": {},
   "outputs": [
    {
     "name": "stdout",
     "output_type": "stream",
     "text": [
      "finish.. {'저체중': 2684, '정상체중': 2780, '비만': 4536}\n"
     ]
    }
   ],
   "source": [
    "# 0. 데이타셋 만들기\n",
    "import random\n",
    "\n",
    "# 함수 선언 : 키와 몸무게에 따른 bmi 계산하여 비만정도를 반환하는 메소드\n",
    "# BMI = 몸무게(kg) / ( 키(m) * 키(m) )\n",
    "def bmi_func(height,weight):\n",
    "\tbmi = weight/(height/100)**2\n",
    "\n",
    "\tif bmi < 18.5: return \"저체중\"\n",
    "\tif bmi < 25: return \"정상체중\"\n",
    "\treturn \"비만\"\n",
    "\n",
    "# 출력 파일 만들기\n",
    "fp = open('../data/bmi/bmi.csv','w', encoding='utf-8')\n",
    "fp.write('height,weight,label\\r\\n')\n",
    "\t#[주의] height , weight 사이 공백있으면 읽어올 때 에러발생\n",
    "\t# data/bmi.csv 파일을 열어보면 한글은 깨져있음\n",
    "\n",
    "# 무작위로 만명의 데이터 생성하기\n",
    "cnt = {'저체중':0, '정상체중':0, '비만':0}\n",
    "for i in range(10000): \n",
    "\th = random.randint(120, 200) # 키는 120~200cm 사이\n",
    "\tw = random.randint(35, 90)   # 몸무게는 35~90kg 사이\n",
    "\tlabel = bmi_func(h,w)\n",
    "\tcnt[label] += 1\n",
    "\tfp.write(\"{0},{1},{2}\\r\\n\".format(h,w,label))\n",
    "fp.close()\n",
    "print('finish..', cnt)\n",
    "\n"
   ]
  },
  {
   "cell_type": "code",
   "execution_count": null,
   "metadata": {},
   "outputs": [],
   "source": []
  },
  {
   "cell_type": "code",
   "execution_count": 2,
   "metadata": {},
   "outputs": [
    {
     "name": "stdout",
     "output_type": "stream",
     "text": [
      "   weight  height\n",
      "0    0.45   0.725\n",
      "1    0.81   1.000\n",
      "2    0.74   0.720\n",
      "3    0.63   0.990\n",
      "4    0.66   0.985\n",
      "5    0.51   0.940\n",
      "6    0.64   0.765\n",
      "7    0.77   0.820\n",
      "8    0.58   0.865\n",
      "9    0.55   0.705\n",
      "정답률 = 0.9916\n",
      "리포트=\n",
      "               precision    recall  f1-score   support\n",
      "\n",
      "          비만       1.00      0.99      0.99      1146\n",
      "         저체중       1.00      0.99      0.99       664\n",
      "        정상체중       0.98      0.99      0.98       690\n",
      "\n",
      "   micro avg       0.99      0.99      0.99      2500\n",
      "   macro avg       0.99      0.99      0.99      2500\n",
      "weighted avg       0.99      0.99      0.99      2500\n",
      "\n"
     ]
    },
    {
     "data": {
      "text/plain": [
       "\"\\n\\t@ SVM의 종류 : 3개 모두 레이블 분류에 사용\\n\\t- SVC : Classification(분류) 알고리즘\\n\\t- NuSVC : SVC와 비슷하지만 오류처리 방식이 다르다는데\\n\\t- LinearSVC : 선형 커널을 빠르게 계산하는 알고리즘\\n\\nclf=svm.SVC(gamma='scale')\\n위의 코드를 아래 코드로 변경\\nclf=svm.LinearSVC()\\n\\n\""
      ]
     },
     "execution_count": 2,
     "metadata": {},
     "output_type": "execute_result"
    }
   ],
   "source": [
    "\"\"\"\n",
    "\tSVM (Support Vector Machine)\n",
    "\t\t- 일반화가 잘 되어 있으면 현실 데이타로도 분류 성능이 높다\n",
    "\"\"\"\n",
    "from sklearn import svm, metrics\n",
    "from sklearn.model_selection import train_test_split\n",
    "import pandas as pd\n",
    "\n",
    "# 데이타 읽어오기\n",
    "tbl = pd.read_csv('../data/bmi/bmi.csv')\n",
    "\n",
    "# 컬럼(열) 분리\n",
    "label = tbl['label']  # 비만상태\n",
    "w = tbl['weight']/100 # 100kg을 최고로 하여 데이터를 0~1 사이로 변경\n",
    "h = tbl['height']/200 # 최고 키가 200이기에 데이타를 0~1 사이로 변경\n",
    "\n",
    "wh = pd.concat([w,h], axis=1) # axis=1 컬럼끼리 연결\n",
    "print(wh[:10])\n",
    "\n",
    "# 학습데이터와 테스트데이타로 나누기\n",
    "data_train, data_test, label_train, label_test = train_test_split(wh,label)\n",
    "\n",
    "# 데이타 학습하기\n",
    "clf=svm.SVC(gamma='scale')\n",
    "clf.fit(data_train, label_train)\n",
    "\n",
    "# 데이터 예측하기\n",
    "predict=clf.predict(data_test)\n",
    "\n",
    "# 결과 확인하기\n",
    "ac_score=metrics.accuracy_score(label_test, predict)\n",
    "print('정답률 =', ac_score)\n",
    "\n",
    "cl_report=metrics.classification_report(label_test, predict)\n",
    "print('리포트=\\n', cl_report)\n",
    "\n",
    "\"\"\"\n",
    "\t@ SVM의 종류 : 3개 모두 레이블 분류에 사용\n",
    "\t- SVC : Classification(분류) 알고리즘\n",
    "\t- NuSVC : SVC와 비슷하지만 오류처리 방식이 다르다는데\n",
    "\t- LinearSVC : 선형 커널을 빠르게 계산하는 알고리즘\n",
    "\n",
    "clf=svm.SVC(gamma='scale')\n",
    "위의 코드를 아래 코드로 변경\n",
    "clf=svm.LinearSVC()\n",
    "\n",
    "\"\"\""
   ]
  },
  {
   "cell_type": "code",
   "execution_count": null,
   "metadata": {},
   "outputs": [],
   "source": []
  },
  {
   "cell_type": "code",
   "execution_count": 5,
   "metadata": {},
   "outputs": [
    {
     "name": "stdout",
     "output_type": "stream",
     "text": [
      "       height  weight\n",
      "label                \n",
      "정상체중      145      45\n",
      "정상체중      200      81\n",
      "비만        144      74\n",
      "저체중       198      63\n",
      "저체중       197      66\n",
      "저체중       188      51\n",
      "비만        153      64\n",
      "비만        164      77\n",
      "정상체중      173      58\n",
      "비만        141      55\n"
     ]
    },
    {
     "data": {
      "image/png": "[encoded data removed]",
      "text/plain": [
       "<Figure size 432x288 with 1 Axes>"
      ]
     },
     "metadata": {
      "needs_background": "light"
     },
     "output_type": "display_data"
    }
   ],
   "source": [
    "\"\"\" 몸무게와 키에 대한 산점도를 그린다.\n",
    "\t이에 label 종류에 따라 다른 색 점으로 표시한다면\n",
    "\"\"\"\n",
    "%matplotlib inline\n",
    "\n",
    "import matplotlib.pyplot as plt\n",
    "import pandas as pd\n",
    "\n",
    "# 판다스로 CSV 파일 읽기\n",
    "df = pd.read_csv('../data/bmi/bmi.csv', index_col=2)\n",
    "print(df[:10])\n",
    "\n",
    "# 그래프 \n",
    "fig = plt.figure()\n",
    "ax = fig.add_subplot(1,1,1)\n",
    "\n",
    "# 지정한 레이블을 임의의 색으로 지정한 scatter 플롯 만들기\n",
    "def scatter(lbl, color):\n",
    "\tb = df.loc[lbl]\n",
    "\tax.scatter(b['weight'],b['height'], c=color, label=lbl)\n",
    "\n",
    "scatter('비만', 'red')\n",
    "scatter('정상체중', 'green')\n",
    "scatter('저체중', 'yellow')\n",
    "\n",
    "plt.show()\n",
    "# 그림을 확대하여 보면 점들로 되어 있는데 3분류로 잘 구분된 다.\n",
    "# plt.savefig('bmi-test.png') # 파일저장은 plt.show() 코드랑 같이 못 쓰나?\n"
   ]
  }
 ],
 "metadata": {
  "kernelspec": {
   "display_name": "Python 3",
   "language": "python",
   "name": "python3"
  },
  "language_info": {
   "codemirror_mode": {
    "name": "ipython",
    "version": 3
   },
   "file_extension": ".py",
   "mimetype": "text/x-python",
   "name": "python",
   "nbconvert_exporter": "python",
   "pygments_lexer": "ipython3",
   "version": "3.7.3"
  }
 },
 "nbformat": 4,
 "nbformat_minor": 2
}
