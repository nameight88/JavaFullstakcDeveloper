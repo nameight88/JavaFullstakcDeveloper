{
 "cells": [
  {
   "cell_type": "code",
   "execution_count": 1,
   "metadata": {},
   "outputs": [],
   "source": [
    "from Ex09_bayes import BayesianFilter\n",
    "bf = BayesianFilter()\n",
    "\n",
    "# 텍스트 학습\n",
    "bf.fit(\"파격 세일 - 오늘까지만 30% 할인\", \"광고\")\n",
    "bf.fit(\"쿠폰 선물 & 무료 배송\", \"광고\")\n",
    "bf.fit(\"현데계 백화점 세일\", \"광고\")\n",
    "bf.fit(\"봄과 함께 찾아온 따뜻한 신제품 소식\", \"광고\")\n",
    "bf.fit(\"인기 제품 기간 한정 세일\", \"광고\")\n",
    "bf.fit(\"오늘 일정 확인\", \"중요\")\n",
    "bf.fit(\"프로젝트 진행 상황 보고\",\"중요\")\n",
    "bf.fit(\"계약 잘 부탁드립니다\",\"중요\")\n",
    "bf.fit(\"회의 일정이 등록되었습니다.\",\"중요\")\n",
    "bf.fit(\"오늘 일정이 없습니다.\",\"중요\")\n"
   ]
  },
  {
   "cell_type": "code",
   "execution_count": 6,
   "metadata": {},
   "outputs": [
    {
     "name": "stdout",
     "output_type": "stream",
     "text": [
      "결과: 중요 \n",
      " \n",
      "[('광고', -20.17878916891824), ('중요', -19.944920232821374)]\n"
     ]
    }
   ],
   "source": [
    "pre, scorelist = bf.predict(\"재고 정리 확인, 무료배송\")\n",
    "print(\"결과: {} \\n \".format(pre))\n",
    "print(scorelist)"
   ]
  },
  {
   "cell_type": "code",
   "execution_count": null,
   "metadata": {},
   "outputs": [],
   "source": []
  },
  {
   "cell_type": "code",
   "execution_count": 7,
   "metadata": {},
   "outputs": [
    {
     "name": "stdout",
     "output_type": "stream",
     "text": [
      "결과: 중요 \n",
      " \n",
      "[('광고', -20.871936349478183), ('중요', -18.15316076359332)]\n"
     ]
    }
   ],
   "source": [
    "pre, scorelist = bf.predict(\"오늘 광고 회의는 취소되었습니다.\")\n",
    "print(\"결과: {} \\n \".format(pre))\n",
    "print(scorelist)"
   ]
  },
  {
   "cell_type": "code",
   "execution_count": null,
   "metadata": {},
   "outputs": [],
   "source": []
  },
  {
   "cell_type": "code",
   "execution_count": null,
   "metadata": {},
   "outputs": [],
   "source": []
  },
  {
   "cell_type": "markdown",
   "metadata": {},
   "source": [
    "### 이렇게 만들고나서 어디서 쓰이는가?\n",
    "\n",
    "스팸문자 거르는 방법이나 값들을 걸었을때의 기준을 훈련을 시켜서  \n",
    "자동으로 판단해서 걸러낼 수 있게 하는 것"
   ]
  },
  {
   "cell_type": "code",
   "execution_count": null,
   "metadata": {},
   "outputs": [],
   "source": []
  }
 ],
 "metadata": {
  "kernelspec": {
   "display_name": "Python 3 (ipykernel)",
   "language": "python",
   "name": "python3"
  },
  "language_info": {
   "codemirror_mode": {
    "name": "ipython",
    "version": 3
   },
   "file_extension": ".py",
   "mimetype": "text/x-python",
   "name": "python",
   "nbconvert_exporter": "python",
   "pygments_lexer": "ipython3",
   "version": "3.11.7"
  }
 },
 "nbformat": 4,
 "nbformat_minor": 2
}
