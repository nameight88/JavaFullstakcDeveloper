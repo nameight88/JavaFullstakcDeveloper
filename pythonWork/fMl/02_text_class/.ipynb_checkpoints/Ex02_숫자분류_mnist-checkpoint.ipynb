{
 "cells": [
  {
   "cell_type": "markdown",
   "metadata": {},
   "source": [
    "## 손글씨 숫자 인식하기\n",
    "\n",
    "\t` mnist에서 공개하는 데이터 사용\n",
    "\t` http://yann.lecun.com/exdb/mnist\n",
    "    ` 6만개의 학습용 데이터와 1만개의 검증용 데이터로 구성됨 ( 총 7만개 데이타 )\n",
    "\n",
    "\ttrain-images-idx3-ubyte.gz:  training set images (9912422 bytes) \n",
    "\ttrain-labels-idx1-ubyte.gz:  training set labels (28881 bytes) \n",
    "\tt10k-images-idx3-ubyte.gz:   test set images (1648877 bytes) \n",
    "\tt10k-labels-idx1-ubyte.gz:   test set labels (4542 bytes)\n",
    "\n",
    "\t위 4개의 파일에는 수많은 손글씨 이미지가 자체적인 데이타베이스 형식으로 들어 있다.\n",
    "\t해당 형식을 분석해야 이미지 같은 데이터를 얻어서 활용할 수 있다.\n",
    "\t제공되는 4개의 압축파일을 다운받아 Gzip 압축을 우선 해제해야 한다.\n",
    "\n",
    "\ttrain-images-idx3-ubyte.gz : 6만개의 이미지 정보 저장\n",
    "\ttrain-labels-idx1-ubyte.gz : 해당 이미지에 어떤 숫자인지 정보 저장\n",
    "\n",
    "\t[결과] 압축푼 4개의 파일의 제목을 보며 위의 사이트에서 확인하면 구조 확인\t  \n",
    "    \n",
    "    [작업] 이미 data 폴더와 mnist 폴더를 생성한다"
   ]
  },
  {
   "cell_type": "markdown",
   "metadata": {},
   "source": [
    "## 1. 데이타 다운받아 압축풀기"
   ]
  },
  {
   "cell_type": "code",
   "execution_count": 1,
   "metadata": {},
   "outputs": [
    {
     "name": "stdout",
     "output_type": "stream",
     "text": [
      "download: http://yann.lecun.com/exdb/mnist/train-images-idx3-ubyte.gz\n",
      "download: http://yann.lecun.com/exdb/mnist/train-labels-idx1-ubyte.gz\n",
      "download: http://yann.lecun.com/exdb/mnist/t10k-images-idx3-ubyte.gz\n",
      "download: http://yann.lecun.com/exdb/mnist/t10k-labels-idx1-ubyte.gz\n",
      "gzip: train-images-idx3-ubyte.gz\n",
      "gzip: train-labels-idx1-ubyte.gz\n",
      "gzip: t10k-images-idx3-ubyte.gz\n",
      "gzip: t10k-labels-idx1-ubyte.gz\n",
      "ok\n"
     ]
    }
   ],
   "source": [
    "\n",
    "import urllib.request as req\n",
    "import gzip, os, os.path\n",
    "savepath = \"./mnist\"\n",
    "baseurl = \"http://yann.lecun.com/exdb/mnist\"\n",
    "files = [\n",
    "    \"train-images-idx3-ubyte.gz\",\n",
    "    \"train-labels-idx1-ubyte.gz\",\n",
    "    \"t10k-images-idx3-ubyte.gz\",\n",
    "    \"t10k-labels-idx1-ubyte.gz\"]\n",
    "\n",
    "# 다운로드\n",
    "if not os.path.exists(savepath): os.mkdir(savepath)\n",
    "for f in files:\n",
    "    url = baseurl + \"/\" + f\n",
    "    loc = savepath + \"/\" + f\n",
    "    print(\"download:\", url)\n",
    "    if not os.path.exists(loc):\n",
    "        req.urlretrieve(url, loc)\n",
    "\n",
    "# GZip 압축 해제\n",
    "for f in files:\n",
    "    gz_file = savepath + \"/\" + f\n",
    "    raw_file = savepath + \"/\" + f.replace(\".gz\", \"\")\n",
    "    print(\"gzip:\", f)\n",
    "    with gzip.open(gz_file, \"rb\") as fp:\n",
    "        body = fp.read()\n",
    "        with open(raw_file, \"wb\") as w:\n",
    "            w.write(body)\n",
    "print(\"ok\")"
   ]
  },
  {
   "cell_type": "markdown",
   "metadata": {},
   "source": [
    "##  2. 바이너리 파일들을 CSV파일로 변환하기\n",
    "\n",
    "\t 압축푼 파일들을 바이러니 값들이기에 다루기 어렵다\n",
    "\t 이 바이러니 파일들을 다루기 쉬운 CSV파일로 변환할 것이다.\n",
    "\n",
    "\t [ 다음과 같은 CSV 파일 ]\n",
    "\t 레이블, 28 * 28의 픽셀 데이타\n",
    "\t 5, 0,0,0,0,0,0, 30, 80, 100, . . . \n",
    "\n",
    "\t [결과] train.csv와 t10k.csv 학습테이타와 테스트데이타 생성하고\n",
    "\t 확인할 수 있도록 10개씩 이미지 파일(pgm)로 저장한다.\n",
    "\t 해당 pgm 파일은 볼 수 있는 이미지뷰어 프로그램을 설치하면 볼 수 있다"
   ]
  },
  {
   "cell_type": "code",
   "execution_count": 2,
   "metadata": {},
   "outputs": [],
   "source": [
    "import struct\n",
    "\n",
    "def to_csv(name, maxdata):\n",
    "    # 레이블 파일과 이미지 파일 열기\n",
    "    # data폴더를 미리 생성하기\n",
    "    lbl_f = open(\"./mnist/\"+name+\"-labels-idx1-ubyte\", \"rb\") # r: 열기 rb: 바이너리 파일 열기\n",
    "    img_f = open(\"./mnist/\"+name+\"-images-idx3-ubyte\", \"rb\")\n",
    "    csv_f = open(\"./data/\"+name+\".csv\", \"w\", encoding=\"utf-8\")\n",
    "\n",
    "\n",
    "    # 헤더 정보 읽기 ---\n",
    "\t# 이미지 크기 정보 8바이트\n",
    "    mag, lbl_count = struct.unpack(\">II\", lbl_f.read(8))\n",
    "    mag, img_count = struct.unpack(\">II\", img_f.read(8))\n",
    "    rows, cols = struct.unpack(\">II\", img_f.read(8))\n",
    "    pixels = rows * cols\n",
    "    # 이미지 데이터를 읽고 CSV로 저장하기 --- \n",
    "    res = []\n",
    "    for idx in range(lbl_count):\n",
    "        if idx > maxdata: break\n",
    "\t\t# 원하는 바이너리 수만큼 읽어들이고 정수로 변환하기\n",
    "        label = struct.unpack(\"B\", lbl_f.read(1))[0]\n",
    "        bdata = img_f.read(pixels)\n",
    "        sdata = list(map(lambda n: str(n), bdata))\n",
    "        csv_f.write(str(label)+\",\")\n",
    "        csv_f.write(\",\".join(sdata)+\"\\r\\n\")\n",
    "        # 잘 저장됐는지 이미지 파일로 저장해서 테스트하기 --\n",
    "        if idx < 10:\n",
    "            s = \"P2 28 28 255\\n\"\n",
    "            s += \" \".join(sdata)\n",
    "            iname = \"./data/{0}-{1}-{2}.pgm\".format(name,idx,label)\n",
    "            with open(iname, \"w\", encoding=\"utf-8\") as f:\n",
    "                f.write(s)\n",
    "    csv_f.close()\n",
    "    lbl_f.close()\n",
    "    img_f.close()\n",
    "\n",
    "    \n",
    "# ----------------------------    \n",
    "# 결과를 파일로 출력하기 \n",
    "# 6만 데이타 처리가 오래걸리기 때문에 학습데이타 1000개, 테스트데치타 500개를 CSV에 저장한다.\n",
    "\n",
    "\n",
    "\n"
   ]
  },
  {
   "cell_type": "markdown",
   "metadata": {},
   "source": [
    "## 3. csv 파일 읽어서 학습데이타와 테스트데이타 준비"
   ]
  },
  {
   "cell_type": "code",
   "execution_count": null,
   "metadata": {},
   "outputs": [],
   "source": [
    "from sklearn import model_selection, svm, metrics\n",
    "\n",
    "\"\"\"\n",
    " CSV 파일을 읽어 들이고 가공하기 \n",
    "\t [ 다음과 같은 CSV 파일 ]\n",
    "\t 레이블, 28 * 28의 픽셀 데이타\n",
    "\t 5, 0,0,0,0,0,0, 30, 80, 100, . . . \n",
    "\"\"\"\n",
    "\n",
    "def load_csv(fname):\n",
    "    labels = []\n",
    "    images = []\n",
    "    with open(fname, \"r\") as f:\n",
    "        for line in f:\n",
    "            cols = line.split(\",\")\n",
    "            if len(cols) < 2: continue\n",
    "            labels.append(int(cols.pop(0)))\n",
    "\t\t\t# 이미지 데이터의 각 픽셀은 0~255 정수인데 255로 나누어 실수로 변경\n",
    "\t\t\t# lambda 이해 : https://wikidocs.net/64\n",
    "            vals = list(map(lambda n: int(n) / 256, cols))\n",
    "            images.append(vals)\n",
    "    return {\"labels\":labels, \"images\":images}\n",
    "\n",
    "data = load_csv(\"./data/train.csv\")\n",
    "test = load_csv(\"./data/t10k.csv\")"
   ]
  },
  {
   "cell_type": "markdown",
   "metadata": {},
   "source": [
    "## 4. 머신러닝 학습하기 (SVC)\n"
   ]
  },
  {
   "cell_type": "code",
   "execution_count": null,
   "metadata": {},
   "outputs": [],
   "source": []
  },
  {
   "cell_type": "markdown",
   "metadata": {},
   "source": [
    "## 5. 예측하고 결과확인"
   ]
  },
  {
   "cell_type": "code",
   "execution_count": null,
   "metadata": {},
   "outputs": [],
   "source": []
  },
  {
   "cell_type": "markdown",
   "metadata": {},
   "source": [
    "\n",
    "\n",
    "[결과]  79% 정답률\n",
    "\n",
    "\t[다시 확인] \n",
    "\tto_csv(\"train\", 10000)\n",
    "\tto_csv(\"t10k\", 5000)\n",
    "\n",
    "\t데이타 추출을 크게하고 다시 실행하면 속도가 엄청 느림\n",
    "\t그러나 결과는 90% 이상 나온다"
   ]
  }
 ],
 "metadata": {
  "kernelspec": {
   "display_name": "Python 3",
   "language": "python",
   "name": "python3"
  },
  "language_info": {
   "codemirror_mode": {
    "name": "ipython",
    "version": 3
   },
   "file_extension": ".py",
   "mimetype": "text/x-python",
   "name": "python",
   "nbconvert_exporter": "python",
   "pygments_lexer": "ipython3",
   "version": "3.7.6"
  }
 },
 "nbformat": 4,
 "nbformat_minor": 2
}
