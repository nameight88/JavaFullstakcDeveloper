{
 "cells": [
  {
   "cell_type": "markdown",
   "metadata": {},
   "source": [
    "##  형태소 분석 (Morphological Analysis)\n",
    "\n",
    " + 자연 언어의 문장을 \"형태소\"라는 의미의 최소 단위로 분할하고, 품사를 판별하는 작업\n",
    " + 기계번역, 텍스트 마이닝에서 활용되는 중요한 작업\n",
    "\n",
    " + 영어의 형태소 분석은 쉽다\n",
    "\t\"I want to eat a apple\"\n",
    "\t조사역할의 to, a를 거르면 I, eat, apple 단어 추출\n",
    "\n",
    " + 한국어의 형태소 분석은 어렵다\n",
    "\t\"나는 사과를 먹고 싶다\"\n",
    "\t단어에 조사가 붙어 있어서 모든 품사와 문법 사전을 기반으로 대조하면서 단어를 추출해야 한다\n",
    "\t단순하게 '는' '을'을 제거한다고 되는 것이 아니다.\n",
    "\t\"소은 노을 이쁘다고 한다\"\n",
    "\t여기서 '은'과 '을'을 제거하면 안되고 '이쁜다고 한다'에서 '이쁘다' 어원도 추출해야 한다.\n",
    "\n",
    " + 한국어 형태소 분석 라이브러리 중 KoNLPy 사용\n",
    "\thttp://konlpy.org/ko/latest\n",
    "\n",
    " + 형태소 분석 라이브러리 : KoNLPy ( http://konlpy.org/ko/latest/ )\n",
    "\n",
    " + 형태소 분석기 :Okt / 한나눔 / 꼬꼬마 / Kormoran / MeCab 등\n",
    "\n",
    "\n",
    "\n",
    "### *** KoNLPy 설치\n",
    "\n",
    "   - http://konlpy.org/ko/latest/install/\n",
    "    \n",
    "        > 왼쪽 메뉴에서 윈도우 선택하고 확인하면서 실행하는 방식 확인\n",
    "    \n",
    "   - https://www.lfd.uci.edu/~gohlke/pythonlibs/#jpype\n",
    "\n",
    "      (1) JPype 확인 - 컴퓨터 bit / 파이썬 버전 ( python --version ) 에 맞는 실행 파일 다운로드\n",
    "       \n",
    "        [주의]  JPype1 설치할 때 ( 최신 버전 확인 )\n",
    "            JPype1‑0.7.1‑cp37‑cp37m‑win_amd64.whl\n",
    "            ( 컴퓨터 64bit / cp37 : python 3.7 버전  )\n",
    "      \n",
    "      (2) Anaconda Prompt 창이나 cmd 창  \n",
    "         > pip install --upgrade pip\n",
    "         > cd 다운받은폴더\n",
    "         > pip install JPype1-1.1.2-cp38-cp38-win_amd64.whl         \n",
    "        \n",
    "      (3) pip install konlpy        \n",
    "\n",
    "      (4) jupyter notebook을 다시 재실행해야 한다\n",
    "    \n",
    "        ` Anaconda Prompt 에서도 실행가능\n",
    "   \n",
    "\n",
    "[참고] 데이타 사이언스 스쿨 :\n",
    "\n",
    "+ https://datascienceschool.net/03%20machine%20learning/03.01.02%20KoNLPy%20한국어%20처리%20패키지.html?highlight=konlpy\n",
    "\n",
    "+ "
   ]
  },
  {
   "cell_type": "code",
   "execution_count": 29,
   "metadata": {},
   "outputs": [],
   "source": [
    "#nlpy가 형태소를 분석해주는 라이브러리\n",
    "#!pip install konlpy"
   ]
  },
  {
   "cell_type": "markdown",
   "metadata": {},
   "source": [
    "## 꼬꼬마"
   ]
  },
  {
   "cell_type": "code",
   "execution_count": 30,
   "metadata": {},
   "outputs": [],
   "source": [
    "# KoNLPy의 kkma 형태소 분석기 확인\n",
    "from konlpy.tag import Kkma\n",
    "from konlpy.utils import pprint\n",
    "\n",
    "kkma = Kkma()\n",
    "\n",
    "\n"
   ]
  },
  {
   "cell_type": "code",
   "execution_count": 31,
   "metadata": {},
   "outputs": [
    {
     "data": {
      "text/plain": [
       "['한국어 분석을 시작합니다.', '재미있어요~']"
      ]
     },
     "execution_count": 31,
     "metadata": {},
     "output_type": "execute_result"
    }
   ],
   "source": [
    "# 문장분석\n",
    "kkma.sentences(\"한국어 분석을 시작합니다. 재미있어요~\")\n"
   ]
  },
  {
   "cell_type": "code",
   "execution_count": 32,
   "metadata": {},
   "outputs": [
    {
     "data": {
      "text/plain": [
       "['한국어', '분석']"
      ]
     },
     "execution_count": 32,
     "metadata": {},
     "output_type": "execute_result"
    }
   ],
   "source": [
    "# 명사분석\n",
    "kkma.nouns(\"한국어 분석을 시작합니다. 재미있어요~\")\n"
   ]
  },
  {
   "cell_type": "code",
   "execution_count": 33,
   "metadata": {},
   "outputs": [
    {
     "data": {
      "text/plain": [
       "['우리팀', '숙제', '지각', '시고']"
      ]
     },
     "execution_count": 33,
     "metadata": {},
     "output_type": "execute_result"
    }
   ],
   "source": [
    "kkma.nouns(\"우리팀 숙제는 다 하셨습니까? 지각하시마시고요\")"
   ]
  },
  {
   "cell_type": "code",
   "execution_count": 34,
   "metadata": {},
   "outputs": [
    {
     "data": {
      "text/plain": [
       "[('한국어', 'NNG'),\n",
       " ('분석', 'NNG'),\n",
       " ('을', 'JKO'),\n",
       " ('시작하', 'VV'),\n",
       " ('ㅂ니다', 'EFN'),\n",
       " ('.', 'SF'),\n",
       " ('재미있', 'VA'),\n",
       " ('어요', 'EFN'),\n",
       " ('~', 'SO')]"
      ]
     },
     "execution_count": 34,
     "metadata": {},
     "output_type": "execute_result"
    }
   ],
   "source": [
    "# 품사분석 : 한국어는 형태변화가 많아 영어처럼 쉽게 안됨\n",
    "kkma.pos(\"한국어 분석을 시작합니다. 재미있어요~\")\n"
   ]
  },
  {
   "cell_type": "markdown",
   "metadata": {},
   "source": [
    "## 한나눔 엔진"
   ]
  },
  {
   "cell_type": "code",
   "execution_count": 35,
   "metadata": {},
   "outputs": [],
   "source": [
    "from konlpy.tag import Hannanum\n",
    "han = Hannanum()\n",
    "\n"
   ]
  },
  {
   "cell_type": "code",
   "execution_count": 36,
   "metadata": {},
   "outputs": [
    {
     "data": {
      "text/plain": [
       "['한국어', '분석', '시작']"
      ]
     },
     "execution_count": 36,
     "metadata": {},
     "output_type": "execute_result"
    }
   ],
   "source": [
    "# 명사분석 : 꼬꼬마 엔진과 다른 결과\n",
    "han.nouns(\"한국어 분석을 시작합니다. 재미있어요~\")\n"
   ]
  },
  {
   "cell_type": "code",
   "execution_count": 37,
   "metadata": {},
   "outputs": [
    {
     "data": {
      "text/plain": [
       "['한국어', '분석', '을', '시작', '하', 'ㅂ니다', '.', '재미있', '어요', '~']"
      ]
     },
     "execution_count": 37,
     "metadata": {},
     "output_type": "execute_result"
    }
   ],
   "source": [
    "# 형태소분석\n",
    "han.morphs(\"한국어 분석을 시작합니다. 재미있어요~\")\n"
   ]
  },
  {
   "cell_type": "code",
   "execution_count": 38,
   "metadata": {},
   "outputs": [
    {
     "data": {
      "text/plain": [
       "[('한국어', 'N'),\n",
       " ('분석', 'N'),\n",
       " ('을', 'J'),\n",
       " ('시작', 'N'),\n",
       " ('하', 'X'),\n",
       " ('ㅂ니다', 'E'),\n",
       " ('.', 'S'),\n",
       " ('재미있', 'P'),\n",
       " ('어요', 'E'),\n",
       " ('~', 'S')]"
      ]
     },
     "execution_count": 38,
     "metadata": {},
     "output_type": "execute_result"
    }
   ],
   "source": [
    "# 품사분석\n",
    "han.pos(\"한국어 분석을 시작합니다. 재미있어요~\")\n"
   ]
  },
  {
   "cell_type": "markdown",
   "metadata": {},
   "source": [
    "이렇게 같은 한국어 분석 라이브러리여도 나누는 기준이 조금씩 다르다"
   ]
  },
  {
   "cell_type": "markdown",
   "metadata": {},
   "source": [
    "## Okt 엔진 ( 예전의 Twitter 엔진)"
   ]
  },
  {
   "cell_type": "code",
   "execution_count": 39,
   "metadata": {},
   "outputs": [],
   "source": [
    "from konlpy.tag import Okt\n",
    "okt = Okt()"
   ]
  },
  {
   "cell_type": "code",
   "execution_count": 40,
   "metadata": {},
   "outputs": [
    {
     "data": {
      "text/plain": [
       "['한국어', '분석', '시작']"
      ]
     },
     "execution_count": 40,
     "metadata": {},
     "output_type": "execute_result"
    }
   ],
   "source": [
    "# 명사분석\n",
    "okt.nouns('한국어 분석을 시작합니다. 재미있어요')\n"
   ]
  },
  {
   "cell_type": "code",
   "execution_count": 41,
   "metadata": {},
   "outputs": [
    {
     "data": {
      "text/plain": [
       "['한국어', '분석', '을', '시작', '합니다', '.', '재미있어요', '~']"
      ]
     },
     "execution_count": 41,
     "metadata": {},
     "output_type": "execute_result"
    }
   ],
   "source": [
    "# 형태소분석\n",
    "\n",
    "okt.morphs(\"한국어 분석을 시작합니다. 재미있어요~\")"
   ]
  },
  {
   "cell_type": "code",
   "execution_count": 42,
   "metadata": {},
   "outputs": [
    {
     "data": {
      "text/plain": [
       "[('한국어', 'Noun'),\n",
       " ('분석', 'Noun'),\n",
       " ('을', 'Josa'),\n",
       " ('시작', 'Noun'),\n",
       " ('합니다', 'Verb'),\n",
       " ('.', 'Punctuation'),\n",
       " ('재미있어요', 'Adjective'),\n",
       " ('~', 'Punctuation')]"
      ]
     },
     "execution_count": 42,
     "metadata": {},
     "output_type": "execute_result"
    }
   ],
   "source": [
    "# 품사분석\n",
    "\n",
    "okt.pos(\"한국어 분석을 시작합니다. 재미있어요~\")"
   ]
  },
  {
   "cell_type": "code",
   "execution_count": 43,
   "metadata": {},
   "outputs": [
    {
     "name": "stdout",
     "output_type": "stream",
     "text": [
      "['독도', '는', '대한민국', '의', '아름다운', '섬', '이다', '.']\n"
     ]
    }
   ],
   "source": [
    "morphs=okt.morphs(\"독도는 대한민국의 아름다운 섬이다.\")\n",
    "print(morphs)"
   ]
  },
  {
   "cell_type": "code",
   "execution_count": 44,
   "metadata": {},
   "outputs": [
    {
     "name": "stdout",
     "output_type": "stream",
     "text": [
      "[('독도', 'Noun'), ('는', 'Josa'), ('대한민국', 'Noun'), ('의', 'Josa'), ('아름답다', 'Adjective'), ('섬', 'Noun'), ('이다', 'Josa'), ('.', 'Punctuation')]\n"
     ]
    }
   ],
   "source": [
    "pos=okt.pos(\"독도는 대한민국의 아름다운 섬이다.\",norm=True,stem=True)\n",
    "print(pos)"
   ]
  },
  {
   "cell_type": "code",
   "execution_count": 45,
   "metadata": {},
   "outputs": [
    {
     "name": "stdout",
     "output_type": "stream",
     "text": [
      "['독도', '대한민국', '섬']\n"
     ]
    }
   ],
   "source": [
    "nouns =okt.nouns(\"독도는 대한민국의 아름다운 섬이다.\")\n",
    "print(nouns)"
   ]
  },
  {
   "cell_type": "code",
   "execution_count": 46,
   "metadata": {},
   "outputs": [
    {
     "data": {
      "text/plain": [
       "[('독도', 'Noun'),\n",
       " ('는', 'Josa'),\n",
       " ('대한민국', 'Noun'),\n",
       " ('의', 'Josa'),\n",
       " ('아름답다', 'Adjective'),\n",
       " ('섬', 'Noun'),\n",
       " ('이다', 'Josa'),\n",
       " ('.', 'Punctuation')]"
      ]
     },
     "execution_count": 46,
     "metadata": {},
     "output_type": "execute_result"
    }
   ],
   "source": [
    "words=okt.pos(\"독도는대한민국의아름다운 섬이다.\",norm=True,stem=True)\n",
    "words"
   ]
  },
  {
   "cell_type": "markdown",
   "metadata": {},
   "source": [
    "KoNLPy 형태소 분석기 중에서 '나는사과를좋아한다' 문장을 분석할 수 있는 분석기는 많지 않지만 계속 발전하고 있는 중이다\n",
    "관련 사항 확인 http://konlpy.org/ko/latest/api/konlpy.tag\n",
    "\n",
    " [ 연습 ] 독도는 대한민국의 아름다운 섬이다"
   ]
  }
 ],
 "metadata": {
  "kernelspec": {
   "display_name": "Python 3 (ipykernel)",
   "language": "python",
   "name": "python3"
  },
  "language_info": {
   "codemirror_mode": {
    "name": "ipython",
    "version": 3
   },
   "file_extension": ".py",
   "mimetype": "text/x-python",
   "name": "python",
   "nbconvert_exporter": "python",
   "pygments_lexer": "ipython3",
   "version": "3.11.7"
  }
 },
 "nbformat": 4,
 "nbformat_minor": 2
}
